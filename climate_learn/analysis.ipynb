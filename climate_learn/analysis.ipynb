{
 "cells": [
  {
   "cell_type": "code",
   "execution_count": 3,
   "metadata": {},
   "outputs": [],
   "source": [
    "import torch\n",
    "import numpy as np\n",
    "from datetime import datetime\n",
    "import os\n",
    "import random\n",
    "import matplotlib.pyplot as plt"
   ]
  },
  {
   "cell_type": "code",
   "execution_count": 4,
   "metadata": {},
   "outputs": [],
   "source": [
    "%load_ext autoreload\n",
    "%autoreload 2"
   ]
  },
  {
   "cell_type": "code",
   "execution_count": 5,
   "metadata": {},
   "outputs": [],
   "source": [
    "base_dir = \"/home/felix/Documents/Climate/climate_learn\""
   ]
  },
  {
   "cell_type": "markdown",
   "metadata": {},
   "source": [
    "## Downloading Dataset"
   ]
  },
  {
   "cell_type": "code",
   "execution_count": null,
   "metadata": {},
   "outputs": [],
   "source": [
    "from climate_learn.data import download\n",
    "import os\n",
    "api_key = \"154140:40d3d2e0-ed2c-4f60-8bc8-d15789841be0\" # Change to your_api_key\n",
    "download(root = f\"{base_dir}\", source = \"weatherbench\", variable = \"2m_temperature\", dataset = \"era5\", resolution = \"5.625\")"
   ]
  },
  {
   "cell_type": "markdown",
   "metadata": {},
   "source": [
    "## Dataset init."
   ]
  },
  {
   "cell_type": "code",
   "execution_count": 7,
   "metadata": {},
   "outputs": [
    {
     "name": "stdout",
     "output_type": "stream",
     "text": [
      "Creating train dataset\n"
     ]
    },
    {
     "data": {
      "application/vnd.jupyter.widget-view+json": {
       "model_id": "ef4ce53859134985b1446b9b68bac82b",
       "version_major": 2,
       "version_minor": 0
      },
      "text/plain": [
       "  0%|          | 0/36 [00:00<?, ?it/s]"
      ]
     },
     "metadata": {},
     "output_type": "display_data"
    },
    {
     "data": {
      "application/vnd.jupyter.widget-view+json": {
       "model_id": "db1fb4d445d044d1878ddfd08505075a",
       "version_major": 2,
       "version_minor": 0
      },
      "text/plain": [
       "  0%|          | 0/36 [00:00<?, ?it/s]"
      ]
     },
     "metadata": {},
     "output_type": "display_data"
    },
    {
     "name": "stdout",
     "output_type": "stream",
     "text": [
      "Creating val dataset\n"
     ]
    },
    {
     "data": {
      "application/vnd.jupyter.widget-view+json": {
       "model_id": "1acbb512538e4c09a4899e4efe54e38f",
       "version_major": 2,
       "version_minor": 0
      },
      "text/plain": [
       "  0%|          | 0/2 [00:00<?, ?it/s]"
      ]
     },
     "metadata": {},
     "output_type": "display_data"
    },
    {
     "data": {
      "application/vnd.jupyter.widget-view+json": {
       "model_id": "b896b973669a4d64a02807fd83e9e8da",
       "version_major": 2,
       "version_minor": 0
      },
      "text/plain": [
       "  0%|          | 0/2 [00:00<?, ?it/s]"
      ]
     },
     "metadata": {},
     "output_type": "display_data"
    },
    {
     "name": "stdout",
     "output_type": "stream",
     "text": [
      "Creating test dataset\n"
     ]
    },
    {
     "data": {
      "application/vnd.jupyter.widget-view+json": {
       "model_id": "b364f50451b545f1903a825bde2a2f55",
       "version_major": 2,
       "version_minor": 0
      },
      "text/plain": [
       "  0%|          | 0/2 [00:00<?, ?it/s]"
      ]
     },
     "metadata": {},
     "output_type": "display_data"
    },
    {
     "data": {
      "application/vnd.jupyter.widget-view+json": {
       "model_id": "f515c77a11be47009b95f38b6dcb6695",
       "version_major": 2,
       "version_minor": 0
      },
      "text/plain": [
       "  0%|          | 0/2 [00:00<?, ?it/s]"
      ]
     },
     "metadata": {},
     "output_type": "display_data"
    }
   ],
   "source": [
    "from climate_learn.utils.datetime import Year, Days, Hours\n",
    "from climate_learn.data import DataModule\n",
    "\n",
    "data_module = DataModule(\n",
    "    dataset = \"ERA5\",\n",
    "    task = \"downscaling\",\n",
    "    root_dir = f\"{base_dir}/data/weatherbench/era5/5.625\",\n",
    "    root_highres_dir = f\"{base_dir}/data/weatherbench/era5/5.625\",\n",
    "    in_vars = [\"total_precipitation\"],\n",
    "    out_vars = [\"total_precipitation\"],\n",
    "    train_start_year = Year(1979),\n",
    "    val_start_year = Year(2015),\n",
    "    test_start_year = Year(2017),\n",
    "    end_year = Year(2018),\n",
    "    subsample = Hours(6),\n",
    "    batch_size = 256,\n",
    "    num_workers = 12\n",
    ")"
   ]
  },
  {
   "cell_type": "markdown",
   "metadata": {},
   "source": [
    "## Load Model and Train"
   ]
  },
  {
   "cell_type": "code",
   "execution_count": 5,
   "metadata": {},
   "outputs": [
    {
     "ename": "NameError",
     "evalue": "name 'data_module' is not defined",
     "output_type": "error",
     "traceback": [
      "\u001b[0;31m---------------------------------------------------------------------------\u001b[0m",
      "\u001b[0;31mNameError\u001b[0m                                 Traceback (most recent call last)",
      "Cell \u001b[0;32mIn [5], line 5\u001b[0m\n\u001b[1;32m      1\u001b[0m \u001b[39mfrom\u001b[39;00m \u001b[39mclimate_learn\u001b[39;00m\u001b[39m.\u001b[39;00m\u001b[39mmodels\u001b[39;00m \u001b[39mimport\u001b[39;00m load_model, set_climatology\n\u001b[1;32m      3\u001b[0m model_kwargs \u001b[39m=\u001b[39m {\n\u001b[1;32m      4\u001b[0m     \u001b[39m\"\u001b[39m\u001b[39mhidden_channels\u001b[39m\u001b[39m\"\u001b[39m: \u001b[39m3\u001b[39m,\n\u001b[0;32m----> 5\u001b[0m     \u001b[39m\"\u001b[39m\u001b[39min_channels\u001b[39m\u001b[39m\"\u001b[39m: \u001b[39mlen\u001b[39m(data_module\u001b[39m.\u001b[39mhparams\u001b[39m.\u001b[39min_vars),\n\u001b[1;32m      6\u001b[0m     \u001b[39m\"\u001b[39m\u001b[39mout_channels\u001b[39m\u001b[39m\"\u001b[39m: \u001b[39mlen\u001b[39m(data_module\u001b[39m.\u001b[39mhparams\u001b[39m.\u001b[39mout_vars),\n\u001b[1;32m      7\u001b[0m     \u001b[39m\"\u001b[39m\u001b[39mupsampling\u001b[39m\u001b[39m\"\u001b[39m: data_module\u001b[39m.\u001b[39mtrain_dataset\u001b[39m.\u001b[39mdownscale_ratio,\n\u001b[1;32m      8\u001b[0m     \u001b[39m\"\u001b[39m\u001b[39mn_blocks\u001b[39m\u001b[39m\"\u001b[39m: \u001b[39m4\u001b[39m,\n\u001b[1;32m      9\u001b[0m }\n\u001b[1;32m     11\u001b[0m optim_kwargs \u001b[39m=\u001b[39m {\n\u001b[1;32m     12\u001b[0m     \u001b[39m\"\u001b[39m\u001b[39moptimizer\u001b[39m\u001b[39m\"\u001b[39m: \u001b[39m\"\u001b[39m\u001b[39madamw\u001b[39m\u001b[39m\"\u001b[39m,\n\u001b[1;32m     13\u001b[0m     \u001b[39m\"\u001b[39m\u001b[39mlr\u001b[39m\u001b[39m\"\u001b[39m: \u001b[39m1e-4\u001b[39m,\n\u001b[0;32m   (...)\u001b[0m\n\u001b[1;32m     16\u001b[0m     \u001b[39m\"\u001b[39m\u001b[39mmax_epochs\u001b[39m\u001b[39m\"\u001b[39m: \u001b[39m5\u001b[39m,\n\u001b[1;32m     17\u001b[0m }\n\u001b[1;32m     19\u001b[0m model_module \u001b[39m=\u001b[39m load_model(name \u001b[39m=\u001b[39m \u001b[39m\"\u001b[39m\u001b[39munet\u001b[39m\u001b[39m\"\u001b[39m, task \u001b[39m=\u001b[39m \u001b[39m\"\u001b[39m\u001b[39mdownscaling\u001b[39m\u001b[39m\"\u001b[39m, model_kwargs \u001b[39m=\u001b[39m model_kwargs, optim_kwargs \u001b[39m=\u001b[39m optim_kwargs)\n",
      "\u001b[0;31mNameError\u001b[0m: name 'data_module' is not defined"
     ]
    }
   ],
   "source": [
    "from climate_learn.models import load_model, set_climatology\n",
    "\n",
    "model_kwargs = {\n",
    "    \"hidden_channels\": 3,\n",
    "    \"in_channels\": len(data_module.hparams.in_vars),\n",
    "    \"out_channels\": len(data_module.hparams.out_vars),\n",
    "    \"upsampling\": data_module.train_dataset.downscale_ratio,\n",
    "    \"n_blocks\": 4,\n",
    "}\n",
    "\n",
    "optim_kwargs = {\n",
    "    \"optimizer\": \"adamw\",\n",
    "    \"lr\": 1e-4,\n",
    "    \"weight_decay\": 1e-5,\n",
    "    \"warmup_epochs\": 1,\n",
    "    \"max_epochs\": 5,\n",
    "}\n",
    "\n",
    "model_module = load_model(name = \"unet\", task = \"downscaling\", model_kwargs = model_kwargs, optim_kwargs = optim_kwargs)\n",
    "\n",
    "set_climatology(model_module, data_module)"
   ]
  },
  {
   "cell_type": "code",
   "execution_count": null,
   "metadata": {},
   "outputs": [
    {
     "name": "stderr",
     "output_type": "stream",
     "text": [
      "Global seed set to 0\n"
     ]
    }
   ],
   "source": [
    "from climate_learn.training import Trainer, WandbLogger\n",
    "\n",
    "trainer = Trainer(\n",
    "    seed = 0,\n",
    "    accelerator = \"gpu\",\n",
    "    precision = 16,\n",
    "    max_epochs = 5,\n",
    "    # logger = WandbLogger(project = \"climate_tutorial\", name = \"downscale-vit\")\n",
    ")"
   ]
  },
  {
   "cell_type": "code",
   "execution_count": 22,
   "metadata": {},
   "outputs": [
    {
     "name": "stderr",
     "output_type": "stream",
     "text": [
      "/home/felix/Documents/Climate/climate_env/lib/python3.8/site-packages/pytorch_lightning/callbacks/model_checkpoint.py:604: UserWarning: Checkpoint directory /home/felix/Documents/Climate/climate_learn/climate_learn/checkpoints exists and is not empty.\n",
      "  rank_zero_warn(f\"Checkpoint directory {dirpath} exists and is not empty.\")\n"
     ]
    },
    {
     "data": {
      "text/html": [
       "<pre style=\"white-space:pre;overflow-x:auto;line-height:normal;font-family:Menlo,'DejaVu Sans Mono',consolas,'Courier New',monospace\">┏━━━━━┳━━━━━━━━━━━━━━━━━━━━━━━━━━━━━━━┳━━━━━━━━━━━━━━━━━━━┳━━━━━━━━┓\n",
       "┃<span style=\"color: #800080; text-decoration-color: #800080; font-weight: bold\">     </span>┃<span style=\"color: #800080; text-decoration-color: #800080; font-weight: bold\"> Name                          </span>┃<span style=\"color: #800080; text-decoration-color: #800080; font-weight: bold\"> Type              </span>┃<span style=\"color: #800080; text-decoration-color: #800080; font-weight: bold\"> Params </span>┃\n",
       "┡━━━━━╇━━━━━━━━━━━━━━━━━━━━━━━━━━━━━━━╇━━━━━━━━━━━━━━━━━━━╇━━━━━━━━┩\n",
       "│<span style=\"color: #7f7f7f; text-decoration-color: #7f7f7f\"> 0   </span>│ net                           │ Unet              │  555 K │\n",
       "│<span style=\"color: #7f7f7f; text-decoration-color: #7f7f7f\"> 1   </span>│ net.activation                │ LeakyReLU         │      0 │\n",
       "│<span style=\"color: #7f7f7f; text-decoration-color: #7f7f7f\"> 2   </span>│ net.image_proj                │ PeriodicConv2D    │    150 │\n",
       "│<span style=\"color: #7f7f7f; text-decoration-color: #7f7f7f\"> 3   </span>│ net.image_proj.padding        │ PeriodicPadding2D │      0 │\n",
       "│<span style=\"color: #7f7f7f; text-decoration-color: #7f7f7f\"> 4   </span>│ net.image_proj.conv           │ Conv2d            │    150 │\n",
       "│<span style=\"color: #7f7f7f; text-decoration-color: #7f7f7f\"> 5   </span>│ net.down                      │ ModuleList        │  167 K │\n",
       "│<span style=\"color: #7f7f7f; text-decoration-color: #7f7f7f\"> 6   </span>│ net.down.0                    │ DownBlock         │    180 │\n",
       "│<span style=\"color: #7f7f7f; text-decoration-color: #7f7f7f\"> 7   </span>│ net.down.0.res                │ ResidualBlock     │    180 │\n",
       "│<span style=\"color: #7f7f7f; text-decoration-color: #7f7f7f\"> 8   </span>│ net.down.0.res.activation     │ LeakyReLU         │      0 │\n",
       "│<span style=\"color: #7f7f7f; text-decoration-color: #7f7f7f\"> 9   </span>│ net.down.0.res.conv1          │ PeriodicConv2D    │     84 │\n",
       "│<span style=\"color: #7f7f7f; text-decoration-color: #7f7f7f\"> 10  </span>│ net.down.0.res.conv1.padding  │ PeriodicPadding2D │      0 │\n",
       "│<span style=\"color: #7f7f7f; text-decoration-color: #7f7f7f\"> 11  </span>│ net.down.0.res.conv1.conv     │ Conv2d            │     84 │\n",
       "│<span style=\"color: #7f7f7f; text-decoration-color: #7f7f7f\"> 12  </span>│ net.down.0.res.conv2          │ PeriodicConv2D    │     84 │\n",
       "│<span style=\"color: #7f7f7f; text-decoration-color: #7f7f7f\"> 13  </span>│ net.down.0.res.conv2.padding  │ PeriodicPadding2D │      0 │\n",
       "│<span style=\"color: #7f7f7f; text-decoration-color: #7f7f7f\"> 14  </span>│ net.down.0.res.conv2.conv     │ Conv2d            │     84 │\n",
       "│<span style=\"color: #7f7f7f; text-decoration-color: #7f7f7f\"> 15  </span>│ net.down.0.res.shortcut       │ Identity          │      0 │\n",
       "│<span style=\"color: #7f7f7f; text-decoration-color: #7f7f7f\"> 16  </span>│ net.down.0.res.norm1          │ BatchNorm2d       │      6 │\n",
       "│<span style=\"color: #7f7f7f; text-decoration-color: #7f7f7f\"> 17  </span>│ net.down.0.res.norm2          │ BatchNorm2d       │      6 │\n",
       "│<span style=\"color: #7f7f7f; text-decoration-color: #7f7f7f\"> 18  </span>│ net.down.0.res.drop           │ Dropout           │      0 │\n",
       "│<span style=\"color: #7f7f7f; text-decoration-color: #7f7f7f\"> 19  </span>│ net.down.0.attn               │ Identity          │      0 │\n",
       "│<span style=\"color: #7f7f7f; text-decoration-color: #7f7f7f\"> 20  </span>│ net.down.1                    │ DownBlock         │    180 │\n",
       "│<span style=\"color: #7f7f7f; text-decoration-color: #7f7f7f\"> 21  </span>│ net.down.1.res                │ ResidualBlock     │    180 │\n",
       "│<span style=\"color: #7f7f7f; text-decoration-color: #7f7f7f\"> 22  </span>│ net.down.1.res.activation     │ LeakyReLU         │      0 │\n",
       "│<span style=\"color: #7f7f7f; text-decoration-color: #7f7f7f\"> 23  </span>│ net.down.1.res.conv1          │ PeriodicConv2D    │     84 │\n",
       "│<span style=\"color: #7f7f7f; text-decoration-color: #7f7f7f\"> 24  </span>│ net.down.1.res.conv1.padding  │ PeriodicPadding2D │      0 │\n",
       "│<span style=\"color: #7f7f7f; text-decoration-color: #7f7f7f\"> 25  </span>│ net.down.1.res.conv1.conv     │ Conv2d            │     84 │\n",
       "│<span style=\"color: #7f7f7f; text-decoration-color: #7f7f7f\"> 26  </span>│ net.down.1.res.conv2          │ PeriodicConv2D    │     84 │\n",
       "│<span style=\"color: #7f7f7f; text-decoration-color: #7f7f7f\"> 27  </span>│ net.down.1.res.conv2.padding  │ PeriodicPadding2D │      0 │\n",
       "│<span style=\"color: #7f7f7f; text-decoration-color: #7f7f7f\"> 28  </span>│ net.down.1.res.conv2.conv     │ Conv2d            │     84 │\n",
       "│<span style=\"color: #7f7f7f; text-decoration-color: #7f7f7f\"> 29  </span>│ net.down.1.res.shortcut       │ Identity          │      0 │\n",
       "│<span style=\"color: #7f7f7f; text-decoration-color: #7f7f7f\"> 30  </span>│ net.down.1.res.norm1          │ BatchNorm2d       │      6 │\n",
       "│<span style=\"color: #7f7f7f; text-decoration-color: #7f7f7f\"> 31  </span>│ net.down.1.res.norm2          │ BatchNorm2d       │      6 │\n",
       "│<span style=\"color: #7f7f7f; text-decoration-color: #7f7f7f\"> 32  </span>│ net.down.1.res.drop           │ Dropout           │      0 │\n",
       "│<span style=\"color: #7f7f7f; text-decoration-color: #7f7f7f\"> 33  </span>│ net.down.1.attn               │ Identity          │      0 │\n",
       "│<span style=\"color: #7f7f7f; text-decoration-color: #7f7f7f\"> 34  </span>│ net.down.2                    │ DownBlock         │    180 │\n",
       "│<span style=\"color: #7f7f7f; text-decoration-color: #7f7f7f\"> 35  </span>│ net.down.2.res                │ ResidualBlock     │    180 │\n",
       "│<span style=\"color: #7f7f7f; text-decoration-color: #7f7f7f\"> 36  </span>│ net.down.2.res.activation     │ LeakyReLU         │      0 │\n",
       "│<span style=\"color: #7f7f7f; text-decoration-color: #7f7f7f\"> 37  </span>│ net.down.2.res.conv1          │ PeriodicConv2D    │     84 │\n",
       "│<span style=\"color: #7f7f7f; text-decoration-color: #7f7f7f\"> 38  </span>│ net.down.2.res.conv1.padding  │ PeriodicPadding2D │      0 │\n",
       "│<span style=\"color: #7f7f7f; text-decoration-color: #7f7f7f\"> 39  </span>│ net.down.2.res.conv1.conv     │ Conv2d            │     84 │\n",
       "│<span style=\"color: #7f7f7f; text-decoration-color: #7f7f7f\"> 40  </span>│ net.down.2.res.conv2          │ PeriodicConv2D    │     84 │\n",
       "│<span style=\"color: #7f7f7f; text-decoration-color: #7f7f7f\"> 41  </span>│ net.down.2.res.conv2.padding  │ PeriodicPadding2D │      0 │\n",
       "│<span style=\"color: #7f7f7f; text-decoration-color: #7f7f7f\"> 42  </span>│ net.down.2.res.conv2.conv     │ Conv2d            │     84 │\n",
       "│<span style=\"color: #7f7f7f; text-decoration-color: #7f7f7f\"> 43  </span>│ net.down.2.res.shortcut       │ Identity          │      0 │\n",
       "│<span style=\"color: #7f7f7f; text-decoration-color: #7f7f7f\"> 44  </span>│ net.down.2.res.norm1          │ BatchNorm2d       │      6 │\n",
       "│<span style=\"color: #7f7f7f; text-decoration-color: #7f7f7f\"> 45  </span>│ net.down.2.res.norm2          │ BatchNorm2d       │      6 │\n",
       "│<span style=\"color: #7f7f7f; text-decoration-color: #7f7f7f\"> 46  </span>│ net.down.2.res.drop           │ Dropout           │      0 │\n",
       "│<span style=\"color: #7f7f7f; text-decoration-color: #7f7f7f\"> 47  </span>│ net.down.2.attn               │ Identity          │      0 │\n",
       "│<span style=\"color: #7f7f7f; text-decoration-color: #7f7f7f\"> 48  </span>│ net.down.3                    │ DownBlock         │    180 │\n",
       "│<span style=\"color: #7f7f7f; text-decoration-color: #7f7f7f\"> 49  </span>│ net.down.3.res                │ ResidualBlock     │    180 │\n",
       "│<span style=\"color: #7f7f7f; text-decoration-color: #7f7f7f\"> 50  </span>│ net.down.3.res.activation     │ LeakyReLU         │      0 │\n",
       "│<span style=\"color: #7f7f7f; text-decoration-color: #7f7f7f\"> 51  </span>│ net.down.3.res.conv1          │ PeriodicConv2D    │     84 │\n",
       "│<span style=\"color: #7f7f7f; text-decoration-color: #7f7f7f\"> 52  </span>│ net.down.3.res.conv1.padding  │ PeriodicPadding2D │      0 │\n",
       "│<span style=\"color: #7f7f7f; text-decoration-color: #7f7f7f\"> 53  </span>│ net.down.3.res.conv1.conv     │ Conv2d            │     84 │\n",
       "│<span style=\"color: #7f7f7f; text-decoration-color: #7f7f7f\"> 54  </span>│ net.down.3.res.conv2          │ PeriodicConv2D    │     84 │\n",
       "│<span style=\"color: #7f7f7f; text-decoration-color: #7f7f7f\"> 55  </span>│ net.down.3.res.conv2.padding  │ PeriodicPadding2D │      0 │\n",
       "│<span style=\"color: #7f7f7f; text-decoration-color: #7f7f7f\"> 56  </span>│ net.down.3.res.conv2.conv     │ Conv2d            │     84 │\n",
       "│<span style=\"color: #7f7f7f; text-decoration-color: #7f7f7f\"> 57  </span>│ net.down.3.res.shortcut       │ Identity          │      0 │\n",
       "│<span style=\"color: #7f7f7f; text-decoration-color: #7f7f7f\"> 58  </span>│ net.down.3.res.norm1          │ BatchNorm2d       │      6 │\n",
       "│<span style=\"color: #7f7f7f; text-decoration-color: #7f7f7f\"> 59  </span>│ net.down.3.res.norm2          │ BatchNorm2d       │      6 │\n",
       "│<span style=\"color: #7f7f7f; text-decoration-color: #7f7f7f\"> 60  </span>│ net.down.3.res.drop           │ Dropout           │      0 │\n",
       "│<span style=\"color: #7f7f7f; text-decoration-color: #7f7f7f\"> 61  </span>│ net.down.3.attn               │ Identity          │      0 │\n",
       "│<span style=\"color: #7f7f7f; text-decoration-color: #7f7f7f\"> 62  </span>│ net.down.4                    │ Downsample        │     84 │\n",
       "│<span style=\"color: #7f7f7f; text-decoration-color: #7f7f7f\"> 63  </span>│ net.down.4.conv               │ Conv2d            │     84 │\n",
       "│<span style=\"color: #7f7f7f; text-decoration-color: #7f7f7f\"> 64  </span>│ net.down.5                    │ DownBlock         │    546 │\n",
       "│<span style=\"color: #7f7f7f; text-decoration-color: #7f7f7f\"> 65  </span>│ net.down.5.res                │ ResidualBlock     │    546 │\n",
       "│<span style=\"color: #7f7f7f; text-decoration-color: #7f7f7f\"> 66  </span>│ net.down.5.res.activation     │ LeakyReLU         │      0 │\n",
       "│<span style=\"color: #7f7f7f; text-decoration-color: #7f7f7f\"> 67  </span>│ net.down.5.res.conv1          │ PeriodicConv2D    │    168 │\n",
       "│<span style=\"color: #7f7f7f; text-decoration-color: #7f7f7f\"> 68  </span>│ net.down.5.res.conv1.padding  │ PeriodicPadding2D │      0 │\n",
       "│<span style=\"color: #7f7f7f; text-decoration-color: #7f7f7f\"> 69  </span>│ net.down.5.res.conv1.conv     │ Conv2d            │    168 │\n",
       "│<span style=\"color: #7f7f7f; text-decoration-color: #7f7f7f\"> 70  </span>│ net.down.5.res.conv2          │ PeriodicConv2D    │    330 │\n",
       "│<span style=\"color: #7f7f7f; text-decoration-color: #7f7f7f\"> 71  </span>│ net.down.5.res.conv2.padding  │ PeriodicPadding2D │      0 │\n",
       "│<span style=\"color: #7f7f7f; text-decoration-color: #7f7f7f\"> 72  </span>│ net.down.5.res.conv2.conv     │ Conv2d            │    330 │\n",
       "│<span style=\"color: #7f7f7f; text-decoration-color: #7f7f7f\"> 73  </span>│ net.down.5.res.shortcut       │ Conv2d            │     24 │\n",
       "│<span style=\"color: #7f7f7f; text-decoration-color: #7f7f7f\"> 74  </span>│ net.down.5.res.norm1          │ BatchNorm2d       │     12 │\n",
       "│<span style=\"color: #7f7f7f; text-decoration-color: #7f7f7f\"> 75  </span>│ net.down.5.res.norm2          │ BatchNorm2d       │     12 │\n",
       "│<span style=\"color: #7f7f7f; text-decoration-color: #7f7f7f\"> 76  </span>│ net.down.5.res.drop           │ Dropout           │      0 │\n",
       "│<span style=\"color: #7f7f7f; text-decoration-color: #7f7f7f\"> 77  </span>│ net.down.5.attn               │ Identity          │      0 │\n",
       "│<span style=\"color: #7f7f7f; text-decoration-color: #7f7f7f\"> 78  </span>│ net.down.6                    │ DownBlock         │    684 │\n",
       "│<span style=\"color: #7f7f7f; text-decoration-color: #7f7f7f\"> 79  </span>│ net.down.6.res                │ ResidualBlock     │    684 │\n",
       "│<span style=\"color: #7f7f7f; text-decoration-color: #7f7f7f\"> 80  </span>│ net.down.6.res.activation     │ LeakyReLU         │      0 │\n",
       "│<span style=\"color: #7f7f7f; text-decoration-color: #7f7f7f\"> 81  </span>│ net.down.6.res.conv1          │ PeriodicConv2D    │    330 │\n",
       "│<span style=\"color: #7f7f7f; text-decoration-color: #7f7f7f\"> 82  </span>│ net.down.6.res.conv1.padding  │ PeriodicPadding2D │      0 │\n",
       "│<span style=\"color: #7f7f7f; text-decoration-color: #7f7f7f\"> 83  </span>│ net.down.6.res.conv1.conv     │ Conv2d            │    330 │\n",
       "│<span style=\"color: #7f7f7f; text-decoration-color: #7f7f7f\"> 84  </span>│ net.down.6.res.conv2          │ PeriodicConv2D    │    330 │\n",
       "│<span style=\"color: #7f7f7f; text-decoration-color: #7f7f7f\"> 85  </span>│ net.down.6.res.conv2.padding  │ PeriodicPadding2D │      0 │\n",
       "│<span style=\"color: #7f7f7f; text-decoration-color: #7f7f7f\"> 86  </span>│ net.down.6.res.conv2.conv     │ Conv2d            │    330 │\n",
       "│<span style=\"color: #7f7f7f; text-decoration-color: #7f7f7f\"> 87  </span>│ net.down.6.res.shortcut       │ Identity          │      0 │\n",
       "│<span style=\"color: #7f7f7f; text-decoration-color: #7f7f7f\"> 88  </span>│ net.down.6.res.norm1          │ BatchNorm2d       │     12 │\n",
       "│<span style=\"color: #7f7f7f; text-decoration-color: #7f7f7f\"> 89  </span>│ net.down.6.res.norm2          │ BatchNorm2d       │     12 │\n",
       "│<span style=\"color: #7f7f7f; text-decoration-color: #7f7f7f\"> 90  </span>│ net.down.6.res.drop           │ Dropout           │      0 │\n",
       "│<span style=\"color: #7f7f7f; text-decoration-color: #7f7f7f\"> 91  </span>│ net.down.6.attn               │ Identity          │      0 │\n",
       "│<span style=\"color: #7f7f7f; text-decoration-color: #7f7f7f\"> 92  </span>│ net.down.7                    │ DownBlock         │    684 │\n",
       "│<span style=\"color: #7f7f7f; text-decoration-color: #7f7f7f\"> 93  </span>│ net.down.7.res                │ ResidualBlock     │    684 │\n",
       "│<span style=\"color: #7f7f7f; text-decoration-color: #7f7f7f\"> 94  </span>│ net.down.7.res.activation     │ LeakyReLU         │      0 │\n",
       "│<span style=\"color: #7f7f7f; text-decoration-color: #7f7f7f\"> 95  </span>│ net.down.7.res.conv1          │ PeriodicConv2D    │    330 │\n",
       "│<span style=\"color: #7f7f7f; text-decoration-color: #7f7f7f\"> 96  </span>│ net.down.7.res.conv1.padding  │ PeriodicPadding2D │      0 │\n",
       "│<span style=\"color: #7f7f7f; text-decoration-color: #7f7f7f\"> 97  </span>│ net.down.7.res.conv1.conv     │ Conv2d            │    330 │\n",
       "│<span style=\"color: #7f7f7f; text-decoration-color: #7f7f7f\"> 98  </span>│ net.down.7.res.conv2          │ PeriodicConv2D    │    330 │\n",
       "│<span style=\"color: #7f7f7f; text-decoration-color: #7f7f7f\"> 99  </span>│ net.down.7.res.conv2.padding  │ PeriodicPadding2D │      0 │\n",
       "│<span style=\"color: #7f7f7f; text-decoration-color: #7f7f7f\"> 100 </span>│ net.down.7.res.conv2.conv     │ Conv2d            │    330 │\n",
       "│<span style=\"color: #7f7f7f; text-decoration-color: #7f7f7f\"> 101 </span>│ net.down.7.res.shortcut       │ Identity          │      0 │\n",
       "│<span style=\"color: #7f7f7f; text-decoration-color: #7f7f7f\"> 102 </span>│ net.down.7.res.norm1          │ BatchNorm2d       │     12 │\n",
       "│<span style=\"color: #7f7f7f; text-decoration-color: #7f7f7f\"> 103 </span>│ net.down.7.res.norm2          │ BatchNorm2d       │     12 │\n",
       "│<span style=\"color: #7f7f7f; text-decoration-color: #7f7f7f\"> 104 </span>│ net.down.7.res.drop           │ Dropout           │      0 │\n",
       "│<span style=\"color: #7f7f7f; text-decoration-color: #7f7f7f\"> 105 </span>│ net.down.7.attn               │ Identity          │      0 │\n",
       "│<span style=\"color: #7f7f7f; text-decoration-color: #7f7f7f\"> 106 </span>│ net.down.8                    │ DownBlock         │    684 │\n",
       "│<span style=\"color: #7f7f7f; text-decoration-color: #7f7f7f\"> 107 </span>│ net.down.8.res                │ ResidualBlock     │    684 │\n",
       "│<span style=\"color: #7f7f7f; text-decoration-color: #7f7f7f\"> 108 </span>│ net.down.8.res.activation     │ LeakyReLU         │      0 │\n",
       "│<span style=\"color: #7f7f7f; text-decoration-color: #7f7f7f\"> 109 </span>│ net.down.8.res.conv1          │ PeriodicConv2D    │    330 │\n",
       "│<span style=\"color: #7f7f7f; text-decoration-color: #7f7f7f\"> 110 </span>│ net.down.8.res.conv1.padding  │ PeriodicPadding2D │      0 │\n",
       "│<span style=\"color: #7f7f7f; text-decoration-color: #7f7f7f\"> 111 </span>│ net.down.8.res.conv1.conv     │ Conv2d            │    330 │\n",
       "│<span style=\"color: #7f7f7f; text-decoration-color: #7f7f7f\"> 112 </span>│ net.down.8.res.conv2          │ PeriodicConv2D    │    330 │\n",
       "│<span style=\"color: #7f7f7f; text-decoration-color: #7f7f7f\"> 113 </span>│ net.down.8.res.conv2.padding  │ PeriodicPadding2D │      0 │\n",
       "│<span style=\"color: #7f7f7f; text-decoration-color: #7f7f7f\"> 114 </span>│ net.down.8.res.conv2.conv     │ Conv2d            │    330 │\n",
       "│<span style=\"color: #7f7f7f; text-decoration-color: #7f7f7f\"> 115 </span>│ net.down.8.res.shortcut       │ Identity          │      0 │\n",
       "│<span style=\"color: #7f7f7f; text-decoration-color: #7f7f7f\"> 116 </span>│ net.down.8.res.norm1          │ BatchNorm2d       │     12 │\n",
       "│<span style=\"color: #7f7f7f; text-decoration-color: #7f7f7f\"> 117 </span>│ net.down.8.res.norm2          │ BatchNorm2d       │     12 │\n",
       "│<span style=\"color: #7f7f7f; text-decoration-color: #7f7f7f\"> 118 </span>│ net.down.8.res.drop           │ Dropout           │      0 │\n",
       "│<span style=\"color: #7f7f7f; text-decoration-color: #7f7f7f\"> 119 </span>│ net.down.8.attn               │ Identity          │      0 │\n",
       "│<span style=\"color: #7f7f7f; text-decoration-color: #7f7f7f\"> 120 </span>│ net.down.9                    │ Downsample        │    330 │\n",
       "│<span style=\"color: #7f7f7f; text-decoration-color: #7f7f7f\"> 121 </span>│ net.down.9.conv               │ Conv2d            │    330 │\n",
       "│<span style=\"color: #7f7f7f; text-decoration-color: #7f7f7f\"> 122 </span>│ net.down.10                   │ DownBlock         │  2.1 K │\n",
       "│<span style=\"color: #7f7f7f; text-decoration-color: #7f7f7f\"> 123 </span>│ net.down.10.res               │ ResidualBlock     │  2.1 K │\n",
       "│<span style=\"color: #7f7f7f; text-decoration-color: #7f7f7f\"> 124 </span>│ net.down.10.res.activation    │ LeakyReLU         │      0 │\n",
       "│<span style=\"color: #7f7f7f; text-decoration-color: #7f7f7f\"> 125 </span>│ net.down.10.res.conv1         │ PeriodicConv2D    │    660 │\n",
       "│<span style=\"color: #7f7f7f; text-decoration-color: #7f7f7f\"> 126 </span>│ net.down.10.res.conv1.padding │ PeriodicPadding2D │      0 │\n",
       "│<span style=\"color: #7f7f7f; text-decoration-color: #7f7f7f\"> 127 </span>│ net.down.10.res.conv1.conv    │ Conv2d            │    660 │\n",
       "│<span style=\"color: #7f7f7f; text-decoration-color: #7f7f7f\"> 128 </span>│ net.down.10.res.conv2         │ PeriodicConv2D    │  1.3 K │\n",
       "│<span style=\"color: #7f7f7f; text-decoration-color: #7f7f7f\"> 129 </span>│ net.down.10.res.conv2.padding │ PeriodicPadding2D │      0 │\n",
       "│<span style=\"color: #7f7f7f; text-decoration-color: #7f7f7f\"> 130 </span>│ net.down.10.res.conv2.conv    │ Conv2d            │  1.3 K │\n",
       "│<span style=\"color: #7f7f7f; text-decoration-color: #7f7f7f\"> 131 </span>│ net.down.10.res.shortcut      │ Conv2d            │     84 │\n",
       "│<span style=\"color: #7f7f7f; text-decoration-color: #7f7f7f\"> 132 </span>│ net.down.10.res.norm1         │ BatchNorm2d       │     24 │\n",
       "│<span style=\"color: #7f7f7f; text-decoration-color: #7f7f7f\"> 133 </span>│ net.down.10.res.norm2         │ BatchNorm2d       │     24 │\n",
       "│<span style=\"color: #7f7f7f; text-decoration-color: #7f7f7f\"> 134 </span>│ net.down.10.res.drop          │ Dropout           │      0 │\n",
       "│<span style=\"color: #7f7f7f; text-decoration-color: #7f7f7f\"> 135 </span>│ net.down.10.attn              │ Identity          │      0 │\n",
       "│<span style=\"color: #7f7f7f; text-decoration-color: #7f7f7f\"> 136 </span>│ net.down.11                   │ DownBlock         │  2.7 K │\n",
       "│<span style=\"color: #7f7f7f; text-decoration-color: #7f7f7f\"> 137 </span>│ net.down.11.res               │ ResidualBlock     │  2.7 K │\n",
       "│<span style=\"color: #7f7f7f; text-decoration-color: #7f7f7f\"> 138 </span>│ net.down.11.res.activation    │ LeakyReLU         │      0 │\n",
       "│<span style=\"color: #7f7f7f; text-decoration-color: #7f7f7f\"> 139 </span>│ net.down.11.res.conv1         │ PeriodicConv2D    │  1.3 K │\n",
       "│<span style=\"color: #7f7f7f; text-decoration-color: #7f7f7f\"> 140 </span>│ net.down.11.res.conv1.padding │ PeriodicPadding2D │      0 │\n",
       "│<span style=\"color: #7f7f7f; text-decoration-color: #7f7f7f\"> 141 </span>│ net.down.11.res.conv1.conv    │ Conv2d            │  1.3 K │\n",
       "│<span style=\"color: #7f7f7f; text-decoration-color: #7f7f7f\"> 142 </span>│ net.down.11.res.conv2         │ PeriodicConv2D    │  1.3 K │\n",
       "│<span style=\"color: #7f7f7f; text-decoration-color: #7f7f7f\"> 143 </span>│ net.down.11.res.conv2.padding │ PeriodicPadding2D │      0 │\n",
       "│<span style=\"color: #7f7f7f; text-decoration-color: #7f7f7f\"> 144 </span>│ net.down.11.res.conv2.conv    │ Conv2d            │  1.3 K │\n",
       "│<span style=\"color: #7f7f7f; text-decoration-color: #7f7f7f\"> 145 </span>│ net.down.11.res.shortcut      │ Identity          │      0 │\n",
       "│<span style=\"color: #7f7f7f; text-decoration-color: #7f7f7f\"> 146 </span>│ net.down.11.res.norm1         │ BatchNorm2d       │     24 │\n",
       "│<span style=\"color: #7f7f7f; text-decoration-color: #7f7f7f\"> 147 </span>│ net.down.11.res.norm2         │ BatchNorm2d       │     24 │\n",
       "│<span style=\"color: #7f7f7f; text-decoration-color: #7f7f7f\"> 148 </span>│ net.down.11.res.drop          │ Dropout           │      0 │\n",
       "│<span style=\"color: #7f7f7f; text-decoration-color: #7f7f7f\"> 149 </span>│ net.down.11.attn              │ Identity          │      0 │\n",
       "│<span style=\"color: #7f7f7f; text-decoration-color: #7f7f7f\"> 150 </span>│ net.down.12                   │ DownBlock         │  2.7 K │\n",
       "│<span style=\"color: #7f7f7f; text-decoration-color: #7f7f7f\"> 151 </span>│ net.down.12.res               │ ResidualBlock     │  2.7 K │\n",
       "│<span style=\"color: #7f7f7f; text-decoration-color: #7f7f7f\"> 152 </span>│ net.down.12.res.activation    │ LeakyReLU         │      0 │\n",
       "│<span style=\"color: #7f7f7f; text-decoration-color: #7f7f7f\"> 153 </span>│ net.down.12.res.conv1         │ PeriodicConv2D    │  1.3 K │\n",
       "│<span style=\"color: #7f7f7f; text-decoration-color: #7f7f7f\"> 154 </span>│ net.down.12.res.conv1.padding │ PeriodicPadding2D │      0 │\n",
       "│<span style=\"color: #7f7f7f; text-decoration-color: #7f7f7f\"> 155 </span>│ net.down.12.res.conv1.conv    │ Conv2d            │  1.3 K │\n",
       "│<span style=\"color: #7f7f7f; text-decoration-color: #7f7f7f\"> 156 </span>│ net.down.12.res.conv2         │ PeriodicConv2D    │  1.3 K │\n",
       "│<span style=\"color: #7f7f7f; text-decoration-color: #7f7f7f\"> 157 </span>│ net.down.12.res.conv2.padding │ PeriodicPadding2D │      0 │\n",
       "│<span style=\"color: #7f7f7f; text-decoration-color: #7f7f7f\"> 158 </span>│ net.down.12.res.conv2.conv    │ Conv2d            │  1.3 K │\n",
       "│<span style=\"color: #7f7f7f; text-decoration-color: #7f7f7f\"> 159 </span>│ net.down.12.res.shortcut      │ Identity          │      0 │\n",
       "│<span style=\"color: #7f7f7f; text-decoration-color: #7f7f7f\"> 160 </span>│ net.down.12.res.norm1         │ BatchNorm2d       │     24 │\n",
       "│<span style=\"color: #7f7f7f; text-decoration-color: #7f7f7f\"> 161 </span>│ net.down.12.res.norm2         │ BatchNorm2d       │     24 │\n",
       "│<span style=\"color: #7f7f7f; text-decoration-color: #7f7f7f\"> 162 </span>│ net.down.12.res.drop          │ Dropout           │      0 │\n",
       "│<span style=\"color: #7f7f7f; text-decoration-color: #7f7f7f\"> 163 </span>│ net.down.12.attn              │ Identity          │      0 │\n",
       "│<span style=\"color: #7f7f7f; text-decoration-color: #7f7f7f\"> 164 </span>│ net.down.13                   │ DownBlock         │  2.7 K │\n",
       "│<span style=\"color: #7f7f7f; text-decoration-color: #7f7f7f\"> 165 </span>│ net.down.13.res               │ ResidualBlock     │  2.7 K │\n",
       "│<span style=\"color: #7f7f7f; text-decoration-color: #7f7f7f\"> 166 </span>│ net.down.13.res.activation    │ LeakyReLU         │      0 │\n",
       "│<span style=\"color: #7f7f7f; text-decoration-color: #7f7f7f\"> 167 </span>│ net.down.13.res.conv1         │ PeriodicConv2D    │  1.3 K │\n",
       "│<span style=\"color: #7f7f7f; text-decoration-color: #7f7f7f\"> 168 </span>│ net.down.13.res.conv1.padding │ PeriodicPadding2D │      0 │\n",
       "│<span style=\"color: #7f7f7f; text-decoration-color: #7f7f7f\"> 169 </span>│ net.down.13.res.conv1.conv    │ Conv2d            │  1.3 K │\n",
       "│<span style=\"color: #7f7f7f; text-decoration-color: #7f7f7f\"> 170 </span>│ net.down.13.res.conv2         │ PeriodicConv2D    │  1.3 K │\n",
       "│<span style=\"color: #7f7f7f; text-decoration-color: #7f7f7f\"> 171 </span>│ net.down.13.res.conv2.padding │ PeriodicPadding2D │      0 │\n",
       "│<span style=\"color: #7f7f7f; text-decoration-color: #7f7f7f\"> 172 </span>│ net.down.13.res.conv2.conv    │ Conv2d            │  1.3 K │\n",
       "│<span style=\"color: #7f7f7f; text-decoration-color: #7f7f7f\"> 173 </span>│ net.down.13.res.shortcut      │ Identity          │      0 │\n",
       "│<span style=\"color: #7f7f7f; text-decoration-color: #7f7f7f\"> 174 </span>│ net.down.13.res.norm1         │ BatchNorm2d       │     24 │\n",
       "│<span style=\"color: #7f7f7f; text-decoration-color: #7f7f7f\"> 175 </span>│ net.down.13.res.norm2         │ BatchNorm2d       │     24 │\n",
       "│<span style=\"color: #7f7f7f; text-decoration-color: #7f7f7f\"> 176 </span>│ net.down.13.res.drop          │ Dropout           │      0 │\n",
       "│<span style=\"color: #7f7f7f; text-decoration-color: #7f7f7f\"> 177 </span>│ net.down.13.attn              │ Identity          │      0 │\n",
       "│<span style=\"color: #7f7f7f; text-decoration-color: #7f7f7f\"> 178 </span>│ net.down.14                   │ Downsample        │  1.3 K │\n",
       "│<span style=\"color: #7f7f7f; text-decoration-color: #7f7f7f\"> 179 </span>│ net.down.14.conv              │ Conv2d            │  1.3 K │\n",
       "│<span style=\"color: #7f7f7f; text-decoration-color: #7f7f7f\"> 180 </span>│ net.down.15                   │ DownBlock         │ 26.8 K │\n",
       "│<span style=\"color: #7f7f7f; text-decoration-color: #7f7f7f\"> 181 </span>│ net.down.15.res               │ ResidualBlock     │ 26.8 K │\n",
       "│<span style=\"color: #7f7f7f; text-decoration-color: #7f7f7f\"> 182 </span>│ net.down.15.res.activation    │ LeakyReLU         │      0 │\n",
       "│<span style=\"color: #7f7f7f; text-decoration-color: #7f7f7f\"> 183 </span>│ net.down.15.res.conv1         │ PeriodicConv2D    │  5.2 K │\n",
       "│<span style=\"color: #7f7f7f; text-decoration-color: #7f7f7f\"> 184 </span>│ net.down.15.res.conv1.padding │ PeriodicPadding2D │      0 │\n",
       "│<span style=\"color: #7f7f7f; text-decoration-color: #7f7f7f\"> 185 </span>│ net.down.15.res.conv1.conv    │ Conv2d            │  5.2 K │\n",
       "│<span style=\"color: #7f7f7f; text-decoration-color: #7f7f7f\"> 186 </span>│ net.down.15.res.conv2         │ PeriodicConv2D    │ 20.8 K │\n",
       "│<span style=\"color: #7f7f7f; text-decoration-color: #7f7f7f\"> 187 </span>│ net.down.15.res.conv2.padding │ PeriodicPadding2D │      0 │\n",
       "│<span style=\"color: #7f7f7f; text-decoration-color: #7f7f7f\"> 188 </span>│ net.down.15.res.conv2.conv    │ Conv2d            │ 20.8 K │\n",
       "│<span style=\"color: #7f7f7f; text-decoration-color: #7f7f7f\"> 189 </span>│ net.down.15.res.shortcut      │ Conv2d            │    624 │\n",
       "│<span style=\"color: #7f7f7f; text-decoration-color: #7f7f7f\"> 190 </span>│ net.down.15.res.norm1         │ BatchNorm2d       │     96 │\n",
       "│<span style=\"color: #7f7f7f; text-decoration-color: #7f7f7f\"> 191 </span>│ net.down.15.res.norm2         │ BatchNorm2d       │     96 │\n",
       "│<span style=\"color: #7f7f7f; text-decoration-color: #7f7f7f\"> 192 </span>│ net.down.15.res.drop          │ Dropout           │      0 │\n",
       "│<span style=\"color: #7f7f7f; text-decoration-color: #7f7f7f\"> 193 </span>│ net.down.15.attn              │ Identity          │      0 │\n",
       "│<span style=\"color: #7f7f7f; text-decoration-color: #7f7f7f\"> 194 </span>│ net.down.16                   │ DownBlock         │ 41.8 K │\n",
       "│<span style=\"color: #7f7f7f; text-decoration-color: #7f7f7f\"> 195 </span>│ net.down.16.res               │ ResidualBlock     │ 41.8 K │\n",
       "│<span style=\"color: #7f7f7f; text-decoration-color: #7f7f7f\"> 196 </span>│ net.down.16.res.activation    │ LeakyReLU         │      0 │\n",
       "│<span style=\"color: #7f7f7f; text-decoration-color: #7f7f7f\"> 197 </span>│ net.down.16.res.conv1         │ PeriodicConv2D    │ 20.8 K │\n",
       "│<span style=\"color: #7f7f7f; text-decoration-color: #7f7f7f\"> 198 </span>│ net.down.16.res.conv1.padding │ PeriodicPadding2D │      0 │\n",
       "│<span style=\"color: #7f7f7f; text-decoration-color: #7f7f7f\"> 199 </span>│ net.down.16.res.conv1.conv    │ Conv2d            │ 20.8 K │\n",
       "│<span style=\"color: #7f7f7f; text-decoration-color: #7f7f7f\"> 200 </span>│ net.down.16.res.conv2         │ PeriodicConv2D    │ 20.8 K │\n",
       "│<span style=\"color: #7f7f7f; text-decoration-color: #7f7f7f\"> 201 </span>│ net.down.16.res.conv2.padding │ PeriodicPadding2D │      0 │\n",
       "│<span style=\"color: #7f7f7f; text-decoration-color: #7f7f7f\"> 202 </span>│ net.down.16.res.conv2.conv    │ Conv2d            │ 20.8 K │\n",
       "│<span style=\"color: #7f7f7f; text-decoration-color: #7f7f7f\"> 203 </span>│ net.down.16.res.shortcut      │ Identity          │      0 │\n",
       "│<span style=\"color: #7f7f7f; text-decoration-color: #7f7f7f\"> 204 </span>│ net.down.16.res.norm1         │ BatchNorm2d       │     96 │\n",
       "│<span style=\"color: #7f7f7f; text-decoration-color: #7f7f7f\"> 205 </span>│ net.down.16.res.norm2         │ BatchNorm2d       │     96 │\n",
       "│<span style=\"color: #7f7f7f; text-decoration-color: #7f7f7f\"> 206 </span>│ net.down.16.res.drop          │ Dropout           │      0 │\n",
       "│<span style=\"color: #7f7f7f; text-decoration-color: #7f7f7f\"> 207 </span>│ net.down.16.attn              │ Identity          │      0 │\n",
       "│<span style=\"color: #7f7f7f; text-decoration-color: #7f7f7f\"> 208 </span>│ net.down.17                   │ DownBlock         │ 41.8 K │\n",
       "│<span style=\"color: #7f7f7f; text-decoration-color: #7f7f7f\"> 209 </span>│ net.down.17.res               │ ResidualBlock     │ 41.8 K │\n",
       "│<span style=\"color: #7f7f7f; text-decoration-color: #7f7f7f\"> 210 </span>│ net.down.17.res.activation    │ LeakyReLU         │      0 │\n",
       "│<span style=\"color: #7f7f7f; text-decoration-color: #7f7f7f\"> 211 </span>│ net.down.17.res.conv1         │ PeriodicConv2D    │ 20.8 K │\n",
       "│<span style=\"color: #7f7f7f; text-decoration-color: #7f7f7f\"> 212 </span>│ net.down.17.res.conv1.padding │ PeriodicPadding2D │      0 │\n",
       "│<span style=\"color: #7f7f7f; text-decoration-color: #7f7f7f\"> 213 </span>│ net.down.17.res.conv1.conv    │ Conv2d            │ 20.8 K │\n",
       "│<span style=\"color: #7f7f7f; text-decoration-color: #7f7f7f\"> 214 </span>│ net.down.17.res.conv2         │ PeriodicConv2D    │ 20.8 K │\n",
       "│<span style=\"color: #7f7f7f; text-decoration-color: #7f7f7f\"> 215 </span>│ net.down.17.res.conv2.padding │ PeriodicPadding2D │      0 │\n",
       "│<span style=\"color: #7f7f7f; text-decoration-color: #7f7f7f\"> 216 </span>│ net.down.17.res.conv2.conv    │ Conv2d            │ 20.8 K │\n",
       "│<span style=\"color: #7f7f7f; text-decoration-color: #7f7f7f\"> 217 </span>│ net.down.17.res.shortcut      │ Identity          │      0 │\n",
       "│<span style=\"color: #7f7f7f; text-decoration-color: #7f7f7f\"> 218 </span>│ net.down.17.res.norm1         │ BatchNorm2d       │     96 │\n",
       "│<span style=\"color: #7f7f7f; text-decoration-color: #7f7f7f\"> 219 </span>│ net.down.17.res.norm2         │ BatchNorm2d       │     96 │\n",
       "│<span style=\"color: #7f7f7f; text-decoration-color: #7f7f7f\"> 220 </span>│ net.down.17.res.drop          │ Dropout           │      0 │\n",
       "│<span style=\"color: #7f7f7f; text-decoration-color: #7f7f7f\"> 221 </span>│ net.down.17.attn              │ Identity          │      0 │\n",
       "│<span style=\"color: #7f7f7f; text-decoration-color: #7f7f7f\"> 222 </span>│ net.down.18                   │ DownBlock         │ 41.8 K │\n",
       "│<span style=\"color: #7f7f7f; text-decoration-color: #7f7f7f\"> 223 </span>│ net.down.18.res               │ ResidualBlock     │ 41.8 K │\n",
       "│<span style=\"color: #7f7f7f; text-decoration-color: #7f7f7f\"> 224 </span>│ net.down.18.res.activation    │ LeakyReLU         │      0 │\n",
       "│<span style=\"color: #7f7f7f; text-decoration-color: #7f7f7f\"> 225 </span>│ net.down.18.res.conv1         │ PeriodicConv2D    │ 20.8 K │\n",
       "│<span style=\"color: #7f7f7f; text-decoration-color: #7f7f7f\"> 226 </span>│ net.down.18.res.conv1.padding │ PeriodicPadding2D │      0 │\n",
       "│<span style=\"color: #7f7f7f; text-decoration-color: #7f7f7f\"> 227 </span>│ net.down.18.res.conv1.conv    │ Conv2d            │ 20.8 K │\n",
       "│<span style=\"color: #7f7f7f; text-decoration-color: #7f7f7f\"> 228 </span>│ net.down.18.res.conv2         │ PeriodicConv2D    │ 20.8 K │\n",
       "│<span style=\"color: #7f7f7f; text-decoration-color: #7f7f7f\"> 229 </span>│ net.down.18.res.conv2.padding │ PeriodicPadding2D │      0 │\n",
       "│<span style=\"color: #7f7f7f; text-decoration-color: #7f7f7f\"> 230 </span>│ net.down.18.res.conv2.conv    │ Conv2d            │ 20.8 K │\n",
       "│<span style=\"color: #7f7f7f; text-decoration-color: #7f7f7f\"> 231 </span>│ net.down.18.res.shortcut      │ Identity          │      0 │\n",
       "│<span style=\"color: #7f7f7f; text-decoration-color: #7f7f7f\"> 232 </span>│ net.down.18.res.norm1         │ BatchNorm2d       │     96 │\n",
       "│<span style=\"color: #7f7f7f; text-decoration-color: #7f7f7f\"> 233 </span>│ net.down.18.res.norm2         │ BatchNorm2d       │     96 │\n",
       "│<span style=\"color: #7f7f7f; text-decoration-color: #7f7f7f\"> 234 </span>│ net.down.18.res.drop          │ Dropout           │      0 │\n",
       "│<span style=\"color: #7f7f7f; text-decoration-color: #7f7f7f\"> 235 </span>│ net.down.18.attn              │ Identity          │      0 │\n",
       "│<span style=\"color: #7f7f7f; text-decoration-color: #7f7f7f\"> 236 </span>│ net.middle                    │ MiddleBlock       │ 83.5 K │\n",
       "│<span style=\"color: #7f7f7f; text-decoration-color: #7f7f7f\"> 237 </span>│ net.middle.res1               │ ResidualBlock     │ 41.8 K │\n",
       "│<span style=\"color: #7f7f7f; text-decoration-color: #7f7f7f\"> 238 </span>│ net.middle.res1.activation    │ LeakyReLU         │      0 │\n",
       "│<span style=\"color: #7f7f7f; text-decoration-color: #7f7f7f\"> 239 </span>│ net.middle.res1.conv1         │ PeriodicConv2D    │ 20.8 K │\n",
       "│<span style=\"color: #7f7f7f; text-decoration-color: #7f7f7f\"> 240 </span>│ net.middle.res1.conv1.padding │ PeriodicPadding2D │      0 │\n",
       "│<span style=\"color: #7f7f7f; text-decoration-color: #7f7f7f\"> 241 </span>│ net.middle.res1.conv1.conv    │ Conv2d            │ 20.8 K │\n",
       "│<span style=\"color: #7f7f7f; text-decoration-color: #7f7f7f\"> 242 </span>│ net.middle.res1.conv2         │ PeriodicConv2D    │ 20.8 K │\n",
       "│<span style=\"color: #7f7f7f; text-decoration-color: #7f7f7f\"> 243 </span>│ net.middle.res1.conv2.padding │ PeriodicPadding2D │      0 │\n",
       "│<span style=\"color: #7f7f7f; text-decoration-color: #7f7f7f\"> 244 </span>│ net.middle.res1.conv2.conv    │ Conv2d            │ 20.8 K │\n",
       "│<span style=\"color: #7f7f7f; text-decoration-color: #7f7f7f\"> 245 </span>│ net.middle.res1.shortcut      │ Identity          │      0 │\n",
       "│<span style=\"color: #7f7f7f; text-decoration-color: #7f7f7f\"> 246 </span>│ net.middle.res1.norm1         │ BatchNorm2d       │     96 │\n",
       "│<span style=\"color: #7f7f7f; text-decoration-color: #7f7f7f\"> 247 </span>│ net.middle.res1.norm2         │ BatchNorm2d       │     96 │\n",
       "│<span style=\"color: #7f7f7f; text-decoration-color: #7f7f7f\"> 248 </span>│ net.middle.res1.drop          │ Dropout           │      0 │\n",
       "│<span style=\"color: #7f7f7f; text-decoration-color: #7f7f7f\"> 249 </span>│ net.middle.attn               │ Identity          │      0 │\n",
       "│<span style=\"color: #7f7f7f; text-decoration-color: #7f7f7f\"> 250 </span>│ net.middle.res2               │ ResidualBlock     │ 41.8 K │\n",
       "│<span style=\"color: #7f7f7f; text-decoration-color: #7f7f7f\"> 251 </span>│ net.middle.res2.activation    │ LeakyReLU         │      0 │\n",
       "│<span style=\"color: #7f7f7f; text-decoration-color: #7f7f7f\"> 252 </span>│ net.middle.res2.conv1         │ PeriodicConv2D    │ 20.8 K │\n",
       "│<span style=\"color: #7f7f7f; text-decoration-color: #7f7f7f\"> 253 </span>│ net.middle.res2.conv1.padding │ PeriodicPadding2D │      0 │\n",
       "│<span style=\"color: #7f7f7f; text-decoration-color: #7f7f7f\"> 254 </span>│ net.middle.res2.conv1.conv    │ Conv2d            │ 20.8 K │\n",
       "│<span style=\"color: #7f7f7f; text-decoration-color: #7f7f7f\"> 255 </span>│ net.middle.res2.conv2         │ PeriodicConv2D    │ 20.8 K │\n",
       "│<span style=\"color: #7f7f7f; text-decoration-color: #7f7f7f\"> 256 </span>│ net.middle.res2.conv2.padding │ PeriodicPadding2D │      0 │\n",
       "│<span style=\"color: #7f7f7f; text-decoration-color: #7f7f7f\"> 257 </span>│ net.middle.res2.conv2.conv    │ Conv2d            │ 20.8 K │\n",
       "│<span style=\"color: #7f7f7f; text-decoration-color: #7f7f7f\"> 258 </span>│ net.middle.res2.shortcut      │ Identity          │      0 │\n",
       "│<span style=\"color: #7f7f7f; text-decoration-color: #7f7f7f\"> 259 </span>│ net.middle.res2.norm1         │ BatchNorm2d       │     96 │\n",
       "│<span style=\"color: #7f7f7f; text-decoration-color: #7f7f7f\"> 260 </span>│ net.middle.res2.norm2         │ BatchNorm2d       │     96 │\n",
       "│<span style=\"color: #7f7f7f; text-decoration-color: #7f7f7f\"> 261 </span>│ net.middle.res2.drop          │ Dropout           │      0 │\n",
       "│<span style=\"color: #7f7f7f; text-decoration-color: #7f7f7f\"> 262 </span>│ net.up                        │ ModuleList        │  304 K │\n",
       "│<span style=\"color: #7f7f7f; text-decoration-color: #7f7f7f\"> 263 </span>│ net.up.0                      │ UpBlock           │ 67.2 K │\n",
       "│<span style=\"color: #7f7f7f; text-decoration-color: #7f7f7f\"> 264 </span>│ net.up.0.res                  │ ResidualBlock     │ 67.2 K │\n",
       "│<span style=\"color: #7f7f7f; text-decoration-color: #7f7f7f\"> 265 </span>│ net.up.0.res.activation       │ LeakyReLU         │      0 │\n",
       "│<span style=\"color: #7f7f7f; text-decoration-color: #7f7f7f\"> 266 </span>│ net.up.0.res.conv1            │ PeriodicConv2D    │ 41.5 K │\n",
       "│<span style=\"color: #7f7f7f; text-decoration-color: #7f7f7f\"> 267 </span>│ net.up.0.res.conv1.padding    │ PeriodicPadding2D │      0 │\n",
       "│<span style=\"color: #7f7f7f; text-decoration-color: #7f7f7f\"> 268 </span>│ net.up.0.res.conv1.conv       │ Conv2d            │ 41.5 K │\n",
       "│<span style=\"color: #7f7f7f; text-decoration-color: #7f7f7f\"> 269 </span>│ net.up.0.res.conv2            │ PeriodicConv2D    │ 20.8 K │\n",
       "│<span style=\"color: #7f7f7f; text-decoration-color: #7f7f7f\"> 270 </span>│ net.up.0.res.conv2.padding    │ PeriodicPadding2D │      0 │\n",
       "│<span style=\"color: #7f7f7f; text-decoration-color: #7f7f7f\"> 271 </span>│ net.up.0.res.conv2.conv       │ Conv2d            │ 20.8 K │\n",
       "│<span style=\"color: #7f7f7f; text-decoration-color: #7f7f7f\"> 272 </span>│ net.up.0.res.shortcut         │ Conv2d            │  4.7 K │\n",
       "│<span style=\"color: #7f7f7f; text-decoration-color: #7f7f7f\"> 273 </span>│ net.up.0.res.norm1            │ BatchNorm2d       │     96 │\n",
       "│<span style=\"color: #7f7f7f; text-decoration-color: #7f7f7f\"> 274 </span>│ net.up.0.res.norm2            │ BatchNorm2d       │     96 │\n",
       "│<span style=\"color: #7f7f7f; text-decoration-color: #7f7f7f\"> 275 </span>│ net.up.0.res.drop             │ Dropout           │      0 │\n",
       "│<span style=\"color: #7f7f7f; text-decoration-color: #7f7f7f\"> 276 </span>│ net.up.0.attn                 │ Identity          │      0 │\n",
       "│<span style=\"color: #7f7f7f; text-decoration-color: #7f7f7f\"> 277 </span>│ net.up.1                      │ UpBlock           │ 67.2 K │\n",
       "│<span style=\"color: #7f7f7f; text-decoration-color: #7f7f7f\"> 278 </span>│ net.up.1.res                  │ ResidualBlock     │ 67.2 K │\n",
       "│<span style=\"color: #7f7f7f; text-decoration-color: #7f7f7f\"> 279 </span>│ net.up.1.res.activation       │ LeakyReLU         │      0 │\n",
       "│<span style=\"color: #7f7f7f; text-decoration-color: #7f7f7f\"> 280 </span>│ net.up.1.res.conv1            │ PeriodicConv2D    │ 41.5 K │\n",
       "│<span style=\"color: #7f7f7f; text-decoration-color: #7f7f7f\"> 281 </span>│ net.up.1.res.conv1.padding    │ PeriodicPadding2D │      0 │\n",
       "│<span style=\"color: #7f7f7f; text-decoration-color: #7f7f7f\"> 282 </span>│ net.up.1.res.conv1.conv       │ Conv2d            │ 41.5 K │\n",
       "│<span style=\"color: #7f7f7f; text-decoration-color: #7f7f7f\"> 283 </span>│ net.up.1.res.conv2            │ PeriodicConv2D    │ 20.8 K │\n",
       "│<span style=\"color: #7f7f7f; text-decoration-color: #7f7f7f\"> 284 </span>│ net.up.1.res.conv2.padding    │ PeriodicPadding2D │      0 │\n",
       "│<span style=\"color: #7f7f7f; text-decoration-color: #7f7f7f\"> 285 </span>│ net.up.1.res.conv2.conv       │ Conv2d            │ 20.8 K │\n",
       "│<span style=\"color: #7f7f7f; text-decoration-color: #7f7f7f\"> 286 </span>│ net.up.1.res.shortcut         │ Conv2d            │  4.7 K │\n",
       "│<span style=\"color: #7f7f7f; text-decoration-color: #7f7f7f\"> 287 </span>│ net.up.1.res.norm1            │ BatchNorm2d       │     96 │\n",
       "│<span style=\"color: #7f7f7f; text-decoration-color: #7f7f7f\"> 288 </span>│ net.up.1.res.norm2            │ BatchNorm2d       │     96 │\n",
       "│<span style=\"color: #7f7f7f; text-decoration-color: #7f7f7f\"> 289 </span>│ net.up.1.res.drop             │ Dropout           │      0 │\n",
       "│<span style=\"color: #7f7f7f; text-decoration-color: #7f7f7f\"> 290 </span>│ net.up.1.attn                 │ Identity          │      0 │\n",
       "│<span style=\"color: #7f7f7f; text-decoration-color: #7f7f7f\"> 291 </span>│ net.up.2                      │ UpBlock           │ 67.2 K │\n",
       "│<span style=\"color: #7f7f7f; text-decoration-color: #7f7f7f\"> 292 </span>│ net.up.2.res                  │ ResidualBlock     │ 67.2 K │\n",
       "│<span style=\"color: #7f7f7f; text-decoration-color: #7f7f7f\"> 293 </span>│ net.up.2.res.activation       │ LeakyReLU         │      0 │\n",
       "│<span style=\"color: #7f7f7f; text-decoration-color: #7f7f7f\"> 294 </span>│ net.up.2.res.conv1            │ PeriodicConv2D    │ 41.5 K │\n",
       "│<span style=\"color: #7f7f7f; text-decoration-color: #7f7f7f\"> 295 </span>│ net.up.2.res.conv1.padding    │ PeriodicPadding2D │      0 │\n",
       "│<span style=\"color: #7f7f7f; text-decoration-color: #7f7f7f\"> 296 </span>│ net.up.2.res.conv1.conv       │ Conv2d            │ 41.5 K │\n",
       "│<span style=\"color: #7f7f7f; text-decoration-color: #7f7f7f\"> 297 </span>│ net.up.2.res.conv2            │ PeriodicConv2D    │ 20.8 K │\n",
       "│<span style=\"color: #7f7f7f; text-decoration-color: #7f7f7f\"> 298 </span>│ net.up.2.res.conv2.padding    │ PeriodicPadding2D │      0 │\n",
       "│<span style=\"color: #7f7f7f; text-decoration-color: #7f7f7f\"> 299 </span>│ net.up.2.res.conv2.conv       │ Conv2d            │ 20.8 K │\n",
       "│<span style=\"color: #7f7f7f; text-decoration-color: #7f7f7f\"> 300 </span>│ net.up.2.res.shortcut         │ Conv2d            │  4.7 K │\n",
       "│<span style=\"color: #7f7f7f; text-decoration-color: #7f7f7f\"> 301 </span>│ net.up.2.res.norm1            │ BatchNorm2d       │     96 │\n",
       "│<span style=\"color: #7f7f7f; text-decoration-color: #7f7f7f\"> 302 </span>│ net.up.2.res.norm2            │ BatchNorm2d       │     96 │\n",
       "│<span style=\"color: #7f7f7f; text-decoration-color: #7f7f7f\"> 303 </span>│ net.up.2.res.drop             │ Dropout           │      0 │\n",
       "│<span style=\"color: #7f7f7f; text-decoration-color: #7f7f7f\"> 304 </span>│ net.up.2.attn                 │ Identity          │      0 │\n",
       "│<span style=\"color: #7f7f7f; text-decoration-color: #7f7f7f\"> 305 </span>│ net.up.3                      │ UpBlock           │ 67.2 K │\n",
       "│<span style=\"color: #7f7f7f; text-decoration-color: #7f7f7f\"> 306 </span>│ net.up.3.res                  │ ResidualBlock     │ 67.2 K │\n",
       "│<span style=\"color: #7f7f7f; text-decoration-color: #7f7f7f\"> 307 </span>│ net.up.3.res.activation       │ LeakyReLU         │      0 │\n",
       "│<span style=\"color: #7f7f7f; text-decoration-color: #7f7f7f\"> 308 </span>│ net.up.3.res.conv1            │ PeriodicConv2D    │ 41.5 K │\n",
       "│<span style=\"color: #7f7f7f; text-decoration-color: #7f7f7f\"> 309 </span>│ net.up.3.res.conv1.padding    │ PeriodicPadding2D │      0 │\n",
       "│<span style=\"color: #7f7f7f; text-decoration-color: #7f7f7f\"> 310 </span>│ net.up.3.res.conv1.conv       │ Conv2d            │ 41.5 K │\n",
       "│<span style=\"color: #7f7f7f; text-decoration-color: #7f7f7f\"> 311 </span>│ net.up.3.res.conv2            │ PeriodicConv2D    │ 20.8 K │\n",
       "│<span style=\"color: #7f7f7f; text-decoration-color: #7f7f7f\"> 312 </span>│ net.up.3.res.conv2.padding    │ PeriodicPadding2D │      0 │\n",
       "│<span style=\"color: #7f7f7f; text-decoration-color: #7f7f7f\"> 313 </span>│ net.up.3.res.conv2.conv       │ Conv2d            │ 20.8 K │\n",
       "│<span style=\"color: #7f7f7f; text-decoration-color: #7f7f7f\"> 314 </span>│ net.up.3.res.shortcut         │ Conv2d            │  4.7 K │\n",
       "│<span style=\"color: #7f7f7f; text-decoration-color: #7f7f7f\"> 315 </span>│ net.up.3.res.norm1            │ BatchNorm2d       │     96 │\n",
       "│<span style=\"color: #7f7f7f; text-decoration-color: #7f7f7f\"> 316 </span>│ net.up.3.res.norm2            │ BatchNorm2d       │     96 │\n",
       "│<span style=\"color: #7f7f7f; text-decoration-color: #7f7f7f\"> 317 </span>│ net.up.3.res.drop             │ Dropout           │      0 │\n",
       "│<span style=\"color: #7f7f7f; text-decoration-color: #7f7f7f\"> 318 </span>│ net.up.3.attn                 │ Identity          │      0 │\n",
       "│<span style=\"color: #7f7f7f; text-decoration-color: #7f7f7f\"> 319 </span>│ net.up.4                      │ UpBlock           │  8.6 K │\n",
       "│<span style=\"color: #7f7f7f; text-decoration-color: #7f7f7f\"> 320 </span>│ net.up.4.res                  │ ResidualBlock     │  8.6 K │\n",
       "│<span style=\"color: #7f7f7f; text-decoration-color: #7f7f7f\"> 321 </span>│ net.up.4.res.activation       │ LeakyReLU         │      0 │\n",
       "│<span style=\"color: #7f7f7f; text-decoration-color: #7f7f7f\"> 322 </span>│ net.up.4.res.conv1            │ PeriodicConv2D    │  6.5 K │\n",
       "│<span style=\"color: #7f7f7f; text-decoration-color: #7f7f7f\"> 323 </span>│ net.up.4.res.conv1.padding    │ PeriodicPadding2D │      0 │\n",
       "│<span style=\"color: #7f7f7f; text-decoration-color: #7f7f7f\"> 324 </span>│ net.up.4.res.conv1.conv       │ Conv2d            │  6.5 K │\n",
       "│<span style=\"color: #7f7f7f; text-decoration-color: #7f7f7f\"> 325 </span>│ net.up.4.res.conv2            │ PeriodicConv2D    │  1.3 K │\n",
       "│<span style=\"color: #7f7f7f; text-decoration-color: #7f7f7f\"> 326 </span>│ net.up.4.res.conv2.padding    │ PeriodicPadding2D │      0 │\n",
       "│<span style=\"color: #7f7f7f; text-decoration-color: #7f7f7f\"> 327 </span>│ net.up.4.res.conv2.conv       │ Conv2d            │  1.3 K │\n",
       "│<span style=\"color: #7f7f7f; text-decoration-color: #7f7f7f\"> 328 </span>│ net.up.4.res.shortcut         │ Conv2d            │    732 │\n",
       "│<span style=\"color: #7f7f7f; text-decoration-color: #7f7f7f\"> 329 </span>│ net.up.4.res.norm1            │ BatchNorm2d       │     24 │\n",
       "│<span style=\"color: #7f7f7f; text-decoration-color: #7f7f7f\"> 330 </span>│ net.up.4.res.norm2            │ BatchNorm2d       │     24 │\n",
       "│<span style=\"color: #7f7f7f; text-decoration-color: #7f7f7f\"> 331 </span>│ net.up.4.res.drop             │ Dropout           │      0 │\n",
       "│<span style=\"color: #7f7f7f; text-decoration-color: #7f7f7f\"> 332 </span>│ net.up.4.attn                 │ Identity          │      0 │\n",
       "│<span style=\"color: #7f7f7f; text-decoration-color: #7f7f7f\"> 333 </span>│ net.up.5                      │ Upsample          │  2.3 K │\n",
       "│<span style=\"color: #7f7f7f; text-decoration-color: #7f7f7f\"> 334 </span>│ net.up.5.conv                 │ ConvTranspose2d   │  2.3 K │\n",
       "│<span style=\"color: #7f7f7f; text-decoration-color: #7f7f7f\"> 335 </span>│ net.up.6                      │ UpBlock           │  4.3 K │\n",
       "│<span style=\"color: #7f7f7f; text-decoration-color: #7f7f7f\"> 336 </span>│ net.up.6.res                  │ ResidualBlock     │  4.3 K │\n",
       "│<span style=\"color: #7f7f7f; text-decoration-color: #7f7f7f\"> 337 </span>│ net.up.6.res.activation       │ LeakyReLU         │      0 │\n",
       "│<span style=\"color: #7f7f7f; text-decoration-color: #7f7f7f\"> 338 </span>│ net.up.6.res.conv1            │ PeriodicConv2D    │  2.6 K │\n",
       "│<span style=\"color: #7f7f7f; text-decoration-color: #7f7f7f\"> 339 </span>│ net.up.6.res.conv1.padding    │ PeriodicPadding2D │      0 │\n",
       "│<span style=\"color: #7f7f7f; text-decoration-color: #7f7f7f\"> 340 </span>│ net.up.6.res.conv1.conv       │ Conv2d            │  2.6 K │\n",
       "│<span style=\"color: #7f7f7f; text-decoration-color: #7f7f7f\"> 341 </span>│ net.up.6.res.conv2            │ PeriodicConv2D    │  1.3 K │\n",
       "│<span style=\"color: #7f7f7f; text-decoration-color: #7f7f7f\"> 342 </span>│ net.up.6.res.conv2.padding    │ PeriodicPadding2D │      0 │\n",
       "│<span style=\"color: #7f7f7f; text-decoration-color: #7f7f7f\"> 343 </span>│ net.up.6.res.conv2.conv       │ Conv2d            │  1.3 K │\n",
       "│<span style=\"color: #7f7f7f; text-decoration-color: #7f7f7f\"> 344 </span>│ net.up.6.res.shortcut         │ Conv2d            │    300 │\n",
       "│<span style=\"color: #7f7f7f; text-decoration-color: #7f7f7f\"> 345 </span>│ net.up.6.res.norm1            │ BatchNorm2d       │     24 │\n",
       "│<span style=\"color: #7f7f7f; text-decoration-color: #7f7f7f\"> 346 </span>│ net.up.6.res.norm2            │ BatchNorm2d       │     24 │\n",
       "│<span style=\"color: #7f7f7f; text-decoration-color: #7f7f7f\"> 347 </span>│ net.up.6.res.drop             │ Dropout           │      0 │\n",
       "│<span style=\"color: #7f7f7f; text-decoration-color: #7f7f7f\"> 348 </span>│ net.up.6.attn                 │ Identity          │      0 │\n",
       "│<span style=\"color: #7f7f7f; text-decoration-color: #7f7f7f\"> 349 </span>│ net.up.7                      │ UpBlock           │  4.3 K │\n",
       "│<span style=\"color: #7f7f7f; text-decoration-color: #7f7f7f\"> 350 </span>│ net.up.7.res                  │ ResidualBlock     │  4.3 K │\n",
       "│<span style=\"color: #7f7f7f; text-decoration-color: #7f7f7f\"> 351 </span>│ net.up.7.res.activation       │ LeakyReLU         │      0 │\n",
       "│<span style=\"color: #7f7f7f; text-decoration-color: #7f7f7f\"> 352 </span>│ net.up.7.res.conv1            │ PeriodicConv2D    │  2.6 K │\n",
       "│<span style=\"color: #7f7f7f; text-decoration-color: #7f7f7f\"> 353 </span>│ net.up.7.res.conv1.padding    │ PeriodicPadding2D │      0 │\n",
       "│<span style=\"color: #7f7f7f; text-decoration-color: #7f7f7f\"> 354 </span>│ net.up.7.res.conv1.conv       │ Conv2d            │  2.6 K │\n",
       "│<span style=\"color: #7f7f7f; text-decoration-color: #7f7f7f\"> 355 </span>│ net.up.7.res.conv2            │ PeriodicConv2D    │  1.3 K │\n",
       "│<span style=\"color: #7f7f7f; text-decoration-color: #7f7f7f\"> 356 </span>│ net.up.7.res.conv2.padding    │ PeriodicPadding2D │      0 │\n",
       "│<span style=\"color: #7f7f7f; text-decoration-color: #7f7f7f\"> 357 </span>│ net.up.7.res.conv2.conv       │ Conv2d            │  1.3 K │\n",
       "│<span style=\"color: #7f7f7f; text-decoration-color: #7f7f7f\"> 358 </span>│ net.up.7.res.shortcut         │ Conv2d            │    300 │\n",
       "│<span style=\"color: #7f7f7f; text-decoration-color: #7f7f7f\"> 359 </span>│ net.up.7.res.norm1            │ BatchNorm2d       │     24 │\n",
       "│<span style=\"color: #7f7f7f; text-decoration-color: #7f7f7f\"> 360 </span>│ net.up.7.res.norm2            │ BatchNorm2d       │     24 │\n",
       "│<span style=\"color: #7f7f7f; text-decoration-color: #7f7f7f\"> 361 </span>│ net.up.7.res.drop             │ Dropout           │      0 │\n",
       "│<span style=\"color: #7f7f7f; text-decoration-color: #7f7f7f\"> 362 </span>│ net.up.7.attn                 │ Identity          │      0 │\n",
       "│<span style=\"color: #7f7f7f; text-decoration-color: #7f7f7f\"> 363 </span>│ net.up.8                      │ UpBlock           │  4.3 K │\n",
       "│<span style=\"color: #7f7f7f; text-decoration-color: #7f7f7f\"> 364 </span>│ net.up.8.res                  │ ResidualBlock     │  4.3 K │\n",
       "│<span style=\"color: #7f7f7f; text-decoration-color: #7f7f7f\"> 365 </span>│ net.up.8.res.activation       │ LeakyReLU         │      0 │\n",
       "│<span style=\"color: #7f7f7f; text-decoration-color: #7f7f7f\"> 366 </span>│ net.up.8.res.conv1            │ PeriodicConv2D    │  2.6 K │\n",
       "│<span style=\"color: #7f7f7f; text-decoration-color: #7f7f7f\"> 367 </span>│ net.up.8.res.conv1.padding    │ PeriodicPadding2D │      0 │\n",
       "│<span style=\"color: #7f7f7f; text-decoration-color: #7f7f7f\"> 368 </span>│ net.up.8.res.conv1.conv       │ Conv2d            │  2.6 K │\n",
       "│<span style=\"color: #7f7f7f; text-decoration-color: #7f7f7f\"> 369 </span>│ net.up.8.res.conv2            │ PeriodicConv2D    │  1.3 K │\n",
       "│<span style=\"color: #7f7f7f; text-decoration-color: #7f7f7f\"> 370 </span>│ net.up.8.res.conv2.padding    │ PeriodicPadding2D │      0 │\n",
       "│<span style=\"color: #7f7f7f; text-decoration-color: #7f7f7f\"> 371 </span>│ net.up.8.res.conv2.conv       │ Conv2d            │  1.3 K │\n",
       "│<span style=\"color: #7f7f7f; text-decoration-color: #7f7f7f\"> 372 </span>│ net.up.8.res.shortcut         │ Conv2d            │    300 │\n",
       "│<span style=\"color: #7f7f7f; text-decoration-color: #7f7f7f\"> 373 </span>│ net.up.8.res.norm1            │ BatchNorm2d       │     24 │\n",
       "│<span style=\"color: #7f7f7f; text-decoration-color: #7f7f7f\"> 374 </span>│ net.up.8.res.norm2            │ BatchNorm2d       │     24 │\n",
       "│<span style=\"color: #7f7f7f; text-decoration-color: #7f7f7f\"> 375 </span>│ net.up.8.res.drop             │ Dropout           │      0 │\n",
       "│<span style=\"color: #7f7f7f; text-decoration-color: #7f7f7f\"> 376 </span>│ net.up.8.attn                 │ Identity          │      0 │\n",
       "│<span style=\"color: #7f7f7f; text-decoration-color: #7f7f7f\"> 377 </span>│ net.up.9                      │ UpBlock           │  4.3 K │\n",
       "│<span style=\"color: #7f7f7f; text-decoration-color: #7f7f7f\"> 378 </span>│ net.up.9.res                  │ ResidualBlock     │  4.3 K │\n",
       "│<span style=\"color: #7f7f7f; text-decoration-color: #7f7f7f\"> 379 </span>│ net.up.9.res.activation       │ LeakyReLU         │      0 │\n",
       "│<span style=\"color: #7f7f7f; text-decoration-color: #7f7f7f\"> 380 </span>│ net.up.9.res.conv1            │ PeriodicConv2D    │  2.6 K │\n",
       "│<span style=\"color: #7f7f7f; text-decoration-color: #7f7f7f\"> 381 </span>│ net.up.9.res.conv1.padding    │ PeriodicPadding2D │      0 │\n",
       "│<span style=\"color: #7f7f7f; text-decoration-color: #7f7f7f\"> 382 </span>│ net.up.9.res.conv1.conv       │ Conv2d            │  2.6 K │\n",
       "│<span style=\"color: #7f7f7f; text-decoration-color: #7f7f7f\"> 383 </span>│ net.up.9.res.conv2            │ PeriodicConv2D    │  1.3 K │\n",
       "│<span style=\"color: #7f7f7f; text-decoration-color: #7f7f7f\"> 384 </span>│ net.up.9.res.conv2.padding    │ PeriodicPadding2D │      0 │\n",
       "│<span style=\"color: #7f7f7f; text-decoration-color: #7f7f7f\"> 385 </span>│ net.up.9.res.conv2.conv       │ Conv2d            │  1.3 K │\n",
       "│<span style=\"color: #7f7f7f; text-decoration-color: #7f7f7f\"> 386 </span>│ net.up.9.res.shortcut         │ Conv2d            │    300 │\n",
       "│<span style=\"color: #7f7f7f; text-decoration-color: #7f7f7f\"> 387 </span>│ net.up.9.res.norm1            │ BatchNorm2d       │     24 │\n",
       "│<span style=\"color: #7f7f7f; text-decoration-color: #7f7f7f\"> 388 </span>│ net.up.9.res.norm2            │ BatchNorm2d       │     24 │\n",
       "│<span style=\"color: #7f7f7f; text-decoration-color: #7f7f7f\"> 389 </span>│ net.up.9.res.drop             │ Dropout           │      0 │\n",
       "│<span style=\"color: #7f7f7f; text-decoration-color: #7f7f7f\"> 390 </span>│ net.up.9.attn                 │ Identity          │      0 │\n",
       "│<span style=\"color: #7f7f7f; text-decoration-color: #7f7f7f\"> 391 </span>│ net.up.10                     │ UpBlock           │  1.4 K │\n",
       "│<span style=\"color: #7f7f7f; text-decoration-color: #7f7f7f\"> 392 </span>│ net.up.10.res                 │ ResidualBlock     │  1.4 K │\n",
       "│<span style=\"color: #7f7f7f; text-decoration-color: #7f7f7f\"> 393 </span>│ net.up.10.res.activation      │ LeakyReLU         │      0 │\n",
       "│<span style=\"color: #7f7f7f; text-decoration-color: #7f7f7f\"> 394 </span>│ net.up.10.res.conv1           │ PeriodicConv2D    │    978 │\n",
       "│<span style=\"color: #7f7f7f; text-decoration-color: #7f7f7f\"> 395 </span>│ net.up.10.res.conv1.padding   │ PeriodicPadding2D │      0 │\n",
       "│<span style=\"color: #7f7f7f; text-decoration-color: #7f7f7f\"> 396 </span>│ net.up.10.res.conv1.conv      │ Conv2d            │    978 │\n",
       "│<span style=\"color: #7f7f7f; text-decoration-color: #7f7f7f\"> 397 </span>│ net.up.10.res.conv2           │ PeriodicConv2D    │    330 │\n",
       "│<span style=\"color: #7f7f7f; text-decoration-color: #7f7f7f\"> 398 </span>│ net.up.10.res.conv2.padding   │ PeriodicPadding2D │      0 │\n",
       "│<span style=\"color: #7f7f7f; text-decoration-color: #7f7f7f\"> 399 </span>│ net.up.10.res.conv2.conv      │ Conv2d            │    330 │\n",
       "│<span style=\"color: #7f7f7f; text-decoration-color: #7f7f7f\"> 400 </span>│ net.up.10.res.shortcut        │ Conv2d            │    114 │\n",
       "│<span style=\"color: #7f7f7f; text-decoration-color: #7f7f7f\"> 401 </span>│ net.up.10.res.norm1           │ BatchNorm2d       │     12 │\n",
       "│<span style=\"color: #7f7f7f; text-decoration-color: #7f7f7f\"> 402 </span>│ net.up.10.res.norm2           │ BatchNorm2d       │     12 │\n",
       "│<span style=\"color: #7f7f7f; text-decoration-color: #7f7f7f\"> 403 </span>│ net.up.10.res.drop            │ Dropout           │      0 │\n",
       "│<span style=\"color: #7f7f7f; text-decoration-color: #7f7f7f\"> 404 </span>│ net.up.10.attn                │ Identity          │      0 │\n",
       "│<span style=\"color: #7f7f7f; text-decoration-color: #7f7f7f\"> 405 </span>│ net.up.11                     │ Upsample          │    582 │\n",
       "│<span style=\"color: #7f7f7f; text-decoration-color: #7f7f7f\"> 406 </span>│ net.up.11.conv                │ ConvTranspose2d   │    582 │\n",
       "│<span style=\"color: #7f7f7f; text-decoration-color: #7f7f7f\"> 407 </span>│ net.up.12                     │ UpBlock           │  1.1 K │\n",
       "│<span style=\"color: #7f7f7f; text-decoration-color: #7f7f7f\"> 408 </span>│ net.up.12.res                 │ ResidualBlock     │  1.1 K │\n",
       "│<span style=\"color: #7f7f7f; text-decoration-color: #7f7f7f\"> 409 </span>│ net.up.12.res.activation      │ LeakyReLU         │      0 │\n",
       "│<span style=\"color: #7f7f7f; text-decoration-color: #7f7f7f\"> 410 </span>│ net.up.12.res.conv1           │ PeriodicConv2D    │    654 │\n",
       "│<span style=\"color: #7f7f7f; text-decoration-color: #7f7f7f\"> 411 </span>│ net.up.12.res.conv1.padding   │ PeriodicPadding2D │      0 │\n",
       "│<span style=\"color: #7f7f7f; text-decoration-color: #7f7f7f\"> 412 </span>│ net.up.12.res.conv1.conv      │ Conv2d            │    654 │\n",
       "│<span style=\"color: #7f7f7f; text-decoration-color: #7f7f7f\"> 413 </span>│ net.up.12.res.conv2           │ PeriodicConv2D    │    330 │\n",
       "│<span style=\"color: #7f7f7f; text-decoration-color: #7f7f7f\"> 414 </span>│ net.up.12.res.conv2.padding   │ PeriodicPadding2D │      0 │\n",
       "│<span style=\"color: #7f7f7f; text-decoration-color: #7f7f7f\"> 415 </span>│ net.up.12.res.conv2.conv      │ Conv2d            │    330 │\n",
       "│<span style=\"color: #7f7f7f; text-decoration-color: #7f7f7f\"> 416 </span>│ net.up.12.res.shortcut        │ Conv2d            │     78 │\n",
       "│<span style=\"color: #7f7f7f; text-decoration-color: #7f7f7f\"> 417 </span>│ net.up.12.res.norm1           │ BatchNorm2d       │     12 │\n",
       "│<span style=\"color: #7f7f7f; text-decoration-color: #7f7f7f\"> 418 </span>│ net.up.12.res.norm2           │ BatchNorm2d       │     12 │\n",
       "│<span style=\"color: #7f7f7f; text-decoration-color: #7f7f7f\"> 419 </span>│ net.up.12.res.drop            │ Dropout           │      0 │\n",
       "│<span style=\"color: #7f7f7f; text-decoration-color: #7f7f7f\"> 420 </span>│ net.up.12.attn                │ Identity          │      0 │\n",
       "│<span style=\"color: #7f7f7f; text-decoration-color: #7f7f7f\"> 421 </span>│ net.up.13                     │ UpBlock           │  1.1 K │\n",
       "│<span style=\"color: #7f7f7f; text-decoration-color: #7f7f7f\"> 422 </span>│ net.up.13.res                 │ ResidualBlock     │  1.1 K │\n",
       "│<span style=\"color: #7f7f7f; text-decoration-color: #7f7f7f\"> 423 </span>│ net.up.13.res.activation      │ LeakyReLU         │      0 │\n",
       "│<span style=\"color: #7f7f7f; text-decoration-color: #7f7f7f\"> 424 </span>│ net.up.13.res.conv1           │ PeriodicConv2D    │    654 │\n",
       "│<span style=\"color: #7f7f7f; text-decoration-color: #7f7f7f\"> 425 </span>│ net.up.13.res.conv1.padding   │ PeriodicPadding2D │      0 │\n",
       "│<span style=\"color: #7f7f7f; text-decoration-color: #7f7f7f\"> 426 </span>│ net.up.13.res.conv1.conv      │ Conv2d            │    654 │\n",
       "│<span style=\"color: #7f7f7f; text-decoration-color: #7f7f7f\"> 427 </span>│ net.up.13.res.conv2           │ PeriodicConv2D    │    330 │\n",
       "│<span style=\"color: #7f7f7f; text-decoration-color: #7f7f7f\"> 428 </span>│ net.up.13.res.conv2.padding   │ PeriodicPadding2D │      0 │\n",
       "│<span style=\"color: #7f7f7f; text-decoration-color: #7f7f7f\"> 429 </span>│ net.up.13.res.conv2.conv      │ Conv2d            │    330 │\n",
       "│<span style=\"color: #7f7f7f; text-decoration-color: #7f7f7f\"> 430 </span>│ net.up.13.res.shortcut        │ Conv2d            │     78 │\n",
       "│<span style=\"color: #7f7f7f; text-decoration-color: #7f7f7f\"> 431 </span>│ net.up.13.res.norm1           │ BatchNorm2d       │     12 │\n",
       "│<span style=\"color: #7f7f7f; text-decoration-color: #7f7f7f\"> 432 </span>│ net.up.13.res.norm2           │ BatchNorm2d       │     12 │\n",
       "│<span style=\"color: #7f7f7f; text-decoration-color: #7f7f7f\"> 433 </span>│ net.up.13.res.drop            │ Dropout           │      0 │\n",
       "│<span style=\"color: #7f7f7f; text-decoration-color: #7f7f7f\"> 434 </span>│ net.up.13.attn                │ Identity          │      0 │\n",
       "│<span style=\"color: #7f7f7f; text-decoration-color: #7f7f7f\"> 435 </span>│ net.up.14                     │ UpBlock           │  1.1 K │\n",
       "│<span style=\"color: #7f7f7f; text-decoration-color: #7f7f7f\"> 436 </span>│ net.up.14.res                 │ ResidualBlock     │  1.1 K │\n",
       "│<span style=\"color: #7f7f7f; text-decoration-color: #7f7f7f\"> 437 </span>│ net.up.14.res.activation      │ LeakyReLU         │      0 │\n",
       "│<span style=\"color: #7f7f7f; text-decoration-color: #7f7f7f\"> 438 </span>│ net.up.14.res.conv1           │ PeriodicConv2D    │    654 │\n",
       "│<span style=\"color: #7f7f7f; text-decoration-color: #7f7f7f\"> 439 </span>│ net.up.14.res.conv1.padding   │ PeriodicPadding2D │      0 │\n",
       "│<span style=\"color: #7f7f7f; text-decoration-color: #7f7f7f\"> 440 </span>│ net.up.14.res.conv1.conv      │ Conv2d            │    654 │\n",
       "│<span style=\"color: #7f7f7f; text-decoration-color: #7f7f7f\"> 441 </span>│ net.up.14.res.conv2           │ PeriodicConv2D    │    330 │\n",
       "│<span style=\"color: #7f7f7f; text-decoration-color: #7f7f7f\"> 442 </span>│ net.up.14.res.conv2.padding   │ PeriodicPadding2D │      0 │\n",
       "│<span style=\"color: #7f7f7f; text-decoration-color: #7f7f7f\"> 443 </span>│ net.up.14.res.conv2.conv      │ Conv2d            │    330 │\n",
       "│<span style=\"color: #7f7f7f; text-decoration-color: #7f7f7f\"> 444 </span>│ net.up.14.res.shortcut        │ Conv2d            │     78 │\n",
       "│<span style=\"color: #7f7f7f; text-decoration-color: #7f7f7f\"> 445 </span>│ net.up.14.res.norm1           │ BatchNorm2d       │     12 │\n",
       "│<span style=\"color: #7f7f7f; text-decoration-color: #7f7f7f\"> 446 </span>│ net.up.14.res.norm2           │ BatchNorm2d       │     12 │\n",
       "│<span style=\"color: #7f7f7f; text-decoration-color: #7f7f7f\"> 447 </span>│ net.up.14.res.drop            │ Dropout           │      0 │\n",
       "│<span style=\"color: #7f7f7f; text-decoration-color: #7f7f7f\"> 448 </span>│ net.up.14.attn                │ Identity          │      0 │\n",
       "│<span style=\"color: #7f7f7f; text-decoration-color: #7f7f7f\"> 449 </span>│ net.up.15                     │ UpBlock           │  1.1 K │\n",
       "│<span style=\"color: #7f7f7f; text-decoration-color: #7f7f7f\"> 450 </span>│ net.up.15.res                 │ ResidualBlock     │  1.1 K │\n",
       "│<span style=\"color: #7f7f7f; text-decoration-color: #7f7f7f\"> 451 </span>│ net.up.15.res.activation      │ LeakyReLU         │      0 │\n",
       "│<span style=\"color: #7f7f7f; text-decoration-color: #7f7f7f\"> 452 </span>│ net.up.15.res.conv1           │ PeriodicConv2D    │    654 │\n",
       "│<span style=\"color: #7f7f7f; text-decoration-color: #7f7f7f\"> 453 </span>│ net.up.15.res.conv1.padding   │ PeriodicPadding2D │      0 │\n",
       "│<span style=\"color: #7f7f7f; text-decoration-color: #7f7f7f\"> 454 </span>│ net.up.15.res.conv1.conv      │ Conv2d            │    654 │\n",
       "│<span style=\"color: #7f7f7f; text-decoration-color: #7f7f7f\"> 455 </span>│ net.up.15.res.conv2           │ PeriodicConv2D    │    330 │\n",
       "│<span style=\"color: #7f7f7f; text-decoration-color: #7f7f7f\"> 456 </span>│ net.up.15.res.conv2.padding   │ PeriodicPadding2D │      0 │\n",
       "│<span style=\"color: #7f7f7f; text-decoration-color: #7f7f7f\"> 457 </span>│ net.up.15.res.conv2.conv      │ Conv2d            │    330 │\n",
       "│<span style=\"color: #7f7f7f; text-decoration-color: #7f7f7f\"> 458 </span>│ net.up.15.res.shortcut        │ Conv2d            │     78 │\n",
       "│<span style=\"color: #7f7f7f; text-decoration-color: #7f7f7f\"> 459 </span>│ net.up.15.res.norm1           │ BatchNorm2d       │     12 │\n",
       "│<span style=\"color: #7f7f7f; text-decoration-color: #7f7f7f\"> 460 </span>│ net.up.15.res.norm2           │ BatchNorm2d       │     12 │\n",
       "│<span style=\"color: #7f7f7f; text-decoration-color: #7f7f7f\"> 461 </span>│ net.up.15.res.drop            │ Dropout           │      0 │\n",
       "│<span style=\"color: #7f7f7f; text-decoration-color: #7f7f7f\"> 462 </span>│ net.up.15.attn                │ Identity          │      0 │\n",
       "│<span style=\"color: #7f7f7f; text-decoration-color: #7f7f7f\"> 463 </span>│ net.up.16                     │ UpBlock           │    372 │\n",
       "│<span style=\"color: #7f7f7f; text-decoration-color: #7f7f7f\"> 464 </span>│ net.up.16.res                 │ ResidualBlock     │    372 │\n",
       "│<span style=\"color: #7f7f7f; text-decoration-color: #7f7f7f\"> 465 </span>│ net.up.16.res.activation      │ LeakyReLU         │      0 │\n",
       "│<span style=\"color: #7f7f7f; text-decoration-color: #7f7f7f\"> 466 </span>│ net.up.16.res.conv1           │ PeriodicConv2D    │    246 │\n",
       "│<span style=\"color: #7f7f7f; text-decoration-color: #7f7f7f\"> 467 </span>│ net.up.16.res.conv1.padding   │ PeriodicPadding2D │      0 │\n",
       "│<span style=\"color: #7f7f7f; text-decoration-color: #7f7f7f\"> 468 </span>│ net.up.16.res.conv1.conv      │ Conv2d            │    246 │\n",
       "│<span style=\"color: #7f7f7f; text-decoration-color: #7f7f7f\"> 469 </span>│ net.up.16.res.conv2           │ PeriodicConv2D    │     84 │\n",
       "│<span style=\"color: #7f7f7f; text-decoration-color: #7f7f7f\"> 470 </span>│ net.up.16.res.conv2.padding   │ PeriodicPadding2D │      0 │\n",
       "│<span style=\"color: #7f7f7f; text-decoration-color: #7f7f7f\"> 471 </span>│ net.up.16.res.conv2.conv      │ Conv2d            │     84 │\n",
       "│<span style=\"color: #7f7f7f; text-decoration-color: #7f7f7f\"> 472 </span>│ net.up.16.res.shortcut        │ Conv2d            │     30 │\n",
       "│<span style=\"color: #7f7f7f; text-decoration-color: #7f7f7f\"> 473 </span>│ net.up.16.res.norm1           │ BatchNorm2d       │      6 │\n",
       "│<span style=\"color: #7f7f7f; text-decoration-color: #7f7f7f\"> 474 </span>│ net.up.16.res.norm2           │ BatchNorm2d       │      6 │\n",
       "│<span style=\"color: #7f7f7f; text-decoration-color: #7f7f7f\"> 475 </span>│ net.up.16.res.drop            │ Dropout           │      0 │\n",
       "│<span style=\"color: #7f7f7f; text-decoration-color: #7f7f7f\"> 476 </span>│ net.up.16.attn                │ Identity          │      0 │\n",
       "│<span style=\"color: #7f7f7f; text-decoration-color: #7f7f7f\"> 477 </span>│ net.up.17                     │ Upsample          │    147 │\n",
       "│<span style=\"color: #7f7f7f; text-decoration-color: #7f7f7f\"> 478 </span>│ net.up.17.conv                │ ConvTranspose2d   │    147 │\n",
       "│<span style=\"color: #7f7f7f; text-decoration-color: #7f7f7f\"> 479 </span>│ net.up.18                     │ UpBlock           │    282 │\n",
       "│<span style=\"color: #7f7f7f; text-decoration-color: #7f7f7f\"> 480 </span>│ net.up.18.res                 │ ResidualBlock     │    282 │\n",
       "│<span style=\"color: #7f7f7f; text-decoration-color: #7f7f7f\"> 481 </span>│ net.up.18.res.activation      │ LeakyReLU         │      0 │\n",
       "│<span style=\"color: #7f7f7f; text-decoration-color: #7f7f7f\"> 482 </span>│ net.up.18.res.conv1           │ PeriodicConv2D    │    165 │\n",
       "│<span style=\"color: #7f7f7f; text-decoration-color: #7f7f7f\"> 483 </span>│ net.up.18.res.conv1.padding   │ PeriodicPadding2D │      0 │\n",
       "│<span style=\"color: #7f7f7f; text-decoration-color: #7f7f7f\"> 484 </span>│ net.up.18.res.conv1.conv      │ Conv2d            │    165 │\n",
       "│<span style=\"color: #7f7f7f; text-decoration-color: #7f7f7f\"> 485 </span>│ net.up.18.res.conv2           │ PeriodicConv2D    │     84 │\n",
       "│<span style=\"color: #7f7f7f; text-decoration-color: #7f7f7f\"> 486 </span>│ net.up.18.res.conv2.padding   │ PeriodicPadding2D │      0 │\n",
       "│<span style=\"color: #7f7f7f; text-decoration-color: #7f7f7f\"> 487 </span>│ net.up.18.res.conv2.conv      │ Conv2d            │     84 │\n",
       "│<span style=\"color: #7f7f7f; text-decoration-color: #7f7f7f\"> 488 </span>│ net.up.18.res.shortcut        │ Conv2d            │     21 │\n",
       "│<span style=\"color: #7f7f7f; text-decoration-color: #7f7f7f\"> 489 </span>│ net.up.18.res.norm1           │ BatchNorm2d       │      6 │\n",
       "│<span style=\"color: #7f7f7f; text-decoration-color: #7f7f7f\"> 490 </span>│ net.up.18.res.norm2           │ BatchNorm2d       │      6 │\n",
       "│<span style=\"color: #7f7f7f; text-decoration-color: #7f7f7f\"> 491 </span>│ net.up.18.res.drop            │ Dropout           │      0 │\n",
       "│<span style=\"color: #7f7f7f; text-decoration-color: #7f7f7f\"> 492 </span>│ net.up.18.attn                │ Identity          │      0 │\n",
       "│<span style=\"color: #7f7f7f; text-decoration-color: #7f7f7f\"> 493 </span>│ net.up.19                     │ UpBlock           │    282 │\n",
       "│<span style=\"color: #7f7f7f; text-decoration-color: #7f7f7f\"> 494 </span>│ net.up.19.res                 │ ResidualBlock     │    282 │\n",
       "│<span style=\"color: #7f7f7f; text-decoration-color: #7f7f7f\"> 495 </span>│ net.up.19.res.activation      │ LeakyReLU         │      0 │\n",
       "│<span style=\"color: #7f7f7f; text-decoration-color: #7f7f7f\"> 496 </span>│ net.up.19.res.conv1           │ PeriodicConv2D    │    165 │\n",
       "│<span style=\"color: #7f7f7f; text-decoration-color: #7f7f7f\"> 497 </span>│ net.up.19.res.conv1.padding   │ PeriodicPadding2D │      0 │\n",
       "│<span style=\"color: #7f7f7f; text-decoration-color: #7f7f7f\"> 498 </span>│ net.up.19.res.conv1.conv      │ Conv2d            │    165 │\n",
       "│<span style=\"color: #7f7f7f; text-decoration-color: #7f7f7f\"> 499 </span>│ net.up.19.res.conv2           │ PeriodicConv2D    │     84 │\n",
       "│<span style=\"color: #7f7f7f; text-decoration-color: #7f7f7f\"> 500 </span>│ net.up.19.res.conv2.padding   │ PeriodicPadding2D │      0 │\n",
       "│<span style=\"color: #7f7f7f; text-decoration-color: #7f7f7f\"> 501 </span>│ net.up.19.res.conv2.conv      │ Conv2d            │     84 │\n",
       "│<span style=\"color: #7f7f7f; text-decoration-color: #7f7f7f\"> 502 </span>│ net.up.19.res.shortcut        │ Conv2d            │     21 │\n",
       "│<span style=\"color: #7f7f7f; text-decoration-color: #7f7f7f\"> 503 </span>│ net.up.19.res.norm1           │ BatchNorm2d       │      6 │\n",
       "│<span style=\"color: #7f7f7f; text-decoration-color: #7f7f7f\"> 504 </span>│ net.up.19.res.norm2           │ BatchNorm2d       │      6 │\n",
       "│<span style=\"color: #7f7f7f; text-decoration-color: #7f7f7f\"> 505 </span>│ net.up.19.res.drop            │ Dropout           │      0 │\n",
       "│<span style=\"color: #7f7f7f; text-decoration-color: #7f7f7f\"> 506 </span>│ net.up.19.attn                │ Identity          │      0 │\n",
       "│<span style=\"color: #7f7f7f; text-decoration-color: #7f7f7f\"> 507 </span>│ net.up.20                     │ UpBlock           │    282 │\n",
       "│<span style=\"color: #7f7f7f; text-decoration-color: #7f7f7f\"> 508 </span>│ net.up.20.res                 │ ResidualBlock     │    282 │\n",
       "│<span style=\"color: #7f7f7f; text-decoration-color: #7f7f7f\"> 509 </span>│ net.up.20.res.activation      │ LeakyReLU         │      0 │\n",
       "│<span style=\"color: #7f7f7f; text-decoration-color: #7f7f7f\"> 510 </span>│ net.up.20.res.conv1           │ PeriodicConv2D    │    165 │\n",
       "│<span style=\"color: #7f7f7f; text-decoration-color: #7f7f7f\"> 511 </span>│ net.up.20.res.conv1.padding   │ PeriodicPadding2D │      0 │\n",
       "│<span style=\"color: #7f7f7f; text-decoration-color: #7f7f7f\"> 512 </span>│ net.up.20.res.conv1.conv      │ Conv2d            │    165 │\n",
       "│<span style=\"color: #7f7f7f; text-decoration-color: #7f7f7f\"> 513 </span>│ net.up.20.res.conv2           │ PeriodicConv2D    │     84 │\n",
       "│<span style=\"color: #7f7f7f; text-decoration-color: #7f7f7f\"> 514 </span>│ net.up.20.res.conv2.padding   │ PeriodicPadding2D │      0 │\n",
       "│<span style=\"color: #7f7f7f; text-decoration-color: #7f7f7f\"> 515 </span>│ net.up.20.res.conv2.conv      │ Conv2d            │     84 │\n",
       "│<span style=\"color: #7f7f7f; text-decoration-color: #7f7f7f\"> 516 </span>│ net.up.20.res.shortcut        │ Conv2d            │     21 │\n",
       "│<span style=\"color: #7f7f7f; text-decoration-color: #7f7f7f\"> 517 </span>│ net.up.20.res.norm1           │ BatchNorm2d       │      6 │\n",
       "│<span style=\"color: #7f7f7f; text-decoration-color: #7f7f7f\"> 518 </span>│ net.up.20.res.norm2           │ BatchNorm2d       │      6 │\n",
       "│<span style=\"color: #7f7f7f; text-decoration-color: #7f7f7f\"> 519 </span>│ net.up.20.res.drop            │ Dropout           │      0 │\n",
       "│<span style=\"color: #7f7f7f; text-decoration-color: #7f7f7f\"> 520 </span>│ net.up.20.attn                │ Identity          │      0 │\n",
       "│<span style=\"color: #7f7f7f; text-decoration-color: #7f7f7f\"> 521 </span>│ net.up.21                     │ UpBlock           │    282 │\n",
       "│<span style=\"color: #7f7f7f; text-decoration-color: #7f7f7f\"> 522 </span>│ net.up.21.res                 │ ResidualBlock     │    282 │\n",
       "│<span style=\"color: #7f7f7f; text-decoration-color: #7f7f7f\"> 523 </span>│ net.up.21.res.activation      │ LeakyReLU         │      0 │\n",
       "│<span style=\"color: #7f7f7f; text-decoration-color: #7f7f7f\"> 524 </span>│ net.up.21.res.conv1           │ PeriodicConv2D    │    165 │\n",
       "│<span style=\"color: #7f7f7f; text-decoration-color: #7f7f7f\"> 525 </span>│ net.up.21.res.conv1.padding   │ PeriodicPadding2D │      0 │\n",
       "│<span style=\"color: #7f7f7f; text-decoration-color: #7f7f7f\"> 526 </span>│ net.up.21.res.conv1.conv      │ Conv2d            │    165 │\n",
       "│<span style=\"color: #7f7f7f; text-decoration-color: #7f7f7f\"> 527 </span>│ net.up.21.res.conv2           │ PeriodicConv2D    │     84 │\n",
       "│<span style=\"color: #7f7f7f; text-decoration-color: #7f7f7f\"> 528 </span>│ net.up.21.res.conv2.padding   │ PeriodicPadding2D │      0 │\n",
       "│<span style=\"color: #7f7f7f; text-decoration-color: #7f7f7f\"> 529 </span>│ net.up.21.res.conv2.conv      │ Conv2d            │     84 │\n",
       "│<span style=\"color: #7f7f7f; text-decoration-color: #7f7f7f\"> 530 </span>│ net.up.21.res.shortcut        │ Conv2d            │     21 │\n",
       "│<span style=\"color: #7f7f7f; text-decoration-color: #7f7f7f\"> 531 </span>│ net.up.21.res.norm1           │ BatchNorm2d       │      6 │\n",
       "│<span style=\"color: #7f7f7f; text-decoration-color: #7f7f7f\"> 532 </span>│ net.up.21.res.norm2           │ BatchNorm2d       │      6 │\n",
       "│<span style=\"color: #7f7f7f; text-decoration-color: #7f7f7f\"> 533 </span>│ net.up.21.res.drop            │ Dropout           │      0 │\n",
       "│<span style=\"color: #7f7f7f; text-decoration-color: #7f7f7f\"> 534 </span>│ net.up.21.attn                │ Identity          │      0 │\n",
       "│<span style=\"color: #7f7f7f; text-decoration-color: #7f7f7f\"> 535 </span>│ net.up.22                     │ UpBlock           │    282 │\n",
       "│<span style=\"color: #7f7f7f; text-decoration-color: #7f7f7f\"> 536 </span>│ net.up.22.res                 │ ResidualBlock     │    282 │\n",
       "│<span style=\"color: #7f7f7f; text-decoration-color: #7f7f7f\"> 537 </span>│ net.up.22.res.activation      │ LeakyReLU         │      0 │\n",
       "│<span style=\"color: #7f7f7f; text-decoration-color: #7f7f7f\"> 538 </span>│ net.up.22.res.conv1           │ PeriodicConv2D    │    165 │\n",
       "│<span style=\"color: #7f7f7f; text-decoration-color: #7f7f7f\"> 539 </span>│ net.up.22.res.conv1.padding   │ PeriodicPadding2D │      0 │\n",
       "│<span style=\"color: #7f7f7f; text-decoration-color: #7f7f7f\"> 540 </span>│ net.up.22.res.conv1.conv      │ Conv2d            │    165 │\n",
       "│<span style=\"color: #7f7f7f; text-decoration-color: #7f7f7f\"> 541 </span>│ net.up.22.res.conv2           │ PeriodicConv2D    │     84 │\n",
       "│<span style=\"color: #7f7f7f; text-decoration-color: #7f7f7f\"> 542 </span>│ net.up.22.res.conv2.padding   │ PeriodicPadding2D │      0 │\n",
       "│<span style=\"color: #7f7f7f; text-decoration-color: #7f7f7f\"> 543 </span>│ net.up.22.res.conv2.conv      │ Conv2d            │     84 │\n",
       "│<span style=\"color: #7f7f7f; text-decoration-color: #7f7f7f\"> 544 </span>│ net.up.22.res.shortcut        │ Conv2d            │     21 │\n",
       "│<span style=\"color: #7f7f7f; text-decoration-color: #7f7f7f\"> 545 </span>│ net.up.22.res.norm1           │ BatchNorm2d       │      6 │\n",
       "│<span style=\"color: #7f7f7f; text-decoration-color: #7f7f7f\"> 546 </span>│ net.up.22.res.norm2           │ BatchNorm2d       │      6 │\n",
       "│<span style=\"color: #7f7f7f; text-decoration-color: #7f7f7f\"> 547 </span>│ net.up.22.res.drop            │ Dropout           │      0 │\n",
       "│<span style=\"color: #7f7f7f; text-decoration-color: #7f7f7f\"> 548 </span>│ net.up.22.attn                │ Identity          │      0 │\n",
       "│<span style=\"color: #7f7f7f; text-decoration-color: #7f7f7f\"> 549 </span>│ net.upsamplers                │ ModuleList        │      0 │\n",
       "│<span style=\"color: #7f7f7f; text-decoration-color: #7f7f7f\"> 550 </span>│ net.norm                      │ BatchNorm2d       │      6 │\n",
       "│<span style=\"color: #7f7f7f; text-decoration-color: #7f7f7f\"> 551 </span>│ net.final                     │ PeriodicConv2D    │    148 │\n",
       "│<span style=\"color: #7f7f7f; text-decoration-color: #7f7f7f\"> 552 </span>│ net.final.padding             │ PeriodicPadding2D │      0 │\n",
       "│<span style=\"color: #7f7f7f; text-decoration-color: #7f7f7f\"> 553 </span>│ net.final.conv                │ Conv2d            │    148 │\n",
       "│<span style=\"color: #7f7f7f; text-decoration-color: #7f7f7f\"> 554 </span>│ denormalization               │ Normalize         │      0 │\n",
       "└─────┴───────────────────────────────┴───────────────────┴────────┘\n",
       "</pre>\n"
      ],
      "text/plain": [
       "┏━━━━━┳━━━━━━━━━━━━━━━━━━━━━━━━━━━━━━━┳━━━━━━━━━━━━━━━━━━━┳━━━━━━━━┓\n",
       "┃\u001b[1;35m \u001b[0m\u001b[1;35m   \u001b[0m\u001b[1;35m \u001b[0m┃\u001b[1;35m \u001b[0m\u001b[1;35mName                         \u001b[0m\u001b[1;35m \u001b[0m┃\u001b[1;35m \u001b[0m\u001b[1;35mType             \u001b[0m\u001b[1;35m \u001b[0m┃\u001b[1;35m \u001b[0m\u001b[1;35mParams\u001b[0m\u001b[1;35m \u001b[0m┃\n",
       "┡━━━━━╇━━━━━━━━━━━━━━━━━━━━━━━━━━━━━━━╇━━━━━━━━━━━━━━━━━━━╇━━━━━━━━┩\n",
       "│\u001b[2m \u001b[0m\u001b[2m0  \u001b[0m\u001b[2m \u001b[0m│ net                           │ Unet              │  555 K │\n",
       "│\u001b[2m \u001b[0m\u001b[2m1  \u001b[0m\u001b[2m \u001b[0m│ net.activation                │ LeakyReLU         │      0 │\n",
       "│\u001b[2m \u001b[0m\u001b[2m2  \u001b[0m\u001b[2m \u001b[0m│ net.image_proj                │ PeriodicConv2D    │    150 │\n",
       "│\u001b[2m \u001b[0m\u001b[2m3  \u001b[0m\u001b[2m \u001b[0m│ net.image_proj.padding        │ PeriodicPadding2D │      0 │\n",
       "│\u001b[2m \u001b[0m\u001b[2m4  \u001b[0m\u001b[2m \u001b[0m│ net.image_proj.conv           │ Conv2d            │    150 │\n",
       "│\u001b[2m \u001b[0m\u001b[2m5  \u001b[0m\u001b[2m \u001b[0m│ net.down                      │ ModuleList        │  167 K │\n",
       "│\u001b[2m \u001b[0m\u001b[2m6  \u001b[0m\u001b[2m \u001b[0m│ net.down.0                    │ DownBlock         │    180 │\n",
       "│\u001b[2m \u001b[0m\u001b[2m7  \u001b[0m\u001b[2m \u001b[0m│ net.down.0.res                │ ResidualBlock     │    180 │\n",
       "│\u001b[2m \u001b[0m\u001b[2m8  \u001b[0m\u001b[2m \u001b[0m│ net.down.0.res.activation     │ LeakyReLU         │      0 │\n",
       "│\u001b[2m \u001b[0m\u001b[2m9  \u001b[0m\u001b[2m \u001b[0m│ net.down.0.res.conv1          │ PeriodicConv2D    │     84 │\n",
       "│\u001b[2m \u001b[0m\u001b[2m10 \u001b[0m\u001b[2m \u001b[0m│ net.down.0.res.conv1.padding  │ PeriodicPadding2D │      0 │\n",
       "│\u001b[2m \u001b[0m\u001b[2m11 \u001b[0m\u001b[2m \u001b[0m│ net.down.0.res.conv1.conv     │ Conv2d            │     84 │\n",
       "│\u001b[2m \u001b[0m\u001b[2m12 \u001b[0m\u001b[2m \u001b[0m│ net.down.0.res.conv2          │ PeriodicConv2D    │     84 │\n",
       "│\u001b[2m \u001b[0m\u001b[2m13 \u001b[0m\u001b[2m \u001b[0m│ net.down.0.res.conv2.padding  │ PeriodicPadding2D │      0 │\n",
       "│\u001b[2m \u001b[0m\u001b[2m14 \u001b[0m\u001b[2m \u001b[0m│ net.down.0.res.conv2.conv     │ Conv2d            │     84 │\n",
       "│\u001b[2m \u001b[0m\u001b[2m15 \u001b[0m\u001b[2m \u001b[0m│ net.down.0.res.shortcut       │ Identity          │      0 │\n",
       "│\u001b[2m \u001b[0m\u001b[2m16 \u001b[0m\u001b[2m \u001b[0m│ net.down.0.res.norm1          │ BatchNorm2d       │      6 │\n",
       "│\u001b[2m \u001b[0m\u001b[2m17 \u001b[0m\u001b[2m \u001b[0m│ net.down.0.res.norm2          │ BatchNorm2d       │      6 │\n",
       "│\u001b[2m \u001b[0m\u001b[2m18 \u001b[0m\u001b[2m \u001b[0m│ net.down.0.res.drop           │ Dropout           │      0 │\n",
       "│\u001b[2m \u001b[0m\u001b[2m19 \u001b[0m\u001b[2m \u001b[0m│ net.down.0.attn               │ Identity          │      0 │\n",
       "│\u001b[2m \u001b[0m\u001b[2m20 \u001b[0m\u001b[2m \u001b[0m│ net.down.1                    │ DownBlock         │    180 │\n",
       "│\u001b[2m \u001b[0m\u001b[2m21 \u001b[0m\u001b[2m \u001b[0m│ net.down.1.res                │ ResidualBlock     │    180 │\n",
       "│\u001b[2m \u001b[0m\u001b[2m22 \u001b[0m\u001b[2m \u001b[0m│ net.down.1.res.activation     │ LeakyReLU         │      0 │\n",
       "│\u001b[2m \u001b[0m\u001b[2m23 \u001b[0m\u001b[2m \u001b[0m│ net.down.1.res.conv1          │ PeriodicConv2D    │     84 │\n",
       "│\u001b[2m \u001b[0m\u001b[2m24 \u001b[0m\u001b[2m \u001b[0m│ net.down.1.res.conv1.padding  │ PeriodicPadding2D │      0 │\n",
       "│\u001b[2m \u001b[0m\u001b[2m25 \u001b[0m\u001b[2m \u001b[0m│ net.down.1.res.conv1.conv     │ Conv2d            │     84 │\n",
       "│\u001b[2m \u001b[0m\u001b[2m26 \u001b[0m\u001b[2m \u001b[0m│ net.down.1.res.conv2          │ PeriodicConv2D    │     84 │\n",
       "│\u001b[2m \u001b[0m\u001b[2m27 \u001b[0m\u001b[2m \u001b[0m│ net.down.1.res.conv2.padding  │ PeriodicPadding2D │      0 │\n",
       "│\u001b[2m \u001b[0m\u001b[2m28 \u001b[0m\u001b[2m \u001b[0m│ net.down.1.res.conv2.conv     │ Conv2d            │     84 │\n",
       "│\u001b[2m \u001b[0m\u001b[2m29 \u001b[0m\u001b[2m \u001b[0m│ net.down.1.res.shortcut       │ Identity          │      0 │\n",
       "│\u001b[2m \u001b[0m\u001b[2m30 \u001b[0m\u001b[2m \u001b[0m│ net.down.1.res.norm1          │ BatchNorm2d       │      6 │\n",
       "│\u001b[2m \u001b[0m\u001b[2m31 \u001b[0m\u001b[2m \u001b[0m│ net.down.1.res.norm2          │ BatchNorm2d       │      6 │\n",
       "│\u001b[2m \u001b[0m\u001b[2m32 \u001b[0m\u001b[2m \u001b[0m│ net.down.1.res.drop           │ Dropout           │      0 │\n",
       "│\u001b[2m \u001b[0m\u001b[2m33 \u001b[0m\u001b[2m \u001b[0m│ net.down.1.attn               │ Identity          │      0 │\n",
       "│\u001b[2m \u001b[0m\u001b[2m34 \u001b[0m\u001b[2m \u001b[0m│ net.down.2                    │ DownBlock         │    180 │\n",
       "│\u001b[2m \u001b[0m\u001b[2m35 \u001b[0m\u001b[2m \u001b[0m│ net.down.2.res                │ ResidualBlock     │    180 │\n",
       "│\u001b[2m \u001b[0m\u001b[2m36 \u001b[0m\u001b[2m \u001b[0m│ net.down.2.res.activation     │ LeakyReLU         │      0 │\n",
       "│\u001b[2m \u001b[0m\u001b[2m37 \u001b[0m\u001b[2m \u001b[0m│ net.down.2.res.conv1          │ PeriodicConv2D    │     84 │\n",
       "│\u001b[2m \u001b[0m\u001b[2m38 \u001b[0m\u001b[2m \u001b[0m│ net.down.2.res.conv1.padding  │ PeriodicPadding2D │      0 │\n",
       "│\u001b[2m \u001b[0m\u001b[2m39 \u001b[0m\u001b[2m \u001b[0m│ net.down.2.res.conv1.conv     │ Conv2d            │     84 │\n",
       "│\u001b[2m \u001b[0m\u001b[2m40 \u001b[0m\u001b[2m \u001b[0m│ net.down.2.res.conv2          │ PeriodicConv2D    │     84 │\n",
       "│\u001b[2m \u001b[0m\u001b[2m41 \u001b[0m\u001b[2m \u001b[0m│ net.down.2.res.conv2.padding  │ PeriodicPadding2D │      0 │\n",
       "│\u001b[2m \u001b[0m\u001b[2m42 \u001b[0m\u001b[2m \u001b[0m│ net.down.2.res.conv2.conv     │ Conv2d            │     84 │\n",
       "│\u001b[2m \u001b[0m\u001b[2m43 \u001b[0m\u001b[2m \u001b[0m│ net.down.2.res.shortcut       │ Identity          │      0 │\n",
       "│\u001b[2m \u001b[0m\u001b[2m44 \u001b[0m\u001b[2m \u001b[0m│ net.down.2.res.norm1          │ BatchNorm2d       │      6 │\n",
       "│\u001b[2m \u001b[0m\u001b[2m45 \u001b[0m\u001b[2m \u001b[0m│ net.down.2.res.norm2          │ BatchNorm2d       │      6 │\n",
       "│\u001b[2m \u001b[0m\u001b[2m46 \u001b[0m\u001b[2m \u001b[0m│ net.down.2.res.drop           │ Dropout           │      0 │\n",
       "│\u001b[2m \u001b[0m\u001b[2m47 \u001b[0m\u001b[2m \u001b[0m│ net.down.2.attn               │ Identity          │      0 │\n",
       "│\u001b[2m \u001b[0m\u001b[2m48 \u001b[0m\u001b[2m \u001b[0m│ net.down.3                    │ DownBlock         │    180 │\n",
       "│\u001b[2m \u001b[0m\u001b[2m49 \u001b[0m\u001b[2m \u001b[0m│ net.down.3.res                │ ResidualBlock     │    180 │\n",
       "│\u001b[2m \u001b[0m\u001b[2m50 \u001b[0m\u001b[2m \u001b[0m│ net.down.3.res.activation     │ LeakyReLU         │      0 │\n",
       "│\u001b[2m \u001b[0m\u001b[2m51 \u001b[0m\u001b[2m \u001b[0m│ net.down.3.res.conv1          │ PeriodicConv2D    │     84 │\n",
       "│\u001b[2m \u001b[0m\u001b[2m52 \u001b[0m\u001b[2m \u001b[0m│ net.down.3.res.conv1.padding  │ PeriodicPadding2D │      0 │\n",
       "│\u001b[2m \u001b[0m\u001b[2m53 \u001b[0m\u001b[2m \u001b[0m│ net.down.3.res.conv1.conv     │ Conv2d            │     84 │\n",
       "│\u001b[2m \u001b[0m\u001b[2m54 \u001b[0m\u001b[2m \u001b[0m│ net.down.3.res.conv2          │ PeriodicConv2D    │     84 │\n",
       "│\u001b[2m \u001b[0m\u001b[2m55 \u001b[0m\u001b[2m \u001b[0m│ net.down.3.res.conv2.padding  │ PeriodicPadding2D │      0 │\n",
       "│\u001b[2m \u001b[0m\u001b[2m56 \u001b[0m\u001b[2m \u001b[0m│ net.down.3.res.conv2.conv     │ Conv2d            │     84 │\n",
       "│\u001b[2m \u001b[0m\u001b[2m57 \u001b[0m\u001b[2m \u001b[0m│ net.down.3.res.shortcut       │ Identity          │      0 │\n",
       "│\u001b[2m \u001b[0m\u001b[2m58 \u001b[0m\u001b[2m \u001b[0m│ net.down.3.res.norm1          │ BatchNorm2d       │      6 │\n",
       "│\u001b[2m \u001b[0m\u001b[2m59 \u001b[0m\u001b[2m \u001b[0m│ net.down.3.res.norm2          │ BatchNorm2d       │      6 │\n",
       "│\u001b[2m \u001b[0m\u001b[2m60 \u001b[0m\u001b[2m \u001b[0m│ net.down.3.res.drop           │ Dropout           │      0 │\n",
       "│\u001b[2m \u001b[0m\u001b[2m61 \u001b[0m\u001b[2m \u001b[0m│ net.down.3.attn               │ Identity          │      0 │\n",
       "│\u001b[2m \u001b[0m\u001b[2m62 \u001b[0m\u001b[2m \u001b[0m│ net.down.4                    │ Downsample        │     84 │\n",
       "│\u001b[2m \u001b[0m\u001b[2m63 \u001b[0m\u001b[2m \u001b[0m│ net.down.4.conv               │ Conv2d            │     84 │\n",
       "│\u001b[2m \u001b[0m\u001b[2m64 \u001b[0m\u001b[2m \u001b[0m│ net.down.5                    │ DownBlock         │    546 │\n",
       "│\u001b[2m \u001b[0m\u001b[2m65 \u001b[0m\u001b[2m \u001b[0m│ net.down.5.res                │ ResidualBlock     │    546 │\n",
       "│\u001b[2m \u001b[0m\u001b[2m66 \u001b[0m\u001b[2m \u001b[0m│ net.down.5.res.activation     │ LeakyReLU         │      0 │\n",
       "│\u001b[2m \u001b[0m\u001b[2m67 \u001b[0m\u001b[2m \u001b[0m│ net.down.5.res.conv1          │ PeriodicConv2D    │    168 │\n",
       "│\u001b[2m \u001b[0m\u001b[2m68 \u001b[0m\u001b[2m \u001b[0m│ net.down.5.res.conv1.padding  │ PeriodicPadding2D │      0 │\n",
       "│\u001b[2m \u001b[0m\u001b[2m69 \u001b[0m\u001b[2m \u001b[0m│ net.down.5.res.conv1.conv     │ Conv2d            │    168 │\n",
       "│\u001b[2m \u001b[0m\u001b[2m70 \u001b[0m\u001b[2m \u001b[0m│ net.down.5.res.conv2          │ PeriodicConv2D    │    330 │\n",
       "│\u001b[2m \u001b[0m\u001b[2m71 \u001b[0m\u001b[2m \u001b[0m│ net.down.5.res.conv2.padding  │ PeriodicPadding2D │      0 │\n",
       "│\u001b[2m \u001b[0m\u001b[2m72 \u001b[0m\u001b[2m \u001b[0m│ net.down.5.res.conv2.conv     │ Conv2d            │    330 │\n",
       "│\u001b[2m \u001b[0m\u001b[2m73 \u001b[0m\u001b[2m \u001b[0m│ net.down.5.res.shortcut       │ Conv2d            │     24 │\n",
       "│\u001b[2m \u001b[0m\u001b[2m74 \u001b[0m\u001b[2m \u001b[0m│ net.down.5.res.norm1          │ BatchNorm2d       │     12 │\n",
       "│\u001b[2m \u001b[0m\u001b[2m75 \u001b[0m\u001b[2m \u001b[0m│ net.down.5.res.norm2          │ BatchNorm2d       │     12 │\n",
       "│\u001b[2m \u001b[0m\u001b[2m76 \u001b[0m\u001b[2m \u001b[0m│ net.down.5.res.drop           │ Dropout           │      0 │\n",
       "│\u001b[2m \u001b[0m\u001b[2m77 \u001b[0m\u001b[2m \u001b[0m│ net.down.5.attn               │ Identity          │      0 │\n",
       "│\u001b[2m \u001b[0m\u001b[2m78 \u001b[0m\u001b[2m \u001b[0m│ net.down.6                    │ DownBlock         │    684 │\n",
       "│\u001b[2m \u001b[0m\u001b[2m79 \u001b[0m\u001b[2m \u001b[0m│ net.down.6.res                │ ResidualBlock     │    684 │\n",
       "│\u001b[2m \u001b[0m\u001b[2m80 \u001b[0m\u001b[2m \u001b[0m│ net.down.6.res.activation     │ LeakyReLU         │      0 │\n",
       "│\u001b[2m \u001b[0m\u001b[2m81 \u001b[0m\u001b[2m \u001b[0m│ net.down.6.res.conv1          │ PeriodicConv2D    │    330 │\n",
       "│\u001b[2m \u001b[0m\u001b[2m82 \u001b[0m\u001b[2m \u001b[0m│ net.down.6.res.conv1.padding  │ PeriodicPadding2D │      0 │\n",
       "│\u001b[2m \u001b[0m\u001b[2m83 \u001b[0m\u001b[2m \u001b[0m│ net.down.6.res.conv1.conv     │ Conv2d            │    330 │\n",
       "│\u001b[2m \u001b[0m\u001b[2m84 \u001b[0m\u001b[2m \u001b[0m│ net.down.6.res.conv2          │ PeriodicConv2D    │    330 │\n",
       "│\u001b[2m \u001b[0m\u001b[2m85 \u001b[0m\u001b[2m \u001b[0m│ net.down.6.res.conv2.padding  │ PeriodicPadding2D │      0 │\n",
       "│\u001b[2m \u001b[0m\u001b[2m86 \u001b[0m\u001b[2m \u001b[0m│ net.down.6.res.conv2.conv     │ Conv2d            │    330 │\n",
       "│\u001b[2m \u001b[0m\u001b[2m87 \u001b[0m\u001b[2m \u001b[0m│ net.down.6.res.shortcut       │ Identity          │      0 │\n",
       "│\u001b[2m \u001b[0m\u001b[2m88 \u001b[0m\u001b[2m \u001b[0m│ net.down.6.res.norm1          │ BatchNorm2d       │     12 │\n",
       "│\u001b[2m \u001b[0m\u001b[2m89 \u001b[0m\u001b[2m \u001b[0m│ net.down.6.res.norm2          │ BatchNorm2d       │     12 │\n",
       "│\u001b[2m \u001b[0m\u001b[2m90 \u001b[0m\u001b[2m \u001b[0m│ net.down.6.res.drop           │ Dropout           │      0 │\n",
       "│\u001b[2m \u001b[0m\u001b[2m91 \u001b[0m\u001b[2m \u001b[0m│ net.down.6.attn               │ Identity          │      0 │\n",
       "│\u001b[2m \u001b[0m\u001b[2m92 \u001b[0m\u001b[2m \u001b[0m│ net.down.7                    │ DownBlock         │    684 │\n",
       "│\u001b[2m \u001b[0m\u001b[2m93 \u001b[0m\u001b[2m \u001b[0m│ net.down.7.res                │ ResidualBlock     │    684 │\n",
       "│\u001b[2m \u001b[0m\u001b[2m94 \u001b[0m\u001b[2m \u001b[0m│ net.down.7.res.activation     │ LeakyReLU         │      0 │\n",
       "│\u001b[2m \u001b[0m\u001b[2m95 \u001b[0m\u001b[2m \u001b[0m│ net.down.7.res.conv1          │ PeriodicConv2D    │    330 │\n",
       "│\u001b[2m \u001b[0m\u001b[2m96 \u001b[0m\u001b[2m \u001b[0m│ net.down.7.res.conv1.padding  │ PeriodicPadding2D │      0 │\n",
       "│\u001b[2m \u001b[0m\u001b[2m97 \u001b[0m\u001b[2m \u001b[0m│ net.down.7.res.conv1.conv     │ Conv2d            │    330 │\n",
       "│\u001b[2m \u001b[0m\u001b[2m98 \u001b[0m\u001b[2m \u001b[0m│ net.down.7.res.conv2          │ PeriodicConv2D    │    330 │\n",
       "│\u001b[2m \u001b[0m\u001b[2m99 \u001b[0m\u001b[2m \u001b[0m│ net.down.7.res.conv2.padding  │ PeriodicPadding2D │      0 │\n",
       "│\u001b[2m \u001b[0m\u001b[2m100\u001b[0m\u001b[2m \u001b[0m│ net.down.7.res.conv2.conv     │ Conv2d            │    330 │\n",
       "│\u001b[2m \u001b[0m\u001b[2m101\u001b[0m\u001b[2m \u001b[0m│ net.down.7.res.shortcut       │ Identity          │      0 │\n",
       "│\u001b[2m \u001b[0m\u001b[2m102\u001b[0m\u001b[2m \u001b[0m│ net.down.7.res.norm1          │ BatchNorm2d       │     12 │\n",
       "│\u001b[2m \u001b[0m\u001b[2m103\u001b[0m\u001b[2m \u001b[0m│ net.down.7.res.norm2          │ BatchNorm2d       │     12 │\n",
       "│\u001b[2m \u001b[0m\u001b[2m104\u001b[0m\u001b[2m \u001b[0m│ net.down.7.res.drop           │ Dropout           │      0 │\n",
       "│\u001b[2m \u001b[0m\u001b[2m105\u001b[0m\u001b[2m \u001b[0m│ net.down.7.attn               │ Identity          │      0 │\n",
       "│\u001b[2m \u001b[0m\u001b[2m106\u001b[0m\u001b[2m \u001b[0m│ net.down.8                    │ DownBlock         │    684 │\n",
       "│\u001b[2m \u001b[0m\u001b[2m107\u001b[0m\u001b[2m \u001b[0m│ net.down.8.res                │ ResidualBlock     │    684 │\n",
       "│\u001b[2m \u001b[0m\u001b[2m108\u001b[0m\u001b[2m \u001b[0m│ net.down.8.res.activation     │ LeakyReLU         │      0 │\n",
       "│\u001b[2m \u001b[0m\u001b[2m109\u001b[0m\u001b[2m \u001b[0m│ net.down.8.res.conv1          │ PeriodicConv2D    │    330 │\n",
       "│\u001b[2m \u001b[0m\u001b[2m110\u001b[0m\u001b[2m \u001b[0m│ net.down.8.res.conv1.padding  │ PeriodicPadding2D │      0 │\n",
       "│\u001b[2m \u001b[0m\u001b[2m111\u001b[0m\u001b[2m \u001b[0m│ net.down.8.res.conv1.conv     │ Conv2d            │    330 │\n",
       "│\u001b[2m \u001b[0m\u001b[2m112\u001b[0m\u001b[2m \u001b[0m│ net.down.8.res.conv2          │ PeriodicConv2D    │    330 │\n",
       "│\u001b[2m \u001b[0m\u001b[2m113\u001b[0m\u001b[2m \u001b[0m│ net.down.8.res.conv2.padding  │ PeriodicPadding2D │      0 │\n",
       "│\u001b[2m \u001b[0m\u001b[2m114\u001b[0m\u001b[2m \u001b[0m│ net.down.8.res.conv2.conv     │ Conv2d            │    330 │\n",
       "│\u001b[2m \u001b[0m\u001b[2m115\u001b[0m\u001b[2m \u001b[0m│ net.down.8.res.shortcut       │ Identity          │      0 │\n",
       "│\u001b[2m \u001b[0m\u001b[2m116\u001b[0m\u001b[2m \u001b[0m│ net.down.8.res.norm1          │ BatchNorm2d       │     12 │\n",
       "│\u001b[2m \u001b[0m\u001b[2m117\u001b[0m\u001b[2m \u001b[0m│ net.down.8.res.norm2          │ BatchNorm2d       │     12 │\n",
       "│\u001b[2m \u001b[0m\u001b[2m118\u001b[0m\u001b[2m \u001b[0m│ net.down.8.res.drop           │ Dropout           │      0 │\n",
       "│\u001b[2m \u001b[0m\u001b[2m119\u001b[0m\u001b[2m \u001b[0m│ net.down.8.attn               │ Identity          │      0 │\n",
       "│\u001b[2m \u001b[0m\u001b[2m120\u001b[0m\u001b[2m \u001b[0m│ net.down.9                    │ Downsample        │    330 │\n",
       "│\u001b[2m \u001b[0m\u001b[2m121\u001b[0m\u001b[2m \u001b[0m│ net.down.9.conv               │ Conv2d            │    330 │\n",
       "│\u001b[2m \u001b[0m\u001b[2m122\u001b[0m\u001b[2m \u001b[0m│ net.down.10                   │ DownBlock         │  2.1 K │\n",
       "│\u001b[2m \u001b[0m\u001b[2m123\u001b[0m\u001b[2m \u001b[0m│ net.down.10.res               │ ResidualBlock     │  2.1 K │\n",
       "│\u001b[2m \u001b[0m\u001b[2m124\u001b[0m\u001b[2m \u001b[0m│ net.down.10.res.activation    │ LeakyReLU         │      0 │\n",
       "│\u001b[2m \u001b[0m\u001b[2m125\u001b[0m\u001b[2m \u001b[0m│ net.down.10.res.conv1         │ PeriodicConv2D    │    660 │\n",
       "│\u001b[2m \u001b[0m\u001b[2m126\u001b[0m\u001b[2m \u001b[0m│ net.down.10.res.conv1.padding │ PeriodicPadding2D │      0 │\n",
       "│\u001b[2m \u001b[0m\u001b[2m127\u001b[0m\u001b[2m \u001b[0m│ net.down.10.res.conv1.conv    │ Conv2d            │    660 │\n",
       "│\u001b[2m \u001b[0m\u001b[2m128\u001b[0m\u001b[2m \u001b[0m│ net.down.10.res.conv2         │ PeriodicConv2D    │  1.3 K │\n",
       "│\u001b[2m \u001b[0m\u001b[2m129\u001b[0m\u001b[2m \u001b[0m│ net.down.10.res.conv2.padding │ PeriodicPadding2D │      0 │\n",
       "│\u001b[2m \u001b[0m\u001b[2m130\u001b[0m\u001b[2m \u001b[0m│ net.down.10.res.conv2.conv    │ Conv2d            │  1.3 K │\n",
       "│\u001b[2m \u001b[0m\u001b[2m131\u001b[0m\u001b[2m \u001b[0m│ net.down.10.res.shortcut      │ Conv2d            │     84 │\n",
       "│\u001b[2m \u001b[0m\u001b[2m132\u001b[0m\u001b[2m \u001b[0m│ net.down.10.res.norm1         │ BatchNorm2d       │     24 │\n",
       "│\u001b[2m \u001b[0m\u001b[2m133\u001b[0m\u001b[2m \u001b[0m│ net.down.10.res.norm2         │ BatchNorm2d       │     24 │\n",
       "│\u001b[2m \u001b[0m\u001b[2m134\u001b[0m\u001b[2m \u001b[0m│ net.down.10.res.drop          │ Dropout           │      0 │\n",
       "│\u001b[2m \u001b[0m\u001b[2m135\u001b[0m\u001b[2m \u001b[0m│ net.down.10.attn              │ Identity          │      0 │\n",
       "│\u001b[2m \u001b[0m\u001b[2m136\u001b[0m\u001b[2m \u001b[0m│ net.down.11                   │ DownBlock         │  2.7 K │\n",
       "│\u001b[2m \u001b[0m\u001b[2m137\u001b[0m\u001b[2m \u001b[0m│ net.down.11.res               │ ResidualBlock     │  2.7 K │\n",
       "│\u001b[2m \u001b[0m\u001b[2m138\u001b[0m\u001b[2m \u001b[0m│ net.down.11.res.activation    │ LeakyReLU         │      0 │\n",
       "│\u001b[2m \u001b[0m\u001b[2m139\u001b[0m\u001b[2m \u001b[0m│ net.down.11.res.conv1         │ PeriodicConv2D    │  1.3 K │\n",
       "│\u001b[2m \u001b[0m\u001b[2m140\u001b[0m\u001b[2m \u001b[0m│ net.down.11.res.conv1.padding │ PeriodicPadding2D │      0 │\n",
       "│\u001b[2m \u001b[0m\u001b[2m141\u001b[0m\u001b[2m \u001b[0m│ net.down.11.res.conv1.conv    │ Conv2d            │  1.3 K │\n",
       "│\u001b[2m \u001b[0m\u001b[2m142\u001b[0m\u001b[2m \u001b[0m│ net.down.11.res.conv2         │ PeriodicConv2D    │  1.3 K │\n",
       "│\u001b[2m \u001b[0m\u001b[2m143\u001b[0m\u001b[2m \u001b[0m│ net.down.11.res.conv2.padding │ PeriodicPadding2D │      0 │\n",
       "│\u001b[2m \u001b[0m\u001b[2m144\u001b[0m\u001b[2m \u001b[0m│ net.down.11.res.conv2.conv    │ Conv2d            │  1.3 K │\n",
       "│\u001b[2m \u001b[0m\u001b[2m145\u001b[0m\u001b[2m \u001b[0m│ net.down.11.res.shortcut      │ Identity          │      0 │\n",
       "│\u001b[2m \u001b[0m\u001b[2m146\u001b[0m\u001b[2m \u001b[0m│ net.down.11.res.norm1         │ BatchNorm2d       │     24 │\n",
       "│\u001b[2m \u001b[0m\u001b[2m147\u001b[0m\u001b[2m \u001b[0m│ net.down.11.res.norm2         │ BatchNorm2d       │     24 │\n",
       "│\u001b[2m \u001b[0m\u001b[2m148\u001b[0m\u001b[2m \u001b[0m│ net.down.11.res.drop          │ Dropout           │      0 │\n",
       "│\u001b[2m \u001b[0m\u001b[2m149\u001b[0m\u001b[2m \u001b[0m│ net.down.11.attn              │ Identity          │      0 │\n",
       "│\u001b[2m \u001b[0m\u001b[2m150\u001b[0m\u001b[2m \u001b[0m│ net.down.12                   │ DownBlock         │  2.7 K │\n",
       "│\u001b[2m \u001b[0m\u001b[2m151\u001b[0m\u001b[2m \u001b[0m│ net.down.12.res               │ ResidualBlock     │  2.7 K │\n",
       "│\u001b[2m \u001b[0m\u001b[2m152\u001b[0m\u001b[2m \u001b[0m│ net.down.12.res.activation    │ LeakyReLU         │      0 │\n",
       "│\u001b[2m \u001b[0m\u001b[2m153\u001b[0m\u001b[2m \u001b[0m│ net.down.12.res.conv1         │ PeriodicConv2D    │  1.3 K │\n",
       "│\u001b[2m \u001b[0m\u001b[2m154\u001b[0m\u001b[2m \u001b[0m│ net.down.12.res.conv1.padding │ PeriodicPadding2D │      0 │\n",
       "│\u001b[2m \u001b[0m\u001b[2m155\u001b[0m\u001b[2m \u001b[0m│ net.down.12.res.conv1.conv    │ Conv2d            │  1.3 K │\n",
       "│\u001b[2m \u001b[0m\u001b[2m156\u001b[0m\u001b[2m \u001b[0m│ net.down.12.res.conv2         │ PeriodicConv2D    │  1.3 K │\n",
       "│\u001b[2m \u001b[0m\u001b[2m157\u001b[0m\u001b[2m \u001b[0m│ net.down.12.res.conv2.padding │ PeriodicPadding2D │      0 │\n",
       "│\u001b[2m \u001b[0m\u001b[2m158\u001b[0m\u001b[2m \u001b[0m│ net.down.12.res.conv2.conv    │ Conv2d            │  1.3 K │\n",
       "│\u001b[2m \u001b[0m\u001b[2m159\u001b[0m\u001b[2m \u001b[0m│ net.down.12.res.shortcut      │ Identity          │      0 │\n",
       "│\u001b[2m \u001b[0m\u001b[2m160\u001b[0m\u001b[2m \u001b[0m│ net.down.12.res.norm1         │ BatchNorm2d       │     24 │\n",
       "│\u001b[2m \u001b[0m\u001b[2m161\u001b[0m\u001b[2m \u001b[0m│ net.down.12.res.norm2         │ BatchNorm2d       │     24 │\n",
       "│\u001b[2m \u001b[0m\u001b[2m162\u001b[0m\u001b[2m \u001b[0m│ net.down.12.res.drop          │ Dropout           │      0 │\n",
       "│\u001b[2m \u001b[0m\u001b[2m163\u001b[0m\u001b[2m \u001b[0m│ net.down.12.attn              │ Identity          │      0 │\n",
       "│\u001b[2m \u001b[0m\u001b[2m164\u001b[0m\u001b[2m \u001b[0m│ net.down.13                   │ DownBlock         │  2.7 K │\n",
       "│\u001b[2m \u001b[0m\u001b[2m165\u001b[0m\u001b[2m \u001b[0m│ net.down.13.res               │ ResidualBlock     │  2.7 K │\n",
       "│\u001b[2m \u001b[0m\u001b[2m166\u001b[0m\u001b[2m \u001b[0m│ net.down.13.res.activation    │ LeakyReLU         │      0 │\n",
       "│\u001b[2m \u001b[0m\u001b[2m167\u001b[0m\u001b[2m \u001b[0m│ net.down.13.res.conv1         │ PeriodicConv2D    │  1.3 K │\n",
       "│\u001b[2m \u001b[0m\u001b[2m168\u001b[0m\u001b[2m \u001b[0m│ net.down.13.res.conv1.padding │ PeriodicPadding2D │      0 │\n",
       "│\u001b[2m \u001b[0m\u001b[2m169\u001b[0m\u001b[2m \u001b[0m│ net.down.13.res.conv1.conv    │ Conv2d            │  1.3 K │\n",
       "│\u001b[2m \u001b[0m\u001b[2m170\u001b[0m\u001b[2m \u001b[0m│ net.down.13.res.conv2         │ PeriodicConv2D    │  1.3 K │\n",
       "│\u001b[2m \u001b[0m\u001b[2m171\u001b[0m\u001b[2m \u001b[0m│ net.down.13.res.conv2.padding │ PeriodicPadding2D │      0 │\n",
       "│\u001b[2m \u001b[0m\u001b[2m172\u001b[0m\u001b[2m \u001b[0m│ net.down.13.res.conv2.conv    │ Conv2d            │  1.3 K │\n",
       "│\u001b[2m \u001b[0m\u001b[2m173\u001b[0m\u001b[2m \u001b[0m│ net.down.13.res.shortcut      │ Identity          │      0 │\n",
       "│\u001b[2m \u001b[0m\u001b[2m174\u001b[0m\u001b[2m \u001b[0m│ net.down.13.res.norm1         │ BatchNorm2d       │     24 │\n",
       "│\u001b[2m \u001b[0m\u001b[2m175\u001b[0m\u001b[2m \u001b[0m│ net.down.13.res.norm2         │ BatchNorm2d       │     24 │\n",
       "│\u001b[2m \u001b[0m\u001b[2m176\u001b[0m\u001b[2m \u001b[0m│ net.down.13.res.drop          │ Dropout           │      0 │\n",
       "│\u001b[2m \u001b[0m\u001b[2m177\u001b[0m\u001b[2m \u001b[0m│ net.down.13.attn              │ Identity          │      0 │\n",
       "│\u001b[2m \u001b[0m\u001b[2m178\u001b[0m\u001b[2m \u001b[0m│ net.down.14                   │ Downsample        │  1.3 K │\n",
       "│\u001b[2m \u001b[0m\u001b[2m179\u001b[0m\u001b[2m \u001b[0m│ net.down.14.conv              │ Conv2d            │  1.3 K │\n",
       "│\u001b[2m \u001b[0m\u001b[2m180\u001b[0m\u001b[2m \u001b[0m│ net.down.15                   │ DownBlock         │ 26.8 K │\n",
       "│\u001b[2m \u001b[0m\u001b[2m181\u001b[0m\u001b[2m \u001b[0m│ net.down.15.res               │ ResidualBlock     │ 26.8 K │\n",
       "│\u001b[2m \u001b[0m\u001b[2m182\u001b[0m\u001b[2m \u001b[0m│ net.down.15.res.activation    │ LeakyReLU         │      0 │\n",
       "│\u001b[2m \u001b[0m\u001b[2m183\u001b[0m\u001b[2m \u001b[0m│ net.down.15.res.conv1         │ PeriodicConv2D    │  5.2 K │\n",
       "│\u001b[2m \u001b[0m\u001b[2m184\u001b[0m\u001b[2m \u001b[0m│ net.down.15.res.conv1.padding │ PeriodicPadding2D │      0 │\n",
       "│\u001b[2m \u001b[0m\u001b[2m185\u001b[0m\u001b[2m \u001b[0m│ net.down.15.res.conv1.conv    │ Conv2d            │  5.2 K │\n",
       "│\u001b[2m \u001b[0m\u001b[2m186\u001b[0m\u001b[2m \u001b[0m│ net.down.15.res.conv2         │ PeriodicConv2D    │ 20.8 K │\n",
       "│\u001b[2m \u001b[0m\u001b[2m187\u001b[0m\u001b[2m \u001b[0m│ net.down.15.res.conv2.padding │ PeriodicPadding2D │      0 │\n",
       "│\u001b[2m \u001b[0m\u001b[2m188\u001b[0m\u001b[2m \u001b[0m│ net.down.15.res.conv2.conv    │ Conv2d            │ 20.8 K │\n",
       "│\u001b[2m \u001b[0m\u001b[2m189\u001b[0m\u001b[2m \u001b[0m│ net.down.15.res.shortcut      │ Conv2d            │    624 │\n",
       "│\u001b[2m \u001b[0m\u001b[2m190\u001b[0m\u001b[2m \u001b[0m│ net.down.15.res.norm1         │ BatchNorm2d       │     96 │\n",
       "│\u001b[2m \u001b[0m\u001b[2m191\u001b[0m\u001b[2m \u001b[0m│ net.down.15.res.norm2         │ BatchNorm2d       │     96 │\n",
       "│\u001b[2m \u001b[0m\u001b[2m192\u001b[0m\u001b[2m \u001b[0m│ net.down.15.res.drop          │ Dropout           │      0 │\n",
       "│\u001b[2m \u001b[0m\u001b[2m193\u001b[0m\u001b[2m \u001b[0m│ net.down.15.attn              │ Identity          │      0 │\n",
       "│\u001b[2m \u001b[0m\u001b[2m194\u001b[0m\u001b[2m \u001b[0m│ net.down.16                   │ DownBlock         │ 41.8 K │\n",
       "│\u001b[2m \u001b[0m\u001b[2m195\u001b[0m\u001b[2m \u001b[0m│ net.down.16.res               │ ResidualBlock     │ 41.8 K │\n",
       "│\u001b[2m \u001b[0m\u001b[2m196\u001b[0m\u001b[2m \u001b[0m│ net.down.16.res.activation    │ LeakyReLU         │      0 │\n",
       "│\u001b[2m \u001b[0m\u001b[2m197\u001b[0m\u001b[2m \u001b[0m│ net.down.16.res.conv1         │ PeriodicConv2D    │ 20.8 K │\n",
       "│\u001b[2m \u001b[0m\u001b[2m198\u001b[0m\u001b[2m \u001b[0m│ net.down.16.res.conv1.padding │ PeriodicPadding2D │      0 │\n",
       "│\u001b[2m \u001b[0m\u001b[2m199\u001b[0m\u001b[2m \u001b[0m│ net.down.16.res.conv1.conv    │ Conv2d            │ 20.8 K │\n",
       "│\u001b[2m \u001b[0m\u001b[2m200\u001b[0m\u001b[2m \u001b[0m│ net.down.16.res.conv2         │ PeriodicConv2D    │ 20.8 K │\n",
       "│\u001b[2m \u001b[0m\u001b[2m201\u001b[0m\u001b[2m \u001b[0m│ net.down.16.res.conv2.padding │ PeriodicPadding2D │      0 │\n",
       "│\u001b[2m \u001b[0m\u001b[2m202\u001b[0m\u001b[2m \u001b[0m│ net.down.16.res.conv2.conv    │ Conv2d            │ 20.8 K │\n",
       "│\u001b[2m \u001b[0m\u001b[2m203\u001b[0m\u001b[2m \u001b[0m│ net.down.16.res.shortcut      │ Identity          │      0 │\n",
       "│\u001b[2m \u001b[0m\u001b[2m204\u001b[0m\u001b[2m \u001b[0m│ net.down.16.res.norm1         │ BatchNorm2d       │     96 │\n",
       "│\u001b[2m \u001b[0m\u001b[2m205\u001b[0m\u001b[2m \u001b[0m│ net.down.16.res.norm2         │ BatchNorm2d       │     96 │\n",
       "│\u001b[2m \u001b[0m\u001b[2m206\u001b[0m\u001b[2m \u001b[0m│ net.down.16.res.drop          │ Dropout           │      0 │\n",
       "│\u001b[2m \u001b[0m\u001b[2m207\u001b[0m\u001b[2m \u001b[0m│ net.down.16.attn              │ Identity          │      0 │\n",
       "│\u001b[2m \u001b[0m\u001b[2m208\u001b[0m\u001b[2m \u001b[0m│ net.down.17                   │ DownBlock         │ 41.8 K │\n",
       "│\u001b[2m \u001b[0m\u001b[2m209\u001b[0m\u001b[2m \u001b[0m│ net.down.17.res               │ ResidualBlock     │ 41.8 K │\n",
       "│\u001b[2m \u001b[0m\u001b[2m210\u001b[0m\u001b[2m \u001b[0m│ net.down.17.res.activation    │ LeakyReLU         │      0 │\n",
       "│\u001b[2m \u001b[0m\u001b[2m211\u001b[0m\u001b[2m \u001b[0m│ net.down.17.res.conv1         │ PeriodicConv2D    │ 20.8 K │\n",
       "│\u001b[2m \u001b[0m\u001b[2m212\u001b[0m\u001b[2m \u001b[0m│ net.down.17.res.conv1.padding │ PeriodicPadding2D │      0 │\n",
       "│\u001b[2m \u001b[0m\u001b[2m213\u001b[0m\u001b[2m \u001b[0m│ net.down.17.res.conv1.conv    │ Conv2d            │ 20.8 K │\n",
       "│\u001b[2m \u001b[0m\u001b[2m214\u001b[0m\u001b[2m \u001b[0m│ net.down.17.res.conv2         │ PeriodicConv2D    │ 20.8 K │\n",
       "│\u001b[2m \u001b[0m\u001b[2m215\u001b[0m\u001b[2m \u001b[0m│ net.down.17.res.conv2.padding │ PeriodicPadding2D │      0 │\n",
       "│\u001b[2m \u001b[0m\u001b[2m216\u001b[0m\u001b[2m \u001b[0m│ net.down.17.res.conv2.conv    │ Conv2d            │ 20.8 K │\n",
       "│\u001b[2m \u001b[0m\u001b[2m217\u001b[0m\u001b[2m \u001b[0m│ net.down.17.res.shortcut      │ Identity          │      0 │\n",
       "│\u001b[2m \u001b[0m\u001b[2m218\u001b[0m\u001b[2m \u001b[0m│ net.down.17.res.norm1         │ BatchNorm2d       │     96 │\n",
       "│\u001b[2m \u001b[0m\u001b[2m219\u001b[0m\u001b[2m \u001b[0m│ net.down.17.res.norm2         │ BatchNorm2d       │     96 │\n",
       "│\u001b[2m \u001b[0m\u001b[2m220\u001b[0m\u001b[2m \u001b[0m│ net.down.17.res.drop          │ Dropout           │      0 │\n",
       "│\u001b[2m \u001b[0m\u001b[2m221\u001b[0m\u001b[2m \u001b[0m│ net.down.17.attn              │ Identity          │      0 │\n",
       "│\u001b[2m \u001b[0m\u001b[2m222\u001b[0m\u001b[2m \u001b[0m│ net.down.18                   │ DownBlock         │ 41.8 K │\n",
       "│\u001b[2m \u001b[0m\u001b[2m223\u001b[0m\u001b[2m \u001b[0m│ net.down.18.res               │ ResidualBlock     │ 41.8 K │\n",
       "│\u001b[2m \u001b[0m\u001b[2m224\u001b[0m\u001b[2m \u001b[0m│ net.down.18.res.activation    │ LeakyReLU         │      0 │\n",
       "│\u001b[2m \u001b[0m\u001b[2m225\u001b[0m\u001b[2m \u001b[0m│ net.down.18.res.conv1         │ PeriodicConv2D    │ 20.8 K │\n",
       "│\u001b[2m \u001b[0m\u001b[2m226\u001b[0m\u001b[2m \u001b[0m│ net.down.18.res.conv1.padding │ PeriodicPadding2D │      0 │\n",
       "│\u001b[2m \u001b[0m\u001b[2m227\u001b[0m\u001b[2m \u001b[0m│ net.down.18.res.conv1.conv    │ Conv2d            │ 20.8 K │\n",
       "│\u001b[2m \u001b[0m\u001b[2m228\u001b[0m\u001b[2m \u001b[0m│ net.down.18.res.conv2         │ PeriodicConv2D    │ 20.8 K │\n",
       "│\u001b[2m \u001b[0m\u001b[2m229\u001b[0m\u001b[2m \u001b[0m│ net.down.18.res.conv2.padding │ PeriodicPadding2D │      0 │\n",
       "│\u001b[2m \u001b[0m\u001b[2m230\u001b[0m\u001b[2m \u001b[0m│ net.down.18.res.conv2.conv    │ Conv2d            │ 20.8 K │\n",
       "│\u001b[2m \u001b[0m\u001b[2m231\u001b[0m\u001b[2m \u001b[0m│ net.down.18.res.shortcut      │ Identity          │      0 │\n",
       "│\u001b[2m \u001b[0m\u001b[2m232\u001b[0m\u001b[2m \u001b[0m│ net.down.18.res.norm1         │ BatchNorm2d       │     96 │\n",
       "│\u001b[2m \u001b[0m\u001b[2m233\u001b[0m\u001b[2m \u001b[0m│ net.down.18.res.norm2         │ BatchNorm2d       │     96 │\n",
       "│\u001b[2m \u001b[0m\u001b[2m234\u001b[0m\u001b[2m \u001b[0m│ net.down.18.res.drop          │ Dropout           │      0 │\n",
       "│\u001b[2m \u001b[0m\u001b[2m235\u001b[0m\u001b[2m \u001b[0m│ net.down.18.attn              │ Identity          │      0 │\n",
       "│\u001b[2m \u001b[0m\u001b[2m236\u001b[0m\u001b[2m \u001b[0m│ net.middle                    │ MiddleBlock       │ 83.5 K │\n",
       "│\u001b[2m \u001b[0m\u001b[2m237\u001b[0m\u001b[2m \u001b[0m│ net.middle.res1               │ ResidualBlock     │ 41.8 K │\n",
       "│\u001b[2m \u001b[0m\u001b[2m238\u001b[0m\u001b[2m \u001b[0m│ net.middle.res1.activation    │ LeakyReLU         │      0 │\n",
       "│\u001b[2m \u001b[0m\u001b[2m239\u001b[0m\u001b[2m \u001b[0m│ net.middle.res1.conv1         │ PeriodicConv2D    │ 20.8 K │\n",
       "│\u001b[2m \u001b[0m\u001b[2m240\u001b[0m\u001b[2m \u001b[0m│ net.middle.res1.conv1.padding │ PeriodicPadding2D │      0 │\n",
       "│\u001b[2m \u001b[0m\u001b[2m241\u001b[0m\u001b[2m \u001b[0m│ net.middle.res1.conv1.conv    │ Conv2d            │ 20.8 K │\n",
       "│\u001b[2m \u001b[0m\u001b[2m242\u001b[0m\u001b[2m \u001b[0m│ net.middle.res1.conv2         │ PeriodicConv2D    │ 20.8 K │\n",
       "│\u001b[2m \u001b[0m\u001b[2m243\u001b[0m\u001b[2m \u001b[0m│ net.middle.res1.conv2.padding │ PeriodicPadding2D │      0 │\n",
       "│\u001b[2m \u001b[0m\u001b[2m244\u001b[0m\u001b[2m \u001b[0m│ net.middle.res1.conv2.conv    │ Conv2d            │ 20.8 K │\n",
       "│\u001b[2m \u001b[0m\u001b[2m245\u001b[0m\u001b[2m \u001b[0m│ net.middle.res1.shortcut      │ Identity          │      0 │\n",
       "│\u001b[2m \u001b[0m\u001b[2m246\u001b[0m\u001b[2m \u001b[0m│ net.middle.res1.norm1         │ BatchNorm2d       │     96 │\n",
       "│\u001b[2m \u001b[0m\u001b[2m247\u001b[0m\u001b[2m \u001b[0m│ net.middle.res1.norm2         │ BatchNorm2d       │     96 │\n",
       "│\u001b[2m \u001b[0m\u001b[2m248\u001b[0m\u001b[2m \u001b[0m│ net.middle.res1.drop          │ Dropout           │      0 │\n",
       "│\u001b[2m \u001b[0m\u001b[2m249\u001b[0m\u001b[2m \u001b[0m│ net.middle.attn               │ Identity          │      0 │\n",
       "│\u001b[2m \u001b[0m\u001b[2m250\u001b[0m\u001b[2m \u001b[0m│ net.middle.res2               │ ResidualBlock     │ 41.8 K │\n",
       "│\u001b[2m \u001b[0m\u001b[2m251\u001b[0m\u001b[2m \u001b[0m│ net.middle.res2.activation    │ LeakyReLU         │      0 │\n",
       "│\u001b[2m \u001b[0m\u001b[2m252\u001b[0m\u001b[2m \u001b[0m│ net.middle.res2.conv1         │ PeriodicConv2D    │ 20.8 K │\n",
       "│\u001b[2m \u001b[0m\u001b[2m253\u001b[0m\u001b[2m \u001b[0m│ net.middle.res2.conv1.padding │ PeriodicPadding2D │      0 │\n",
       "│\u001b[2m \u001b[0m\u001b[2m254\u001b[0m\u001b[2m \u001b[0m│ net.middle.res2.conv1.conv    │ Conv2d            │ 20.8 K │\n",
       "│\u001b[2m \u001b[0m\u001b[2m255\u001b[0m\u001b[2m \u001b[0m│ net.middle.res2.conv2         │ PeriodicConv2D    │ 20.8 K │\n",
       "│\u001b[2m \u001b[0m\u001b[2m256\u001b[0m\u001b[2m \u001b[0m│ net.middle.res2.conv2.padding │ PeriodicPadding2D │      0 │\n",
       "│\u001b[2m \u001b[0m\u001b[2m257\u001b[0m\u001b[2m \u001b[0m│ net.middle.res2.conv2.conv    │ Conv2d            │ 20.8 K │\n",
       "│\u001b[2m \u001b[0m\u001b[2m258\u001b[0m\u001b[2m \u001b[0m│ net.middle.res2.shortcut      │ Identity          │      0 │\n",
       "│\u001b[2m \u001b[0m\u001b[2m259\u001b[0m\u001b[2m \u001b[0m│ net.middle.res2.norm1         │ BatchNorm2d       │     96 │\n",
       "│\u001b[2m \u001b[0m\u001b[2m260\u001b[0m\u001b[2m \u001b[0m│ net.middle.res2.norm2         │ BatchNorm2d       │     96 │\n",
       "│\u001b[2m \u001b[0m\u001b[2m261\u001b[0m\u001b[2m \u001b[0m│ net.middle.res2.drop          │ Dropout           │      0 │\n",
       "│\u001b[2m \u001b[0m\u001b[2m262\u001b[0m\u001b[2m \u001b[0m│ net.up                        │ ModuleList        │  304 K │\n",
       "│\u001b[2m \u001b[0m\u001b[2m263\u001b[0m\u001b[2m \u001b[0m│ net.up.0                      │ UpBlock           │ 67.2 K │\n",
       "│\u001b[2m \u001b[0m\u001b[2m264\u001b[0m\u001b[2m \u001b[0m│ net.up.0.res                  │ ResidualBlock     │ 67.2 K │\n",
       "│\u001b[2m \u001b[0m\u001b[2m265\u001b[0m\u001b[2m \u001b[0m│ net.up.0.res.activation       │ LeakyReLU         │      0 │\n",
       "│\u001b[2m \u001b[0m\u001b[2m266\u001b[0m\u001b[2m \u001b[0m│ net.up.0.res.conv1            │ PeriodicConv2D    │ 41.5 K │\n",
       "│\u001b[2m \u001b[0m\u001b[2m267\u001b[0m\u001b[2m \u001b[0m│ net.up.0.res.conv1.padding    │ PeriodicPadding2D │      0 │\n",
       "│\u001b[2m \u001b[0m\u001b[2m268\u001b[0m\u001b[2m \u001b[0m│ net.up.0.res.conv1.conv       │ Conv2d            │ 41.5 K │\n",
       "│\u001b[2m \u001b[0m\u001b[2m269\u001b[0m\u001b[2m \u001b[0m│ net.up.0.res.conv2            │ PeriodicConv2D    │ 20.8 K │\n",
       "│\u001b[2m \u001b[0m\u001b[2m270\u001b[0m\u001b[2m \u001b[0m│ net.up.0.res.conv2.padding    │ PeriodicPadding2D │      0 │\n",
       "│\u001b[2m \u001b[0m\u001b[2m271\u001b[0m\u001b[2m \u001b[0m│ net.up.0.res.conv2.conv       │ Conv2d            │ 20.8 K │\n",
       "│\u001b[2m \u001b[0m\u001b[2m272\u001b[0m\u001b[2m \u001b[0m│ net.up.0.res.shortcut         │ Conv2d            │  4.7 K │\n",
       "│\u001b[2m \u001b[0m\u001b[2m273\u001b[0m\u001b[2m \u001b[0m│ net.up.0.res.norm1            │ BatchNorm2d       │     96 │\n",
       "│\u001b[2m \u001b[0m\u001b[2m274\u001b[0m\u001b[2m \u001b[0m│ net.up.0.res.norm2            │ BatchNorm2d       │     96 │\n",
       "│\u001b[2m \u001b[0m\u001b[2m275\u001b[0m\u001b[2m \u001b[0m│ net.up.0.res.drop             │ Dropout           │      0 │\n",
       "│\u001b[2m \u001b[0m\u001b[2m276\u001b[0m\u001b[2m \u001b[0m│ net.up.0.attn                 │ Identity          │      0 │\n",
       "│\u001b[2m \u001b[0m\u001b[2m277\u001b[0m\u001b[2m \u001b[0m│ net.up.1                      │ UpBlock           │ 67.2 K │\n",
       "│\u001b[2m \u001b[0m\u001b[2m278\u001b[0m\u001b[2m \u001b[0m│ net.up.1.res                  │ ResidualBlock     │ 67.2 K │\n",
       "│\u001b[2m \u001b[0m\u001b[2m279\u001b[0m\u001b[2m \u001b[0m│ net.up.1.res.activation       │ LeakyReLU         │      0 │\n",
       "│\u001b[2m \u001b[0m\u001b[2m280\u001b[0m\u001b[2m \u001b[0m│ net.up.1.res.conv1            │ PeriodicConv2D    │ 41.5 K │\n",
       "│\u001b[2m \u001b[0m\u001b[2m281\u001b[0m\u001b[2m \u001b[0m│ net.up.1.res.conv1.padding    │ PeriodicPadding2D │      0 │\n",
       "│\u001b[2m \u001b[0m\u001b[2m282\u001b[0m\u001b[2m \u001b[0m│ net.up.1.res.conv1.conv       │ Conv2d            │ 41.5 K │\n",
       "│\u001b[2m \u001b[0m\u001b[2m283\u001b[0m\u001b[2m \u001b[0m│ net.up.1.res.conv2            │ PeriodicConv2D    │ 20.8 K │\n",
       "│\u001b[2m \u001b[0m\u001b[2m284\u001b[0m\u001b[2m \u001b[0m│ net.up.1.res.conv2.padding    │ PeriodicPadding2D │      0 │\n",
       "│\u001b[2m \u001b[0m\u001b[2m285\u001b[0m\u001b[2m \u001b[0m│ net.up.1.res.conv2.conv       │ Conv2d            │ 20.8 K │\n",
       "│\u001b[2m \u001b[0m\u001b[2m286\u001b[0m\u001b[2m \u001b[0m│ net.up.1.res.shortcut         │ Conv2d            │  4.7 K │\n",
       "│\u001b[2m \u001b[0m\u001b[2m287\u001b[0m\u001b[2m \u001b[0m│ net.up.1.res.norm1            │ BatchNorm2d       │     96 │\n",
       "│\u001b[2m \u001b[0m\u001b[2m288\u001b[0m\u001b[2m \u001b[0m│ net.up.1.res.norm2            │ BatchNorm2d       │     96 │\n",
       "│\u001b[2m \u001b[0m\u001b[2m289\u001b[0m\u001b[2m \u001b[0m│ net.up.1.res.drop             │ Dropout           │      0 │\n",
       "│\u001b[2m \u001b[0m\u001b[2m290\u001b[0m\u001b[2m \u001b[0m│ net.up.1.attn                 │ Identity          │      0 │\n",
       "│\u001b[2m \u001b[0m\u001b[2m291\u001b[0m\u001b[2m \u001b[0m│ net.up.2                      │ UpBlock           │ 67.2 K │\n",
       "│\u001b[2m \u001b[0m\u001b[2m292\u001b[0m\u001b[2m \u001b[0m│ net.up.2.res                  │ ResidualBlock     │ 67.2 K │\n",
       "│\u001b[2m \u001b[0m\u001b[2m293\u001b[0m\u001b[2m \u001b[0m│ net.up.2.res.activation       │ LeakyReLU         │      0 │\n",
       "│\u001b[2m \u001b[0m\u001b[2m294\u001b[0m\u001b[2m \u001b[0m│ net.up.2.res.conv1            │ PeriodicConv2D    │ 41.5 K │\n",
       "│\u001b[2m \u001b[0m\u001b[2m295\u001b[0m\u001b[2m \u001b[0m│ net.up.2.res.conv1.padding    │ PeriodicPadding2D │      0 │\n",
       "│\u001b[2m \u001b[0m\u001b[2m296\u001b[0m\u001b[2m \u001b[0m│ net.up.2.res.conv1.conv       │ Conv2d            │ 41.5 K │\n",
       "│\u001b[2m \u001b[0m\u001b[2m297\u001b[0m\u001b[2m \u001b[0m│ net.up.2.res.conv2            │ PeriodicConv2D    │ 20.8 K │\n",
       "│\u001b[2m \u001b[0m\u001b[2m298\u001b[0m\u001b[2m \u001b[0m│ net.up.2.res.conv2.padding    │ PeriodicPadding2D │      0 │\n",
       "│\u001b[2m \u001b[0m\u001b[2m299\u001b[0m\u001b[2m \u001b[0m│ net.up.2.res.conv2.conv       │ Conv2d            │ 20.8 K │\n",
       "│\u001b[2m \u001b[0m\u001b[2m300\u001b[0m\u001b[2m \u001b[0m│ net.up.2.res.shortcut         │ Conv2d            │  4.7 K │\n",
       "│\u001b[2m \u001b[0m\u001b[2m301\u001b[0m\u001b[2m \u001b[0m│ net.up.2.res.norm1            │ BatchNorm2d       │     96 │\n",
       "│\u001b[2m \u001b[0m\u001b[2m302\u001b[0m\u001b[2m \u001b[0m│ net.up.2.res.norm2            │ BatchNorm2d       │     96 │\n",
       "│\u001b[2m \u001b[0m\u001b[2m303\u001b[0m\u001b[2m \u001b[0m│ net.up.2.res.drop             │ Dropout           │      0 │\n",
       "│\u001b[2m \u001b[0m\u001b[2m304\u001b[0m\u001b[2m \u001b[0m│ net.up.2.attn                 │ Identity          │      0 │\n",
       "│\u001b[2m \u001b[0m\u001b[2m305\u001b[0m\u001b[2m \u001b[0m│ net.up.3                      │ UpBlock           │ 67.2 K │\n",
       "│\u001b[2m \u001b[0m\u001b[2m306\u001b[0m\u001b[2m \u001b[0m│ net.up.3.res                  │ ResidualBlock     │ 67.2 K │\n",
       "│\u001b[2m \u001b[0m\u001b[2m307\u001b[0m\u001b[2m \u001b[0m│ net.up.3.res.activation       │ LeakyReLU         │      0 │\n",
       "│\u001b[2m \u001b[0m\u001b[2m308\u001b[0m\u001b[2m \u001b[0m│ net.up.3.res.conv1            │ PeriodicConv2D    │ 41.5 K │\n",
       "│\u001b[2m \u001b[0m\u001b[2m309\u001b[0m\u001b[2m \u001b[0m│ net.up.3.res.conv1.padding    │ PeriodicPadding2D │      0 │\n",
       "│\u001b[2m \u001b[0m\u001b[2m310\u001b[0m\u001b[2m \u001b[0m│ net.up.3.res.conv1.conv       │ Conv2d            │ 41.5 K │\n",
       "│\u001b[2m \u001b[0m\u001b[2m311\u001b[0m\u001b[2m \u001b[0m│ net.up.3.res.conv2            │ PeriodicConv2D    │ 20.8 K │\n",
       "│\u001b[2m \u001b[0m\u001b[2m312\u001b[0m\u001b[2m \u001b[0m│ net.up.3.res.conv2.padding    │ PeriodicPadding2D │      0 │\n",
       "│\u001b[2m \u001b[0m\u001b[2m313\u001b[0m\u001b[2m \u001b[0m│ net.up.3.res.conv2.conv       │ Conv2d            │ 20.8 K │\n",
       "│\u001b[2m \u001b[0m\u001b[2m314\u001b[0m\u001b[2m \u001b[0m│ net.up.3.res.shortcut         │ Conv2d            │  4.7 K │\n",
       "│\u001b[2m \u001b[0m\u001b[2m315\u001b[0m\u001b[2m \u001b[0m│ net.up.3.res.norm1            │ BatchNorm2d       │     96 │\n",
       "│\u001b[2m \u001b[0m\u001b[2m316\u001b[0m\u001b[2m \u001b[0m│ net.up.3.res.norm2            │ BatchNorm2d       │     96 │\n",
       "│\u001b[2m \u001b[0m\u001b[2m317\u001b[0m\u001b[2m \u001b[0m│ net.up.3.res.drop             │ Dropout           │      0 │\n",
       "│\u001b[2m \u001b[0m\u001b[2m318\u001b[0m\u001b[2m \u001b[0m│ net.up.3.attn                 │ Identity          │      0 │\n",
       "│\u001b[2m \u001b[0m\u001b[2m319\u001b[0m\u001b[2m \u001b[0m│ net.up.4                      │ UpBlock           │  8.6 K │\n",
       "│\u001b[2m \u001b[0m\u001b[2m320\u001b[0m\u001b[2m \u001b[0m│ net.up.4.res                  │ ResidualBlock     │  8.6 K │\n",
       "│\u001b[2m \u001b[0m\u001b[2m321\u001b[0m\u001b[2m \u001b[0m│ net.up.4.res.activation       │ LeakyReLU         │      0 │\n",
       "│\u001b[2m \u001b[0m\u001b[2m322\u001b[0m\u001b[2m \u001b[0m│ net.up.4.res.conv1            │ PeriodicConv2D    │  6.5 K │\n",
       "│\u001b[2m \u001b[0m\u001b[2m323\u001b[0m\u001b[2m \u001b[0m│ net.up.4.res.conv1.padding    │ PeriodicPadding2D │      0 │\n",
       "│\u001b[2m \u001b[0m\u001b[2m324\u001b[0m\u001b[2m \u001b[0m│ net.up.4.res.conv1.conv       │ Conv2d            │  6.5 K │\n",
       "│\u001b[2m \u001b[0m\u001b[2m325\u001b[0m\u001b[2m \u001b[0m│ net.up.4.res.conv2            │ PeriodicConv2D    │  1.3 K │\n",
       "│\u001b[2m \u001b[0m\u001b[2m326\u001b[0m\u001b[2m \u001b[0m│ net.up.4.res.conv2.padding    │ PeriodicPadding2D │      0 │\n",
       "│\u001b[2m \u001b[0m\u001b[2m327\u001b[0m\u001b[2m \u001b[0m│ net.up.4.res.conv2.conv       │ Conv2d            │  1.3 K │\n",
       "│\u001b[2m \u001b[0m\u001b[2m328\u001b[0m\u001b[2m \u001b[0m│ net.up.4.res.shortcut         │ Conv2d            │    732 │\n",
       "│\u001b[2m \u001b[0m\u001b[2m329\u001b[0m\u001b[2m \u001b[0m│ net.up.4.res.norm1            │ BatchNorm2d       │     24 │\n",
       "│\u001b[2m \u001b[0m\u001b[2m330\u001b[0m\u001b[2m \u001b[0m│ net.up.4.res.norm2            │ BatchNorm2d       │     24 │\n",
       "│\u001b[2m \u001b[0m\u001b[2m331\u001b[0m\u001b[2m \u001b[0m│ net.up.4.res.drop             │ Dropout           │      0 │\n",
       "│\u001b[2m \u001b[0m\u001b[2m332\u001b[0m\u001b[2m \u001b[0m│ net.up.4.attn                 │ Identity          │      0 │\n",
       "│\u001b[2m \u001b[0m\u001b[2m333\u001b[0m\u001b[2m \u001b[0m│ net.up.5                      │ Upsample          │  2.3 K │\n",
       "│\u001b[2m \u001b[0m\u001b[2m334\u001b[0m\u001b[2m \u001b[0m│ net.up.5.conv                 │ ConvTranspose2d   │  2.3 K │\n",
       "│\u001b[2m \u001b[0m\u001b[2m335\u001b[0m\u001b[2m \u001b[0m│ net.up.6                      │ UpBlock           │  4.3 K │\n",
       "│\u001b[2m \u001b[0m\u001b[2m336\u001b[0m\u001b[2m \u001b[0m│ net.up.6.res                  │ ResidualBlock     │  4.3 K │\n",
       "│\u001b[2m \u001b[0m\u001b[2m337\u001b[0m\u001b[2m \u001b[0m│ net.up.6.res.activation       │ LeakyReLU         │      0 │\n",
       "│\u001b[2m \u001b[0m\u001b[2m338\u001b[0m\u001b[2m \u001b[0m│ net.up.6.res.conv1            │ PeriodicConv2D    │  2.6 K │\n",
       "│\u001b[2m \u001b[0m\u001b[2m339\u001b[0m\u001b[2m \u001b[0m│ net.up.6.res.conv1.padding    │ PeriodicPadding2D │      0 │\n",
       "│\u001b[2m \u001b[0m\u001b[2m340\u001b[0m\u001b[2m \u001b[0m│ net.up.6.res.conv1.conv       │ Conv2d            │  2.6 K │\n",
       "│\u001b[2m \u001b[0m\u001b[2m341\u001b[0m\u001b[2m \u001b[0m│ net.up.6.res.conv2            │ PeriodicConv2D    │  1.3 K │\n",
       "│\u001b[2m \u001b[0m\u001b[2m342\u001b[0m\u001b[2m \u001b[0m│ net.up.6.res.conv2.padding    │ PeriodicPadding2D │      0 │\n",
       "│\u001b[2m \u001b[0m\u001b[2m343\u001b[0m\u001b[2m \u001b[0m│ net.up.6.res.conv2.conv       │ Conv2d            │  1.3 K │\n",
       "│\u001b[2m \u001b[0m\u001b[2m344\u001b[0m\u001b[2m \u001b[0m│ net.up.6.res.shortcut         │ Conv2d            │    300 │\n",
       "│\u001b[2m \u001b[0m\u001b[2m345\u001b[0m\u001b[2m \u001b[0m│ net.up.6.res.norm1            │ BatchNorm2d       │     24 │\n",
       "│\u001b[2m \u001b[0m\u001b[2m346\u001b[0m\u001b[2m \u001b[0m│ net.up.6.res.norm2            │ BatchNorm2d       │     24 │\n",
       "│\u001b[2m \u001b[0m\u001b[2m347\u001b[0m\u001b[2m \u001b[0m│ net.up.6.res.drop             │ Dropout           │      0 │\n",
       "│\u001b[2m \u001b[0m\u001b[2m348\u001b[0m\u001b[2m \u001b[0m│ net.up.6.attn                 │ Identity          │      0 │\n",
       "│\u001b[2m \u001b[0m\u001b[2m349\u001b[0m\u001b[2m \u001b[0m│ net.up.7                      │ UpBlock           │  4.3 K │\n",
       "│\u001b[2m \u001b[0m\u001b[2m350\u001b[0m\u001b[2m \u001b[0m│ net.up.7.res                  │ ResidualBlock     │  4.3 K │\n",
       "│\u001b[2m \u001b[0m\u001b[2m351\u001b[0m\u001b[2m \u001b[0m│ net.up.7.res.activation       │ LeakyReLU         │      0 │\n",
       "│\u001b[2m \u001b[0m\u001b[2m352\u001b[0m\u001b[2m \u001b[0m│ net.up.7.res.conv1            │ PeriodicConv2D    │  2.6 K │\n",
       "│\u001b[2m \u001b[0m\u001b[2m353\u001b[0m\u001b[2m \u001b[0m│ net.up.7.res.conv1.padding    │ PeriodicPadding2D │      0 │\n",
       "│\u001b[2m \u001b[0m\u001b[2m354\u001b[0m\u001b[2m \u001b[0m│ net.up.7.res.conv1.conv       │ Conv2d            │  2.6 K │\n",
       "│\u001b[2m \u001b[0m\u001b[2m355\u001b[0m\u001b[2m \u001b[0m│ net.up.7.res.conv2            │ PeriodicConv2D    │  1.3 K │\n",
       "│\u001b[2m \u001b[0m\u001b[2m356\u001b[0m\u001b[2m \u001b[0m│ net.up.7.res.conv2.padding    │ PeriodicPadding2D │      0 │\n",
       "│\u001b[2m \u001b[0m\u001b[2m357\u001b[0m\u001b[2m \u001b[0m│ net.up.7.res.conv2.conv       │ Conv2d            │  1.3 K │\n",
       "│\u001b[2m \u001b[0m\u001b[2m358\u001b[0m\u001b[2m \u001b[0m│ net.up.7.res.shortcut         │ Conv2d            │    300 │\n",
       "│\u001b[2m \u001b[0m\u001b[2m359\u001b[0m\u001b[2m \u001b[0m│ net.up.7.res.norm1            │ BatchNorm2d       │     24 │\n",
       "│\u001b[2m \u001b[0m\u001b[2m360\u001b[0m\u001b[2m \u001b[0m│ net.up.7.res.norm2            │ BatchNorm2d       │     24 │\n",
       "│\u001b[2m \u001b[0m\u001b[2m361\u001b[0m\u001b[2m \u001b[0m│ net.up.7.res.drop             │ Dropout           │      0 │\n",
       "│\u001b[2m \u001b[0m\u001b[2m362\u001b[0m\u001b[2m \u001b[0m│ net.up.7.attn                 │ Identity          │      0 │\n",
       "│\u001b[2m \u001b[0m\u001b[2m363\u001b[0m\u001b[2m \u001b[0m│ net.up.8                      │ UpBlock           │  4.3 K │\n",
       "│\u001b[2m \u001b[0m\u001b[2m364\u001b[0m\u001b[2m \u001b[0m│ net.up.8.res                  │ ResidualBlock     │  4.3 K │\n",
       "│\u001b[2m \u001b[0m\u001b[2m365\u001b[0m\u001b[2m \u001b[0m│ net.up.8.res.activation       │ LeakyReLU         │      0 │\n",
       "│\u001b[2m \u001b[0m\u001b[2m366\u001b[0m\u001b[2m \u001b[0m│ net.up.8.res.conv1            │ PeriodicConv2D    │  2.6 K │\n",
       "│\u001b[2m \u001b[0m\u001b[2m367\u001b[0m\u001b[2m \u001b[0m│ net.up.8.res.conv1.padding    │ PeriodicPadding2D │      0 │\n",
       "│\u001b[2m \u001b[0m\u001b[2m368\u001b[0m\u001b[2m \u001b[0m│ net.up.8.res.conv1.conv       │ Conv2d            │  2.6 K │\n",
       "│\u001b[2m \u001b[0m\u001b[2m369\u001b[0m\u001b[2m \u001b[0m│ net.up.8.res.conv2            │ PeriodicConv2D    │  1.3 K │\n",
       "│\u001b[2m \u001b[0m\u001b[2m370\u001b[0m\u001b[2m \u001b[0m│ net.up.8.res.conv2.padding    │ PeriodicPadding2D │      0 │\n",
       "│\u001b[2m \u001b[0m\u001b[2m371\u001b[0m\u001b[2m \u001b[0m│ net.up.8.res.conv2.conv       │ Conv2d            │  1.3 K │\n",
       "│\u001b[2m \u001b[0m\u001b[2m372\u001b[0m\u001b[2m \u001b[0m│ net.up.8.res.shortcut         │ Conv2d            │    300 │\n",
       "│\u001b[2m \u001b[0m\u001b[2m373\u001b[0m\u001b[2m \u001b[0m│ net.up.8.res.norm1            │ BatchNorm2d       │     24 │\n",
       "│\u001b[2m \u001b[0m\u001b[2m374\u001b[0m\u001b[2m \u001b[0m│ net.up.8.res.norm2            │ BatchNorm2d       │     24 │\n",
       "│\u001b[2m \u001b[0m\u001b[2m375\u001b[0m\u001b[2m \u001b[0m│ net.up.8.res.drop             │ Dropout           │      0 │\n",
       "│\u001b[2m \u001b[0m\u001b[2m376\u001b[0m\u001b[2m \u001b[0m│ net.up.8.attn                 │ Identity          │      0 │\n",
       "│\u001b[2m \u001b[0m\u001b[2m377\u001b[0m\u001b[2m \u001b[0m│ net.up.9                      │ UpBlock           │  4.3 K │\n",
       "│\u001b[2m \u001b[0m\u001b[2m378\u001b[0m\u001b[2m \u001b[0m│ net.up.9.res                  │ ResidualBlock     │  4.3 K │\n",
       "│\u001b[2m \u001b[0m\u001b[2m379\u001b[0m\u001b[2m \u001b[0m│ net.up.9.res.activation       │ LeakyReLU         │      0 │\n",
       "│\u001b[2m \u001b[0m\u001b[2m380\u001b[0m\u001b[2m \u001b[0m│ net.up.9.res.conv1            │ PeriodicConv2D    │  2.6 K │\n",
       "│\u001b[2m \u001b[0m\u001b[2m381\u001b[0m\u001b[2m \u001b[0m│ net.up.9.res.conv1.padding    │ PeriodicPadding2D │      0 │\n",
       "│\u001b[2m \u001b[0m\u001b[2m382\u001b[0m\u001b[2m \u001b[0m│ net.up.9.res.conv1.conv       │ Conv2d            │  2.6 K │\n",
       "│\u001b[2m \u001b[0m\u001b[2m383\u001b[0m\u001b[2m \u001b[0m│ net.up.9.res.conv2            │ PeriodicConv2D    │  1.3 K │\n",
       "│\u001b[2m \u001b[0m\u001b[2m384\u001b[0m\u001b[2m \u001b[0m│ net.up.9.res.conv2.padding    │ PeriodicPadding2D │      0 │\n",
       "│\u001b[2m \u001b[0m\u001b[2m385\u001b[0m\u001b[2m \u001b[0m│ net.up.9.res.conv2.conv       │ Conv2d            │  1.3 K │\n",
       "│\u001b[2m \u001b[0m\u001b[2m386\u001b[0m\u001b[2m \u001b[0m│ net.up.9.res.shortcut         │ Conv2d            │    300 │\n",
       "│\u001b[2m \u001b[0m\u001b[2m387\u001b[0m\u001b[2m \u001b[0m│ net.up.9.res.norm1            │ BatchNorm2d       │     24 │\n",
       "│\u001b[2m \u001b[0m\u001b[2m388\u001b[0m\u001b[2m \u001b[0m│ net.up.9.res.norm2            │ BatchNorm2d       │     24 │\n",
       "│\u001b[2m \u001b[0m\u001b[2m389\u001b[0m\u001b[2m \u001b[0m│ net.up.9.res.drop             │ Dropout           │      0 │\n",
       "│\u001b[2m \u001b[0m\u001b[2m390\u001b[0m\u001b[2m \u001b[0m│ net.up.9.attn                 │ Identity          │      0 │\n",
       "│\u001b[2m \u001b[0m\u001b[2m391\u001b[0m\u001b[2m \u001b[0m│ net.up.10                     │ UpBlock           │  1.4 K │\n",
       "│\u001b[2m \u001b[0m\u001b[2m392\u001b[0m\u001b[2m \u001b[0m│ net.up.10.res                 │ ResidualBlock     │  1.4 K │\n",
       "│\u001b[2m \u001b[0m\u001b[2m393\u001b[0m\u001b[2m \u001b[0m│ net.up.10.res.activation      │ LeakyReLU         │      0 │\n",
       "│\u001b[2m \u001b[0m\u001b[2m394\u001b[0m\u001b[2m \u001b[0m│ net.up.10.res.conv1           │ PeriodicConv2D    │    978 │\n",
       "│\u001b[2m \u001b[0m\u001b[2m395\u001b[0m\u001b[2m \u001b[0m│ net.up.10.res.conv1.padding   │ PeriodicPadding2D │      0 │\n",
       "│\u001b[2m \u001b[0m\u001b[2m396\u001b[0m\u001b[2m \u001b[0m│ net.up.10.res.conv1.conv      │ Conv2d            │    978 │\n",
       "│\u001b[2m \u001b[0m\u001b[2m397\u001b[0m\u001b[2m \u001b[0m│ net.up.10.res.conv2           │ PeriodicConv2D    │    330 │\n",
       "│\u001b[2m \u001b[0m\u001b[2m398\u001b[0m\u001b[2m \u001b[0m│ net.up.10.res.conv2.padding   │ PeriodicPadding2D │      0 │\n",
       "│\u001b[2m \u001b[0m\u001b[2m399\u001b[0m\u001b[2m \u001b[0m│ net.up.10.res.conv2.conv      │ Conv2d            │    330 │\n",
       "│\u001b[2m \u001b[0m\u001b[2m400\u001b[0m\u001b[2m \u001b[0m│ net.up.10.res.shortcut        │ Conv2d            │    114 │\n",
       "│\u001b[2m \u001b[0m\u001b[2m401\u001b[0m\u001b[2m \u001b[0m│ net.up.10.res.norm1           │ BatchNorm2d       │     12 │\n",
       "│\u001b[2m \u001b[0m\u001b[2m402\u001b[0m\u001b[2m \u001b[0m│ net.up.10.res.norm2           │ BatchNorm2d       │     12 │\n",
       "│\u001b[2m \u001b[0m\u001b[2m403\u001b[0m\u001b[2m \u001b[0m│ net.up.10.res.drop            │ Dropout           │      0 │\n",
       "│\u001b[2m \u001b[0m\u001b[2m404\u001b[0m\u001b[2m \u001b[0m│ net.up.10.attn                │ Identity          │      0 │\n",
       "│\u001b[2m \u001b[0m\u001b[2m405\u001b[0m\u001b[2m \u001b[0m│ net.up.11                     │ Upsample          │    582 │\n",
       "│\u001b[2m \u001b[0m\u001b[2m406\u001b[0m\u001b[2m \u001b[0m│ net.up.11.conv                │ ConvTranspose2d   │    582 │\n",
       "│\u001b[2m \u001b[0m\u001b[2m407\u001b[0m\u001b[2m \u001b[0m│ net.up.12                     │ UpBlock           │  1.1 K │\n",
       "│\u001b[2m \u001b[0m\u001b[2m408\u001b[0m\u001b[2m \u001b[0m│ net.up.12.res                 │ ResidualBlock     │  1.1 K │\n",
       "│\u001b[2m \u001b[0m\u001b[2m409\u001b[0m\u001b[2m \u001b[0m│ net.up.12.res.activation      │ LeakyReLU         │      0 │\n",
       "│\u001b[2m \u001b[0m\u001b[2m410\u001b[0m\u001b[2m \u001b[0m│ net.up.12.res.conv1           │ PeriodicConv2D    │    654 │\n",
       "│\u001b[2m \u001b[0m\u001b[2m411\u001b[0m\u001b[2m \u001b[0m│ net.up.12.res.conv1.padding   │ PeriodicPadding2D │      0 │\n",
       "│\u001b[2m \u001b[0m\u001b[2m412\u001b[0m\u001b[2m \u001b[0m│ net.up.12.res.conv1.conv      │ Conv2d            │    654 │\n",
       "│\u001b[2m \u001b[0m\u001b[2m413\u001b[0m\u001b[2m \u001b[0m│ net.up.12.res.conv2           │ PeriodicConv2D    │    330 │\n",
       "│\u001b[2m \u001b[0m\u001b[2m414\u001b[0m\u001b[2m \u001b[0m│ net.up.12.res.conv2.padding   │ PeriodicPadding2D │      0 │\n",
       "│\u001b[2m \u001b[0m\u001b[2m415\u001b[0m\u001b[2m \u001b[0m│ net.up.12.res.conv2.conv      │ Conv2d            │    330 │\n",
       "│\u001b[2m \u001b[0m\u001b[2m416\u001b[0m\u001b[2m \u001b[0m│ net.up.12.res.shortcut        │ Conv2d            │     78 │\n",
       "│\u001b[2m \u001b[0m\u001b[2m417\u001b[0m\u001b[2m \u001b[0m│ net.up.12.res.norm1           │ BatchNorm2d       │     12 │\n",
       "│\u001b[2m \u001b[0m\u001b[2m418\u001b[0m\u001b[2m \u001b[0m│ net.up.12.res.norm2           │ BatchNorm2d       │     12 │\n",
       "│\u001b[2m \u001b[0m\u001b[2m419\u001b[0m\u001b[2m \u001b[0m│ net.up.12.res.drop            │ Dropout           │      0 │\n",
       "│\u001b[2m \u001b[0m\u001b[2m420\u001b[0m\u001b[2m \u001b[0m│ net.up.12.attn                │ Identity          │      0 │\n",
       "│\u001b[2m \u001b[0m\u001b[2m421\u001b[0m\u001b[2m \u001b[0m│ net.up.13                     │ UpBlock           │  1.1 K │\n",
       "│\u001b[2m \u001b[0m\u001b[2m422\u001b[0m\u001b[2m \u001b[0m│ net.up.13.res                 │ ResidualBlock     │  1.1 K │\n",
       "│\u001b[2m \u001b[0m\u001b[2m423\u001b[0m\u001b[2m \u001b[0m│ net.up.13.res.activation      │ LeakyReLU         │      0 │\n",
       "│\u001b[2m \u001b[0m\u001b[2m424\u001b[0m\u001b[2m \u001b[0m│ net.up.13.res.conv1           │ PeriodicConv2D    │    654 │\n",
       "│\u001b[2m \u001b[0m\u001b[2m425\u001b[0m\u001b[2m \u001b[0m│ net.up.13.res.conv1.padding   │ PeriodicPadding2D │      0 │\n",
       "│\u001b[2m \u001b[0m\u001b[2m426\u001b[0m\u001b[2m \u001b[0m│ net.up.13.res.conv1.conv      │ Conv2d            │    654 │\n",
       "│\u001b[2m \u001b[0m\u001b[2m427\u001b[0m\u001b[2m \u001b[0m│ net.up.13.res.conv2           │ PeriodicConv2D    │    330 │\n",
       "│\u001b[2m \u001b[0m\u001b[2m428\u001b[0m\u001b[2m \u001b[0m│ net.up.13.res.conv2.padding   │ PeriodicPadding2D │      0 │\n",
       "│\u001b[2m \u001b[0m\u001b[2m429\u001b[0m\u001b[2m \u001b[0m│ net.up.13.res.conv2.conv      │ Conv2d            │    330 │\n",
       "│\u001b[2m \u001b[0m\u001b[2m430\u001b[0m\u001b[2m \u001b[0m│ net.up.13.res.shortcut        │ Conv2d            │     78 │\n",
       "│\u001b[2m \u001b[0m\u001b[2m431\u001b[0m\u001b[2m \u001b[0m│ net.up.13.res.norm1           │ BatchNorm2d       │     12 │\n",
       "│\u001b[2m \u001b[0m\u001b[2m432\u001b[0m\u001b[2m \u001b[0m│ net.up.13.res.norm2           │ BatchNorm2d       │     12 │\n",
       "│\u001b[2m \u001b[0m\u001b[2m433\u001b[0m\u001b[2m \u001b[0m│ net.up.13.res.drop            │ Dropout           │      0 │\n",
       "│\u001b[2m \u001b[0m\u001b[2m434\u001b[0m\u001b[2m \u001b[0m│ net.up.13.attn                │ Identity          │      0 │\n",
       "│\u001b[2m \u001b[0m\u001b[2m435\u001b[0m\u001b[2m \u001b[0m│ net.up.14                     │ UpBlock           │  1.1 K │\n",
       "│\u001b[2m \u001b[0m\u001b[2m436\u001b[0m\u001b[2m \u001b[0m│ net.up.14.res                 │ ResidualBlock     │  1.1 K │\n",
       "│\u001b[2m \u001b[0m\u001b[2m437\u001b[0m\u001b[2m \u001b[0m│ net.up.14.res.activation      │ LeakyReLU         │      0 │\n",
       "│\u001b[2m \u001b[0m\u001b[2m438\u001b[0m\u001b[2m \u001b[0m│ net.up.14.res.conv1           │ PeriodicConv2D    │    654 │\n",
       "│\u001b[2m \u001b[0m\u001b[2m439\u001b[0m\u001b[2m \u001b[0m│ net.up.14.res.conv1.padding   │ PeriodicPadding2D │      0 │\n",
       "│\u001b[2m \u001b[0m\u001b[2m440\u001b[0m\u001b[2m \u001b[0m│ net.up.14.res.conv1.conv      │ Conv2d            │    654 │\n",
       "│\u001b[2m \u001b[0m\u001b[2m441\u001b[0m\u001b[2m \u001b[0m│ net.up.14.res.conv2           │ PeriodicConv2D    │    330 │\n",
       "│\u001b[2m \u001b[0m\u001b[2m442\u001b[0m\u001b[2m \u001b[0m│ net.up.14.res.conv2.padding   │ PeriodicPadding2D │      0 │\n",
       "│\u001b[2m \u001b[0m\u001b[2m443\u001b[0m\u001b[2m \u001b[0m│ net.up.14.res.conv2.conv      │ Conv2d            │    330 │\n",
       "│\u001b[2m \u001b[0m\u001b[2m444\u001b[0m\u001b[2m \u001b[0m│ net.up.14.res.shortcut        │ Conv2d            │     78 │\n",
       "│\u001b[2m \u001b[0m\u001b[2m445\u001b[0m\u001b[2m \u001b[0m│ net.up.14.res.norm1           │ BatchNorm2d       │     12 │\n",
       "│\u001b[2m \u001b[0m\u001b[2m446\u001b[0m\u001b[2m \u001b[0m│ net.up.14.res.norm2           │ BatchNorm2d       │     12 │\n",
       "│\u001b[2m \u001b[0m\u001b[2m447\u001b[0m\u001b[2m \u001b[0m│ net.up.14.res.drop            │ Dropout           │      0 │\n",
       "│\u001b[2m \u001b[0m\u001b[2m448\u001b[0m\u001b[2m \u001b[0m│ net.up.14.attn                │ Identity          │      0 │\n",
       "│\u001b[2m \u001b[0m\u001b[2m449\u001b[0m\u001b[2m \u001b[0m│ net.up.15                     │ UpBlock           │  1.1 K │\n",
       "│\u001b[2m \u001b[0m\u001b[2m450\u001b[0m\u001b[2m \u001b[0m│ net.up.15.res                 │ ResidualBlock     │  1.1 K │\n",
       "│\u001b[2m \u001b[0m\u001b[2m451\u001b[0m\u001b[2m \u001b[0m│ net.up.15.res.activation      │ LeakyReLU         │      0 │\n",
       "│\u001b[2m \u001b[0m\u001b[2m452\u001b[0m\u001b[2m \u001b[0m│ net.up.15.res.conv1           │ PeriodicConv2D    │    654 │\n",
       "│\u001b[2m \u001b[0m\u001b[2m453\u001b[0m\u001b[2m \u001b[0m│ net.up.15.res.conv1.padding   │ PeriodicPadding2D │      0 │\n",
       "│\u001b[2m \u001b[0m\u001b[2m454\u001b[0m\u001b[2m \u001b[0m│ net.up.15.res.conv1.conv      │ Conv2d            │    654 │\n",
       "│\u001b[2m \u001b[0m\u001b[2m455\u001b[0m\u001b[2m \u001b[0m│ net.up.15.res.conv2           │ PeriodicConv2D    │    330 │\n",
       "│\u001b[2m \u001b[0m\u001b[2m456\u001b[0m\u001b[2m \u001b[0m│ net.up.15.res.conv2.padding   │ PeriodicPadding2D │      0 │\n",
       "│\u001b[2m \u001b[0m\u001b[2m457\u001b[0m\u001b[2m \u001b[0m│ net.up.15.res.conv2.conv      │ Conv2d            │    330 │\n",
       "│\u001b[2m \u001b[0m\u001b[2m458\u001b[0m\u001b[2m \u001b[0m│ net.up.15.res.shortcut        │ Conv2d            │     78 │\n",
       "│\u001b[2m \u001b[0m\u001b[2m459\u001b[0m\u001b[2m \u001b[0m│ net.up.15.res.norm1           │ BatchNorm2d       │     12 │\n",
       "│\u001b[2m \u001b[0m\u001b[2m460\u001b[0m\u001b[2m \u001b[0m│ net.up.15.res.norm2           │ BatchNorm2d       │     12 │\n",
       "│\u001b[2m \u001b[0m\u001b[2m461\u001b[0m\u001b[2m \u001b[0m│ net.up.15.res.drop            │ Dropout           │      0 │\n",
       "│\u001b[2m \u001b[0m\u001b[2m462\u001b[0m\u001b[2m \u001b[0m│ net.up.15.attn                │ Identity          │      0 │\n",
       "│\u001b[2m \u001b[0m\u001b[2m463\u001b[0m\u001b[2m \u001b[0m│ net.up.16                     │ UpBlock           │    372 │\n",
       "│\u001b[2m \u001b[0m\u001b[2m464\u001b[0m\u001b[2m \u001b[0m│ net.up.16.res                 │ ResidualBlock     │    372 │\n",
       "│\u001b[2m \u001b[0m\u001b[2m465\u001b[0m\u001b[2m \u001b[0m│ net.up.16.res.activation      │ LeakyReLU         │      0 │\n",
       "│\u001b[2m \u001b[0m\u001b[2m466\u001b[0m\u001b[2m \u001b[0m│ net.up.16.res.conv1           │ PeriodicConv2D    │    246 │\n",
       "│\u001b[2m \u001b[0m\u001b[2m467\u001b[0m\u001b[2m \u001b[0m│ net.up.16.res.conv1.padding   │ PeriodicPadding2D │      0 │\n",
       "│\u001b[2m \u001b[0m\u001b[2m468\u001b[0m\u001b[2m \u001b[0m│ net.up.16.res.conv1.conv      │ Conv2d            │    246 │\n",
       "│\u001b[2m \u001b[0m\u001b[2m469\u001b[0m\u001b[2m \u001b[0m│ net.up.16.res.conv2           │ PeriodicConv2D    │     84 │\n",
       "│\u001b[2m \u001b[0m\u001b[2m470\u001b[0m\u001b[2m \u001b[0m│ net.up.16.res.conv2.padding   │ PeriodicPadding2D │      0 │\n",
       "│\u001b[2m \u001b[0m\u001b[2m471\u001b[0m\u001b[2m \u001b[0m│ net.up.16.res.conv2.conv      │ Conv2d            │     84 │\n",
       "│\u001b[2m \u001b[0m\u001b[2m472\u001b[0m\u001b[2m \u001b[0m│ net.up.16.res.shortcut        │ Conv2d            │     30 │\n",
       "│\u001b[2m \u001b[0m\u001b[2m473\u001b[0m\u001b[2m \u001b[0m│ net.up.16.res.norm1           │ BatchNorm2d       │      6 │\n",
       "│\u001b[2m \u001b[0m\u001b[2m474\u001b[0m\u001b[2m \u001b[0m│ net.up.16.res.norm2           │ BatchNorm2d       │      6 │\n",
       "│\u001b[2m \u001b[0m\u001b[2m475\u001b[0m\u001b[2m \u001b[0m│ net.up.16.res.drop            │ Dropout           │      0 │\n",
       "│\u001b[2m \u001b[0m\u001b[2m476\u001b[0m\u001b[2m \u001b[0m│ net.up.16.attn                │ Identity          │      0 │\n",
       "│\u001b[2m \u001b[0m\u001b[2m477\u001b[0m\u001b[2m \u001b[0m│ net.up.17                     │ Upsample          │    147 │\n",
       "│\u001b[2m \u001b[0m\u001b[2m478\u001b[0m\u001b[2m \u001b[0m│ net.up.17.conv                │ ConvTranspose2d   │    147 │\n",
       "│\u001b[2m \u001b[0m\u001b[2m479\u001b[0m\u001b[2m \u001b[0m│ net.up.18                     │ UpBlock           │    282 │\n",
       "│\u001b[2m \u001b[0m\u001b[2m480\u001b[0m\u001b[2m \u001b[0m│ net.up.18.res                 │ ResidualBlock     │    282 │\n",
       "│\u001b[2m \u001b[0m\u001b[2m481\u001b[0m\u001b[2m \u001b[0m│ net.up.18.res.activation      │ LeakyReLU         │      0 │\n",
       "│\u001b[2m \u001b[0m\u001b[2m482\u001b[0m\u001b[2m \u001b[0m│ net.up.18.res.conv1           │ PeriodicConv2D    │    165 │\n",
       "│\u001b[2m \u001b[0m\u001b[2m483\u001b[0m\u001b[2m \u001b[0m│ net.up.18.res.conv1.padding   │ PeriodicPadding2D │      0 │\n",
       "│\u001b[2m \u001b[0m\u001b[2m484\u001b[0m\u001b[2m \u001b[0m│ net.up.18.res.conv1.conv      │ Conv2d            │    165 │\n",
       "│\u001b[2m \u001b[0m\u001b[2m485\u001b[0m\u001b[2m \u001b[0m│ net.up.18.res.conv2           │ PeriodicConv2D    │     84 │\n",
       "│\u001b[2m \u001b[0m\u001b[2m486\u001b[0m\u001b[2m \u001b[0m│ net.up.18.res.conv2.padding   │ PeriodicPadding2D │      0 │\n",
       "│\u001b[2m \u001b[0m\u001b[2m487\u001b[0m\u001b[2m \u001b[0m│ net.up.18.res.conv2.conv      │ Conv2d            │     84 │\n",
       "│\u001b[2m \u001b[0m\u001b[2m488\u001b[0m\u001b[2m \u001b[0m│ net.up.18.res.shortcut        │ Conv2d            │     21 │\n",
       "│\u001b[2m \u001b[0m\u001b[2m489\u001b[0m\u001b[2m \u001b[0m│ net.up.18.res.norm1           │ BatchNorm2d       │      6 │\n",
       "│\u001b[2m \u001b[0m\u001b[2m490\u001b[0m\u001b[2m \u001b[0m│ net.up.18.res.norm2           │ BatchNorm2d       │      6 │\n",
       "│\u001b[2m \u001b[0m\u001b[2m491\u001b[0m\u001b[2m \u001b[0m│ net.up.18.res.drop            │ Dropout           │      0 │\n",
       "│\u001b[2m \u001b[0m\u001b[2m492\u001b[0m\u001b[2m \u001b[0m│ net.up.18.attn                │ Identity          │      0 │\n",
       "│\u001b[2m \u001b[0m\u001b[2m493\u001b[0m\u001b[2m \u001b[0m│ net.up.19                     │ UpBlock           │    282 │\n",
       "│\u001b[2m \u001b[0m\u001b[2m494\u001b[0m\u001b[2m \u001b[0m│ net.up.19.res                 │ ResidualBlock     │    282 │\n",
       "│\u001b[2m \u001b[0m\u001b[2m495\u001b[0m\u001b[2m \u001b[0m│ net.up.19.res.activation      │ LeakyReLU         │      0 │\n",
       "│\u001b[2m \u001b[0m\u001b[2m496\u001b[0m\u001b[2m \u001b[0m│ net.up.19.res.conv1           │ PeriodicConv2D    │    165 │\n",
       "│\u001b[2m \u001b[0m\u001b[2m497\u001b[0m\u001b[2m \u001b[0m│ net.up.19.res.conv1.padding   │ PeriodicPadding2D │      0 │\n",
       "│\u001b[2m \u001b[0m\u001b[2m498\u001b[0m\u001b[2m \u001b[0m│ net.up.19.res.conv1.conv      │ Conv2d            │    165 │\n",
       "│\u001b[2m \u001b[0m\u001b[2m499\u001b[0m\u001b[2m \u001b[0m│ net.up.19.res.conv2           │ PeriodicConv2D    │     84 │\n",
       "│\u001b[2m \u001b[0m\u001b[2m500\u001b[0m\u001b[2m \u001b[0m│ net.up.19.res.conv2.padding   │ PeriodicPadding2D │      0 │\n",
       "│\u001b[2m \u001b[0m\u001b[2m501\u001b[0m\u001b[2m \u001b[0m│ net.up.19.res.conv2.conv      │ Conv2d            │     84 │\n",
       "│\u001b[2m \u001b[0m\u001b[2m502\u001b[0m\u001b[2m \u001b[0m│ net.up.19.res.shortcut        │ Conv2d            │     21 │\n",
       "│\u001b[2m \u001b[0m\u001b[2m503\u001b[0m\u001b[2m \u001b[0m│ net.up.19.res.norm1           │ BatchNorm2d       │      6 │\n",
       "│\u001b[2m \u001b[0m\u001b[2m504\u001b[0m\u001b[2m \u001b[0m│ net.up.19.res.norm2           │ BatchNorm2d       │      6 │\n",
       "│\u001b[2m \u001b[0m\u001b[2m505\u001b[0m\u001b[2m \u001b[0m│ net.up.19.res.drop            │ Dropout           │      0 │\n",
       "│\u001b[2m \u001b[0m\u001b[2m506\u001b[0m\u001b[2m \u001b[0m│ net.up.19.attn                │ Identity          │      0 │\n",
       "│\u001b[2m \u001b[0m\u001b[2m507\u001b[0m\u001b[2m \u001b[0m│ net.up.20                     │ UpBlock           │    282 │\n",
       "│\u001b[2m \u001b[0m\u001b[2m508\u001b[0m\u001b[2m \u001b[0m│ net.up.20.res                 │ ResidualBlock     │    282 │\n",
       "│\u001b[2m \u001b[0m\u001b[2m509\u001b[0m\u001b[2m \u001b[0m│ net.up.20.res.activation      │ LeakyReLU         │      0 │\n",
       "│\u001b[2m \u001b[0m\u001b[2m510\u001b[0m\u001b[2m \u001b[0m│ net.up.20.res.conv1           │ PeriodicConv2D    │    165 │\n",
       "│\u001b[2m \u001b[0m\u001b[2m511\u001b[0m\u001b[2m \u001b[0m│ net.up.20.res.conv1.padding   │ PeriodicPadding2D │      0 │\n",
       "│\u001b[2m \u001b[0m\u001b[2m512\u001b[0m\u001b[2m \u001b[0m│ net.up.20.res.conv1.conv      │ Conv2d            │    165 │\n",
       "│\u001b[2m \u001b[0m\u001b[2m513\u001b[0m\u001b[2m \u001b[0m│ net.up.20.res.conv2           │ PeriodicConv2D    │     84 │\n",
       "│\u001b[2m \u001b[0m\u001b[2m514\u001b[0m\u001b[2m \u001b[0m│ net.up.20.res.conv2.padding   │ PeriodicPadding2D │      0 │\n",
       "│\u001b[2m \u001b[0m\u001b[2m515\u001b[0m\u001b[2m \u001b[0m│ net.up.20.res.conv2.conv      │ Conv2d            │     84 │\n",
       "│\u001b[2m \u001b[0m\u001b[2m516\u001b[0m\u001b[2m \u001b[0m│ net.up.20.res.shortcut        │ Conv2d            │     21 │\n",
       "│\u001b[2m \u001b[0m\u001b[2m517\u001b[0m\u001b[2m \u001b[0m│ net.up.20.res.norm1           │ BatchNorm2d       │      6 │\n",
       "│\u001b[2m \u001b[0m\u001b[2m518\u001b[0m\u001b[2m \u001b[0m│ net.up.20.res.norm2           │ BatchNorm2d       │      6 │\n",
       "│\u001b[2m \u001b[0m\u001b[2m519\u001b[0m\u001b[2m \u001b[0m│ net.up.20.res.drop            │ Dropout           │      0 │\n",
       "│\u001b[2m \u001b[0m\u001b[2m520\u001b[0m\u001b[2m \u001b[0m│ net.up.20.attn                │ Identity          │      0 │\n",
       "│\u001b[2m \u001b[0m\u001b[2m521\u001b[0m\u001b[2m \u001b[0m│ net.up.21                     │ UpBlock           │    282 │\n",
       "│\u001b[2m \u001b[0m\u001b[2m522\u001b[0m\u001b[2m \u001b[0m│ net.up.21.res                 │ ResidualBlock     │    282 │\n",
       "│\u001b[2m \u001b[0m\u001b[2m523\u001b[0m\u001b[2m \u001b[0m│ net.up.21.res.activation      │ LeakyReLU         │      0 │\n",
       "│\u001b[2m \u001b[0m\u001b[2m524\u001b[0m\u001b[2m \u001b[0m│ net.up.21.res.conv1           │ PeriodicConv2D    │    165 │\n",
       "│\u001b[2m \u001b[0m\u001b[2m525\u001b[0m\u001b[2m \u001b[0m│ net.up.21.res.conv1.padding   │ PeriodicPadding2D │      0 │\n",
       "│\u001b[2m \u001b[0m\u001b[2m526\u001b[0m\u001b[2m \u001b[0m│ net.up.21.res.conv1.conv      │ Conv2d            │    165 │\n",
       "│\u001b[2m \u001b[0m\u001b[2m527\u001b[0m\u001b[2m \u001b[0m│ net.up.21.res.conv2           │ PeriodicConv2D    │     84 │\n",
       "│\u001b[2m \u001b[0m\u001b[2m528\u001b[0m\u001b[2m \u001b[0m│ net.up.21.res.conv2.padding   │ PeriodicPadding2D │      0 │\n",
       "│\u001b[2m \u001b[0m\u001b[2m529\u001b[0m\u001b[2m \u001b[0m│ net.up.21.res.conv2.conv      │ Conv2d            │     84 │\n",
       "│\u001b[2m \u001b[0m\u001b[2m530\u001b[0m\u001b[2m \u001b[0m│ net.up.21.res.shortcut        │ Conv2d            │     21 │\n",
       "│\u001b[2m \u001b[0m\u001b[2m531\u001b[0m\u001b[2m \u001b[0m│ net.up.21.res.norm1           │ BatchNorm2d       │      6 │\n",
       "│\u001b[2m \u001b[0m\u001b[2m532\u001b[0m\u001b[2m \u001b[0m│ net.up.21.res.norm2           │ BatchNorm2d       │      6 │\n",
       "│\u001b[2m \u001b[0m\u001b[2m533\u001b[0m\u001b[2m \u001b[0m│ net.up.21.res.drop            │ Dropout           │      0 │\n",
       "│\u001b[2m \u001b[0m\u001b[2m534\u001b[0m\u001b[2m \u001b[0m│ net.up.21.attn                │ Identity          │      0 │\n",
       "│\u001b[2m \u001b[0m\u001b[2m535\u001b[0m\u001b[2m \u001b[0m│ net.up.22                     │ UpBlock           │    282 │\n",
       "│\u001b[2m \u001b[0m\u001b[2m536\u001b[0m\u001b[2m \u001b[0m│ net.up.22.res                 │ ResidualBlock     │    282 │\n",
       "│\u001b[2m \u001b[0m\u001b[2m537\u001b[0m\u001b[2m \u001b[0m│ net.up.22.res.activation      │ LeakyReLU         │      0 │\n",
       "│\u001b[2m \u001b[0m\u001b[2m538\u001b[0m\u001b[2m \u001b[0m│ net.up.22.res.conv1           │ PeriodicConv2D    │    165 │\n",
       "│\u001b[2m \u001b[0m\u001b[2m539\u001b[0m\u001b[2m \u001b[0m│ net.up.22.res.conv1.padding   │ PeriodicPadding2D │      0 │\n",
       "│\u001b[2m \u001b[0m\u001b[2m540\u001b[0m\u001b[2m \u001b[0m│ net.up.22.res.conv1.conv      │ Conv2d            │    165 │\n",
       "│\u001b[2m \u001b[0m\u001b[2m541\u001b[0m\u001b[2m \u001b[0m│ net.up.22.res.conv2           │ PeriodicConv2D    │     84 │\n",
       "│\u001b[2m \u001b[0m\u001b[2m542\u001b[0m\u001b[2m \u001b[0m│ net.up.22.res.conv2.padding   │ PeriodicPadding2D │      0 │\n",
       "│\u001b[2m \u001b[0m\u001b[2m543\u001b[0m\u001b[2m \u001b[0m│ net.up.22.res.conv2.conv      │ Conv2d            │     84 │\n",
       "│\u001b[2m \u001b[0m\u001b[2m544\u001b[0m\u001b[2m \u001b[0m│ net.up.22.res.shortcut        │ Conv2d            │     21 │\n",
       "│\u001b[2m \u001b[0m\u001b[2m545\u001b[0m\u001b[2m \u001b[0m│ net.up.22.res.norm1           │ BatchNorm2d       │      6 │\n",
       "│\u001b[2m \u001b[0m\u001b[2m546\u001b[0m\u001b[2m \u001b[0m│ net.up.22.res.norm2           │ BatchNorm2d       │      6 │\n",
       "│\u001b[2m \u001b[0m\u001b[2m547\u001b[0m\u001b[2m \u001b[0m│ net.up.22.res.drop            │ Dropout           │      0 │\n",
       "│\u001b[2m \u001b[0m\u001b[2m548\u001b[0m\u001b[2m \u001b[0m│ net.up.22.attn                │ Identity          │      0 │\n",
       "│\u001b[2m \u001b[0m\u001b[2m549\u001b[0m\u001b[2m \u001b[0m│ net.upsamplers                │ ModuleList        │      0 │\n",
       "│\u001b[2m \u001b[0m\u001b[2m550\u001b[0m\u001b[2m \u001b[0m│ net.norm                      │ BatchNorm2d       │      6 │\n",
       "│\u001b[2m \u001b[0m\u001b[2m551\u001b[0m\u001b[2m \u001b[0m│ net.final                     │ PeriodicConv2D    │    148 │\n",
       "│\u001b[2m \u001b[0m\u001b[2m552\u001b[0m\u001b[2m \u001b[0m│ net.final.padding             │ PeriodicPadding2D │      0 │\n",
       "│\u001b[2m \u001b[0m\u001b[2m553\u001b[0m\u001b[2m \u001b[0m│ net.final.conv                │ Conv2d            │    148 │\n",
       "│\u001b[2m \u001b[0m\u001b[2m554\u001b[0m\u001b[2m \u001b[0m│ denormalization               │ Normalize         │      0 │\n",
       "└─────┴───────────────────────────────┴───────────────────┴────────┘\n"
      ]
     },
     "metadata": {},
     "output_type": "display_data"
    },
    {
     "data": {
      "text/html": [
       "<pre style=\"white-space:pre;overflow-x:auto;line-height:normal;font-family:Menlo,'DejaVu Sans Mono',consolas,'Courier New',monospace\"><span style=\"font-weight: bold\">Trainable params</span>: 555 K                                                                                            \n",
       "<span style=\"font-weight: bold\">Non-trainable params</span>: 0                                                                                            \n",
       "<span style=\"font-weight: bold\">Total params</span>: 555 K                                                                                                \n",
       "<span style=\"font-weight: bold\">Total estimated model params size (MB)</span>: 1                                                                          \n",
       "</pre>\n"
      ],
      "text/plain": [
       "\u001b[1mTrainable params\u001b[0m: 555 K                                                                                            \n",
       "\u001b[1mNon-trainable params\u001b[0m: 0                                                                                            \n",
       "\u001b[1mTotal params\u001b[0m: 555 K                                                                                                \n",
       "\u001b[1mTotal estimated model params size (MB)\u001b[0m: 1                                                                          \n"
      ]
     },
     "metadata": {},
     "output_type": "display_data"
    },
    {
     "data": {
      "application/vnd.jupyter.widget-view+json": {
       "model_id": "4fe42de573144d628abcc92f32e806cc",
       "version_major": 2,
       "version_minor": 0
      },
      "text/plain": [
       "Output()"
      ]
     },
     "metadata": {},
     "output_type": "display_data"
    },
    {
     "data": {
      "text/html": [
       "<pre style=\"white-space:pre;overflow-x:auto;line-height:normal;font-family:Menlo,'DejaVu Sans Mono',consolas,'Courier New',monospace\">/home/felix/Documents/Climate/climate_env/lib/python3.8/site-packages/pytorch_lightning/trainer/call.py:48: \n",
       "UserWarning: Detected KeyboardInterrupt, attempting graceful shutdown...\n",
       "  rank_zero_warn(\"Detected KeyboardInterrupt, attempting graceful shutdown...\")\n",
       "</pre>\n"
      ],
      "text/plain": [
       "/home/felix/Documents/Climate/climate_env/lib/python3.8/site-packages/pytorch_lightning/trainer/call.py:48: \n",
       "UserWarning: Detected KeyboardInterrupt, attempting graceful shutdown...\n",
       "  rank_zero_warn(\"Detected KeyboardInterrupt, attempting graceful shutdown...\")\n"
      ]
     },
     "metadata": {},
     "output_type": "display_data"
    },
    {
     "data": {
      "text/html": [
       "<pre style=\"white-space:pre;overflow-x:auto;line-height:normal;font-family:Menlo,'DejaVu Sans Mono',consolas,'Courier New',monospace\"></pre>\n"
      ],
      "text/plain": []
     },
     "metadata": {},
     "output_type": "display_data"
    },
    {
     "data": {
      "text/html": [
       "<pre style=\"white-space:pre;overflow-x:auto;line-height:normal;font-family:Menlo,'DejaVu Sans Mono',consolas,'Courier New',monospace\">\n",
       "</pre>\n"
      ],
      "text/plain": [
       "\n"
      ]
     },
     "metadata": {},
     "output_type": "display_data"
    }
   ],
   "source": [
    "trainer.fit(model_module, data_module)"
   ]
  },
  {
   "cell_type": "code",
   "execution_count": null,
   "metadata": {},
   "outputs": [],
   "source": [
    "torch.save(model_module.state_dict(), f\"{base_dir}/saved_models/0.75UNet\")"
   ]
  },
  {
   "cell_type": "markdown",
   "metadata": {},
   "source": [
    "## Load FactorizedPrior(or more) Model and Train"
   ]
  },
  {
   "cell_type": "code",
   "execution_count": 16,
   "metadata": {},
   "outputs": [],
   "source": [
    "from climate_learn.models import load_model, set_climatology\n",
    "\n",
    "model_kwargs = {\n",
    "    \"M\": 64,\n",
    "    \"N\": 128\n",
    "}\n",
    "\n",
    "optim_kwargs = {\n",
    "    \"optimizer\": \"adamw\",\n",
    "    \"lr\": 1e-4,\n",
    "    \"weight_decay\": 1e-5,\n",
    "    \"warmup_epochs\": 1,\n",
    "    \"max_epochs\": 5,\n",
    "}\n",
    "\n",
    "model_module = load_model(name = \"factorized_prior\", task = \"compression\", model_kwargs = model_kwargs, optim_kwargs = optim_kwargs)\n",
    "set_climatology(model_module, data_module)"
   ]
  },
  {
   "cell_type": "code",
   "execution_count": 6,
   "metadata": {},
   "outputs": [
    {
     "name": "stderr",
     "output_type": "stream",
     "text": [
      "Global seed set to 1337\n"
     ]
    }
   ],
   "source": [
    "from climate_learn.training import Trainer, WandbLogger\n",
    "\n",
    "trainer = Trainer(\n",
    "    seed = 1337,\n",
    "    accelerator = \"gpu\",\n",
    "    precision = 16,\n",
    "    max_epochs = 5,\n",
    "    logger = True\n",
    ")"
   ]
  },
  {
   "cell_type": "code",
   "execution_count": 7,
   "metadata": {},
   "outputs": [
    {
     "data": {
      "text/html": [
       "<pre style=\"white-space:pre;overflow-x:auto;line-height:normal;font-family:Menlo,'DejaVu Sans Mono',consolas,'Courier New',monospace\">┏━━━━┳━━━━━━━━━━━━━━━━━━━━━━━━━━━━━━━━━━━━━━━━━━━━━━━┳━━━━━━━━━━━━━━━━━━━━━━━━━┳━━━━━━━━┓\n",
       "┃<span style=\"color: #800080; text-decoration-color: #800080; font-weight: bold\">    </span>┃<span style=\"color: #800080; text-decoration-color: #800080; font-weight: bold\"> Name                                          </span>┃<span style=\"color: #800080; text-decoration-color: #800080; font-weight: bold\"> Type                    </span>┃<span style=\"color: #800080; text-decoration-color: #800080; font-weight: bold\"> Params </span>┃\n",
       "┡━━━━╇━━━━━━━━━━━━━━━━━━━━━━━━━━━━━━━━━━━━━━━━━━━━━━━╇━━━━━━━━━━━━━━━━━━━━━━━━━╇━━━━━━━━┩\n",
       "│<span style=\"color: #7f7f7f; text-decoration-color: #7f7f7f\"> 0  </span>│ rd_loss                                       │ RateDistortionLoss      │      0 │\n",
       "│<span style=\"color: #7f7f7f; text-decoration-color: #7f7f7f\"> 1  </span>│ rd_loss.mse                                   │ MSELoss                 │      0 │\n",
       "│<span style=\"color: #7f7f7f; text-decoration-color: #7f7f7f\"> 2  </span>│ net                                           │ FactorizedPrior         │  1.8 M │\n",
       "│<span style=\"color: #7f7f7f; text-decoration-color: #7f7f7f\"> 3  </span>│ net.entropy_bottleneck                        │ EntropyBottleneck       │    976 │\n",
       "│<span style=\"color: #7f7f7f; text-decoration-color: #7f7f7f\"> 4  </span>│ net.entropy_bottleneck.likelihood_lower_bound │ LowerBound              │      0 │\n",
       "│<span style=\"color: #7f7f7f; text-decoration-color: #7f7f7f\"> 5  </span>│ net.g_a                                       │ Sequential              │  923 K │\n",
       "│<span style=\"color: #7f7f7f; text-decoration-color: #7f7f7f\"> 6  </span>│ net.g_a.0                                     │ Conv2d                  │  3.3 K │\n",
       "│<span style=\"color: #7f7f7f; text-decoration-color: #7f7f7f\"> 7  </span>│ net.g_a.1                                     │ GDN                     │ 16.5 K │\n",
       "│<span style=\"color: #7f7f7f; text-decoration-color: #7f7f7f\"> 8  </span>│ net.g_a.1.beta_reparam                        │ NonNegativeParametrizer │      0 │\n",
       "│<span style=\"color: #7f7f7f; text-decoration-color: #7f7f7f\"> 9  </span>│ net.g_a.1.beta_reparam.lower_bound            │ LowerBound              │      0 │\n",
       "│<span style=\"color: #7f7f7f; text-decoration-color: #7f7f7f\"> 10 </span>│ net.g_a.1.gamma_reparam                       │ NonNegativeParametrizer │      0 │\n",
       "│<span style=\"color: #7f7f7f; text-decoration-color: #7f7f7f\"> 11 </span>│ net.g_a.1.gamma_reparam.lower_bound           │ LowerBound              │      0 │\n",
       "│<span style=\"color: #7f7f7f; text-decoration-color: #7f7f7f\"> 12 </span>│ net.g_a.2                                     │ Conv2d                  │  409 K │\n",
       "│<span style=\"color: #7f7f7f; text-decoration-color: #7f7f7f\"> 13 </span>│ net.g_a.3                                     │ GDN                     │ 16.5 K │\n",
       "│<span style=\"color: #7f7f7f; text-decoration-color: #7f7f7f\"> 14 </span>│ net.g_a.3.beta_reparam                        │ NonNegativeParametrizer │      0 │\n",
       "│<span style=\"color: #7f7f7f; text-decoration-color: #7f7f7f\"> 15 </span>│ net.g_a.3.beta_reparam.lower_bound            │ LowerBound              │      0 │\n",
       "│<span style=\"color: #7f7f7f; text-decoration-color: #7f7f7f\"> 16 </span>│ net.g_a.3.gamma_reparam                       │ NonNegativeParametrizer │      0 │\n",
       "│<span style=\"color: #7f7f7f; text-decoration-color: #7f7f7f\"> 17 </span>│ net.g_a.3.gamma_reparam.lower_bound           │ LowerBound              │      0 │\n",
       "│<span style=\"color: #7f7f7f; text-decoration-color: #7f7f7f\"> 18 </span>│ net.g_a.4                                     │ Conv2d                  │  409 K │\n",
       "│<span style=\"color: #7f7f7f; text-decoration-color: #7f7f7f\"> 19 </span>│ net.g_a.5                                     │ GDN                     │ 16.5 K │\n",
       "│<span style=\"color: #7f7f7f; text-decoration-color: #7f7f7f\"> 20 </span>│ net.g_a.5.beta_reparam                        │ NonNegativeParametrizer │      0 │\n",
       "│<span style=\"color: #7f7f7f; text-decoration-color: #7f7f7f\"> 21 </span>│ net.g_a.5.beta_reparam.lower_bound            │ LowerBound              │      0 │\n",
       "│<span style=\"color: #7f7f7f; text-decoration-color: #7f7f7f\"> 22 </span>│ net.g_a.5.gamma_reparam                       │ NonNegativeParametrizer │      0 │\n",
       "│<span style=\"color: #7f7f7f; text-decoration-color: #7f7f7f\"> 23 </span>│ net.g_a.5.gamma_reparam.lower_bound           │ LowerBound              │      0 │\n",
       "│<span style=\"color: #7f7f7f; text-decoration-color: #7f7f7f\"> 24 </span>│ net.g_a.6                                     │ Conv2d                  │ 51.2 K │\n",
       "│<span style=\"color: #7f7f7f; text-decoration-color: #7f7f7f\"> 25 </span>│ net.g_s                                       │ Sequential              │  923 K │\n",
       "│<span style=\"color: #7f7f7f; text-decoration-color: #7f7f7f\"> 26 </span>│ net.g_s.0                                     │ ConvTranspose2d         │ 51.3 K │\n",
       "│<span style=\"color: #7f7f7f; text-decoration-color: #7f7f7f\"> 27 </span>│ net.g_s.1                                     │ GDN                     │ 16.5 K │\n",
       "│<span style=\"color: #7f7f7f; text-decoration-color: #7f7f7f\"> 28 </span>│ net.g_s.1.beta_reparam                        │ NonNegativeParametrizer │      0 │\n",
       "│<span style=\"color: #7f7f7f; text-decoration-color: #7f7f7f\"> 29 </span>│ net.g_s.1.beta_reparam.lower_bound            │ LowerBound              │      0 │\n",
       "│<span style=\"color: #7f7f7f; text-decoration-color: #7f7f7f\"> 30 </span>│ net.g_s.1.gamma_reparam                       │ NonNegativeParametrizer │      0 │\n",
       "│<span style=\"color: #7f7f7f; text-decoration-color: #7f7f7f\"> 31 </span>│ net.g_s.1.gamma_reparam.lower_bound           │ LowerBound              │      0 │\n",
       "│<span style=\"color: #7f7f7f; text-decoration-color: #7f7f7f\"> 32 </span>│ net.g_s.2                                     │ ConvTranspose2d         │  409 K │\n",
       "│<span style=\"color: #7f7f7f; text-decoration-color: #7f7f7f\"> 33 </span>│ net.g_s.3                                     │ GDN                     │ 16.5 K │\n",
       "│<span style=\"color: #7f7f7f; text-decoration-color: #7f7f7f\"> 34 </span>│ net.g_s.3.beta_reparam                        │ NonNegativeParametrizer │      0 │\n",
       "│<span style=\"color: #7f7f7f; text-decoration-color: #7f7f7f\"> 35 </span>│ net.g_s.3.beta_reparam.lower_bound            │ LowerBound              │      0 │\n",
       "│<span style=\"color: #7f7f7f; text-decoration-color: #7f7f7f\"> 36 </span>│ net.g_s.3.gamma_reparam                       │ NonNegativeParametrizer │      0 │\n",
       "│<span style=\"color: #7f7f7f; text-decoration-color: #7f7f7f\"> 37 </span>│ net.g_s.3.gamma_reparam.lower_bound           │ LowerBound              │      0 │\n",
       "│<span style=\"color: #7f7f7f; text-decoration-color: #7f7f7f\"> 38 </span>│ net.g_s.4                                     │ ConvTranspose2d         │  409 K │\n",
       "│<span style=\"color: #7f7f7f; text-decoration-color: #7f7f7f\"> 39 </span>│ net.g_s.5                                     │ GDN                     │ 16.5 K │\n",
       "│<span style=\"color: #7f7f7f; text-decoration-color: #7f7f7f\"> 40 </span>│ net.g_s.5.beta_reparam                        │ NonNegativeParametrizer │      0 │\n",
       "│<span style=\"color: #7f7f7f; text-decoration-color: #7f7f7f\"> 41 </span>│ net.g_s.5.beta_reparam.lower_bound            │ LowerBound              │      0 │\n",
       "│<span style=\"color: #7f7f7f; text-decoration-color: #7f7f7f\"> 42 </span>│ net.g_s.5.gamma_reparam                       │ NonNegativeParametrizer │      0 │\n",
       "│<span style=\"color: #7f7f7f; text-decoration-color: #7f7f7f\"> 43 </span>│ net.g_s.5.gamma_reparam.lower_bound           │ LowerBound              │      0 │\n",
       "│<span style=\"color: #7f7f7f; text-decoration-color: #7f7f7f\"> 44 </span>│ net.g_s.6                                     │ ConvTranspose2d         │  3.2 K │\n",
       "│<span style=\"color: #7f7f7f; text-decoration-color: #7f7f7f\"> 45 </span>│ denormalization                               │ Normalize               │      0 │\n",
       "└────┴───────────────────────────────────────────────┴─────────────────────────┴────────┘\n",
       "</pre>\n"
      ],
      "text/plain": [
       "┏━━━━┳━━━━━━━━━━━━━━━━━━━━━━━━━━━━━━━━━━━━━━━━━━━━━━━┳━━━━━━━━━━━━━━━━━━━━━━━━━┳━━━━━━━━┓\n",
       "┃\u001b[1;35m \u001b[0m\u001b[1;35m  \u001b[0m\u001b[1;35m \u001b[0m┃\u001b[1;35m \u001b[0m\u001b[1;35mName                                         \u001b[0m\u001b[1;35m \u001b[0m┃\u001b[1;35m \u001b[0m\u001b[1;35mType                   \u001b[0m\u001b[1;35m \u001b[0m┃\u001b[1;35m \u001b[0m\u001b[1;35mParams\u001b[0m\u001b[1;35m \u001b[0m┃\n",
       "┡━━━━╇━━━━━━━━━━━━━━━━━━━━━━━━━━━━━━━━━━━━━━━━━━━━━━━╇━━━━━━━━━━━━━━━━━━━━━━━━━╇━━━━━━━━┩\n",
       "│\u001b[2m \u001b[0m\u001b[2m0 \u001b[0m\u001b[2m \u001b[0m│ rd_loss                                       │ RateDistortionLoss      │      0 │\n",
       "│\u001b[2m \u001b[0m\u001b[2m1 \u001b[0m\u001b[2m \u001b[0m│ rd_loss.mse                                   │ MSELoss                 │      0 │\n",
       "│\u001b[2m \u001b[0m\u001b[2m2 \u001b[0m\u001b[2m \u001b[0m│ net                                           │ FactorizedPrior         │  1.8 M │\n",
       "│\u001b[2m \u001b[0m\u001b[2m3 \u001b[0m\u001b[2m \u001b[0m│ net.entropy_bottleneck                        │ EntropyBottleneck       │    976 │\n",
       "│\u001b[2m \u001b[0m\u001b[2m4 \u001b[0m\u001b[2m \u001b[0m│ net.entropy_bottleneck.likelihood_lower_bound │ LowerBound              │      0 │\n",
       "│\u001b[2m \u001b[0m\u001b[2m5 \u001b[0m\u001b[2m \u001b[0m│ net.g_a                                       │ Sequential              │  923 K │\n",
       "│\u001b[2m \u001b[0m\u001b[2m6 \u001b[0m\u001b[2m \u001b[0m│ net.g_a.0                                     │ Conv2d                  │  3.3 K │\n",
       "│\u001b[2m \u001b[0m\u001b[2m7 \u001b[0m\u001b[2m \u001b[0m│ net.g_a.1                                     │ GDN                     │ 16.5 K │\n",
       "│\u001b[2m \u001b[0m\u001b[2m8 \u001b[0m\u001b[2m \u001b[0m│ net.g_a.1.beta_reparam                        │ NonNegativeParametrizer │      0 │\n",
       "│\u001b[2m \u001b[0m\u001b[2m9 \u001b[0m\u001b[2m \u001b[0m│ net.g_a.1.beta_reparam.lower_bound            │ LowerBound              │      0 │\n",
       "│\u001b[2m \u001b[0m\u001b[2m10\u001b[0m\u001b[2m \u001b[0m│ net.g_a.1.gamma_reparam                       │ NonNegativeParametrizer │      0 │\n",
       "│\u001b[2m \u001b[0m\u001b[2m11\u001b[0m\u001b[2m \u001b[0m│ net.g_a.1.gamma_reparam.lower_bound           │ LowerBound              │      0 │\n",
       "│\u001b[2m \u001b[0m\u001b[2m12\u001b[0m\u001b[2m \u001b[0m│ net.g_a.2                                     │ Conv2d                  │  409 K │\n",
       "│\u001b[2m \u001b[0m\u001b[2m13\u001b[0m\u001b[2m \u001b[0m│ net.g_a.3                                     │ GDN                     │ 16.5 K │\n",
       "│\u001b[2m \u001b[0m\u001b[2m14\u001b[0m\u001b[2m \u001b[0m│ net.g_a.3.beta_reparam                        │ NonNegativeParametrizer │      0 │\n",
       "│\u001b[2m \u001b[0m\u001b[2m15\u001b[0m\u001b[2m \u001b[0m│ net.g_a.3.beta_reparam.lower_bound            │ LowerBound              │      0 │\n",
       "│\u001b[2m \u001b[0m\u001b[2m16\u001b[0m\u001b[2m \u001b[0m│ net.g_a.3.gamma_reparam                       │ NonNegativeParametrizer │      0 │\n",
       "│\u001b[2m \u001b[0m\u001b[2m17\u001b[0m\u001b[2m \u001b[0m│ net.g_a.3.gamma_reparam.lower_bound           │ LowerBound              │      0 │\n",
       "│\u001b[2m \u001b[0m\u001b[2m18\u001b[0m\u001b[2m \u001b[0m│ net.g_a.4                                     │ Conv2d                  │  409 K │\n",
       "│\u001b[2m \u001b[0m\u001b[2m19\u001b[0m\u001b[2m \u001b[0m│ net.g_a.5                                     │ GDN                     │ 16.5 K │\n",
       "│\u001b[2m \u001b[0m\u001b[2m20\u001b[0m\u001b[2m \u001b[0m│ net.g_a.5.beta_reparam                        │ NonNegativeParametrizer │      0 │\n",
       "│\u001b[2m \u001b[0m\u001b[2m21\u001b[0m\u001b[2m \u001b[0m│ net.g_a.5.beta_reparam.lower_bound            │ LowerBound              │      0 │\n",
       "│\u001b[2m \u001b[0m\u001b[2m22\u001b[0m\u001b[2m \u001b[0m│ net.g_a.5.gamma_reparam                       │ NonNegativeParametrizer │      0 │\n",
       "│\u001b[2m \u001b[0m\u001b[2m23\u001b[0m\u001b[2m \u001b[0m│ net.g_a.5.gamma_reparam.lower_bound           │ LowerBound              │      0 │\n",
       "│\u001b[2m \u001b[0m\u001b[2m24\u001b[0m\u001b[2m \u001b[0m│ net.g_a.6                                     │ Conv2d                  │ 51.2 K │\n",
       "│\u001b[2m \u001b[0m\u001b[2m25\u001b[0m\u001b[2m \u001b[0m│ net.g_s                                       │ Sequential              │  923 K │\n",
       "│\u001b[2m \u001b[0m\u001b[2m26\u001b[0m\u001b[2m \u001b[0m│ net.g_s.0                                     │ ConvTranspose2d         │ 51.3 K │\n",
       "│\u001b[2m \u001b[0m\u001b[2m27\u001b[0m\u001b[2m \u001b[0m│ net.g_s.1                                     │ GDN                     │ 16.5 K │\n",
       "│\u001b[2m \u001b[0m\u001b[2m28\u001b[0m\u001b[2m \u001b[0m│ net.g_s.1.beta_reparam                        │ NonNegativeParametrizer │      0 │\n",
       "│\u001b[2m \u001b[0m\u001b[2m29\u001b[0m\u001b[2m \u001b[0m│ net.g_s.1.beta_reparam.lower_bound            │ LowerBound              │      0 │\n",
       "│\u001b[2m \u001b[0m\u001b[2m30\u001b[0m\u001b[2m \u001b[0m│ net.g_s.1.gamma_reparam                       │ NonNegativeParametrizer │      0 │\n",
       "│\u001b[2m \u001b[0m\u001b[2m31\u001b[0m\u001b[2m \u001b[0m│ net.g_s.1.gamma_reparam.lower_bound           │ LowerBound              │      0 │\n",
       "│\u001b[2m \u001b[0m\u001b[2m32\u001b[0m\u001b[2m \u001b[0m│ net.g_s.2                                     │ ConvTranspose2d         │  409 K │\n",
       "│\u001b[2m \u001b[0m\u001b[2m33\u001b[0m\u001b[2m \u001b[0m│ net.g_s.3                                     │ GDN                     │ 16.5 K │\n",
       "│\u001b[2m \u001b[0m\u001b[2m34\u001b[0m\u001b[2m \u001b[0m│ net.g_s.3.beta_reparam                        │ NonNegativeParametrizer │      0 │\n",
       "│\u001b[2m \u001b[0m\u001b[2m35\u001b[0m\u001b[2m \u001b[0m│ net.g_s.3.beta_reparam.lower_bound            │ LowerBound              │      0 │\n",
       "│\u001b[2m \u001b[0m\u001b[2m36\u001b[0m\u001b[2m \u001b[0m│ net.g_s.3.gamma_reparam                       │ NonNegativeParametrizer │      0 │\n",
       "│\u001b[2m \u001b[0m\u001b[2m37\u001b[0m\u001b[2m \u001b[0m│ net.g_s.3.gamma_reparam.lower_bound           │ LowerBound              │      0 │\n",
       "│\u001b[2m \u001b[0m\u001b[2m38\u001b[0m\u001b[2m \u001b[0m│ net.g_s.4                                     │ ConvTranspose2d         │  409 K │\n",
       "│\u001b[2m \u001b[0m\u001b[2m39\u001b[0m\u001b[2m \u001b[0m│ net.g_s.5                                     │ GDN                     │ 16.5 K │\n",
       "│\u001b[2m \u001b[0m\u001b[2m40\u001b[0m\u001b[2m \u001b[0m│ net.g_s.5.beta_reparam                        │ NonNegativeParametrizer │      0 │\n",
       "│\u001b[2m \u001b[0m\u001b[2m41\u001b[0m\u001b[2m \u001b[0m│ net.g_s.5.beta_reparam.lower_bound            │ LowerBound              │      0 │\n",
       "│\u001b[2m \u001b[0m\u001b[2m42\u001b[0m\u001b[2m \u001b[0m│ net.g_s.5.gamma_reparam                       │ NonNegativeParametrizer │      0 │\n",
       "│\u001b[2m \u001b[0m\u001b[2m43\u001b[0m\u001b[2m \u001b[0m│ net.g_s.5.gamma_reparam.lower_bound           │ LowerBound              │      0 │\n",
       "│\u001b[2m \u001b[0m\u001b[2m44\u001b[0m\u001b[2m \u001b[0m│ net.g_s.6                                     │ ConvTranspose2d         │  3.2 K │\n",
       "│\u001b[2m \u001b[0m\u001b[2m45\u001b[0m\u001b[2m \u001b[0m│ denormalization                               │ Normalize               │      0 │\n",
       "└────┴───────────────────────────────────────────────┴─────────────────────────┴────────┘\n"
      ]
     },
     "metadata": {},
     "output_type": "display_data"
    },
    {
     "data": {
      "text/html": [
       "<pre style=\"white-space:pre;overflow-x:auto;line-height:normal;font-family:Menlo,'DejaVu Sans Mono',consolas,'Courier New',monospace\"><span style=\"font-weight: bold\">Trainable params</span>: 1.8 M                                                                                            \n",
       "<span style=\"font-weight: bold\">Non-trainable params</span>: 0                                                                                            \n",
       "<span style=\"font-weight: bold\">Total params</span>: 1.8 M                                                                                                \n",
       "<span style=\"font-weight: bold\">Total estimated model params size (MB)</span>: 3                                                                          \n",
       "</pre>\n"
      ],
      "text/plain": [
       "\u001b[1mTrainable params\u001b[0m: 1.8 M                                                                                            \n",
       "\u001b[1mNon-trainable params\u001b[0m: 0                                                                                            \n",
       "\u001b[1mTotal params\u001b[0m: 1.8 M                                                                                                \n",
       "\u001b[1mTotal estimated model params size (MB)\u001b[0m: 3                                                                          \n"
      ]
     },
     "metadata": {},
     "output_type": "display_data"
    },
    {
     "data": {
      "application/vnd.jupyter.widget-view+json": {
       "model_id": "11c06ec3b71f426985a2d3e5e316fa20",
       "version_major": 2,
       "version_minor": 0
      },
      "text/plain": [
       "Output()"
      ]
     },
     "metadata": {},
     "output_type": "display_data"
    },
    {
     "data": {
      "text/html": [
       "<pre style=\"white-space:pre;overflow-x:auto;line-height:normal;font-family:Menlo,'DejaVu Sans Mono',consolas,'Courier New',monospace\"></pre>\n"
      ],
      "text/plain": []
     },
     "metadata": {},
     "output_type": "display_data"
    },
    {
     "data": {
      "text/html": [
       "<pre style=\"white-space:pre;overflow-x:auto;line-height:normal;font-family:Menlo,'DejaVu Sans Mono',consolas,'Courier New',monospace\">\n",
       "</pre>\n"
      ],
      "text/plain": [
       "\n"
      ]
     },
     "metadata": {},
     "output_type": "display_data"
    }
   ],
   "source": [
    "trainer.fit(model_module, data_module)"
   ]
  },
  {
   "cell_type": "code",
   "execution_count": 8,
   "metadata": {},
   "outputs": [],
   "source": [
    "import os\n",
    "torch.save(model_module.state_dict(), f\"{base_dir}/saved_models/5_625FactorizedPrior_128N_16M\")"
   ]
  },
  {
   "cell_type": "code",
   "execution_count": 17,
   "metadata": {},
   "outputs": [
    {
     "data": {
      "text/plain": [
       "<All keys matched successfully>"
      ]
     },
     "execution_count": 17,
     "metadata": {},
     "output_type": "execute_result"
    }
   ],
   "source": [
    "model_module.load_state_dict(torch.load(f\"{base_dir}/saved_models/5_625FactorizedPrior_128N_64M\"))"
   ]
  },
  {
   "cell_type": "code",
   "execution_count": 76,
   "metadata": {},
   "outputs": [
    {
     "data": {
      "text/plain": [
       "torch.Size([1, 32, 64])"
      ]
     },
     "execution_count": 76,
     "metadata": {},
     "output_type": "execute_result"
    }
   ],
   "source": [
    "eval(f\"data_module.{split}_dataset\")[0][0].shape\n"
   ]
  },
  {
   "cell_type": "code",
   "execution_count": 77,
   "metadata": {},
   "outputs": [
    {
     "data": {
      "text/plain": [
       "torch.Size([64, 1, 1024])"
      ]
     },
     "execution_count": 77,
     "metadata": {},
     "output_type": "execute_result"
    }
   ],
   "source": [
    "torch.reshape(torch.ones(64,128,2,4), (64, 1, -1)).shape"
   ]
  },
  {
   "cell_type": "code",
   "execution_count": 93,
   "metadata": {},
   "outputs": [],
   "source": [
    "def save_compressed_data(split):\n",
    "  dataset = eval(f\"data_module.{split}_dataset\")\n",
    "  for year in dataset.years:\n",
    "    print(f\"Saving: {year}\")\n",
    "    idxs = [np.searchsorted(dataset.time, \n",
    "                            np.datetime64(datetime.strptime(dt, \"%Y-%m-%d:%H\"))) for dt in [f\"{year}-01-01:00\", f\"{year}-12-31:23\"]]\n",
    "    y_hat = model_module.net.forward(\n",
    "      dataset[idxs[0]:idxs[1]][0], # x\n",
    "    )['y_hat']\n",
    "    b_s, _, _, _ = y_hat.shape\n",
    "    print(y_hat.shape)\n",
    "    torch.save(\n",
    "        torch.reshape(y_hat, (b_s, 1, -1)),\n",
    "        f\"{base_dir}/data/weatherbench/era5/5.625/compressed_tp_96/tp_{year}_5.625deg.pt\"\n",
    "    )"
   ]
  },
  {
   "cell_type": "code",
   "execution_count": 84,
   "metadata": {},
   "outputs": [
    {
     "name": "stdout",
     "output_type": "stream",
     "text": [
      "/home/felix/Documents/Climate/climate_learn/data/weatherbench/era5/5.625/compressed_tp_16/tp_1980_5.625deg.pt\n"
     ]
    }
   ],
   "source": [
    "print( f\"{base_dir}/data/weatherbench/era5/5.625/compressed_tp_16/tp_{year}_5.625deg.pt\")"
   ]
  },
  {
   "cell_type": "code",
   "execution_count": 66,
   "metadata": {},
   "outputs": [],
   "source": [
    "import xarray as xr\n",
    "\n",
    "\n",
    "def save_compressed_data_nc(split):\n",
    "  dataset = eval(f\"data_module.{split}_dataset\")\n",
    "  for year in dataset.years:\n",
    "    print(f\"Saving: {year}\")\n",
    "    idxs = [np.searchsorted(dataset.time, \n",
    "                            np.datetime64(datetime.strptime(dt, \"%Y-%m-%d:%H\"))) for dt in [f\"{year}-01-01:00\", f\"{year}-12-31:23\"]]\n",
    "    # y_hat = model_module.net.forward(\n",
    "    #   dataset[idxs[0]:idxs[1]][0], # x\n",
    "    # )['y_hat']\n",
    "    # b_s, _, _, _ = y_hat.shape\n",
    "    # print(y_hat.shape)\n",
    "    # xr.DataArray(torch.reshape(y_hat, (b_s, 1, -1)).detach().numpy()).to_netcdf(f\"{base_dir}/data/weatherbench/era5/5.625/compressed_tp_nc_64/tp_{year}_5_625deg.nc\")\n",
    "    xr.DataArray(dataset[idxs[0]:idxs[1]][0].numpy()).to_netcdf(f\"{base_dir}/data/weatherbench/era5/5.625/noncompressed_tp_nc/tp_{year}_5_625deg.nc\")\n"
   ]
  },
  {
   "cell_type": "code",
   "execution_count": 94,
   "metadata": {},
   "outputs": [],
   "source": [
    "os.mkdir(f\"{base_dir}/data/weatherbench/era5/5.625/compressed_tp_96\")"
   ]
  },
  {
   "cell_type": "code",
   "execution_count": 95,
   "metadata": {},
   "outputs": [
    {
     "name": "stdout",
     "output_type": "stream",
     "text": [
      "Saving: 1979\n",
      "torch.Size([1459, 96, 2, 4])\n",
      "Saving: 1980\n",
      "torch.Size([1464, 96, 2, 4])\n",
      "Saving: 1981\n",
      "torch.Size([1460, 96, 2, 4])\n",
      "Saving: 1982\n",
      "torch.Size([1460, 96, 2, 4])\n",
      "Saving: 1983\n",
      "torch.Size([1460, 96, 2, 4])\n",
      "Saving: 1984\n",
      "torch.Size([1464, 96, 2, 4])\n",
      "Saving: 1985\n",
      "torch.Size([1460, 96, 2, 4])\n",
      "Saving: 1986\n",
      "torch.Size([1460, 96, 2, 4])\n",
      "Saving: 1987\n",
      "torch.Size([1460, 96, 2, 4])\n",
      "Saving: 1988\n",
      "torch.Size([1464, 96, 2, 4])\n",
      "Saving: 1989\n",
      "torch.Size([1460, 96, 2, 4])\n",
      "Saving: 1990\n",
      "torch.Size([1460, 96, 2, 4])\n",
      "Saving: 1991\n",
      "torch.Size([1460, 96, 2, 4])\n",
      "Saving: 1992\n",
      "torch.Size([1464, 96, 2, 4])\n",
      "Saving: 1993\n",
      "torch.Size([1460, 96, 2, 4])\n",
      "Saving: 1994\n",
      "torch.Size([1460, 96, 2, 4])\n",
      "Saving: 1995\n",
      "torch.Size([1460, 96, 2, 4])\n",
      "Saving: 1996\n",
      "torch.Size([1464, 96, 2, 4])\n",
      "Saving: 1997\n",
      "torch.Size([1460, 96, 2, 4])\n",
      "Saving: 1998\n",
      "torch.Size([1460, 96, 2, 4])\n",
      "Saving: 1999\n",
      "torch.Size([1460, 96, 2, 4])\n",
      "Saving: 2000\n",
      "torch.Size([1464, 96, 2, 4])\n",
      "Saving: 2001\n",
      "torch.Size([1460, 96, 2, 4])\n",
      "Saving: 2002\n",
      "torch.Size([1460, 96, 2, 4])\n",
      "Saving: 2003\n",
      "torch.Size([1460, 96, 2, 4])\n",
      "Saving: 2004\n",
      "torch.Size([1464, 96, 2, 4])\n",
      "Saving: 2005\n",
      "torch.Size([1460, 96, 2, 4])\n",
      "Saving: 2006\n",
      "torch.Size([1460, 96, 2, 4])\n",
      "Saving: 2007\n",
      "torch.Size([1460, 96, 2, 4])\n",
      "Saving: 2008\n",
      "torch.Size([1464, 96, 2, 4])\n",
      "Saving: 2009\n",
      "torch.Size([1460, 96, 2, 4])\n",
      "Saving: 2010\n",
      "torch.Size([1460, 96, 2, 4])\n",
      "Saving: 2011\n",
      "torch.Size([1460, 96, 2, 4])\n",
      "Saving: 2012\n",
      "torch.Size([1464, 96, 2, 4])\n",
      "Saving: 2013\n",
      "torch.Size([1460, 96, 2, 4])\n",
      "Saving: 2014\n",
      "torch.Size([1460, 96, 2, 4])\n",
      "Saving: 2017\n",
      "torch.Size([1460, 96, 2, 4])\n",
      "Saving: 2018\n",
      "torch.Size([1460, 96, 2, 4])\n",
      "Saving: 2015\n",
      "torch.Size([1460, 96, 2, 4])\n",
      "Saving: 2016\n",
      "torch.Size([1464, 96, 2, 4])\n"
     ]
    }
   ],
   "source": [
    "save_compressed_data('train')\n",
    "save_compressed_data('test')\n",
    "save_compressed_data('val')"
   ]
  },
  {
   "cell_type": "code",
   "execution_count": 14,
   "metadata": {},
   "outputs": [
    {
     "name": "stdout",
     "output_type": "stream",
     "text": [
      "compressed 93.68516518034197% in terms of bytes\n"
     ]
    }
   ],
   "source": [
    "\n",
    "compression_ratio = (1 - (os.path.getsize(\n",
    "    f\"{base_dir}/data/weatherbench/era5/5.625/compressed_tp_nc_16/tp_1979_5_625deg.nc\"\n",
    "  ) / \n",
    "  os.path.getsize(\n",
    "    f\"{base_dir}/data/weatherbench/era5/5.625/noncompressed_tp_nc/tp_1979_5_625deg.nc\"\n",
    "  ))) * 100\n",
    "print(f\"compressed {compression_ratio}% in terms of bytes\")"
   ]
  },
  {
   "cell_type": "code",
   "execution_count": 15,
   "metadata": {},
   "outputs": [
    {
     "name": "stdout",
     "output_type": "stream",
     "text": [
      "Warning: ecCodes 2.21.0 or higher is recommended. You are running version 2.16.0\n"
     ]
    },
    {
     "data": {
      "text/html": [
       "<div><svg style=\"position: absolute; width: 0; height: 0; overflow: hidden\">\n",
       "<defs>\n",
       "<symbol id=\"icon-database\" viewBox=\"0 0 32 32\">\n",
       "<path d=\"M16 0c-8.837 0-16 2.239-16 5v4c0 2.761 7.163 5 16 5s16-2.239 16-5v-4c0-2.761-7.163-5-16-5z\"></path>\n",
       "<path d=\"M16 17c-8.837 0-16-2.239-16-5v6c0 2.761 7.163 5 16 5s16-2.239 16-5v-6c0 2.761-7.163 5-16 5z\"></path>\n",
       "<path d=\"M16 26c-8.837 0-16-2.239-16-5v6c0 2.761 7.163 5 16 5s16-2.239 16-5v-6c0 2.761-7.163 5-16 5z\"></path>\n",
       "</symbol>\n",
       "<symbol id=\"icon-file-text2\" viewBox=\"0 0 32 32\">\n",
       "<path d=\"M28.681 7.159c-0.694-0.947-1.662-2.053-2.724-3.116s-2.169-2.030-3.116-2.724c-1.612-1.182-2.393-1.319-2.841-1.319h-15.5c-1.378 0-2.5 1.121-2.5 2.5v27c0 1.378 1.122 2.5 2.5 2.5h23c1.378 0 2.5-1.122 2.5-2.5v-19.5c0-0.448-0.137-1.23-1.319-2.841zM24.543 5.457c0.959 0.959 1.712 1.825 2.268 2.543h-4.811v-4.811c0.718 0.556 1.584 1.309 2.543 2.268zM28 29.5c0 0.271-0.229 0.5-0.5 0.5h-23c-0.271 0-0.5-0.229-0.5-0.5v-27c0-0.271 0.229-0.5 0.5-0.5 0 0 15.499-0 15.5 0v7c0 0.552 0.448 1 1 1h7v19.5z\"></path>\n",
       "<path d=\"M23 26h-14c-0.552 0-1-0.448-1-1s0.448-1 1-1h14c0.552 0 1 0.448 1 1s-0.448 1-1 1z\"></path>\n",
       "<path d=\"M23 22h-14c-0.552 0-1-0.448-1-1s0.448-1 1-1h14c0.552 0 1 0.448 1 1s-0.448 1-1 1z\"></path>\n",
       "<path d=\"M23 18h-14c-0.552 0-1-0.448-1-1s0.448-1 1-1h14c0.552 0 1 0.448 1 1s-0.448 1-1 1z\"></path>\n",
       "</symbol>\n",
       "</defs>\n",
       "</svg>\n",
       "<style>/* CSS stylesheet for displaying xarray objects in jupyterlab.\n",
       " *\n",
       " */\n",
       "\n",
       ":root {\n",
       "  --xr-font-color0: var(--jp-content-font-color0, rgba(0, 0, 0, 1));\n",
       "  --xr-font-color2: var(--jp-content-font-color2, rgba(0, 0, 0, 0.54));\n",
       "  --xr-font-color3: var(--jp-content-font-color3, rgba(0, 0, 0, 0.38));\n",
       "  --xr-border-color: var(--jp-border-color2, #e0e0e0);\n",
       "  --xr-disabled-color: var(--jp-layout-color3, #bdbdbd);\n",
       "  --xr-background-color: var(--jp-layout-color0, white);\n",
       "  --xr-background-color-row-even: var(--jp-layout-color1, white);\n",
       "  --xr-background-color-row-odd: var(--jp-layout-color2, #eeeeee);\n",
       "}\n",
       "\n",
       "html[theme=dark],\n",
       "body[data-theme=dark],\n",
       "body.vscode-dark {\n",
       "  --xr-font-color0: rgba(255, 255, 255, 1);\n",
       "  --xr-font-color2: rgba(255, 255, 255, 0.54);\n",
       "  --xr-font-color3: rgba(255, 255, 255, 0.38);\n",
       "  --xr-border-color: #1F1F1F;\n",
       "  --xr-disabled-color: #515151;\n",
       "  --xr-background-color: #111111;\n",
       "  --xr-background-color-row-even: #111111;\n",
       "  --xr-background-color-row-odd: #313131;\n",
       "}\n",
       "\n",
       ".xr-wrap {\n",
       "  display: block !important;\n",
       "  min-width: 300px;\n",
       "  max-width: 700px;\n",
       "}\n",
       "\n",
       ".xr-text-repr-fallback {\n",
       "  /* fallback to plain text repr when CSS is not injected (untrusted notebook) */\n",
       "  display: none;\n",
       "}\n",
       "\n",
       ".xr-header {\n",
       "  padding-top: 6px;\n",
       "  padding-bottom: 6px;\n",
       "  margin-bottom: 4px;\n",
       "  border-bottom: solid 1px var(--xr-border-color);\n",
       "}\n",
       "\n",
       ".xr-header > div,\n",
       ".xr-header > ul {\n",
       "  display: inline;\n",
       "  margin-top: 0;\n",
       "  margin-bottom: 0;\n",
       "}\n",
       "\n",
       ".xr-obj-type,\n",
       ".xr-array-name {\n",
       "  margin-left: 2px;\n",
       "  margin-right: 10px;\n",
       "}\n",
       "\n",
       ".xr-obj-type {\n",
       "  color: var(--xr-font-color2);\n",
       "}\n",
       "\n",
       ".xr-sections {\n",
       "  padding-left: 0 !important;\n",
       "  display: grid;\n",
       "  grid-template-columns: 150px auto auto 1fr 20px 20px;\n",
       "}\n",
       "\n",
       ".xr-section-item {\n",
       "  display: contents;\n",
       "}\n",
       "\n",
       ".xr-section-item input {\n",
       "  display: none;\n",
       "}\n",
       "\n",
       ".xr-section-item input + label {\n",
       "  color: var(--xr-disabled-color);\n",
       "}\n",
       "\n",
       ".xr-section-item input:enabled + label {\n",
       "  cursor: pointer;\n",
       "  color: var(--xr-font-color2);\n",
       "}\n",
       "\n",
       ".xr-section-item input:enabled + label:hover {\n",
       "  color: var(--xr-font-color0);\n",
       "}\n",
       "\n",
       ".xr-section-summary {\n",
       "  grid-column: 1;\n",
       "  color: var(--xr-font-color2);\n",
       "  font-weight: 500;\n",
       "}\n",
       "\n",
       ".xr-section-summary > span {\n",
       "  display: inline-block;\n",
       "  padding-left: 0.5em;\n",
       "}\n",
       "\n",
       ".xr-section-summary-in:disabled + label {\n",
       "  color: var(--xr-font-color2);\n",
       "}\n",
       "\n",
       ".xr-section-summary-in + label:before {\n",
       "  display: inline-block;\n",
       "  content: '►';\n",
       "  font-size: 11px;\n",
       "  width: 15px;\n",
       "  text-align: center;\n",
       "}\n",
       "\n",
       ".xr-section-summary-in:disabled + label:before {\n",
       "  color: var(--xr-disabled-color);\n",
       "}\n",
       "\n",
       ".xr-section-summary-in:checked + label:before {\n",
       "  content: '▼';\n",
       "}\n",
       "\n",
       ".xr-section-summary-in:checked + label > span {\n",
       "  display: none;\n",
       "}\n",
       "\n",
       ".xr-section-summary,\n",
       ".xr-section-inline-details {\n",
       "  padding-top: 4px;\n",
       "  padding-bottom: 4px;\n",
       "}\n",
       "\n",
       ".xr-section-inline-details {\n",
       "  grid-column: 2 / -1;\n",
       "}\n",
       "\n",
       ".xr-section-details {\n",
       "  display: none;\n",
       "  grid-column: 1 / -1;\n",
       "  margin-bottom: 5px;\n",
       "}\n",
       "\n",
       ".xr-section-summary-in:checked ~ .xr-section-details {\n",
       "  display: contents;\n",
       "}\n",
       "\n",
       ".xr-array-wrap {\n",
       "  grid-column: 1 / -1;\n",
       "  display: grid;\n",
       "  grid-template-columns: 20px auto;\n",
       "}\n",
       "\n",
       ".xr-array-wrap > label {\n",
       "  grid-column: 1;\n",
       "  vertical-align: top;\n",
       "}\n",
       "\n",
       ".xr-preview {\n",
       "  color: var(--xr-font-color3);\n",
       "}\n",
       "\n",
       ".xr-array-preview,\n",
       ".xr-array-data {\n",
       "  padding: 0 5px !important;\n",
       "  grid-column: 2;\n",
       "}\n",
       "\n",
       ".xr-array-data,\n",
       ".xr-array-in:checked ~ .xr-array-preview {\n",
       "  display: none;\n",
       "}\n",
       "\n",
       ".xr-array-in:checked ~ .xr-array-data,\n",
       ".xr-array-preview {\n",
       "  display: inline-block;\n",
       "}\n",
       "\n",
       ".xr-dim-list {\n",
       "  display: inline-block !important;\n",
       "  list-style: none;\n",
       "  padding: 0 !important;\n",
       "  margin: 0;\n",
       "}\n",
       "\n",
       ".xr-dim-list li {\n",
       "  display: inline-block;\n",
       "  padding: 0;\n",
       "  margin: 0;\n",
       "}\n",
       "\n",
       ".xr-dim-list:before {\n",
       "  content: '(';\n",
       "}\n",
       "\n",
       ".xr-dim-list:after {\n",
       "  content: ')';\n",
       "}\n",
       "\n",
       ".xr-dim-list li:not(:last-child):after {\n",
       "  content: ',';\n",
       "  padding-right: 5px;\n",
       "}\n",
       "\n",
       ".xr-has-index {\n",
       "  font-weight: bold;\n",
       "}\n",
       "\n",
       ".xr-var-list,\n",
       ".xr-var-item {\n",
       "  display: contents;\n",
       "}\n",
       "\n",
       ".xr-var-item > div,\n",
       ".xr-var-item label,\n",
       ".xr-var-item > .xr-var-name span {\n",
       "  background-color: var(--xr-background-color-row-even);\n",
       "  margin-bottom: 0;\n",
       "}\n",
       "\n",
       ".xr-var-item > .xr-var-name:hover span {\n",
       "  padding-right: 5px;\n",
       "}\n",
       "\n",
       ".xr-var-list > li:nth-child(odd) > div,\n",
       ".xr-var-list > li:nth-child(odd) > label,\n",
       ".xr-var-list > li:nth-child(odd) > .xr-var-name span {\n",
       "  background-color: var(--xr-background-color-row-odd);\n",
       "}\n",
       "\n",
       ".xr-var-name {\n",
       "  grid-column: 1;\n",
       "}\n",
       "\n",
       ".xr-var-dims {\n",
       "  grid-column: 2;\n",
       "}\n",
       "\n",
       ".xr-var-dtype {\n",
       "  grid-column: 3;\n",
       "  text-align: right;\n",
       "  color: var(--xr-font-color2);\n",
       "}\n",
       "\n",
       ".xr-var-preview {\n",
       "  grid-column: 4;\n",
       "}\n",
       "\n",
       ".xr-var-name,\n",
       ".xr-var-dims,\n",
       ".xr-var-dtype,\n",
       ".xr-preview,\n",
       ".xr-attrs dt {\n",
       "  white-space: nowrap;\n",
       "  overflow: hidden;\n",
       "  text-overflow: ellipsis;\n",
       "  padding-right: 10px;\n",
       "}\n",
       "\n",
       ".xr-var-name:hover,\n",
       ".xr-var-dims:hover,\n",
       ".xr-var-dtype:hover,\n",
       ".xr-attrs dt:hover {\n",
       "  overflow: visible;\n",
       "  width: auto;\n",
       "  z-index: 1;\n",
       "}\n",
       "\n",
       ".xr-var-attrs,\n",
       ".xr-var-data {\n",
       "  display: none;\n",
       "  background-color: var(--xr-background-color) !important;\n",
       "  padding-bottom: 5px !important;\n",
       "}\n",
       "\n",
       ".xr-var-attrs-in:checked ~ .xr-var-attrs,\n",
       ".xr-var-data-in:checked ~ .xr-var-data {\n",
       "  display: block;\n",
       "}\n",
       "\n",
       ".xr-var-data > table {\n",
       "  float: right;\n",
       "}\n",
       "\n",
       ".xr-var-name span,\n",
       ".xr-var-data,\n",
       ".xr-attrs {\n",
       "  padding-left: 25px !important;\n",
       "}\n",
       "\n",
       ".xr-attrs,\n",
       ".xr-var-attrs,\n",
       ".xr-var-data {\n",
       "  grid-column: 1 / -1;\n",
       "}\n",
       "\n",
       "dl.xr-attrs {\n",
       "  padding: 0;\n",
       "  margin: 0;\n",
       "  display: grid;\n",
       "  grid-template-columns: 125px auto;\n",
       "}\n",
       "\n",
       ".xr-attrs dt,\n",
       ".xr-attrs dd {\n",
       "  padding: 0;\n",
       "  margin: 0;\n",
       "  float: left;\n",
       "  padding-right: 10px;\n",
       "  width: auto;\n",
       "}\n",
       "\n",
       ".xr-attrs dt {\n",
       "  font-weight: normal;\n",
       "  grid-column: 1;\n",
       "}\n",
       "\n",
       ".xr-attrs dt:hover span {\n",
       "  display: inline-block;\n",
       "  background: var(--xr-background-color);\n",
       "  padding-right: 10px;\n",
       "}\n",
       "\n",
       ".xr-attrs dd {\n",
       "  grid-column: 2;\n",
       "  white-space: pre-wrap;\n",
       "  word-break: break-all;\n",
       "}\n",
       "\n",
       ".xr-icon-database,\n",
       ".xr-icon-file-text2 {\n",
       "  display: inline-block;\n",
       "  vertical-align: middle;\n",
       "  width: 1em;\n",
       "  height: 1.5em !important;\n",
       "  stroke-width: 0;\n",
       "  stroke: currentColor;\n",
       "  fill: currentColor;\n",
       "}\n",
       "</style><pre class='xr-text-repr-fallback'>&lt;xarray.Dataset&gt;\n",
       "Dimensions:                        (dim_0: 1459, dim_1: 1, dim_2: 768)\n",
       "Dimensions without coordinates: dim_0, dim_1, dim_2\n",
       "Data variables:\n",
       "    __xarray_dataarray_variable__  (dim_0, dim_1, dim_2) float32 dask.array&lt;chunksize=(1459, 1, 768), meta=np.ndarray&gt;</pre><div class='xr-wrap' style='display:none'><div class='xr-header'><div class='xr-obj-type'>xarray.Dataset</div></div><ul class='xr-sections'><li class='xr-section-item'><input id='section-c97ef7be-531d-4acd-85ad-264651e181b7' class='xr-section-summary-in' type='checkbox' disabled ><label for='section-c97ef7be-531d-4acd-85ad-264651e181b7' class='xr-section-summary'  title='Expand/collapse section'>Dimensions:</label><div class='xr-section-inline-details'><ul class='xr-dim-list'><li><span>dim_0</span>: 1459</li><li><span>dim_1</span>: 1</li><li><span>dim_2</span>: 768</li></ul></div><div class='xr-section-details'></div></li><li class='xr-section-item'><input id='section-f852604b-cdc3-442a-8ae2-80f428fa1bef' class='xr-section-summary-in' type='checkbox' disabled ><label for='section-f852604b-cdc3-442a-8ae2-80f428fa1bef' class='xr-section-summary'  title='Expand/collapse section'>Coordinates: <span>(0)</span></label><div class='xr-section-inline-details'></div><div class='xr-section-details'><ul class='xr-var-list'></ul></div></li><li class='xr-section-item'><input id='section-a06cb43f-95eb-41d6-874d-3d7582f74b9e' class='xr-section-summary-in' type='checkbox'  checked><label for='section-a06cb43f-95eb-41d6-874d-3d7582f74b9e' class='xr-section-summary' >Data variables: <span>(1)</span></label><div class='xr-section-inline-details'></div><div class='xr-section-details'><ul class='xr-var-list'><li class='xr-var-item'><div class='xr-var-name'><span>__xarray_dataarray_variable__</span></div><div class='xr-var-dims'>(dim_0, dim_1, dim_2)</div><div class='xr-var-dtype'>float32</div><div class='xr-var-preview xr-preview'>dask.array&lt;chunksize=(1459, 1, 768), meta=np.ndarray&gt;</div><input id='attrs-90052acc-e52d-4026-b0e9-717c4bf2fd80' class='xr-var-attrs-in' type='checkbox' disabled><label for='attrs-90052acc-e52d-4026-b0e9-717c4bf2fd80' title='Show/Hide attributes'><svg class='icon xr-icon-file-text2'><use xlink:href='#icon-file-text2'></use></svg></label><input id='data-388d69e6-cea4-4c76-92c3-23624d101060' class='xr-var-data-in' type='checkbox'><label for='data-388d69e6-cea4-4c76-92c3-23624d101060' title='Show/Hide data repr'><svg class='icon xr-icon-database'><use xlink:href='#icon-database'></use></svg></label><div class='xr-var-attrs'><dl class='xr-attrs'></dl></div><div class='xr-var-data'><table>\n",
       "    <tr>\n",
       "        <td>\n",
       "            <table>\n",
       "                <thead>\n",
       "                    <tr>\n",
       "                        <td> </td>\n",
       "                        <th> Array </th>\n",
       "                        <th> Chunk </th>\n",
       "                    </tr>\n",
       "                </thead>\n",
       "                <tbody>\n",
       "                    \n",
       "                    <tr>\n",
       "                        <th> Bytes </th>\n",
       "                        <td> 4.27 MiB </td>\n",
       "                        <td> 4.27 MiB </td>\n",
       "                    </tr>\n",
       "                    \n",
       "                    <tr>\n",
       "                        <th> Shape </th>\n",
       "                        <td> (1459, 1, 768) </td>\n",
       "                        <td> (1459, 1, 768) </td>\n",
       "                    </tr>\n",
       "                    <tr>\n",
       "                        <th> Count </th>\n",
       "                        <td> 2 Graph Layers </td>\n",
       "                        <td> 1 Chunks </td>\n",
       "                    </tr>\n",
       "                    <tr>\n",
       "                    <th> Type </th>\n",
       "                    <td> float32 </td>\n",
       "                    <td> numpy.ndarray </td>\n",
       "                    </tr>\n",
       "                </tbody>\n",
       "            </table>\n",
       "        </td>\n",
       "        <td>\n",
       "        <svg width=\"193\" height=\"146\" style=\"stroke:rgb(0,0,0);stroke-width:1\" >\n",
       "\n",
       "  <!-- Horizontal lines -->\n",
       "  <line x1=\"10\" y1=\"0\" x2=\"80\" y2=\"70\" style=\"stroke-width:2\" />\n",
       "  <line x1=\"10\" y1=\"25\" x2=\"80\" y2=\"96\" style=\"stroke-width:2\" />\n",
       "\n",
       "  <!-- Vertical lines -->\n",
       "  <line x1=\"10\" y1=\"0\" x2=\"10\" y2=\"25\" style=\"stroke-width:2\" />\n",
       "  <line x1=\"80\" y1=\"70\" x2=\"80\" y2=\"96\" style=\"stroke-width:2\" />\n",
       "\n",
       "  <!-- Colored Rectangle -->\n",
       "  <polygon points=\"10.0,0.0 80.58823529411765,70.58823529411765 80.58823529411765,96.00085180870013 10.0,25.412616514582485\" style=\"fill:#ECB172A0;stroke-width:0\"/>\n",
       "\n",
       "  <!-- Horizontal lines -->\n",
       "  <line x1=\"10\" y1=\"0\" x2=\"73\" y2=\"0\" style=\"stroke-width:2\" />\n",
       "  <line x1=\"80\" y1=\"70\" x2=\"143\" y2=\"70\" style=\"stroke-width:2\" />\n",
       "\n",
       "  <!-- Vertical lines -->\n",
       "  <line x1=\"10\" y1=\"0\" x2=\"80\" y2=\"70\" style=\"stroke-width:2\" />\n",
       "  <line x1=\"73\" y1=\"0\" x2=\"143\" y2=\"70\" style=\"stroke-width:2\" />\n",
       "\n",
       "  <!-- Colored Rectangle -->\n",
       "  <polygon points=\"10.0,0.0 73.1665524331734,0.0 143.75478772729105,70.58823529411765 80.58823529411765,70.58823529411765\" style=\"fill:#ECB172A0;stroke-width:0\"/>\n",
       "\n",
       "  <!-- Horizontal lines -->\n",
       "  <line x1=\"80\" y1=\"70\" x2=\"143\" y2=\"70\" style=\"stroke-width:2\" />\n",
       "  <line x1=\"80\" y1=\"96\" x2=\"143\" y2=\"96\" style=\"stroke-width:2\" />\n",
       "\n",
       "  <!-- Vertical lines -->\n",
       "  <line x1=\"80\" y1=\"70\" x2=\"80\" y2=\"96\" style=\"stroke-width:2\" />\n",
       "  <line x1=\"143\" y1=\"70\" x2=\"143\" y2=\"96\" style=\"stroke-width:2\" />\n",
       "\n",
       "  <!-- Colored Rectangle -->\n",
       "  <polygon points=\"80.58823529411765,70.58823529411765 143.75478772729105,70.58823529411765 143.75478772729105,96.00085180870013 80.58823529411765,96.00085180870013\" style=\"fill:#ECB172A0;stroke-width:0\"/>\n",
       "\n",
       "  <!-- Text -->\n",
       "  <text x=\"112.171512\" y=\"116.000852\" font-size=\"1.0rem\" font-weight=\"100\" text-anchor=\"middle\" >768</text>\n",
       "  <text x=\"163.754788\" y=\"83.294544\" font-size=\"1.0rem\" font-weight=\"100\" text-anchor=\"middle\" transform=\"rotate(0,163.754788,83.294544)\">1</text>\n",
       "  <text x=\"35.294118\" y=\"80.706734\" font-size=\"1.0rem\" font-weight=\"100\" text-anchor=\"middle\" transform=\"rotate(45,35.294118,80.706734)\">1459</text>\n",
       "</svg>\n",
       "        </td>\n",
       "    </tr>\n",
       "</table></div></li></ul></div></li><li class='xr-section-item'><input id='section-2a8b8742-473e-4a2e-983b-c5ddaeff62fa' class='xr-section-summary-in' type='checkbox' disabled ><label for='section-2a8b8742-473e-4a2e-983b-c5ddaeff62fa' class='xr-section-summary'  title='Expand/collapse section'>Attributes: <span>(0)</span></label><div class='xr-section-inline-details'></div><div class='xr-section-details'><dl class='xr-attrs'></dl></div></li></ul></div></div>"
      ],
      "text/plain": [
       "<xarray.Dataset>\n",
       "Dimensions:                        (dim_0: 1459, dim_1: 1, dim_2: 768)\n",
       "Dimensions without coordinates: dim_0, dim_1, dim_2\n",
       "Data variables:\n",
       "    __xarray_dataarray_variable__  (dim_0, dim_1, dim_2) float32 dask.array<chunksize=(1459, 1, 768), meta=np.ndarray>"
      ]
     },
     "execution_count": 15,
     "metadata": {},
     "output_type": "execute_result"
    }
   ],
   "source": [
    "import xarray as xr\n",
    "\n",
    "xr.open_mfdataset(f\"{base_dir}/data/weatherbench/era5/5.625/compressed_tp_nc/tp_1979_5_625deg.nc\")"
   ]
  },
  {
   "cell_type": "code",
   "execution_count": 16,
   "metadata": {},
   "outputs": [
    {
     "data": {
      "text/html": [
       "<div><svg style=\"position: absolute; width: 0; height: 0; overflow: hidden\">\n",
       "<defs>\n",
       "<symbol id=\"icon-database\" viewBox=\"0 0 32 32\">\n",
       "<path d=\"M16 0c-8.837 0-16 2.239-16 5v4c0 2.761 7.163 5 16 5s16-2.239 16-5v-4c0-2.761-7.163-5-16-5z\"></path>\n",
       "<path d=\"M16 17c-8.837 0-16-2.239-16-5v6c0 2.761 7.163 5 16 5s16-2.239 16-5v-6c0 2.761-7.163 5-16 5z\"></path>\n",
       "<path d=\"M16 26c-8.837 0-16-2.239-16-5v6c0 2.761 7.163 5 16 5s16-2.239 16-5v-6c0 2.761-7.163 5-16 5z\"></path>\n",
       "</symbol>\n",
       "<symbol id=\"icon-file-text2\" viewBox=\"0 0 32 32\">\n",
       "<path d=\"M28.681 7.159c-0.694-0.947-1.662-2.053-2.724-3.116s-2.169-2.030-3.116-2.724c-1.612-1.182-2.393-1.319-2.841-1.319h-15.5c-1.378 0-2.5 1.121-2.5 2.5v27c0 1.378 1.122 2.5 2.5 2.5h23c1.378 0 2.5-1.122 2.5-2.5v-19.5c0-0.448-0.137-1.23-1.319-2.841zM24.543 5.457c0.959 0.959 1.712 1.825 2.268 2.543h-4.811v-4.811c0.718 0.556 1.584 1.309 2.543 2.268zM28 29.5c0 0.271-0.229 0.5-0.5 0.5h-23c-0.271 0-0.5-0.229-0.5-0.5v-27c0-0.271 0.229-0.5 0.5-0.5 0 0 15.499-0 15.5 0v7c0 0.552 0.448 1 1 1h7v19.5z\"></path>\n",
       "<path d=\"M23 26h-14c-0.552 0-1-0.448-1-1s0.448-1 1-1h14c0.552 0 1 0.448 1 1s-0.448 1-1 1z\"></path>\n",
       "<path d=\"M23 22h-14c-0.552 0-1-0.448-1-1s0.448-1 1-1h14c0.552 0 1 0.448 1 1s-0.448 1-1 1z\"></path>\n",
       "<path d=\"M23 18h-14c-0.552 0-1-0.448-1-1s0.448-1 1-1h14c0.552 0 1 0.448 1 1s-0.448 1-1 1z\"></path>\n",
       "</symbol>\n",
       "</defs>\n",
       "</svg>\n",
       "<style>/* CSS stylesheet for displaying xarray objects in jupyterlab.\n",
       " *\n",
       " */\n",
       "\n",
       ":root {\n",
       "  --xr-font-color0: var(--jp-content-font-color0, rgba(0, 0, 0, 1));\n",
       "  --xr-font-color2: var(--jp-content-font-color2, rgba(0, 0, 0, 0.54));\n",
       "  --xr-font-color3: var(--jp-content-font-color3, rgba(0, 0, 0, 0.38));\n",
       "  --xr-border-color: var(--jp-border-color2, #e0e0e0);\n",
       "  --xr-disabled-color: var(--jp-layout-color3, #bdbdbd);\n",
       "  --xr-background-color: var(--jp-layout-color0, white);\n",
       "  --xr-background-color-row-even: var(--jp-layout-color1, white);\n",
       "  --xr-background-color-row-odd: var(--jp-layout-color2, #eeeeee);\n",
       "}\n",
       "\n",
       "html[theme=dark],\n",
       "body[data-theme=dark],\n",
       "body.vscode-dark {\n",
       "  --xr-font-color0: rgba(255, 255, 255, 1);\n",
       "  --xr-font-color2: rgba(255, 255, 255, 0.54);\n",
       "  --xr-font-color3: rgba(255, 255, 255, 0.38);\n",
       "  --xr-border-color: #1F1F1F;\n",
       "  --xr-disabled-color: #515151;\n",
       "  --xr-background-color: #111111;\n",
       "  --xr-background-color-row-even: #111111;\n",
       "  --xr-background-color-row-odd: #313131;\n",
       "}\n",
       "\n",
       ".xr-wrap {\n",
       "  display: block !important;\n",
       "  min-width: 300px;\n",
       "  max-width: 700px;\n",
       "}\n",
       "\n",
       ".xr-text-repr-fallback {\n",
       "  /* fallback to plain text repr when CSS is not injected (untrusted notebook) */\n",
       "  display: none;\n",
       "}\n",
       "\n",
       ".xr-header {\n",
       "  padding-top: 6px;\n",
       "  padding-bottom: 6px;\n",
       "  margin-bottom: 4px;\n",
       "  border-bottom: solid 1px var(--xr-border-color);\n",
       "}\n",
       "\n",
       ".xr-header > div,\n",
       ".xr-header > ul {\n",
       "  display: inline;\n",
       "  margin-top: 0;\n",
       "  margin-bottom: 0;\n",
       "}\n",
       "\n",
       ".xr-obj-type,\n",
       ".xr-array-name {\n",
       "  margin-left: 2px;\n",
       "  margin-right: 10px;\n",
       "}\n",
       "\n",
       ".xr-obj-type {\n",
       "  color: var(--xr-font-color2);\n",
       "}\n",
       "\n",
       ".xr-sections {\n",
       "  padding-left: 0 !important;\n",
       "  display: grid;\n",
       "  grid-template-columns: 150px auto auto 1fr 20px 20px;\n",
       "}\n",
       "\n",
       ".xr-section-item {\n",
       "  display: contents;\n",
       "}\n",
       "\n",
       ".xr-section-item input {\n",
       "  display: none;\n",
       "}\n",
       "\n",
       ".xr-section-item input + label {\n",
       "  color: var(--xr-disabled-color);\n",
       "}\n",
       "\n",
       ".xr-section-item input:enabled + label {\n",
       "  cursor: pointer;\n",
       "  color: var(--xr-font-color2);\n",
       "}\n",
       "\n",
       ".xr-section-item input:enabled + label:hover {\n",
       "  color: var(--xr-font-color0);\n",
       "}\n",
       "\n",
       ".xr-section-summary {\n",
       "  grid-column: 1;\n",
       "  color: var(--xr-font-color2);\n",
       "  font-weight: 500;\n",
       "}\n",
       "\n",
       ".xr-section-summary > span {\n",
       "  display: inline-block;\n",
       "  padding-left: 0.5em;\n",
       "}\n",
       "\n",
       ".xr-section-summary-in:disabled + label {\n",
       "  color: var(--xr-font-color2);\n",
       "}\n",
       "\n",
       ".xr-section-summary-in + label:before {\n",
       "  display: inline-block;\n",
       "  content: '►';\n",
       "  font-size: 11px;\n",
       "  width: 15px;\n",
       "  text-align: center;\n",
       "}\n",
       "\n",
       ".xr-section-summary-in:disabled + label:before {\n",
       "  color: var(--xr-disabled-color);\n",
       "}\n",
       "\n",
       ".xr-section-summary-in:checked + label:before {\n",
       "  content: '▼';\n",
       "}\n",
       "\n",
       ".xr-section-summary-in:checked + label > span {\n",
       "  display: none;\n",
       "}\n",
       "\n",
       ".xr-section-summary,\n",
       ".xr-section-inline-details {\n",
       "  padding-top: 4px;\n",
       "  padding-bottom: 4px;\n",
       "}\n",
       "\n",
       ".xr-section-inline-details {\n",
       "  grid-column: 2 / -1;\n",
       "}\n",
       "\n",
       ".xr-section-details {\n",
       "  display: none;\n",
       "  grid-column: 1 / -1;\n",
       "  margin-bottom: 5px;\n",
       "}\n",
       "\n",
       ".xr-section-summary-in:checked ~ .xr-section-details {\n",
       "  display: contents;\n",
       "}\n",
       "\n",
       ".xr-array-wrap {\n",
       "  grid-column: 1 / -1;\n",
       "  display: grid;\n",
       "  grid-template-columns: 20px auto;\n",
       "}\n",
       "\n",
       ".xr-array-wrap > label {\n",
       "  grid-column: 1;\n",
       "  vertical-align: top;\n",
       "}\n",
       "\n",
       ".xr-preview {\n",
       "  color: var(--xr-font-color3);\n",
       "}\n",
       "\n",
       ".xr-array-preview,\n",
       ".xr-array-data {\n",
       "  padding: 0 5px !important;\n",
       "  grid-column: 2;\n",
       "}\n",
       "\n",
       ".xr-array-data,\n",
       ".xr-array-in:checked ~ .xr-array-preview {\n",
       "  display: none;\n",
       "}\n",
       "\n",
       ".xr-array-in:checked ~ .xr-array-data,\n",
       ".xr-array-preview {\n",
       "  display: inline-block;\n",
       "}\n",
       "\n",
       ".xr-dim-list {\n",
       "  display: inline-block !important;\n",
       "  list-style: none;\n",
       "  padding: 0 !important;\n",
       "  margin: 0;\n",
       "}\n",
       "\n",
       ".xr-dim-list li {\n",
       "  display: inline-block;\n",
       "  padding: 0;\n",
       "  margin: 0;\n",
       "}\n",
       "\n",
       ".xr-dim-list:before {\n",
       "  content: '(';\n",
       "}\n",
       "\n",
       ".xr-dim-list:after {\n",
       "  content: ')';\n",
       "}\n",
       "\n",
       ".xr-dim-list li:not(:last-child):after {\n",
       "  content: ',';\n",
       "  padding-right: 5px;\n",
       "}\n",
       "\n",
       ".xr-has-index {\n",
       "  font-weight: bold;\n",
       "}\n",
       "\n",
       ".xr-var-list,\n",
       ".xr-var-item {\n",
       "  display: contents;\n",
       "}\n",
       "\n",
       ".xr-var-item > div,\n",
       ".xr-var-item label,\n",
       ".xr-var-item > .xr-var-name span {\n",
       "  background-color: var(--xr-background-color-row-even);\n",
       "  margin-bottom: 0;\n",
       "}\n",
       "\n",
       ".xr-var-item > .xr-var-name:hover span {\n",
       "  padding-right: 5px;\n",
       "}\n",
       "\n",
       ".xr-var-list > li:nth-child(odd) > div,\n",
       ".xr-var-list > li:nth-child(odd) > label,\n",
       ".xr-var-list > li:nth-child(odd) > .xr-var-name span {\n",
       "  background-color: var(--xr-background-color-row-odd);\n",
       "}\n",
       "\n",
       ".xr-var-name {\n",
       "  grid-column: 1;\n",
       "}\n",
       "\n",
       ".xr-var-dims {\n",
       "  grid-column: 2;\n",
       "}\n",
       "\n",
       ".xr-var-dtype {\n",
       "  grid-column: 3;\n",
       "  text-align: right;\n",
       "  color: var(--xr-font-color2);\n",
       "}\n",
       "\n",
       ".xr-var-preview {\n",
       "  grid-column: 4;\n",
       "}\n",
       "\n",
       ".xr-var-name,\n",
       ".xr-var-dims,\n",
       ".xr-var-dtype,\n",
       ".xr-preview,\n",
       ".xr-attrs dt {\n",
       "  white-space: nowrap;\n",
       "  overflow: hidden;\n",
       "  text-overflow: ellipsis;\n",
       "  padding-right: 10px;\n",
       "}\n",
       "\n",
       ".xr-var-name:hover,\n",
       ".xr-var-dims:hover,\n",
       ".xr-var-dtype:hover,\n",
       ".xr-attrs dt:hover {\n",
       "  overflow: visible;\n",
       "  width: auto;\n",
       "  z-index: 1;\n",
       "}\n",
       "\n",
       ".xr-var-attrs,\n",
       ".xr-var-data {\n",
       "  display: none;\n",
       "  background-color: var(--xr-background-color) !important;\n",
       "  padding-bottom: 5px !important;\n",
       "}\n",
       "\n",
       ".xr-var-attrs-in:checked ~ .xr-var-attrs,\n",
       ".xr-var-data-in:checked ~ .xr-var-data {\n",
       "  display: block;\n",
       "}\n",
       "\n",
       ".xr-var-data > table {\n",
       "  float: right;\n",
       "}\n",
       "\n",
       ".xr-var-name span,\n",
       ".xr-var-data,\n",
       ".xr-attrs {\n",
       "  padding-left: 25px !important;\n",
       "}\n",
       "\n",
       ".xr-attrs,\n",
       ".xr-var-attrs,\n",
       ".xr-var-data {\n",
       "  grid-column: 1 / -1;\n",
       "}\n",
       "\n",
       "dl.xr-attrs {\n",
       "  padding: 0;\n",
       "  margin: 0;\n",
       "  display: grid;\n",
       "  grid-template-columns: 125px auto;\n",
       "}\n",
       "\n",
       ".xr-attrs dt,\n",
       ".xr-attrs dd {\n",
       "  padding: 0;\n",
       "  margin: 0;\n",
       "  float: left;\n",
       "  padding-right: 10px;\n",
       "  width: auto;\n",
       "}\n",
       "\n",
       ".xr-attrs dt {\n",
       "  font-weight: normal;\n",
       "  grid-column: 1;\n",
       "}\n",
       "\n",
       ".xr-attrs dt:hover span {\n",
       "  display: inline-block;\n",
       "  background: var(--xr-background-color);\n",
       "  padding-right: 10px;\n",
       "}\n",
       "\n",
       ".xr-attrs dd {\n",
       "  grid-column: 2;\n",
       "  white-space: pre-wrap;\n",
       "  word-break: break-all;\n",
       "}\n",
       "\n",
       ".xr-icon-database,\n",
       ".xr-icon-file-text2 {\n",
       "  display: inline-block;\n",
       "  vertical-align: middle;\n",
       "  width: 1em;\n",
       "  height: 1.5em !important;\n",
       "  stroke-width: 0;\n",
       "  stroke: currentColor;\n",
       "  fill: currentColor;\n",
       "}\n",
       "</style><pre class='xr-text-repr-fallback'>&lt;xarray.Dataset&gt;\n",
       "Dimensions:  (lat: 32, lon: 64, time: 8753)\n",
       "Coordinates:\n",
       "  * lat      (lat) float64 -87.19 -81.56 -75.94 -70.31 ... 75.94 81.56 87.19\n",
       "  * lon      (lon) float64 0.0 5.625 11.25 16.88 ... 337.5 343.1 348.8 354.4\n",
       "  * time     (time) datetime64[ns] 1979-01-01T07:00:00 ... 1979-12-31T23:00:00\n",
       "Data variables:\n",
       "    tp       (time, lat, lon) float32 dask.array&lt;chunksize=(8753, 32, 64), meta=np.ndarray&gt;\n",
       "Attributes:\n",
       "    Conventions:  CF-1.6\n",
       "    history:      2020-01-01 16:44:41 GMT by grib_to_netcdf-2.15.0: /opt/ecmw...</pre><div class='xr-wrap' style='display:none'><div class='xr-header'><div class='xr-obj-type'>xarray.Dataset</div></div><ul class='xr-sections'><li class='xr-section-item'><input id='section-ce79bf45-3569-4743-926f-16ca5def5492' class='xr-section-summary-in' type='checkbox' disabled ><label for='section-ce79bf45-3569-4743-926f-16ca5def5492' class='xr-section-summary'  title='Expand/collapse section'>Dimensions:</label><div class='xr-section-inline-details'><ul class='xr-dim-list'><li><span class='xr-has-index'>lat</span>: 32</li><li><span class='xr-has-index'>lon</span>: 64</li><li><span class='xr-has-index'>time</span>: 8753</li></ul></div><div class='xr-section-details'></div></li><li class='xr-section-item'><input id='section-559a3555-8a6e-4dd3-bf73-f754ca147d5e' class='xr-section-summary-in' type='checkbox'  checked><label for='section-559a3555-8a6e-4dd3-bf73-f754ca147d5e' class='xr-section-summary' >Coordinates: <span>(3)</span></label><div class='xr-section-inline-details'></div><div class='xr-section-details'><ul class='xr-var-list'><li class='xr-var-item'><div class='xr-var-name'><span class='xr-has-index'>lat</span></div><div class='xr-var-dims'>(lat)</div><div class='xr-var-dtype'>float64</div><div class='xr-var-preview xr-preview'>-87.19 -81.56 ... 81.56 87.19</div><input id='attrs-b6b4f26a-cacc-4ef2-85e6-5253e4acd400' class='xr-var-attrs-in' type='checkbox' disabled><label for='attrs-b6b4f26a-cacc-4ef2-85e6-5253e4acd400' title='Show/Hide attributes'><svg class='icon xr-icon-file-text2'><use xlink:href='#icon-file-text2'></use></svg></label><input id='data-67b9dce6-f787-4f84-bfa2-006314d4648b' class='xr-var-data-in' type='checkbox'><label for='data-67b9dce6-f787-4f84-bfa2-006314d4648b' title='Show/Hide data repr'><svg class='icon xr-icon-database'><use xlink:href='#icon-database'></use></svg></label><div class='xr-var-attrs'><dl class='xr-attrs'></dl></div><div class='xr-var-data'><pre>array([-87.1875, -81.5625, -75.9375, -70.3125, -64.6875, -59.0625, -53.4375,\n",
       "       -47.8125, -42.1875, -36.5625, -30.9375, -25.3125, -19.6875, -14.0625,\n",
       "        -8.4375,  -2.8125,   2.8125,   8.4375,  14.0625,  19.6875,  25.3125,\n",
       "        30.9375,  36.5625,  42.1875,  47.8125,  53.4375,  59.0625,  64.6875,\n",
       "        70.3125,  75.9375,  81.5625,  87.1875])</pre></div></li><li class='xr-var-item'><div class='xr-var-name'><span class='xr-has-index'>lon</span></div><div class='xr-var-dims'>(lon)</div><div class='xr-var-dtype'>float64</div><div class='xr-var-preview xr-preview'>0.0 5.625 11.25 ... 348.8 354.4</div><input id='attrs-ee2d4cc0-d49f-42fd-b4a0-60e28e6d2ad0' class='xr-var-attrs-in' type='checkbox' disabled><label for='attrs-ee2d4cc0-d49f-42fd-b4a0-60e28e6d2ad0' title='Show/Hide attributes'><svg class='icon xr-icon-file-text2'><use xlink:href='#icon-file-text2'></use></svg></label><input id='data-3b13338f-f68d-4dc4-a6d5-90676b5f4ea2' class='xr-var-data-in' type='checkbox'><label for='data-3b13338f-f68d-4dc4-a6d5-90676b5f4ea2' title='Show/Hide data repr'><svg class='icon xr-icon-database'><use xlink:href='#icon-database'></use></svg></label><div class='xr-var-attrs'><dl class='xr-attrs'></dl></div><div class='xr-var-data'><pre>array([  0.   ,   5.625,  11.25 ,  16.875,  22.5  ,  28.125,  33.75 ,  39.375,\n",
       "        45.   ,  50.625,  56.25 ,  61.875,  67.5  ,  73.125,  78.75 ,  84.375,\n",
       "        90.   ,  95.625, 101.25 , 106.875, 112.5  , 118.125, 123.75 , 129.375,\n",
       "       135.   , 140.625, 146.25 , 151.875, 157.5  , 163.125, 168.75 , 174.375,\n",
       "       180.   , 185.625, 191.25 , 196.875, 202.5  , 208.125, 213.75 , 219.375,\n",
       "       225.   , 230.625, 236.25 , 241.875, 247.5  , 253.125, 258.75 , 264.375,\n",
       "       270.   , 275.625, 281.25 , 286.875, 292.5  , 298.125, 303.75 , 309.375,\n",
       "       315.   , 320.625, 326.25 , 331.875, 337.5  , 343.125, 348.75 , 354.375])</pre></div></li><li class='xr-var-item'><div class='xr-var-name'><span class='xr-has-index'>time</span></div><div class='xr-var-dims'>(time)</div><div class='xr-var-dtype'>datetime64[ns]</div><div class='xr-var-preview xr-preview'>1979-01-01T07:00:00 ... 1979-12-...</div><input id='attrs-bd76b58a-2dea-49b5-be56-995e8172f5b4' class='xr-var-attrs-in' type='checkbox' ><label for='attrs-bd76b58a-2dea-49b5-be56-995e8172f5b4' title='Show/Hide attributes'><svg class='icon xr-icon-file-text2'><use xlink:href='#icon-file-text2'></use></svg></label><input id='data-20c194f1-f6b8-4e01-97e5-e694b3c4ee6f' class='xr-var-data-in' type='checkbox'><label for='data-20c194f1-f6b8-4e01-97e5-e694b3c4ee6f' title='Show/Hide data repr'><svg class='icon xr-icon-database'><use xlink:href='#icon-database'></use></svg></label><div class='xr-var-attrs'><dl class='xr-attrs'><dt><span>long_name :</span></dt><dd>time</dd></dl></div><div class='xr-var-data'><pre>array([&#x27;1979-01-01T07:00:00.000000000&#x27;, &#x27;1979-01-01T08:00:00.000000000&#x27;,\n",
       "       &#x27;1979-01-01T09:00:00.000000000&#x27;, ..., &#x27;1979-12-31T21:00:00.000000000&#x27;,\n",
       "       &#x27;1979-12-31T22:00:00.000000000&#x27;, &#x27;1979-12-31T23:00:00.000000000&#x27;],\n",
       "      dtype=&#x27;datetime64[ns]&#x27;)</pre></div></li></ul></div></li><li class='xr-section-item'><input id='section-93ab16b9-24cf-4eed-b885-8f4ea7ea91d5' class='xr-section-summary-in' type='checkbox'  checked><label for='section-93ab16b9-24cf-4eed-b885-8f4ea7ea91d5' class='xr-section-summary' >Data variables: <span>(1)</span></label><div class='xr-section-inline-details'></div><div class='xr-section-details'><ul class='xr-var-list'><li class='xr-var-item'><div class='xr-var-name'><span>tp</span></div><div class='xr-var-dims'>(time, lat, lon)</div><div class='xr-var-dtype'>float32</div><div class='xr-var-preview xr-preview'>dask.array&lt;chunksize=(8753, 32, 64), meta=np.ndarray&gt;</div><input id='attrs-50f0cad8-ec76-4f5d-8aa1-9a100fb39d0d' class='xr-var-attrs-in' type='checkbox' ><label for='attrs-50f0cad8-ec76-4f5d-8aa1-9a100fb39d0d' title='Show/Hide attributes'><svg class='icon xr-icon-file-text2'><use xlink:href='#icon-file-text2'></use></svg></label><input id='data-25346c20-fa6d-461b-9f4f-107b0a427e37' class='xr-var-data-in' type='checkbox'><label for='data-25346c20-fa6d-461b-9f4f-107b0a427e37' title='Show/Hide data repr'><svg class='icon xr-icon-database'><use xlink:href='#icon-database'></use></svg></label><div class='xr-var-attrs'><dl class='xr-attrs'><dt><span>units :</span></dt><dd>m</dd><dt><span>long_name :</span></dt><dd>Total precipitation</dd></dl></div><div class='xr-var-data'><table>\n",
       "    <tr>\n",
       "        <td>\n",
       "            <table>\n",
       "                <thead>\n",
       "                    <tr>\n",
       "                        <td> </td>\n",
       "                        <th> Array </th>\n",
       "                        <th> Chunk </th>\n",
       "                    </tr>\n",
       "                </thead>\n",
       "                <tbody>\n",
       "                    \n",
       "                    <tr>\n",
       "                        <th> Bytes </th>\n",
       "                        <td> 68.38 MiB </td>\n",
       "                        <td> 68.38 MiB </td>\n",
       "                    </tr>\n",
       "                    \n",
       "                    <tr>\n",
       "                        <th> Shape </th>\n",
       "                        <td> (8753, 32, 64) </td>\n",
       "                        <td> (8753, 32, 64) </td>\n",
       "                    </tr>\n",
       "                    <tr>\n",
       "                        <th> Count </th>\n",
       "                        <td> 2 Graph Layers </td>\n",
       "                        <td> 1 Chunks </td>\n",
       "                    </tr>\n",
       "                    <tr>\n",
       "                    <th> Type </th>\n",
       "                    <td> float32 </td>\n",
       "                    <td> numpy.ndarray </td>\n",
       "                    </tr>\n",
       "                </tbody>\n",
       "            </table>\n",
       "        </td>\n",
       "        <td>\n",
       "        <svg width=\"156\" height=\"146\" style=\"stroke:rgb(0,0,0);stroke-width:1\" >\n",
       "\n",
       "  <!-- Horizontal lines -->\n",
       "  <line x1=\"10\" y1=\"0\" x2=\"80\" y2=\"70\" style=\"stroke-width:2\" />\n",
       "  <line x1=\"10\" y1=\"25\" x2=\"80\" y2=\"96\" style=\"stroke-width:2\" />\n",
       "\n",
       "  <!-- Vertical lines -->\n",
       "  <line x1=\"10\" y1=\"0\" x2=\"10\" y2=\"25\" style=\"stroke-width:2\" />\n",
       "  <line x1=\"80\" y1=\"70\" x2=\"80\" y2=\"96\" style=\"stroke-width:2\" />\n",
       "\n",
       "  <!-- Colored Rectangle -->\n",
       "  <polygon points=\"10.0,0.0 80.58823529411765,70.58823529411765 80.58823529411765,96.00085180870013 10.0,25.412616514582485\" style=\"fill:#ECB172A0;stroke-width:0\"/>\n",
       "\n",
       "  <!-- Horizontal lines -->\n",
       "  <line x1=\"10\" y1=\"0\" x2=\"35\" y2=\"0\" style=\"stroke-width:2\" />\n",
       "  <line x1=\"80\" y1=\"70\" x2=\"106\" y2=\"70\" style=\"stroke-width:2\" />\n",
       "\n",
       "  <!-- Vertical lines -->\n",
       "  <line x1=\"10\" y1=\"0\" x2=\"80\" y2=\"70\" style=\"stroke-width:2\" />\n",
       "  <line x1=\"35\" y1=\"0\" x2=\"106\" y2=\"70\" style=\"stroke-width:2\" />\n",
       "\n",
       "  <!-- Colored Rectangle -->\n",
       "  <polygon points=\"10.0,0.0 35.41261651458248,0.0 106.00085180870013,70.58823529411765 80.58823529411765,70.58823529411765\" style=\"fill:#ECB172A0;stroke-width:0\"/>\n",
       "\n",
       "  <!-- Horizontal lines -->\n",
       "  <line x1=\"80\" y1=\"70\" x2=\"106\" y2=\"70\" style=\"stroke-width:2\" />\n",
       "  <line x1=\"80\" y1=\"96\" x2=\"106\" y2=\"96\" style=\"stroke-width:2\" />\n",
       "\n",
       "  <!-- Vertical lines -->\n",
       "  <line x1=\"80\" y1=\"70\" x2=\"80\" y2=\"96\" style=\"stroke-width:2\" />\n",
       "  <line x1=\"106\" y1=\"70\" x2=\"106\" y2=\"96\" style=\"stroke-width:2\" />\n",
       "\n",
       "  <!-- Colored Rectangle -->\n",
       "  <polygon points=\"80.58823529411765,70.58823529411765 106.00085180870013,70.58823529411765 106.00085180870013,96.00085180870013 80.58823529411765,96.00085180870013\" style=\"fill:#ECB172A0;stroke-width:0\"/>\n",
       "\n",
       "  <!-- Text -->\n",
       "  <text x=\"93.294544\" y=\"116.000852\" font-size=\"1.0rem\" font-weight=\"100\" text-anchor=\"middle\" >64</text>\n",
       "  <text x=\"126.000852\" y=\"83.294544\" font-size=\"1.0rem\" font-weight=\"100\" text-anchor=\"middle\" transform=\"rotate(0,126.000852,83.294544)\">32</text>\n",
       "  <text x=\"35.294118\" y=\"80.706734\" font-size=\"1.0rem\" font-weight=\"100\" text-anchor=\"middle\" transform=\"rotate(45,35.294118,80.706734)\">8753</text>\n",
       "</svg>\n",
       "        </td>\n",
       "    </tr>\n",
       "</table></div></li></ul></div></li><li class='xr-section-item'><input id='section-4954ceaa-4472-4bae-aca8-083184bd1c3f' class='xr-section-summary-in' type='checkbox'  checked><label for='section-4954ceaa-4472-4bae-aca8-083184bd1c3f' class='xr-section-summary' >Attributes: <span>(2)</span></label><div class='xr-section-inline-details'></div><div class='xr-section-details'><dl class='xr-attrs'><dt><span>Conventions :</span></dt><dd>CF-1.6</dd><dt><span>history :</span></dt><dd>2020-01-01 16:44:41 GMT by grib_to_netcdf-2.15.0: /opt/ecmwf/eccodes/bin/grib_to_netcdf -o /cache/data9/adaptor.mars.internal-1577896238.9250138-16220-11-61c11bea-8173-43c0-994d-25d4540fb278.nc /cache/tmp/61c11bea-8173-43c0-994d-25d4540fb278-adaptor.mars.internal-1577896238.9257643-16220-5-tmp.grib</dd></dl></div></li></ul></div></div>"
      ],
      "text/plain": [
       "<xarray.Dataset>\n",
       "Dimensions:  (lat: 32, lon: 64, time: 8753)\n",
       "Coordinates:\n",
       "  * lat      (lat) float64 -87.19 -81.56 -75.94 -70.31 ... 75.94 81.56 87.19\n",
       "  * lon      (lon) float64 0.0 5.625 11.25 16.88 ... 337.5 343.1 348.8 354.4\n",
       "  * time     (time) datetime64[ns] 1979-01-01T07:00:00 ... 1979-12-31T23:00:00\n",
       "Data variables:\n",
       "    tp       (time, lat, lon) float32 dask.array<chunksize=(8753, 32, 64), meta=np.ndarray>\n",
       "Attributes:\n",
       "    Conventions:  CF-1.6\n",
       "    history:      2020-01-01 16:44:41 GMT by grib_to_netcdf-2.15.0: /opt/ecmw..."
      ]
     },
     "execution_count": 16,
     "metadata": {},
     "output_type": "execute_result"
    }
   ],
   "source": [
    "xr.open_mfdataset(f\"{base_dir}/data/weatherbench/era5/5.625/total_precipitation/total_precipitation_1979_5.625deg.nc\")"
   ]
  },
  {
   "cell_type": "code",
   "execution_count": null,
   "metadata": {},
   "outputs": [
    {
     "ename": "NameError",
     "evalue": "name 'Trainer' is not defined",
     "output_type": "error",
     "traceback": [
      "\u001b[0;31m---------------------------------------------------------------------------\u001b[0m",
      "\u001b[0;31mNameError\u001b[0m                                 Traceback (most recent call last)",
      "Cell \u001b[0;32mIn [20], line 20\u001b[0m\n\u001b[1;32m     16\u001b[0m model_module \u001b[39m=\u001b[39m load_model(name \u001b[39m=\u001b[39m \u001b[39m\"\u001b[39m\u001b[39mfactorized_prior\u001b[39m\u001b[39m\"\u001b[39m, task \u001b[39m=\u001b[39m \u001b[39m\"\u001b[39m\u001b[39mcompression\u001b[39m\u001b[39m\"\u001b[39m, model_kwargs \u001b[39m=\u001b[39m model_kwargs, optim_kwargs \u001b[39m=\u001b[39m optim_kwargs)\n\u001b[1;32m     17\u001b[0m set_climatology(model_module, data_module)\n\u001b[0;32m---> 20\u001b[0m trainer \u001b[39m=\u001b[39m Trainer(\n\u001b[1;32m     21\u001b[0m     seed \u001b[39m=\u001b[39m \u001b[39m1337\u001b[39m,\n\u001b[1;32m     22\u001b[0m     accelerator \u001b[39m=\u001b[39m \u001b[39m\"\u001b[39m\u001b[39mgpu\u001b[39m\u001b[39m\"\u001b[39m,\n\u001b[1;32m     23\u001b[0m     precision \u001b[39m=\u001b[39m \u001b[39m16\u001b[39m,\n\u001b[1;32m     24\u001b[0m     max_epochs \u001b[39m=\u001b[39m \u001b[39m5\u001b[39m,\n\u001b[1;32m     25\u001b[0m     logger \u001b[39m=\u001b[39m \u001b[39mTrue\u001b[39;00m\n\u001b[1;32m     26\u001b[0m )\n\u001b[1;32m     27\u001b[0m trainer\u001b[39m.\u001b[39mfit(model_module, data_module)\n\u001b[1;32m     29\u001b[0m torch\u001b[39m.\u001b[39msave(model_module\u001b[39m.\u001b[39mstate_dict(), \u001b[39mf\u001b[39m\u001b[39m\"\u001b[39m\u001b[39m{\u001b[39;00mbase_dir\u001b[39m}\u001b[39;00m\u001b[39m/saved_models/5_625FactorizedPrior_128N_64M_1e3\u001b[39m\u001b[39m\"\u001b[39m)\n",
      "\u001b[0;31mNameError\u001b[0m: name 'Trainer' is not defined"
     ]
    }
   ],
   "source": [
    "from climate_learn.models import load_model, set_climatology\n",
    "\n",
    "model_kwargs = {\n",
    "    \"M\": 64,\n",
    "    \"N\": 128\n",
    "}\n",
    "\n",
    "optim_kwargs = {\n",
    "    \"optimizer\": \"adamw\",\n",
    "    \"lr\": 1e-3,\n",
    "    \"weight_decay\": 1e-5,\n",
    "    \"warmup_epochs\": 1,\n",
    "    \"max_epochs\": 5,\n",
    "}\n",
    "\n",
    "model_module = load_model(name = \"factorized_prior\", task = \"compression\", model_kwargs = model_kwargs, optim_kwargs = optim_kwargs)\n",
    "set_climatology(model_module, data_module)\n",
    "\n",
    "\n",
    "trainer = Trainer(\n",
    "    seed = 1337,\n",
    "    accelerator = \"gpu\",\n",
    "    precision = 16,\n",
    "    max_epochs = 5,\n",
    "    logger = True\n",
    ")\n",
    "trainer.fit(model_module, data_module)\n",
    "\n",
    "torch.save(model_module.state_dict(), f\"{base_dir}/saved_models/5_625FactorizedPrior_128N_64M_1e3\")\n"
   ]
  },
  {
   "cell_type": "code",
   "execution_count": 61,
   "metadata": {},
   "outputs": [
    {
     "data": {
      "text/plain": [
       "0.08325975262058502"
      ]
     },
     "execution_count": 61,
     "metadata": {},
     "output_type": "execute_result"
    }
   ],
   "source": [
    "5976811/71785116"
   ]
  },
  {
   "cell_type": "code",
   "execution_count": 52,
   "metadata": {},
   "outputs": [],
   "source": [
    "os.mkdir('/home/felix/Documents/Climate/climate_learn/data/weatherbench/era5/5.625/compressed_tp')"
   ]
  },
  {
   "cell_type": "code",
   "execution_count": 44,
   "metadata": {},
   "outputs": [
    {
     "data": {
      "text/plain": [
       "torch.Size([1460, 1, 32, 64])"
      ]
     },
     "execution_count": 44,
     "metadata": {},
     "output_type": "execute_result"
    }
   ],
   "source": [
    "dataset[idxs[0]:idxs[1]][0].shape"
   ]
  },
  {
   "cell_type": "markdown",
   "metadata": {},
   "source": [
    "TODO:\n",
    "\n",
    "FactorizedPrior (ME)\n",
    "- bottleneck size 1\n",
    "    - train forecast on compressed\n",
    "- bottleneck size 2\n",
    "    - train forecast on compressed\n",
    "\n",
    "SOME SAME MODEL but easier resolution size (ME?)\n",
    "- bottleneck size 1\n",
    "    - train forecast on compressed\n",
    "- bottleneck size 2\n",
    "    - train forecast on compressed\n"
   ]
  },
  {
   "cell_type": "code",
   "execution_count": 18,
   "metadata": {},
   "outputs": [],
   "source": [
    "from compressai.losses import RateDistortionLoss\n",
    "from compressai.models import (\n",
    "    FactorizedPrior,\n",
    "    JointAutoregressiveHierarchicalPriors,\n",
    "    ScaleHyperprior,\n",
    ")"
   ]
  },
  {
   "cell_type": "code",
   "execution_count": 63,
   "metadata": {},
   "outputs": [],
   "source": [
    "factorized_prior = FactorizedPrior(128, 96)"
   ]
  },
  {
   "cell_type": "code",
   "execution_count": 65,
   "metadata": {},
   "outputs": [
    {
     "data": {
      "text/plain": [
       "torch.Size([1, 96, 2, 4])"
      ]
     },
     "execution_count": 65,
     "metadata": {},
     "output_type": "execute_result"
    }
   ],
   "source": [
    "import torch\n",
    "x = torch.rand(size=(1,32,64)).unsqueeze(0)\n",
    "ret = factorized_prior(x)\n",
    "ret['y_hat'].shape"
   ]
  },
  {
   "cell_type": "markdown",
   "metadata": {},
   "source": [
    "## Test on Test Set"
   ]
  },
  {
   "cell_type": "code",
   "execution_count": 92,
   "metadata": {},
   "outputs": [
    {
     "data": {
      "text/plain": [
       "<All keys matched successfully>"
      ]
     },
     "execution_count": 92,
     "metadata": {},
     "output_type": "execute_result"
    }
   ],
   "source": [
    "\n",
    "model_kwargs = {\n",
    "    \"M\": 96,\n",
    "    \"N\": 128\n",
    "}\n",
    "\n",
    "optim_kwargs = {\n",
    "    \"optimizer\": \"adamw\",\n",
    "    \"lr\": 1e-3,\n",
    "    \"weight_decay\": 1e-5,\n",
    "    \"warmup_epochs\": 1,\n",
    "    \"max_epochs\": 5,\n",
    "}\n",
    "\n",
    "model_module = load_model(name = \"factorized_prior\", task = \"compression\", model_kwargs = model_kwargs, optim_kwargs = optim_kwargs)\n",
    "set_climatology(model_module, data_module)\n",
    "model_module.load_state_dict(torch.load(f\"{base_dir}/saved_models/5_625FactorizedPrior_128N_96M\"))\n"
   ]
  },
  {
   "cell_type": "code",
   "execution_count": 42,
   "metadata": {},
   "outputs": [
    {
     "data": {
      "application/vnd.jupyter.widget-view+json": {
       "model_id": "a5541b51306e46e9b73d3625376680aa",
       "version_major": 2,
       "version_minor": 0
      },
      "text/plain": [
       "Output()"
      ]
     },
     "metadata": {},
     "output_type": "display_data"
    },
    {
     "name": "stdout",
     "output_type": "stream",
     "text": [
      "16x2x4\n"
     ]
    },
    {
     "data": {
      "text/html": [
       "<pre style=\"white-space:pre;overflow-x:auto;line-height:normal;font-family:Menlo,'DejaVu Sans Mono',consolas,'Courier New',monospace\">┏━━━━━━━━━━━━━━━━━━━━━━━━━━━━━━━━━━━━━━━━━━━━━━━━┳━━━━━━━━━━━━━━━━━━━━━━━━━━━━━━━━━━━━━━━━━━━━━━━━┓\n",
       "┃<span style=\"font-weight: bold\">                  Test metric                   </span>┃<span style=\"font-weight: bold\">                  DataLoader 0                  </span>┃\n",
       "┡━━━━━━━━━━━━━━━━━━━━━━━━━━━━━━━━━━━━━━━━━━━━━━━━╇━━━━━━━━━━━━━━━━━━━━━━━━━━━━━━━━━━━━━━━━━━━━━━━━┩\n",
       "│<span style=\"color: #008080; text-decoration-color: #008080\">                 test/bpp_loss                  </span>│<span style=\"color: #800080; text-decoration-color: #800080\">              0.30486905574798584               </span>│\n",
       "│<span style=\"color: #008080; text-decoration-color: #008080\">                   test/loss                    </span>│<span style=\"color: #800080; text-decoration-color: #800080\">               550.5278930664062                </span>│\n",
       "│<span style=\"color: #008080; text-decoration-color: #008080\">  test/mean_bias:mean_bias_total_precipitation  </span>│<span style=\"color: #800080; text-decoration-color: #800080\">                      0.0                       </span>│\n",
       "│<span style=\"color: #008080; text-decoration-color: #008080\">                 test/mse_loss                  </span>│<span style=\"color: #800080; text-decoration-color: #800080\">               0.8461714386940002               </span>│\n",
       "│<span style=\"color: #008080; text-decoration-color: #008080\"> test/pearson_loss:pearsonr_total_precipitation </span>│<span style=\"color: #800080; text-decoration-color: #800080\">               0.9999999999999966               </span>│\n",
       "└────────────────────────────────────────────────┴────────────────────────────────────────────────┘\n",
       "</pre>\n"
      ],
      "text/plain": [
       "┏━━━━━━━━━━━━━━━━━━━━━━━━━━━━━━━━━━━━━━━━━━━━━━━━┳━━━━━━━━━━━━━━━━━━━━━━━━━━━━━━━━━━━━━━━━━━━━━━━━┓\n",
       "┃\u001b[1m \u001b[0m\u001b[1m                 Test metric                  \u001b[0m\u001b[1m \u001b[0m┃\u001b[1m \u001b[0m\u001b[1m                 DataLoader 0                 \u001b[0m\u001b[1m \u001b[0m┃\n",
       "┡━━━━━━━━━━━━━━━━━━━━━━━━━━━━━━━━━━━━━━━━━━━━━━━━╇━━━━━━━━━━━━━━━━━━━━━━━━━━━━━━━━━━━━━━━━━━━━━━━━┩\n",
       "│\u001b[36m \u001b[0m\u001b[36m                test/bpp_loss                 \u001b[0m\u001b[36m \u001b[0m│\u001b[35m \u001b[0m\u001b[35m             0.30486905574798584              \u001b[0m\u001b[35m \u001b[0m│\n",
       "│\u001b[36m \u001b[0m\u001b[36m                  test/loss                   \u001b[0m\u001b[36m \u001b[0m│\u001b[35m \u001b[0m\u001b[35m              550.5278930664062               \u001b[0m\u001b[35m \u001b[0m│\n",
       "│\u001b[36m \u001b[0m\u001b[36m test/mean_bias:mean_bias_total_precipitation \u001b[0m\u001b[36m \u001b[0m│\u001b[35m \u001b[0m\u001b[35m                     0.0                      \u001b[0m\u001b[35m \u001b[0m│\n",
       "│\u001b[36m \u001b[0m\u001b[36m                test/mse_loss                 \u001b[0m\u001b[36m \u001b[0m│\u001b[35m \u001b[0m\u001b[35m              0.8461714386940002              \u001b[0m\u001b[35m \u001b[0m│\n",
       "│\u001b[36m \u001b[0m\u001b[36mtest/pearson_loss:pearsonr_total_precipitation\u001b[0m\u001b[36m \u001b[0m│\u001b[35m \u001b[0m\u001b[35m              0.9999999999999966              \u001b[0m\u001b[35m \u001b[0m│\n",
       "└────────────────────────────────────────────────┴────────────────────────────────────────────────┘\n"
      ]
     },
     "metadata": {},
     "output_type": "display_data"
    },
    {
     "data": {
      "text/html": [
       "<pre style=\"white-space:pre;overflow-x:auto;line-height:normal;font-family:Menlo,'DejaVu Sans Mono',consolas,'Courier New',monospace\"></pre>\n"
      ],
      "text/plain": []
     },
     "metadata": {},
     "output_type": "display_data"
    },
    {
     "data": {
      "text/html": [
       "<pre style=\"white-space:pre;overflow-x:auto;line-height:normal;font-family:Menlo,'DejaVu Sans Mono',consolas,'Courier New',monospace\">\n",
       "</pre>\n"
      ],
      "text/plain": [
       "\n"
      ]
     },
     "metadata": {},
     "output_type": "display_data"
    }
   ],
   "source": [
    "print('''16x2x4''')\n",
    "trainer.test(model_module, data_module)"
   ]
  },
  {
   "cell_type": "code",
   "execution_count": 40,
   "metadata": {},
   "outputs": [
    {
     "data": {
      "application/vnd.jupyter.widget-view+json": {
       "model_id": "6496d160d93643d8b9e694c587a2a730",
       "version_major": 2,
       "version_minor": 0
      },
      "text/plain": [
       "Output()"
      ]
     },
     "metadata": {},
     "output_type": "display_data"
    },
    {
     "name": "stdout",
     "output_type": "stream",
     "text": [
      "64x2x4\n"
     ]
    },
    {
     "data": {
      "text/html": [
       "<pre style=\"white-space:pre;overflow-x:auto;line-height:normal;font-family:Menlo,'DejaVu Sans Mono',consolas,'Courier New',monospace\">┏━━━━━━━━━━━━━━━━━━━━━━━━━━━━━━━━━━━━━━━━━━━━━━━━┳━━━━━━━━━━━━━━━━━━━━━━━━━━━━━━━━━━━━━━━━━━━━━━━━┓\n",
       "┃<span style=\"font-weight: bold\">                  Test metric                   </span>┃<span style=\"font-weight: bold\">                  DataLoader 0                  </span>┃\n",
       "┡━━━━━━━━━━━━━━━━━━━━━━━━━━━━━━━━━━━━━━━━━━━━━━━━╇━━━━━━━━━━━━━━━━━━━━━━━━━━━━━━━━━━━━━━━━━━━━━━━━┩\n",
       "│<span style=\"color: #008080; text-decoration-color: #008080\">                 test/bpp_loss                  </span>│<span style=\"color: #800080; text-decoration-color: #800080\">               1.1100502014160156               </span>│\n",
       "│<span style=\"color: #008080; text-decoration-color: #008080\">                   test/loss                    </span>│<span style=\"color: #800080; text-decoration-color: #800080\">               202.6835174560547                </span>│\n",
       "│<span style=\"color: #008080; text-decoration-color: #008080\">  test/mean_bias:mean_bias_total_precipitation  </span>│<span style=\"color: #800080; text-decoration-color: #800080\">                      0.0                       </span>│\n",
       "│<span style=\"color: #008080; text-decoration-color: #008080\">                 test/mse_loss                  </span>│<span style=\"color: #800080; text-decoration-color: #800080\">              0.30999377369880676               </span>│\n",
       "│<span style=\"color: #008080; text-decoration-color: #008080\"> test/pearson_loss:pearsonr_total_precipitation </span>│<span style=\"color: #800080; text-decoration-color: #800080\">               0.9999999999999966               </span>│\n",
       "└────────────────────────────────────────────────┴────────────────────────────────────────────────┘\n",
       "</pre>\n"
      ],
      "text/plain": [
       "┏━━━━━━━━━━━━━━━━━━━━━━━━━━━━━━━━━━━━━━━━━━━━━━━━┳━━━━━━━━━━━━━━━━━━━━━━━━━━━━━━━━━━━━━━━━━━━━━━━━┓\n",
       "┃\u001b[1m \u001b[0m\u001b[1m                 Test metric                  \u001b[0m\u001b[1m \u001b[0m┃\u001b[1m \u001b[0m\u001b[1m                 DataLoader 0                 \u001b[0m\u001b[1m \u001b[0m┃\n",
       "┡━━━━━━━━━━━━━━━━━━━━━━━━━━━━━━━━━━━━━━━━━━━━━━━━╇━━━━━━━━━━━━━━━━━━━━━━━━━━━━━━━━━━━━━━━━━━━━━━━━┩\n",
       "│\u001b[36m \u001b[0m\u001b[36m                test/bpp_loss                 \u001b[0m\u001b[36m \u001b[0m│\u001b[35m \u001b[0m\u001b[35m              1.1100502014160156              \u001b[0m\u001b[35m \u001b[0m│\n",
       "│\u001b[36m \u001b[0m\u001b[36m                  test/loss                   \u001b[0m\u001b[36m \u001b[0m│\u001b[35m \u001b[0m\u001b[35m              202.6835174560547               \u001b[0m\u001b[35m \u001b[0m│\n",
       "│\u001b[36m \u001b[0m\u001b[36m test/mean_bias:mean_bias_total_precipitation \u001b[0m\u001b[36m \u001b[0m│\u001b[35m \u001b[0m\u001b[35m                     0.0                      \u001b[0m\u001b[35m \u001b[0m│\n",
       "│\u001b[36m \u001b[0m\u001b[36m                test/mse_loss                 \u001b[0m\u001b[36m \u001b[0m│\u001b[35m \u001b[0m\u001b[35m             0.30999377369880676              \u001b[0m\u001b[35m \u001b[0m│\n",
       "│\u001b[36m \u001b[0m\u001b[36mtest/pearson_loss:pearsonr_total_precipitation\u001b[0m\u001b[36m \u001b[0m│\u001b[35m \u001b[0m\u001b[35m              0.9999999999999966              \u001b[0m\u001b[35m \u001b[0m│\n",
       "└────────────────────────────────────────────────┴────────────────────────────────────────────────┘\n"
      ]
     },
     "metadata": {},
     "output_type": "display_data"
    },
    {
     "data": {
      "text/html": [
       "<pre style=\"white-space:pre;overflow-x:auto;line-height:normal;font-family:Menlo,'DejaVu Sans Mono',consolas,'Courier New',monospace\"></pre>\n"
      ],
      "text/plain": []
     },
     "metadata": {},
     "output_type": "display_data"
    },
    {
     "data": {
      "text/html": [
       "<pre style=\"white-space:pre;overflow-x:auto;line-height:normal;font-family:Menlo,'DejaVu Sans Mono',consolas,'Courier New',monospace\">\n",
       "</pre>\n"
      ],
      "text/plain": [
       "\n"
      ]
     },
     "metadata": {},
     "output_type": "display_data"
    }
   ],
   "source": [
    "print('''64x2x4''')\n",
    "trainer.test(model_module, data_module)"
   ]
  },
  {
   "cell_type": "code",
   "execution_count": 38,
   "metadata": {},
   "outputs": [
    {
     "data": {
      "application/vnd.jupyter.widget-view+json": {
       "model_id": "3431208d385e4dad9029bacba07adaa2",
       "version_major": 2,
       "version_minor": 0
      },
      "text/plain": [
       "Output()"
      ]
     },
     "metadata": {},
     "output_type": "display_data"
    },
    {
     "name": "stdout",
     "output_type": "stream",
     "text": [
      "96x2x4\n"
     ]
    },
    {
     "data": {
      "text/html": [
       "<pre style=\"white-space:pre;overflow-x:auto;line-height:normal;font-family:Menlo,'DejaVu Sans Mono',consolas,'Courier New',monospace\">┏━━━━━━━━━━━━━━━━━━━━━━━━━━━━━━━━━━━━━━━━━━━━━━━━┳━━━━━━━━━━━━━━━━━━━━━━━━━━━━━━━━━━━━━━━━━━━━━━━━┓\n",
       "┃<span style=\"font-weight: bold\">                  Test metric                   </span>┃<span style=\"font-weight: bold\">                  DataLoader 0                  </span>┃\n",
       "┡━━━━━━━━━━━━━━━━━━━━━━━━━━━━━━━━━━━━━━━━━━━━━━━━╇━━━━━━━━━━━━━━━━━━━━━━━━━━━━━━━━━━━━━━━━━━━━━━━━┩\n",
       "│<span style=\"color: #008080; text-decoration-color: #008080\">                 test/bpp_loss                  </span>│<span style=\"color: #800080; text-decoration-color: #800080\">               1.6431556940078735               </span>│\n",
       "│<span style=\"color: #008080; text-decoration-color: #008080\">                   test/loss                    </span>│<span style=\"color: #800080; text-decoration-color: #800080\">               150.0002899169922                </span>│\n",
       "│<span style=\"color: #008080; text-decoration-color: #008080\">  test/mean_bias:mean_bias_total_precipitation  </span>│<span style=\"color: #800080; text-decoration-color: #800080\">                      0.0                       </span>│\n",
       "│<span style=\"color: #008080; text-decoration-color: #008080\">                 test/mse_loss                  </span>│<span style=\"color: #800080; text-decoration-color: #800080\">               0.2281540185213089               </span>│\n",
       "│<span style=\"color: #008080; text-decoration-color: #008080\"> test/pearson_loss:pearsonr_total_precipitation </span>│<span style=\"color: #800080; text-decoration-color: #800080\">               0.9999999999999966               </span>│\n",
       "└────────────────────────────────────────────────┴────────────────────────────────────────────────┘\n",
       "</pre>\n"
      ],
      "text/plain": [
       "┏━━━━━━━━━━━━━━━━━━━━━━━━━━━━━━━━━━━━━━━━━━━━━━━━┳━━━━━━━━━━━━━━━━━━━━━━━━━━━━━━━━━━━━━━━━━━━━━━━━┓\n",
       "┃\u001b[1m \u001b[0m\u001b[1m                 Test metric                  \u001b[0m\u001b[1m \u001b[0m┃\u001b[1m \u001b[0m\u001b[1m                 DataLoader 0                 \u001b[0m\u001b[1m \u001b[0m┃\n",
       "┡━━━━━━━━━━━━━━━━━━━━━━━━━━━━━━━━━━━━━━━━━━━━━━━━╇━━━━━━━━━━━━━━━━━━━━━━━━━━━━━━━━━━━━━━━━━━━━━━━━┩\n",
       "│\u001b[36m \u001b[0m\u001b[36m                test/bpp_loss                 \u001b[0m\u001b[36m \u001b[0m│\u001b[35m \u001b[0m\u001b[35m              1.6431556940078735              \u001b[0m\u001b[35m \u001b[0m│\n",
       "│\u001b[36m \u001b[0m\u001b[36m                  test/loss                   \u001b[0m\u001b[36m \u001b[0m│\u001b[35m \u001b[0m\u001b[35m              150.0002899169922               \u001b[0m\u001b[35m \u001b[0m│\n",
       "│\u001b[36m \u001b[0m\u001b[36m test/mean_bias:mean_bias_total_precipitation \u001b[0m\u001b[36m \u001b[0m│\u001b[35m \u001b[0m\u001b[35m                     0.0                      \u001b[0m\u001b[35m \u001b[0m│\n",
       "│\u001b[36m \u001b[0m\u001b[36m                test/mse_loss                 \u001b[0m\u001b[36m \u001b[0m│\u001b[35m \u001b[0m\u001b[35m              0.2281540185213089              \u001b[0m\u001b[35m \u001b[0m│\n",
       "│\u001b[36m \u001b[0m\u001b[36mtest/pearson_loss:pearsonr_total_precipitation\u001b[0m\u001b[36m \u001b[0m│\u001b[35m \u001b[0m\u001b[35m              0.9999999999999966              \u001b[0m\u001b[35m \u001b[0m│\n",
       "└────────────────────────────────────────────────┴────────────────────────────────────────────────┘\n"
      ]
     },
     "metadata": {},
     "output_type": "display_data"
    },
    {
     "data": {
      "text/html": [
       "<pre style=\"white-space:pre;overflow-x:auto;line-height:normal;font-family:Menlo,'DejaVu Sans Mono',consolas,'Courier New',monospace\"></pre>\n"
      ],
      "text/plain": []
     },
     "metadata": {},
     "output_type": "display_data"
    },
    {
     "data": {
      "text/html": [
       "<pre style=\"white-space:pre;overflow-x:auto;line-height:normal;font-family:Menlo,'DejaVu Sans Mono',consolas,'Courier New',monospace\">\n",
       "</pre>\n"
      ],
      "text/plain": [
       "\n"
      ]
     },
     "metadata": {},
     "output_type": "display_data"
    }
   ],
   "source": [
    "print('''96x2x4''')\n",
    "trainer.test(model_module, data_module)"
   ]
  },
  {
   "cell_type": "code",
   "execution_count": null,
   "metadata": {},
   "outputs": [],
   "source": []
  },
  {
   "cell_type": "code",
   "execution_count": 32,
   "metadata": {},
   "outputs": [
    {
     "name": "stdout",
     "output_type": "stream",
     "text": [
      "16x4x2 bottleneck\n"
     ]
    },
    {
     "data": {
      "image/png": "[encoded data removed]",
      "text/plain": [
       "<Figure size 2000x200 with 8 Axes>"
      ]
     },
     "metadata": {},
     "output_type": "display_data"
    }
   ],
   "source": [
    "\"\"\" Visualize? \"\"\"\n",
    "\n",
    "from climate_learn.utils.visualize import visualize\n",
    "print('16x4x2 bottleneck')\n",
    "visualize(model_module, data_module)"
   ]
  },
  {
   "cell_type": "code",
   "execution_count": 34,
   "metadata": {},
   "outputs": [
    {
     "name": "stdout",
     "output_type": "stream",
     "text": [
      "64x4x2 bottleneck\n"
     ]
    },
    {
     "data": {
      "image/png": "[encoded data removed]",
      "text/plain": [
       "<Figure size 2000x200 with 8 Axes>"
      ]
     },
     "metadata": {},
     "output_type": "display_data"
    }
   ],
   "source": [
    "\"\"\" Visualize? \"\"\"\n",
    "\n",
    "from climate_learn.utils.visualize import visualize\n",
    "print('64x4x2 bottleneck')\n",
    "visualize(model_module, data_module)"
   ]
  },
  {
   "cell_type": "code",
   "execution_count": 37,
   "metadata": {},
   "outputs": [
    {
     "name": "stdout",
     "output_type": "stream",
     "text": [
      "96x4x2 bottleneck\n"
     ]
    },
    {
     "data": {
      "image/png": "[encoded data removed]",
      "text/plain": [
       "<Figure size 2000x200 with 8 Axes>"
      ]
     },
     "metadata": {},
     "output_type": "display_data"
    }
   ],
   "source": [
    "\"\"\" Visualize? \"\"\"\n",
    "\n",
    "from climate_learn.utils.visualize import visualize\n",
    "print('96x4x2 bottleneck')\n",
    "visualize(model_module, data_module)"
   ]
  },
  {
   "cell_type": "markdown",
   "metadata": {},
   "source": [
    "## Jessica Forecast Code"
   ]
  },
  {
   "cell_type": "code",
   "execution_count": 1,
   "metadata": {},
   "outputs": [
    {
     "name": "stdout",
     "output_type": "stream",
     "text": [
      "Warning: ecCodes 2.21.0 or higher is recommended. You are running version 2.16.0\n"
     ]
    }
   ],
   "source": [
    "import torch\n",
    "from torch.utils.data import DataLoader\n",
    "from pytorch_lightning import LightningDataModule\n",
    "from torchvision import transforms\n",
    "\n",
    "from climate_learn.data.modules import *\n",
    "from climate_learn.utils.datetime import Year, Hours\n",
    "\n",
    "def collate_fn(batch):\n",
    "    inp = torch.stack([batch[i][0] for i in range(len(batch))])\n",
    "    out = torch.stack([batch[i][1] for i in range(len(batch))])\n",
    "    variables = batch[0][2]\n",
    "    out_variables = batch[0][3]\n",
    "    return inp, out, variables, out_variables\n",
    "\n",
    "class MyDataModule(LightningDataModule):\n",
    "    def __init__(\n",
    "        self,\n",
    "        dataset,\n",
    "        task,\n",
    "        padding,\n",
    "        lower_dir,\n",
    "        root_dir,\n",
    "        in_vars,\n",
    "        out_vars,\n",
    "        train_start_year,\n",
    "        val_start_year,\n",
    "        test_start_year,\n",
    "        end_year = Year(2018),\n",
    "        root_highres_dir=None,\n",
    "        pred_range = Hours(6),\n",
    "        subsample = Hours(1),\n",
    "        batch_size = 64,\n",
    "        num_workers = 0,\n",
    "        pin_memory = False,\n",
    "    ):\n",
    "        super().__init__()\n",
    "\n",
    "        assert end_year >= test_start_year and test_start_year > val_start_year and val_start_year > train_start_year\n",
    "        self.save_hyperparameters(logger=False)\n",
    "\n",
    "        if(dataset != \"ERA5\"):\n",
    "            raise NotImplementedError(\"Only support ERA5\")\n",
    "        if task == \"downscaling\" and root_highres_dir is None:\n",
    "            raise NotImplementedError(\"High-resolution data has to be provided for downscaling\")\n",
    "            \n",
    "        task_string = \"MyForecasting\"\n",
    "        caller = eval(f\"{dataset.upper()}{task_string}\")\n",
    "        \n",
    "        train_years = range(train_start_year, val_start_year)\n",
    "        self.train_dataset = caller(padding, lower_dir, root_dir, root_highres_dir, in_vars, out_vars, pred_range.hours(), train_years, subsample.hours(), \"train\")\n",
    "\n",
    "        val_years = range(val_start_year, test_start_year)\n",
    "        self.val_dataset = caller(padding, lower_dir, root_dir, root_highres_dir, in_vars, out_vars, pred_range.hours(), val_years, subsample.hours(), \"val\")\n",
    "        self.val_dataset.set_normalize(self.train_dataset.inp_transform, self.train_dataset.out_transform)\n",
    "\n",
    "        test_years = range(test_start_year, end_year + 1)\n",
    "        self.test_dataset = caller(padding, lower_dir, root_dir, root_highres_dir, in_vars, out_vars, pred_range.hours(), test_years, subsample.hours(), \"test\")\n",
    "        self.test_dataset.set_normalize(self.train_dataset.inp_transform, self.train_dataset.out_transform)\n",
    "\n",
    "    def get_lat_lon(self):\n",
    "        return self.train_dataset.lat, self.train_dataset.lon\n",
    "\n",
    "    def get_out_transforms(self):\n",
    "        return self.train_dataset.out_transform\n",
    "\n",
    "    def get_climatology(self, split=\"val\"):\n",
    "        if split == \"train\":\n",
    "            return self.train_dataset.get_climatology()\n",
    "        elif split == \"val\":\n",
    "            return self.val_dataset.get_climatology()\n",
    "        elif split == \"test\":\n",
    "            return self.test_dataset.get_climatology()\n",
    "        else:\n",
    "            raise NotImplementedError\n",
    "\n",
    "    def train_dataloader(self):\n",
    "        return DataLoader(\n",
    "            self.train_dataset,\n",
    "            shuffle=True,\n",
    "            batch_size=self.hparams.batch_size,\n",
    "            num_workers=self.hparams.num_workers,\n",
    "            pin_memory=self.hparams.pin_memory,\n",
    "            collate_fn=collate_fn,\n",
    "        )\n",
    "\n",
    "    def val_dataloader(self):\n",
    "        return DataLoader(\n",
    "            self.val_dataset,\n",
    "            shuffle=False,\n",
    "            batch_size=self.hparams.batch_size,\n",
    "            num_workers=self.hparams.num_workers,\n",
    "            pin_memory=self.hparams.pin_memory,\n",
    "            collate_fn=collate_fn,\n",
    "        )\n",
    "\n",
    "    def test_dataloader(self):\n",
    "        return DataLoader(\n",
    "            self.test_dataset,\n",
    "            shuffle=False,\n",
    "            batch_size=self.hparams.batch_size,\n",
    "            num_workers=self.hparams.num_workers,\n",
    "            pin_memory=self.hparams.pin_memory,\n",
    "            collate_fn=collate_fn,\n",
    "        )\n",
    "\n",
    "class ERA5MyForecasting(ERA5):\n",
    "    def __init__(self, padding, lower_dir, root_dir, root_highres_dir, in_vars, out_vars, pred_range, years, subsample=1, split='train'):\n",
    "        print (f'Creating {split} dataset')\n",
    "        super().__init__(root_dir, root_highres_dir, in_vars, years, split)\n",
    "        \n",
    "        self.in_vars = in_vars\n",
    "        self.out_vars = out_vars\n",
    "        self.pred_range = pred_range\n",
    "\n",
    "        data_type = in_vars[0]\n",
    "\n",
    "        inp_data = torch.cat([\n",
    "            torch.load(f\"{root_dir}/{lower_dir}/{'tp' if data_type == 'total_precipitation' else 'tmp'}_{yr}_5.625deg.pt\") for yr in years\n",
    "        ])\n",
    "        dataset = eval(f'data_module.{split}_dataset')\n",
    "        last_idx = np.searchsorted(dataset.time, np.datetime64(datetime.strptime(f\"{years[-1]}-12-28:23\", \"%Y-%m-%d:%H\")))\n",
    "        \n",
    "        print(\"--------------LENGTHS-------------\")\n",
    "        print(inp_data.shape)\n",
    "        print(last_idx)\n",
    "        inp_data = inp_data[0:last_idx]\n",
    "        \n",
    "        inp_data = torch.reshape(inp_data, (inp_data.shape[0], 1, 16, -1))\n",
    "        inp_data = torch.nn.functional.pad(inp_data, padding, \"constant\")\n",
    "        #inp_data = transforms.Resize((32,64))(inp_data)\n",
    "\n",
    "        out_data = xr.concat([self.data_dict[k] for k in out_vars], dim='level')\n",
    "\n",
    "        self.inp_data = inp_data.detach().numpy().astype(np.float32)\n",
    "        self.out_data = out_data[pred_range::subsample].to_numpy().astype(np.float32)\n",
    "\n",
    "        # print(len(self.inp_data))\n",
    "        # print(len(self.out_data))\n",
    "        print(self.inp_data.shape)\n",
    "        print(self.out_data.shape)\n",
    "        print(\"----------------------------------\")\n",
    "        assert len(self.inp_data) == len(self.out_data)\n",
    "\n",
    "        self.downscale_ratio = 1\n",
    "\n",
    "        if split == 'train':\n",
    "            self.inp_transform = self.get_normalize(self.inp_data)\n",
    "            self.out_transform = self.get_normalize(self.out_data)\n",
    "        else:\n",
    "            self.inp_transform = None\n",
    "            self.out_transform = None\n",
    "\n",
    "        self.time = self.data_dict[in_vars[0]].time.to_numpy()[:-pred_range:subsample].copy()\n",
    "        self.inp_lon = self.data_dict[in_vars[0]].lon.to_numpy().copy()\n",
    "        self.inp_lat = self.data_dict[in_vars[0]].lat.to_numpy().copy()\n",
    "        self.out_lon = self.data_dict[out_vars[0]].lon.to_numpy().copy()\n",
    "        self.out_lat = self.data_dict[out_vars[0]].lat.to_numpy().copy()\n",
    "\n",
    "        del self.data_dict\n",
    "\n",
    "    def get_normalize(self, data):\n",
    "        mean = np.mean(data, axis=(0, 2, 3))\n",
    "        std = np.std(data, axis=(0, 2, 3))\n",
    "        return transforms.Normalize(mean, std)\n",
    "\n",
    "    def set_normalize(self, inp_normalize, out_normalize): # for val and test\n",
    "        self.inp_transform = inp_normalize\n",
    "        self.out_transform = out_normalize\n",
    "\n",
    "    def get_climatology(self):\n",
    "        return torch.from_numpy(self.out_data.mean(axis=0))\n",
    "\n",
    "    def __getitem__(self, index):\n",
    "        inp = torch.from_numpy(self.inp_data[index])\n",
    "        out = torch.from_numpy(self.out_data[index])\n",
    "        return self.inp_transform(inp), self.out_transform(out), self.in_vars, self.out_vars\n",
    "\n",
    "    def __len__(self):\n",
    "        return len(self.inp_data)\n"
   ]
  },
  {
   "cell_type": "markdown",
   "metadata": {},
   "source": [
    "## Train Forecast Model"
   ]
  },
  {
   "cell_type": "code",
   "execution_count": 11,
   "metadata": {},
   "outputs": [
    {
     "name": "stdout",
     "output_type": "stream",
     "text": [
      "Creating train dataset\n"
     ]
    },
    {
     "data": {
      "application/vnd.jupyter.widget-view+json": {
       "model_id": "f4e566f922a044588bd1506df62dcedd",
       "version_major": 2,
       "version_minor": 0
      },
      "text/plain": [
       "  0%|          | 0/36 [00:00<?, ?it/s]"
      ]
     },
     "metadata": {},
     "output_type": "display_data"
    },
    {
     "name": "stdout",
     "output_type": "stream",
     "text": [
      "--------------LENGTHS-------------\n",
      "torch.Size([52595, 1, 128])\n",
      "52583\n",
      "(52583, 1, 32, 64)\n",
      "(52583, 1, 32, 64)\n",
      "----------------------------------\n",
      "Creating val dataset\n"
     ]
    },
    {
     "data": {
      "application/vnd.jupyter.widget-view+json": {
       "model_id": "e53ef7e8e35b41638f42b007c6590e51",
       "version_major": 2,
       "version_minor": 0
      },
      "text/plain": [
       "  0%|          | 0/2 [00:00<?, ?it/s]"
      ]
     },
     "metadata": {},
     "output_type": "display_data"
    },
    {
     "name": "stdout",
     "output_type": "stream",
     "text": [
      "--------------LENGTHS-------------\n",
      "torch.Size([2924, 1, 128])\n",
      "2912\n",
      "(2912, 1, 32, 64)\n",
      "(2912, 1, 32, 64)\n",
      "----------------------------------\n",
      "Creating test dataset\n"
     ]
    },
    {
     "data": {
      "application/vnd.jupyter.widget-view+json": {
       "model_id": "cb3c12db8a384df7845ffd2d5b432a2e",
       "version_major": 2,
       "version_minor": 0
      },
      "text/plain": [
       "  0%|          | 0/2 [00:00<?, ?it/s]"
      ]
     },
     "metadata": {},
     "output_type": "display_data"
    },
    {
     "name": "stdout",
     "output_type": "stream",
     "text": [
      "--------------LENGTHS-------------\n",
      "torch.Size([2920, 1, 128])\n",
      "2908\n",
      "(2908, 1, 32, 64)\n",
      "(2908, 1, 32, 64)\n",
      "----------------------------------\n"
     ]
    }
   ],
   "source": [
    "from climate_learn.utils.datetime import Days\n",
    "\n",
    "forecast_data_module = MyDataModule(\n",
    "    dataset = \"ERA5\",\n",
    "    task = \"forecasting\",\n",
    "    padding = (28,28,8,8),\n",
    "    lower_dir = \"compressed_tp_16\",\n",
    "    root_dir = f\"{base_dir}/data/weatherbench/era5/5.625\",\n",
    "    in_vars = [\"total_precipitation\"],\n",
    "    out_vars = [\"total_precipitation\"],\n",
    "    train_start_year = Year(1979),\n",
    "    val_start_year = Year(2015),\n",
    "    test_start_year = Year(2017),\n",
    "    end_year = Year(2018),\n",
    "    pred_range = Days(3),\n",
    "    subsample = Hours(6),\n",
    "    batch_size = 256,\n",
    "    num_workers = 12\n",
    ")"
   ]
  },
  {
   "cell_type": "code",
   "execution_count": 12,
   "metadata": {},
   "outputs": [],
   "source": [
    "from climate_learn.models import load_model\n",
    "from climate_learn.models import set_climatology\n",
    "\n",
    "model_kwargs = {\n",
    "    \"in_channels\": len(forecast_data_module.hparams.in_vars),\n",
    "    \"out_channels\": len(forecast_data_module.hparams.out_vars),\n",
    "    \"n_blocks\": 4\n",
    "}\n",
    "\n",
    "optim_kwargs = {\n",
    "    \"lr\": 1e-4,\n",
    "    \"weight_decay\": 1e-5,\n",
    "    \"warmup_epochs\": 1,\n",
    "    \"max_epochs\": 5,\n",
    "}\n",
    "\n",
    "forecast_model_module = load_model(name = \"resnet\", task = \"forecasting\", model_kwargs = model_kwargs, optim_kwargs = optim_kwargs)\n",
    "\n",
    "set_climatology(forecast_model_module, forecast_data_module)"
   ]
  },
  {
   "cell_type": "code",
   "execution_count": 13,
   "metadata": {},
   "outputs": [
    {
     "name": "stderr",
     "output_type": "stream",
     "text": [
      "Global seed set to 0\n"
     ]
    },
    {
     "data": {
      "text/html": [
       "<pre style=\"white-space:pre;overflow-x:auto;line-height:normal;font-family:Menlo,'DejaVu Sans Mono',consolas,'Courier New',monospace\">┏━━━━┳━━━━━━━━━━━━━━━━━━━━━━━━━━━━┳━━━━━━━━━━━━━━━━━━━┳━━━━━━━━┓\n",
       "┃<span style=\"color: #800080; text-decoration-color: #800080; font-weight: bold\">    </span>┃<span style=\"color: #800080; text-decoration-color: #800080; font-weight: bold\"> Name                       </span>┃<span style=\"color: #800080; text-decoration-color: #800080; font-weight: bold\"> Type              </span>┃<span style=\"color: #800080; text-decoration-color: #800080; font-weight: bold\"> Params </span>┃\n",
       "┡━━━━╇━━━━━━━━━━━━━━━━━━━━━━━━━━━━╇━━━━━━━━━━━━━━━━━━━╇━━━━━━━━┩\n",
       "│<span style=\"color: #7f7f7f; text-decoration-color: #7f7f7f\"> 0  </span>│ net                        │ ResNet            │  1.2 M │\n",
       "│<span style=\"color: #7f7f7f; text-decoration-color: #7f7f7f\"> 1  </span>│ net.activation             │ LeakyReLU         │      0 │\n",
       "│<span style=\"color: #7f7f7f; text-decoration-color: #7f7f7f\"> 2  </span>│ net.image_proj             │ PeriodicConv2D    │  6.4 K │\n",
       "│<span style=\"color: #7f7f7f; text-decoration-color: #7f7f7f\"> 3  </span>│ net.image_proj.padding     │ PeriodicPadding2D │      0 │\n",
       "│<span style=\"color: #7f7f7f; text-decoration-color: #7f7f7f\"> 4  </span>│ net.image_proj.conv        │ Conv2d            │  6.4 K │\n",
       "│<span style=\"color: #7f7f7f; text-decoration-color: #7f7f7f\"> 5  </span>│ net.blocks                 │ ModuleList        │  1.2 M │\n",
       "│<span style=\"color: #7f7f7f; text-decoration-color: #7f7f7f\"> 6  </span>│ net.blocks.0               │ ResidualBlock     │  295 K │\n",
       "│<span style=\"color: #7f7f7f; text-decoration-color: #7f7f7f\"> 7  </span>│ net.blocks.0.activation    │ LeakyReLU         │      0 │\n",
       "│<span style=\"color: #7f7f7f; text-decoration-color: #7f7f7f\"> 8  </span>│ net.blocks.0.conv1         │ PeriodicConv2D    │  147 K │\n",
       "│<span style=\"color: #7f7f7f; text-decoration-color: #7f7f7f\"> 9  </span>│ net.blocks.0.conv1.padding │ PeriodicPadding2D │      0 │\n",
       "│<span style=\"color: #7f7f7f; text-decoration-color: #7f7f7f\"> 10 </span>│ net.blocks.0.conv1.conv    │ Conv2d            │  147 K │\n",
       "│<span style=\"color: #7f7f7f; text-decoration-color: #7f7f7f\"> 11 </span>│ net.blocks.0.conv2         │ PeriodicConv2D    │  147 K │\n",
       "│<span style=\"color: #7f7f7f; text-decoration-color: #7f7f7f\"> 12 </span>│ net.blocks.0.conv2.padding │ PeriodicPadding2D │      0 │\n",
       "│<span style=\"color: #7f7f7f; text-decoration-color: #7f7f7f\"> 13 </span>│ net.blocks.0.conv2.conv    │ Conv2d            │  147 K │\n",
       "│<span style=\"color: #7f7f7f; text-decoration-color: #7f7f7f\"> 14 </span>│ net.blocks.0.shortcut      │ Identity          │      0 │\n",
       "│<span style=\"color: #7f7f7f; text-decoration-color: #7f7f7f\"> 15 </span>│ net.blocks.0.norm1         │ BatchNorm2d       │    256 │\n",
       "│<span style=\"color: #7f7f7f; text-decoration-color: #7f7f7f\"> 16 </span>│ net.blocks.0.norm2         │ BatchNorm2d       │    256 │\n",
       "│<span style=\"color: #7f7f7f; text-decoration-color: #7f7f7f\"> 17 </span>│ net.blocks.0.drop          │ Dropout           │      0 │\n",
       "│<span style=\"color: #7f7f7f; text-decoration-color: #7f7f7f\"> 18 </span>│ net.blocks.1               │ ResidualBlock     │  295 K │\n",
       "│<span style=\"color: #7f7f7f; text-decoration-color: #7f7f7f\"> 19 </span>│ net.blocks.1.activation    │ LeakyReLU         │      0 │\n",
       "│<span style=\"color: #7f7f7f; text-decoration-color: #7f7f7f\"> 20 </span>│ net.blocks.1.conv1         │ PeriodicConv2D    │  147 K │\n",
       "│<span style=\"color: #7f7f7f; text-decoration-color: #7f7f7f\"> 21 </span>│ net.blocks.1.conv1.padding │ PeriodicPadding2D │      0 │\n",
       "│<span style=\"color: #7f7f7f; text-decoration-color: #7f7f7f\"> 22 </span>│ net.blocks.1.conv1.conv    │ Conv2d            │  147 K │\n",
       "│<span style=\"color: #7f7f7f; text-decoration-color: #7f7f7f\"> 23 </span>│ net.blocks.1.conv2         │ PeriodicConv2D    │  147 K │\n",
       "│<span style=\"color: #7f7f7f; text-decoration-color: #7f7f7f\"> 24 </span>│ net.blocks.1.conv2.padding │ PeriodicPadding2D │      0 │\n",
       "│<span style=\"color: #7f7f7f; text-decoration-color: #7f7f7f\"> 25 </span>│ net.blocks.1.conv2.conv    │ Conv2d            │  147 K │\n",
       "│<span style=\"color: #7f7f7f; text-decoration-color: #7f7f7f\"> 26 </span>│ net.blocks.1.shortcut      │ Identity          │      0 │\n",
       "│<span style=\"color: #7f7f7f; text-decoration-color: #7f7f7f\"> 27 </span>│ net.blocks.1.norm1         │ BatchNorm2d       │    256 │\n",
       "│<span style=\"color: #7f7f7f; text-decoration-color: #7f7f7f\"> 28 </span>│ net.blocks.1.norm2         │ BatchNorm2d       │    256 │\n",
       "│<span style=\"color: #7f7f7f; text-decoration-color: #7f7f7f\"> 29 </span>│ net.blocks.1.drop          │ Dropout           │      0 │\n",
       "│<span style=\"color: #7f7f7f; text-decoration-color: #7f7f7f\"> 30 </span>│ net.blocks.2               │ ResidualBlock     │  295 K │\n",
       "│<span style=\"color: #7f7f7f; text-decoration-color: #7f7f7f\"> 31 </span>│ net.blocks.2.activation    │ LeakyReLU         │      0 │\n",
       "│<span style=\"color: #7f7f7f; text-decoration-color: #7f7f7f\"> 32 </span>│ net.blocks.2.conv1         │ PeriodicConv2D    │  147 K │\n",
       "│<span style=\"color: #7f7f7f; text-decoration-color: #7f7f7f\"> 33 </span>│ net.blocks.2.conv1.padding │ PeriodicPadding2D │      0 │\n",
       "│<span style=\"color: #7f7f7f; text-decoration-color: #7f7f7f\"> 34 </span>│ net.blocks.2.conv1.conv    │ Conv2d            │  147 K │\n",
       "│<span style=\"color: #7f7f7f; text-decoration-color: #7f7f7f\"> 35 </span>│ net.blocks.2.conv2         │ PeriodicConv2D    │  147 K │\n",
       "│<span style=\"color: #7f7f7f; text-decoration-color: #7f7f7f\"> 36 </span>│ net.blocks.2.conv2.padding │ PeriodicPadding2D │      0 │\n",
       "│<span style=\"color: #7f7f7f; text-decoration-color: #7f7f7f\"> 37 </span>│ net.blocks.2.conv2.conv    │ Conv2d            │  147 K │\n",
       "│<span style=\"color: #7f7f7f; text-decoration-color: #7f7f7f\"> 38 </span>│ net.blocks.2.shortcut      │ Identity          │      0 │\n",
       "│<span style=\"color: #7f7f7f; text-decoration-color: #7f7f7f\"> 39 </span>│ net.blocks.2.norm1         │ BatchNorm2d       │    256 │\n",
       "│<span style=\"color: #7f7f7f; text-decoration-color: #7f7f7f\"> 40 </span>│ net.blocks.2.norm2         │ BatchNorm2d       │    256 │\n",
       "│<span style=\"color: #7f7f7f; text-decoration-color: #7f7f7f\"> 41 </span>│ net.blocks.2.drop          │ Dropout           │      0 │\n",
       "│<span style=\"color: #7f7f7f; text-decoration-color: #7f7f7f\"> 42 </span>│ net.blocks.3               │ ResidualBlock     │  295 K │\n",
       "│<span style=\"color: #7f7f7f; text-decoration-color: #7f7f7f\"> 43 </span>│ net.blocks.3.activation    │ LeakyReLU         │      0 │\n",
       "│<span style=\"color: #7f7f7f; text-decoration-color: #7f7f7f\"> 44 </span>│ net.blocks.3.conv1         │ PeriodicConv2D    │  147 K │\n",
       "│<span style=\"color: #7f7f7f; text-decoration-color: #7f7f7f\"> 45 </span>│ net.blocks.3.conv1.padding │ PeriodicPadding2D │      0 │\n",
       "│<span style=\"color: #7f7f7f; text-decoration-color: #7f7f7f\"> 46 </span>│ net.blocks.3.conv1.conv    │ Conv2d            │  147 K │\n",
       "│<span style=\"color: #7f7f7f; text-decoration-color: #7f7f7f\"> 47 </span>│ net.blocks.3.conv2         │ PeriodicConv2D    │  147 K │\n",
       "│<span style=\"color: #7f7f7f; text-decoration-color: #7f7f7f\"> 48 </span>│ net.blocks.3.conv2.padding │ PeriodicPadding2D │      0 │\n",
       "│<span style=\"color: #7f7f7f; text-decoration-color: #7f7f7f\"> 49 </span>│ net.blocks.3.conv2.conv    │ Conv2d            │  147 K │\n",
       "│<span style=\"color: #7f7f7f; text-decoration-color: #7f7f7f\"> 50 </span>│ net.blocks.3.shortcut      │ Identity          │      0 │\n",
       "│<span style=\"color: #7f7f7f; text-decoration-color: #7f7f7f\"> 51 </span>│ net.blocks.3.norm1         │ BatchNorm2d       │    256 │\n",
       "│<span style=\"color: #7f7f7f; text-decoration-color: #7f7f7f\"> 52 </span>│ net.blocks.3.norm2         │ BatchNorm2d       │    256 │\n",
       "│<span style=\"color: #7f7f7f; text-decoration-color: #7f7f7f\"> 53 </span>│ net.blocks.3.drop          │ Dropout           │      0 │\n",
       "│<span style=\"color: #7f7f7f; text-decoration-color: #7f7f7f\"> 54 </span>│ net.norm                   │ BatchNorm2d       │    256 │\n",
       "│<span style=\"color: #7f7f7f; text-decoration-color: #7f7f7f\"> 55 </span>│ net.final                  │ PeriodicConv2D    │  6.3 K │\n",
       "│<span style=\"color: #7f7f7f; text-decoration-color: #7f7f7f\"> 56 </span>│ net.final.padding          │ PeriodicPadding2D │      0 │\n",
       "│<span style=\"color: #7f7f7f; text-decoration-color: #7f7f7f\"> 57 </span>│ net.final.conv             │ Conv2d            │  6.3 K │\n",
       "│<span style=\"color: #7f7f7f; text-decoration-color: #7f7f7f\"> 58 </span>│ denormalization            │ Normalize         │      0 │\n",
       "│<span style=\"color: #7f7f7f; text-decoration-color: #7f7f7f\"> 59 </span>│ mean_denormalize           │ Normalize         │      0 │\n",
       "│<span style=\"color: #7f7f7f; text-decoration-color: #7f7f7f\"> 60 </span>│ std_denormalize            │ Normalize         │      0 │\n",
       "└────┴────────────────────────────┴───────────────────┴────────┘\n",
       "</pre>\n"
      ],
      "text/plain": [
       "┏━━━━┳━━━━━━━━━━━━━━━━━━━━━━━━━━━━┳━━━━━━━━━━━━━━━━━━━┳━━━━━━━━┓\n",
       "┃\u001b[1;35m \u001b[0m\u001b[1;35m  \u001b[0m\u001b[1;35m \u001b[0m┃\u001b[1;35m \u001b[0m\u001b[1;35mName                      \u001b[0m\u001b[1;35m \u001b[0m┃\u001b[1;35m \u001b[0m\u001b[1;35mType             \u001b[0m\u001b[1;35m \u001b[0m┃\u001b[1;35m \u001b[0m\u001b[1;35mParams\u001b[0m\u001b[1;35m \u001b[0m┃\n",
       "┡━━━━╇━━━━━━━━━━━━━━━━━━━━━━━━━━━━╇━━━━━━━━━━━━━━━━━━━╇━━━━━━━━┩\n",
       "│\u001b[2m \u001b[0m\u001b[2m0 \u001b[0m\u001b[2m \u001b[0m│ net                        │ ResNet            │  1.2 M │\n",
       "│\u001b[2m \u001b[0m\u001b[2m1 \u001b[0m\u001b[2m \u001b[0m│ net.activation             │ LeakyReLU         │      0 │\n",
       "│\u001b[2m \u001b[0m\u001b[2m2 \u001b[0m\u001b[2m \u001b[0m│ net.image_proj             │ PeriodicConv2D    │  6.4 K │\n",
       "│\u001b[2m \u001b[0m\u001b[2m3 \u001b[0m\u001b[2m \u001b[0m│ net.image_proj.padding     │ PeriodicPadding2D │      0 │\n",
       "│\u001b[2m \u001b[0m\u001b[2m4 \u001b[0m\u001b[2m \u001b[0m│ net.image_proj.conv        │ Conv2d            │  6.4 K │\n",
       "│\u001b[2m \u001b[0m\u001b[2m5 \u001b[0m\u001b[2m \u001b[0m│ net.blocks                 │ ModuleList        │  1.2 M │\n",
       "│\u001b[2m \u001b[0m\u001b[2m6 \u001b[0m\u001b[2m \u001b[0m│ net.blocks.0               │ ResidualBlock     │  295 K │\n",
       "│\u001b[2m \u001b[0m\u001b[2m7 \u001b[0m\u001b[2m \u001b[0m│ net.blocks.0.activation    │ LeakyReLU         │      0 │\n",
       "│\u001b[2m \u001b[0m\u001b[2m8 \u001b[0m\u001b[2m \u001b[0m│ net.blocks.0.conv1         │ PeriodicConv2D    │  147 K │\n",
       "│\u001b[2m \u001b[0m\u001b[2m9 \u001b[0m\u001b[2m \u001b[0m│ net.blocks.0.conv1.padding │ PeriodicPadding2D │      0 │\n",
       "│\u001b[2m \u001b[0m\u001b[2m10\u001b[0m\u001b[2m \u001b[0m│ net.blocks.0.conv1.conv    │ Conv2d            │  147 K │\n",
       "│\u001b[2m \u001b[0m\u001b[2m11\u001b[0m\u001b[2m \u001b[0m│ net.blocks.0.conv2         │ PeriodicConv2D    │  147 K │\n",
       "│\u001b[2m \u001b[0m\u001b[2m12\u001b[0m\u001b[2m \u001b[0m│ net.blocks.0.conv2.padding │ PeriodicPadding2D │      0 │\n",
       "│\u001b[2m \u001b[0m\u001b[2m13\u001b[0m\u001b[2m \u001b[0m│ net.blocks.0.conv2.conv    │ Conv2d            │  147 K │\n",
       "│\u001b[2m \u001b[0m\u001b[2m14\u001b[0m\u001b[2m \u001b[0m│ net.blocks.0.shortcut      │ Identity          │      0 │\n",
       "│\u001b[2m \u001b[0m\u001b[2m15\u001b[0m\u001b[2m \u001b[0m│ net.blocks.0.norm1         │ BatchNorm2d       │    256 │\n",
       "│\u001b[2m \u001b[0m\u001b[2m16\u001b[0m\u001b[2m \u001b[0m│ net.blocks.0.norm2         │ BatchNorm2d       │    256 │\n",
       "│\u001b[2m \u001b[0m\u001b[2m17\u001b[0m\u001b[2m \u001b[0m│ net.blocks.0.drop          │ Dropout           │      0 │\n",
       "│\u001b[2m \u001b[0m\u001b[2m18\u001b[0m\u001b[2m \u001b[0m│ net.blocks.1               │ ResidualBlock     │  295 K │\n",
       "│\u001b[2m \u001b[0m\u001b[2m19\u001b[0m\u001b[2m \u001b[0m│ net.blocks.1.activation    │ LeakyReLU         │      0 │\n",
       "│\u001b[2m \u001b[0m\u001b[2m20\u001b[0m\u001b[2m \u001b[0m│ net.blocks.1.conv1         │ PeriodicConv2D    │  147 K │\n",
       "│\u001b[2m \u001b[0m\u001b[2m21\u001b[0m\u001b[2m \u001b[0m│ net.blocks.1.conv1.padding │ PeriodicPadding2D │      0 │\n",
       "│\u001b[2m \u001b[0m\u001b[2m22\u001b[0m\u001b[2m \u001b[0m│ net.blocks.1.conv1.conv    │ Conv2d            │  147 K │\n",
       "│\u001b[2m \u001b[0m\u001b[2m23\u001b[0m\u001b[2m \u001b[0m│ net.blocks.1.conv2         │ PeriodicConv2D    │  147 K │\n",
       "│\u001b[2m \u001b[0m\u001b[2m24\u001b[0m\u001b[2m \u001b[0m│ net.blocks.1.conv2.padding │ PeriodicPadding2D │      0 │\n",
       "│\u001b[2m \u001b[0m\u001b[2m25\u001b[0m\u001b[2m \u001b[0m│ net.blocks.1.conv2.conv    │ Conv2d            │  147 K │\n",
       "│\u001b[2m \u001b[0m\u001b[2m26\u001b[0m\u001b[2m \u001b[0m│ net.blocks.1.shortcut      │ Identity          │      0 │\n",
       "│\u001b[2m \u001b[0m\u001b[2m27\u001b[0m\u001b[2m \u001b[0m│ net.blocks.1.norm1         │ BatchNorm2d       │    256 │\n",
       "│\u001b[2m \u001b[0m\u001b[2m28\u001b[0m\u001b[2m \u001b[0m│ net.blocks.1.norm2         │ BatchNorm2d       │    256 │\n",
       "│\u001b[2m \u001b[0m\u001b[2m29\u001b[0m\u001b[2m \u001b[0m│ net.blocks.1.drop          │ Dropout           │      0 │\n",
       "│\u001b[2m \u001b[0m\u001b[2m30\u001b[0m\u001b[2m \u001b[0m│ net.blocks.2               │ ResidualBlock     │  295 K │\n",
       "│\u001b[2m \u001b[0m\u001b[2m31\u001b[0m\u001b[2m \u001b[0m│ net.blocks.2.activation    │ LeakyReLU         │      0 │\n",
       "│\u001b[2m \u001b[0m\u001b[2m32\u001b[0m\u001b[2m \u001b[0m│ net.blocks.2.conv1         │ PeriodicConv2D    │  147 K │\n",
       "│\u001b[2m \u001b[0m\u001b[2m33\u001b[0m\u001b[2m \u001b[0m│ net.blocks.2.conv1.padding │ PeriodicPadding2D │      0 │\n",
       "│\u001b[2m \u001b[0m\u001b[2m34\u001b[0m\u001b[2m \u001b[0m│ net.blocks.2.conv1.conv    │ Conv2d            │  147 K │\n",
       "│\u001b[2m \u001b[0m\u001b[2m35\u001b[0m\u001b[2m \u001b[0m│ net.blocks.2.conv2         │ PeriodicConv2D    │  147 K │\n",
       "│\u001b[2m \u001b[0m\u001b[2m36\u001b[0m\u001b[2m \u001b[0m│ net.blocks.2.conv2.padding │ PeriodicPadding2D │      0 │\n",
       "│\u001b[2m \u001b[0m\u001b[2m37\u001b[0m\u001b[2m \u001b[0m│ net.blocks.2.conv2.conv    │ Conv2d            │  147 K │\n",
       "│\u001b[2m \u001b[0m\u001b[2m38\u001b[0m\u001b[2m \u001b[0m│ net.blocks.2.shortcut      │ Identity          │      0 │\n",
       "│\u001b[2m \u001b[0m\u001b[2m39\u001b[0m\u001b[2m \u001b[0m│ net.blocks.2.norm1         │ BatchNorm2d       │    256 │\n",
       "│\u001b[2m \u001b[0m\u001b[2m40\u001b[0m\u001b[2m \u001b[0m│ net.blocks.2.norm2         │ BatchNorm2d       │    256 │\n",
       "│\u001b[2m \u001b[0m\u001b[2m41\u001b[0m\u001b[2m \u001b[0m│ net.blocks.2.drop          │ Dropout           │      0 │\n",
       "│\u001b[2m \u001b[0m\u001b[2m42\u001b[0m\u001b[2m \u001b[0m│ net.blocks.3               │ ResidualBlock     │  295 K │\n",
       "│\u001b[2m \u001b[0m\u001b[2m43\u001b[0m\u001b[2m \u001b[0m│ net.blocks.3.activation    │ LeakyReLU         │      0 │\n",
       "│\u001b[2m \u001b[0m\u001b[2m44\u001b[0m\u001b[2m \u001b[0m│ net.blocks.3.conv1         │ PeriodicConv2D    │  147 K │\n",
       "│\u001b[2m \u001b[0m\u001b[2m45\u001b[0m\u001b[2m \u001b[0m│ net.blocks.3.conv1.padding │ PeriodicPadding2D │      0 │\n",
       "│\u001b[2m \u001b[0m\u001b[2m46\u001b[0m\u001b[2m \u001b[0m│ net.blocks.3.conv1.conv    │ Conv2d            │  147 K │\n",
       "│\u001b[2m \u001b[0m\u001b[2m47\u001b[0m\u001b[2m \u001b[0m│ net.blocks.3.conv2         │ PeriodicConv2D    │  147 K │\n",
       "│\u001b[2m \u001b[0m\u001b[2m48\u001b[0m\u001b[2m \u001b[0m│ net.blocks.3.conv2.padding │ PeriodicPadding2D │      0 │\n",
       "│\u001b[2m \u001b[0m\u001b[2m49\u001b[0m\u001b[2m \u001b[0m│ net.blocks.3.conv2.conv    │ Conv2d            │  147 K │\n",
       "│\u001b[2m \u001b[0m\u001b[2m50\u001b[0m\u001b[2m \u001b[0m│ net.blocks.3.shortcut      │ Identity          │      0 │\n",
       "│\u001b[2m \u001b[0m\u001b[2m51\u001b[0m\u001b[2m \u001b[0m│ net.blocks.3.norm1         │ BatchNorm2d       │    256 │\n",
       "│\u001b[2m \u001b[0m\u001b[2m52\u001b[0m\u001b[2m \u001b[0m│ net.blocks.3.norm2         │ BatchNorm2d       │    256 │\n",
       "│\u001b[2m \u001b[0m\u001b[2m53\u001b[0m\u001b[2m \u001b[0m│ net.blocks.3.drop          │ Dropout           │      0 │\n",
       "│\u001b[2m \u001b[0m\u001b[2m54\u001b[0m\u001b[2m \u001b[0m│ net.norm                   │ BatchNorm2d       │    256 │\n",
       "│\u001b[2m \u001b[0m\u001b[2m55\u001b[0m\u001b[2m \u001b[0m│ net.final                  │ PeriodicConv2D    │  6.3 K │\n",
       "│\u001b[2m \u001b[0m\u001b[2m56\u001b[0m\u001b[2m \u001b[0m│ net.final.padding          │ PeriodicPadding2D │      0 │\n",
       "│\u001b[2m \u001b[0m\u001b[2m57\u001b[0m\u001b[2m \u001b[0m│ net.final.conv             │ Conv2d            │  6.3 K │\n",
       "│\u001b[2m \u001b[0m\u001b[2m58\u001b[0m\u001b[2m \u001b[0m│ denormalization            │ Normalize         │      0 │\n",
       "│\u001b[2m \u001b[0m\u001b[2m59\u001b[0m\u001b[2m \u001b[0m│ mean_denormalize           │ Normalize         │      0 │\n",
       "│\u001b[2m \u001b[0m\u001b[2m60\u001b[0m\u001b[2m \u001b[0m│ std_denormalize            │ Normalize         │      0 │\n",
       "└────┴────────────────────────────┴───────────────────┴────────┘\n"
      ]
     },
     "metadata": {},
     "output_type": "display_data"
    },
    {
     "data": {
      "text/html": [
       "<pre style=\"white-space:pre;overflow-x:auto;line-height:normal;font-family:Menlo,'DejaVu Sans Mono',consolas,'Courier New',monospace\"><span style=\"font-weight: bold\">Trainable params</span>: 1.2 M                                                                                            \n",
       "<span style=\"font-weight: bold\">Non-trainable params</span>: 0                                                                                            \n",
       "<span style=\"font-weight: bold\">Total params</span>: 1.2 M                                                                                                \n",
       "<span style=\"font-weight: bold\">Total estimated model params size (MB)</span>: 2                                                                          \n",
       "</pre>\n"
      ],
      "text/plain": [
       "\u001b[1mTrainable params\u001b[0m: 1.2 M                                                                                            \n",
       "\u001b[1mNon-trainable params\u001b[0m: 0                                                                                            \n",
       "\u001b[1mTotal params\u001b[0m: 1.2 M                                                                                                \n",
       "\u001b[1mTotal estimated model params size (MB)\u001b[0m: 2                                                                          \n"
      ]
     },
     "metadata": {},
     "output_type": "display_data"
    },
    {
     "data": {
      "application/vnd.jupyter.widget-view+json": {
       "model_id": "a5fc3c5b71bb4165b6250f8c25e37479",
       "version_major": 2,
       "version_minor": 0
      },
      "text/plain": [
       "Output()"
      ]
     },
     "metadata": {},
     "output_type": "display_data"
    },
    {
     "data": {
      "text/html": [
       "<pre style=\"white-space:pre;overflow-x:auto;line-height:normal;font-family:Menlo,'DejaVu Sans Mono',consolas,'Courier New',monospace\"></pre>\n"
      ],
      "text/plain": []
     },
     "metadata": {},
     "output_type": "display_data"
    },
    {
     "data": {
      "text/html": [
       "<pre style=\"white-space:pre;overflow-x:auto;line-height:normal;font-family:Menlo,'DejaVu Sans Mono',consolas,'Courier New',monospace\">\n",
       "</pre>\n"
      ],
      "text/plain": [
       "\n"
      ]
     },
     "metadata": {},
     "output_type": "display_data"
    }
   ],
   "source": [
    "from climate_learn.training import Trainer, WandbLogger\n",
    "\n",
    "trainer = Trainer(\n",
    "    seed = 0,\n",
    "    accelerator = \"gpu\",\n",
    "    precision = 16,\n",
    "    max_epochs = 5,\n",
    "    logger = True,\n",
    "    # logger = WandbLogger(project = \"climate_tutorial\", name = \"forecast-vit\")\n",
    ")\n",
    "trainer.fit(forecast_model_module, forecast_data_module)"
   ]
  },
  {
   "cell_type": "code",
   "execution_count": 12,
   "metadata": {},
   "outputs": [
    {
     "data": {
      "application/vnd.jupyter.widget-view+json": {
       "model_id": "6785c0d458944bebaf28af0783bc83c1",
       "version_major": 2,
       "version_minor": 0
      },
      "text/plain": [
       "Output()"
      ]
     },
     "metadata": {},
     "output_type": "display_data"
    },
    {
     "name": "stderr",
     "output_type": "stream",
     "text": [
      "/home/felix/Documents/Climate/climate_env/lib/python3.8/site-packages/pytorch_lightning/trainer/connectors/data_connector.py:224: PossibleUserWarning: The dataloader, test_dataloader 0, does not have many workers which may be a bottleneck. Consider increasing the value of the `num_workers` argument` (try 12 which is the number of cpus on this machine) in the `DataLoader` init to improve performance.\n",
      "  rank_zero_warn(\n"
     ]
    },
    {
     "data": {
      "text/html": [
       "<pre style=\"white-space:pre;overflow-x:auto;line-height:normal;font-family:Menlo,'DejaVu Sans Mono',consolas,'Courier New',monospace\">┏━━━━━━━━━━━━━━━━━━━━━━━━━━━━━━━━━━━━━━━━━━━━━━━━━━━━━━━━┳━━━━━━━━━━━━━━━━━━━━━━━━━━━━━━━━━━━━━━━━━━━━━━━━━━━━━━━━┓\n",
       "┃<span style=\"font-weight: bold\">                      Test metric                       </span>┃<span style=\"font-weight: bold\">                      DataLoader 0                      </span>┃\n",
       "┡━━━━━━━━━━━━━━━━━━━━━━━━━━━━━━━━━━━━━━━━━━━━━━━━━━━━━━━━╇━━━━━━━━━━━━━━━━━━━━━━━━━━━━━━━━━━━━━━━━━━━━━━━━━━━━━━━━┩\n",
       "│<span style=\"color: #008080; text-decoration-color: #008080\">           test/acc_total_precipitation_day_3           </span>│<span style=\"color: #800080; text-decoration-color: #800080\">                  0.014559305575615265                  </span>│\n",
       "│<span style=\"color: #008080; text-decoration-color: #008080\">         test/w_rmse_total_precipitation_day_3          </span>│<span style=\"color: #800080; text-decoration-color: #800080\">                 0.00045242839096137146                 </span>│\n",
       "│<span style=\"color: #008080; text-decoration-color: #008080\"> test_climatology_baseline/w_rmse_total_precipitation_… </span>│<span style=\"color: #800080; text-decoration-color: #800080\">                 0.0004256685293205191                  </span>│\n",
       "└────────────────────────────────────────────────────────┴────────────────────────────────────────────────────────┘\n",
       "</pre>\n"
      ],
      "text/plain": [
       "┏━━━━━━━━━━━━━━━━━━━━━━━━━━━━━━━━━━━━━━━━━━━━━━━━━━━━━━━━┳━━━━━━━━━━━━━━━━━━━━━━━━━━━━━━━━━━━━━━━━━━━━━━━━━━━━━━━━┓\n",
       "┃\u001b[1m \u001b[0m\u001b[1m                     Test metric                      \u001b[0m\u001b[1m \u001b[0m┃\u001b[1m \u001b[0m\u001b[1m                     DataLoader 0                     \u001b[0m\u001b[1m \u001b[0m┃\n",
       "┡━━━━━━━━━━━━━━━━━━━━━━━━━━━━━━━━━━━━━━━━━━━━━━━━━━━━━━━━╇━━━━━━━━━━━━━━━━━━━━━━━━━━━━━━━━━━━━━━━━━━━━━━━━━━━━━━━━┩\n",
       "│\u001b[36m \u001b[0m\u001b[36m          test/acc_total_precipitation_day_3          \u001b[0m\u001b[36m \u001b[0m│\u001b[35m \u001b[0m\u001b[35m                 0.014559305575615265                 \u001b[0m\u001b[35m \u001b[0m│\n",
       "│\u001b[36m \u001b[0m\u001b[36m        test/w_rmse_total_precipitation_day_3         \u001b[0m\u001b[36m \u001b[0m│\u001b[35m \u001b[0m\u001b[35m                0.00045242839096137146                \u001b[0m\u001b[35m \u001b[0m│\n",
       "│\u001b[36m \u001b[0m\u001b[36mtest_climatology_baseline/w_rmse_total_precipitation_…\u001b[0m\u001b[36m \u001b[0m│\u001b[35m \u001b[0m\u001b[35m                0.0004256685293205191                 \u001b[0m\u001b[35m \u001b[0m│\n",
       "└────────────────────────────────────────────────────────┴────────────────────────────────────────────────────────┘\n"
      ]
     },
     "metadata": {},
     "output_type": "display_data"
    },
    {
     "data": {
      "text/html": [
       "<pre style=\"white-space:pre;overflow-x:auto;line-height:normal;font-family:Menlo,'DejaVu Sans Mono',consolas,'Courier New',monospace\"></pre>\n"
      ],
      "text/plain": []
     },
     "metadata": {},
     "output_type": "display_data"
    },
    {
     "data": {
      "text/html": [
       "<pre style=\"white-space:pre;overflow-x:auto;line-height:normal;font-family:Menlo,'DejaVu Sans Mono',consolas,'Courier New',monospace\">\n",
       "</pre>\n"
      ],
      "text/plain": [
       "\n"
      ]
     },
     "metadata": {},
     "output_type": "display_data"
    }
   ],
   "source": [
    "torch.save(forecast_model_module.state_dict(), f\"{base_dir}/saved_models/16Forecast\")\n",
    "visualize(forecast_model_module, forecast_data_module)\n",
    "trainer.test(forecast_model_module, forecast_data_module)"
   ]
  },
  {
   "cell_type": "code",
   "execution_count": 14,
   "metadata": {},
   "outputs": [
    {
     "name": "stdout",
     "output_type": "stream",
     "text": [
      "Creating train dataset\n"
     ]
    },
    {
     "data": {
      "application/vnd.jupyter.widget-view+json": {
       "model_id": "da6166dfeaab4a94965e860a1ead8578",
       "version_major": 2,
       "version_minor": 0
      },
      "text/plain": [
       "  0%|          | 0/36 [00:00<?, ?it/s]"
      ]
     },
     "metadata": {},
     "output_type": "display_data"
    },
    {
     "name": "stdout",
     "output_type": "stream",
     "text": [
      "--------------LENGTHS-------------\n",
      "torch.Size([52595, 1, 512])\n",
      "52583\n",
      "(52583, 1, 32, 64)\n",
      "(52583, 1, 32, 64)\n",
      "----------------------------------\n",
      "Creating val dataset\n"
     ]
    },
    {
     "data": {
      "application/vnd.jupyter.widget-view+json": {
       "model_id": "1bda9af8b51c4cb8931d62f72def86a7",
       "version_major": 2,
       "version_minor": 0
      },
      "text/plain": [
       "  0%|          | 0/2 [00:00<?, ?it/s]"
      ]
     },
     "metadata": {},
     "output_type": "display_data"
    },
    {
     "name": "stdout",
     "output_type": "stream",
     "text": [
      "--------------LENGTHS-------------\n",
      "torch.Size([2924, 1, 512])\n",
      "2912\n",
      "(2912, 1, 32, 64)\n",
      "(2912, 1, 32, 64)\n",
      "----------------------------------\n",
      "Creating test dataset\n"
     ]
    },
    {
     "data": {
      "application/vnd.jupyter.widget-view+json": {
       "model_id": "49da0c8dd7f94310885052251a7880d5",
       "version_major": 2,
       "version_minor": 0
      },
      "text/plain": [
       "  0%|          | 0/2 [00:00<?, ?it/s]"
      ]
     },
     "metadata": {},
     "output_type": "display_data"
    },
    {
     "name": "stdout",
     "output_type": "stream",
     "text": [
      "--------------LENGTHS-------------\n",
      "torch.Size([2920, 1, 512])\n",
      "2908\n"
     ]
    },
    {
     "name": "stderr",
     "output_type": "stream",
     "text": [
      "Global seed set to 0\n"
     ]
    },
    {
     "name": "stdout",
     "output_type": "stream",
     "text": [
      "(2908, 1, 32, 64)\n",
      "(2908, 1, 32, 64)\n",
      "----------------------------------\n"
     ]
    },
    {
     "name": "stderr",
     "output_type": "stream",
     "text": [
      "/home/felix/Documents/Climate/climate_env/lib/python3.8/site-packages/pytorch_lightning/callbacks/model_checkpoint.py:604: UserWarning: Checkpoint directory /home/felix/Documents/Climate/climate_learn/climate_learn/checkpoints exists and is not empty.\n",
      "  rank_zero_warn(f\"Checkpoint directory {dirpath} exists and is not empty.\")\n"
     ]
    },
    {
     "data": {
      "text/html": [
       "<pre style=\"white-space:pre;overflow-x:auto;line-height:normal;font-family:Menlo,'DejaVu Sans Mono',consolas,'Courier New',monospace\">┏━━━━┳━━━━━━━━━━━━━━━━━━━━━━━━━━━━┳━━━━━━━━━━━━━━━━━━━┳━━━━━━━━┓\n",
       "┃<span style=\"color: #800080; text-decoration-color: #800080; font-weight: bold\">    </span>┃<span style=\"color: #800080; text-decoration-color: #800080; font-weight: bold\"> Name                       </span>┃<span style=\"color: #800080; text-decoration-color: #800080; font-weight: bold\"> Type              </span>┃<span style=\"color: #800080; text-decoration-color: #800080; font-weight: bold\"> Params </span>┃\n",
       "┡━━━━╇━━━━━━━━━━━━━━━━━━━━━━━━━━━━╇━━━━━━━━━━━━━━━━━━━╇━━━━━━━━┩\n",
       "│<span style=\"color: #7f7f7f; text-decoration-color: #7f7f7f\"> 0  </span>│ net                        │ ResNet            │  1.2 M │\n",
       "│<span style=\"color: #7f7f7f; text-decoration-color: #7f7f7f\"> 1  </span>│ net.activation             │ LeakyReLU         │      0 │\n",
       "│<span style=\"color: #7f7f7f; text-decoration-color: #7f7f7f\"> 2  </span>│ net.image_proj             │ PeriodicConv2D    │  6.4 K │\n",
       "│<span style=\"color: #7f7f7f; text-decoration-color: #7f7f7f\"> 3  </span>│ net.image_proj.padding     │ PeriodicPadding2D │      0 │\n",
       "│<span style=\"color: #7f7f7f; text-decoration-color: #7f7f7f\"> 4  </span>│ net.image_proj.conv        │ Conv2d            │  6.4 K │\n",
       "│<span style=\"color: #7f7f7f; text-decoration-color: #7f7f7f\"> 5  </span>│ net.blocks                 │ ModuleList        │  1.2 M │\n",
       "│<span style=\"color: #7f7f7f; text-decoration-color: #7f7f7f\"> 6  </span>│ net.blocks.0               │ ResidualBlock     │  295 K │\n",
       "│<span style=\"color: #7f7f7f; text-decoration-color: #7f7f7f\"> 7  </span>│ net.blocks.0.activation    │ LeakyReLU         │      0 │\n",
       "│<span style=\"color: #7f7f7f; text-decoration-color: #7f7f7f\"> 8  </span>│ net.blocks.0.conv1         │ PeriodicConv2D    │  147 K │\n",
       "│<span style=\"color: #7f7f7f; text-decoration-color: #7f7f7f\"> 9  </span>│ net.blocks.0.conv1.padding │ PeriodicPadding2D │      0 │\n",
       "│<span style=\"color: #7f7f7f; text-decoration-color: #7f7f7f\"> 10 </span>│ net.blocks.0.conv1.conv    │ Conv2d            │  147 K │\n",
       "│<span style=\"color: #7f7f7f; text-decoration-color: #7f7f7f\"> 11 </span>│ net.blocks.0.conv2         │ PeriodicConv2D    │  147 K │\n",
       "│<span style=\"color: #7f7f7f; text-decoration-color: #7f7f7f\"> 12 </span>│ net.blocks.0.conv2.padding │ PeriodicPadding2D │      0 │\n",
       "│<span style=\"color: #7f7f7f; text-decoration-color: #7f7f7f\"> 13 </span>│ net.blocks.0.conv2.conv    │ Conv2d            │  147 K │\n",
       "│<span style=\"color: #7f7f7f; text-decoration-color: #7f7f7f\"> 14 </span>│ net.blocks.0.shortcut      │ Identity          │      0 │\n",
       "│<span style=\"color: #7f7f7f; text-decoration-color: #7f7f7f\"> 15 </span>│ net.blocks.0.norm1         │ BatchNorm2d       │    256 │\n",
       "│<span style=\"color: #7f7f7f; text-decoration-color: #7f7f7f\"> 16 </span>│ net.blocks.0.norm2         │ BatchNorm2d       │    256 │\n",
       "│<span style=\"color: #7f7f7f; text-decoration-color: #7f7f7f\"> 17 </span>│ net.blocks.0.drop          │ Dropout           │      0 │\n",
       "│<span style=\"color: #7f7f7f; text-decoration-color: #7f7f7f\"> 18 </span>│ net.blocks.1               │ ResidualBlock     │  295 K │\n",
       "│<span style=\"color: #7f7f7f; text-decoration-color: #7f7f7f\"> 19 </span>│ net.blocks.1.activation    │ LeakyReLU         │      0 │\n",
       "│<span style=\"color: #7f7f7f; text-decoration-color: #7f7f7f\"> 20 </span>│ net.blocks.1.conv1         │ PeriodicConv2D    │  147 K │\n",
       "│<span style=\"color: #7f7f7f; text-decoration-color: #7f7f7f\"> 21 </span>│ net.blocks.1.conv1.padding │ PeriodicPadding2D │      0 │\n",
       "│<span style=\"color: #7f7f7f; text-decoration-color: #7f7f7f\"> 22 </span>│ net.blocks.1.conv1.conv    │ Conv2d            │  147 K │\n",
       "│<span style=\"color: #7f7f7f; text-decoration-color: #7f7f7f\"> 23 </span>│ net.blocks.1.conv2         │ PeriodicConv2D    │  147 K │\n",
       "│<span style=\"color: #7f7f7f; text-decoration-color: #7f7f7f\"> 24 </span>│ net.blocks.1.conv2.padding │ PeriodicPadding2D │      0 │\n",
       "│<span style=\"color: #7f7f7f; text-decoration-color: #7f7f7f\"> 25 </span>│ net.blocks.1.conv2.conv    │ Conv2d            │  147 K │\n",
       "│<span style=\"color: #7f7f7f; text-decoration-color: #7f7f7f\"> 26 </span>│ net.blocks.1.shortcut      │ Identity          │      0 │\n",
       "│<span style=\"color: #7f7f7f; text-decoration-color: #7f7f7f\"> 27 </span>│ net.blocks.1.norm1         │ BatchNorm2d       │    256 │\n",
       "│<span style=\"color: #7f7f7f; text-decoration-color: #7f7f7f\"> 28 </span>│ net.blocks.1.norm2         │ BatchNorm2d       │    256 │\n",
       "│<span style=\"color: #7f7f7f; text-decoration-color: #7f7f7f\"> 29 </span>│ net.blocks.1.drop          │ Dropout           │      0 │\n",
       "│<span style=\"color: #7f7f7f; text-decoration-color: #7f7f7f\"> 30 </span>│ net.blocks.2               │ ResidualBlock     │  295 K │\n",
       "│<span style=\"color: #7f7f7f; text-decoration-color: #7f7f7f\"> 31 </span>│ net.blocks.2.activation    │ LeakyReLU         │      0 │\n",
       "│<span style=\"color: #7f7f7f; text-decoration-color: #7f7f7f\"> 32 </span>│ net.blocks.2.conv1         │ PeriodicConv2D    │  147 K │\n",
       "│<span style=\"color: #7f7f7f; text-decoration-color: #7f7f7f\"> 33 </span>│ net.blocks.2.conv1.padding │ PeriodicPadding2D │      0 │\n",
       "│<span style=\"color: #7f7f7f; text-decoration-color: #7f7f7f\"> 34 </span>│ net.blocks.2.conv1.conv    │ Conv2d            │  147 K │\n",
       "│<span style=\"color: #7f7f7f; text-decoration-color: #7f7f7f\"> 35 </span>│ net.blocks.2.conv2         │ PeriodicConv2D    │  147 K │\n",
       "│<span style=\"color: #7f7f7f; text-decoration-color: #7f7f7f\"> 36 </span>│ net.blocks.2.conv2.padding │ PeriodicPadding2D │      0 │\n",
       "│<span style=\"color: #7f7f7f; text-decoration-color: #7f7f7f\"> 37 </span>│ net.blocks.2.conv2.conv    │ Conv2d            │  147 K │\n",
       "│<span style=\"color: #7f7f7f; text-decoration-color: #7f7f7f\"> 38 </span>│ net.blocks.2.shortcut      │ Identity          │      0 │\n",
       "│<span style=\"color: #7f7f7f; text-decoration-color: #7f7f7f\"> 39 </span>│ net.blocks.2.norm1         │ BatchNorm2d       │    256 │\n",
       "│<span style=\"color: #7f7f7f; text-decoration-color: #7f7f7f\"> 40 </span>│ net.blocks.2.norm2         │ BatchNorm2d       │    256 │\n",
       "│<span style=\"color: #7f7f7f; text-decoration-color: #7f7f7f\"> 41 </span>│ net.blocks.2.drop          │ Dropout           │      0 │\n",
       "│<span style=\"color: #7f7f7f; text-decoration-color: #7f7f7f\"> 42 </span>│ net.blocks.3               │ ResidualBlock     │  295 K │\n",
       "│<span style=\"color: #7f7f7f; text-decoration-color: #7f7f7f\"> 43 </span>│ net.blocks.3.activation    │ LeakyReLU         │      0 │\n",
       "│<span style=\"color: #7f7f7f; text-decoration-color: #7f7f7f\"> 44 </span>│ net.blocks.3.conv1         │ PeriodicConv2D    │  147 K │\n",
       "│<span style=\"color: #7f7f7f; text-decoration-color: #7f7f7f\"> 45 </span>│ net.blocks.3.conv1.padding │ PeriodicPadding2D │      0 │\n",
       "│<span style=\"color: #7f7f7f; text-decoration-color: #7f7f7f\"> 46 </span>│ net.blocks.3.conv1.conv    │ Conv2d            │  147 K │\n",
       "│<span style=\"color: #7f7f7f; text-decoration-color: #7f7f7f\"> 47 </span>│ net.blocks.3.conv2         │ PeriodicConv2D    │  147 K │\n",
       "│<span style=\"color: #7f7f7f; text-decoration-color: #7f7f7f\"> 48 </span>│ net.blocks.3.conv2.padding │ PeriodicPadding2D │      0 │\n",
       "│<span style=\"color: #7f7f7f; text-decoration-color: #7f7f7f\"> 49 </span>│ net.blocks.3.conv2.conv    │ Conv2d            │  147 K │\n",
       "│<span style=\"color: #7f7f7f; text-decoration-color: #7f7f7f\"> 50 </span>│ net.blocks.3.shortcut      │ Identity          │      0 │\n",
       "│<span style=\"color: #7f7f7f; text-decoration-color: #7f7f7f\"> 51 </span>│ net.blocks.3.norm1         │ BatchNorm2d       │    256 │\n",
       "│<span style=\"color: #7f7f7f; text-decoration-color: #7f7f7f\"> 52 </span>│ net.blocks.3.norm2         │ BatchNorm2d       │    256 │\n",
       "│<span style=\"color: #7f7f7f; text-decoration-color: #7f7f7f\"> 53 </span>│ net.blocks.3.drop          │ Dropout           │      0 │\n",
       "│<span style=\"color: #7f7f7f; text-decoration-color: #7f7f7f\"> 54 </span>│ net.norm                   │ BatchNorm2d       │    256 │\n",
       "│<span style=\"color: #7f7f7f; text-decoration-color: #7f7f7f\"> 55 </span>│ net.final                  │ PeriodicConv2D    │  6.3 K │\n",
       "│<span style=\"color: #7f7f7f; text-decoration-color: #7f7f7f\"> 56 </span>│ net.final.padding          │ PeriodicPadding2D │      0 │\n",
       "│<span style=\"color: #7f7f7f; text-decoration-color: #7f7f7f\"> 57 </span>│ net.final.conv             │ Conv2d            │  6.3 K │\n",
       "│<span style=\"color: #7f7f7f; text-decoration-color: #7f7f7f\"> 58 </span>│ denormalization            │ Normalize         │      0 │\n",
       "│<span style=\"color: #7f7f7f; text-decoration-color: #7f7f7f\"> 59 </span>│ mean_denormalize           │ Normalize         │      0 │\n",
       "│<span style=\"color: #7f7f7f; text-decoration-color: #7f7f7f\"> 60 </span>│ std_denormalize            │ Normalize         │      0 │\n",
       "└────┴────────────────────────────┴───────────────────┴────────┘\n",
       "</pre>\n"
      ],
      "text/plain": [
       "┏━━━━┳━━━━━━━━━━━━━━━━━━━━━━━━━━━━┳━━━━━━━━━━━━━━━━━━━┳━━━━━━━━┓\n",
       "┃\u001b[1;35m \u001b[0m\u001b[1;35m  \u001b[0m\u001b[1;35m \u001b[0m┃\u001b[1;35m \u001b[0m\u001b[1;35mName                      \u001b[0m\u001b[1;35m \u001b[0m┃\u001b[1;35m \u001b[0m\u001b[1;35mType             \u001b[0m\u001b[1;35m \u001b[0m┃\u001b[1;35m \u001b[0m\u001b[1;35mParams\u001b[0m\u001b[1;35m \u001b[0m┃\n",
       "┡━━━━╇━━━━━━━━━━━━━━━━━━━━━━━━━━━━╇━━━━━━━━━━━━━━━━━━━╇━━━━━━━━┩\n",
       "│\u001b[2m \u001b[0m\u001b[2m0 \u001b[0m\u001b[2m \u001b[0m│ net                        │ ResNet            │  1.2 M │\n",
       "│\u001b[2m \u001b[0m\u001b[2m1 \u001b[0m\u001b[2m \u001b[0m│ net.activation             │ LeakyReLU         │      0 │\n",
       "│\u001b[2m \u001b[0m\u001b[2m2 \u001b[0m\u001b[2m \u001b[0m│ net.image_proj             │ PeriodicConv2D    │  6.4 K │\n",
       "│\u001b[2m \u001b[0m\u001b[2m3 \u001b[0m\u001b[2m \u001b[0m│ net.image_proj.padding     │ PeriodicPadding2D │      0 │\n",
       "│\u001b[2m \u001b[0m\u001b[2m4 \u001b[0m\u001b[2m \u001b[0m│ net.image_proj.conv        │ Conv2d            │  6.4 K │\n",
       "│\u001b[2m \u001b[0m\u001b[2m5 \u001b[0m\u001b[2m \u001b[0m│ net.blocks                 │ ModuleList        │  1.2 M │\n",
       "│\u001b[2m \u001b[0m\u001b[2m6 \u001b[0m\u001b[2m \u001b[0m│ net.blocks.0               │ ResidualBlock     │  295 K │\n",
       "│\u001b[2m \u001b[0m\u001b[2m7 \u001b[0m\u001b[2m \u001b[0m│ net.blocks.0.activation    │ LeakyReLU         │      0 │\n",
       "│\u001b[2m \u001b[0m\u001b[2m8 \u001b[0m\u001b[2m \u001b[0m│ net.blocks.0.conv1         │ PeriodicConv2D    │  147 K │\n",
       "│\u001b[2m \u001b[0m\u001b[2m9 \u001b[0m\u001b[2m \u001b[0m│ net.blocks.0.conv1.padding │ PeriodicPadding2D │      0 │\n",
       "│\u001b[2m \u001b[0m\u001b[2m10\u001b[0m\u001b[2m \u001b[0m│ net.blocks.0.conv1.conv    │ Conv2d            │  147 K │\n",
       "│\u001b[2m \u001b[0m\u001b[2m11\u001b[0m\u001b[2m \u001b[0m│ net.blocks.0.conv2         │ PeriodicConv2D    │  147 K │\n",
       "│\u001b[2m \u001b[0m\u001b[2m12\u001b[0m\u001b[2m \u001b[0m│ net.blocks.0.conv2.padding │ PeriodicPadding2D │      0 │\n",
       "│\u001b[2m \u001b[0m\u001b[2m13\u001b[0m\u001b[2m \u001b[0m│ net.blocks.0.conv2.conv    │ Conv2d            │  147 K │\n",
       "│\u001b[2m \u001b[0m\u001b[2m14\u001b[0m\u001b[2m \u001b[0m│ net.blocks.0.shortcut      │ Identity          │      0 │\n",
       "│\u001b[2m \u001b[0m\u001b[2m15\u001b[0m\u001b[2m \u001b[0m│ net.blocks.0.norm1         │ BatchNorm2d       │    256 │\n",
       "│\u001b[2m \u001b[0m\u001b[2m16\u001b[0m\u001b[2m \u001b[0m│ net.blocks.0.norm2         │ BatchNorm2d       │    256 │\n",
       "│\u001b[2m \u001b[0m\u001b[2m17\u001b[0m\u001b[2m \u001b[0m│ net.blocks.0.drop          │ Dropout           │      0 │\n",
       "│\u001b[2m \u001b[0m\u001b[2m18\u001b[0m\u001b[2m \u001b[0m│ net.blocks.1               │ ResidualBlock     │  295 K │\n",
       "│\u001b[2m \u001b[0m\u001b[2m19\u001b[0m\u001b[2m \u001b[0m│ net.blocks.1.activation    │ LeakyReLU         │      0 │\n",
       "│\u001b[2m \u001b[0m\u001b[2m20\u001b[0m\u001b[2m \u001b[0m│ net.blocks.1.conv1         │ PeriodicConv2D    │  147 K │\n",
       "│\u001b[2m \u001b[0m\u001b[2m21\u001b[0m\u001b[2m \u001b[0m│ net.blocks.1.conv1.padding │ PeriodicPadding2D │      0 │\n",
       "│\u001b[2m \u001b[0m\u001b[2m22\u001b[0m\u001b[2m \u001b[0m│ net.blocks.1.conv1.conv    │ Conv2d            │  147 K │\n",
       "│\u001b[2m \u001b[0m\u001b[2m23\u001b[0m\u001b[2m \u001b[0m│ net.blocks.1.conv2         │ PeriodicConv2D    │  147 K │\n",
       "│\u001b[2m \u001b[0m\u001b[2m24\u001b[0m\u001b[2m \u001b[0m│ net.blocks.1.conv2.padding │ PeriodicPadding2D │      0 │\n",
       "│\u001b[2m \u001b[0m\u001b[2m25\u001b[0m\u001b[2m \u001b[0m│ net.blocks.1.conv2.conv    │ Conv2d            │  147 K │\n",
       "│\u001b[2m \u001b[0m\u001b[2m26\u001b[0m\u001b[2m \u001b[0m│ net.blocks.1.shortcut      │ Identity          │      0 │\n",
       "│\u001b[2m \u001b[0m\u001b[2m27\u001b[0m\u001b[2m \u001b[0m│ net.blocks.1.norm1         │ BatchNorm2d       │    256 │\n",
       "│\u001b[2m \u001b[0m\u001b[2m28\u001b[0m\u001b[2m \u001b[0m│ net.blocks.1.norm2         │ BatchNorm2d       │    256 │\n",
       "│\u001b[2m \u001b[0m\u001b[2m29\u001b[0m\u001b[2m \u001b[0m│ net.blocks.1.drop          │ Dropout           │      0 │\n",
       "│\u001b[2m \u001b[0m\u001b[2m30\u001b[0m\u001b[2m \u001b[0m│ net.blocks.2               │ ResidualBlock     │  295 K │\n",
       "│\u001b[2m \u001b[0m\u001b[2m31\u001b[0m\u001b[2m \u001b[0m│ net.blocks.2.activation    │ LeakyReLU         │      0 │\n",
       "│\u001b[2m \u001b[0m\u001b[2m32\u001b[0m\u001b[2m \u001b[0m│ net.blocks.2.conv1         │ PeriodicConv2D    │  147 K │\n",
       "│\u001b[2m \u001b[0m\u001b[2m33\u001b[0m\u001b[2m \u001b[0m│ net.blocks.2.conv1.padding │ PeriodicPadding2D │      0 │\n",
       "│\u001b[2m \u001b[0m\u001b[2m34\u001b[0m\u001b[2m \u001b[0m│ net.blocks.2.conv1.conv    │ Conv2d            │  147 K │\n",
       "│\u001b[2m \u001b[0m\u001b[2m35\u001b[0m\u001b[2m \u001b[0m│ net.blocks.2.conv2         │ PeriodicConv2D    │  147 K │\n",
       "│\u001b[2m \u001b[0m\u001b[2m36\u001b[0m\u001b[2m \u001b[0m│ net.blocks.2.conv2.padding │ PeriodicPadding2D │      0 │\n",
       "│\u001b[2m \u001b[0m\u001b[2m37\u001b[0m\u001b[2m \u001b[0m│ net.blocks.2.conv2.conv    │ Conv2d            │  147 K │\n",
       "│\u001b[2m \u001b[0m\u001b[2m38\u001b[0m\u001b[2m \u001b[0m│ net.blocks.2.shortcut      │ Identity          │      0 │\n",
       "│\u001b[2m \u001b[0m\u001b[2m39\u001b[0m\u001b[2m \u001b[0m│ net.blocks.2.norm1         │ BatchNorm2d       │    256 │\n",
       "│\u001b[2m \u001b[0m\u001b[2m40\u001b[0m\u001b[2m \u001b[0m│ net.blocks.2.norm2         │ BatchNorm2d       │    256 │\n",
       "│\u001b[2m \u001b[0m\u001b[2m41\u001b[0m\u001b[2m \u001b[0m│ net.blocks.2.drop          │ Dropout           │      0 │\n",
       "│\u001b[2m \u001b[0m\u001b[2m42\u001b[0m\u001b[2m \u001b[0m│ net.blocks.3               │ ResidualBlock     │  295 K │\n",
       "│\u001b[2m \u001b[0m\u001b[2m43\u001b[0m\u001b[2m \u001b[0m│ net.blocks.3.activation    │ LeakyReLU         │      0 │\n",
       "│\u001b[2m \u001b[0m\u001b[2m44\u001b[0m\u001b[2m \u001b[0m│ net.blocks.3.conv1         │ PeriodicConv2D    │  147 K │\n",
       "│\u001b[2m \u001b[0m\u001b[2m45\u001b[0m\u001b[2m \u001b[0m│ net.blocks.3.conv1.padding │ PeriodicPadding2D │      0 │\n",
       "│\u001b[2m \u001b[0m\u001b[2m46\u001b[0m\u001b[2m \u001b[0m│ net.blocks.3.conv1.conv    │ Conv2d            │  147 K │\n",
       "│\u001b[2m \u001b[0m\u001b[2m47\u001b[0m\u001b[2m \u001b[0m│ net.blocks.3.conv2         │ PeriodicConv2D    │  147 K │\n",
       "│\u001b[2m \u001b[0m\u001b[2m48\u001b[0m\u001b[2m \u001b[0m│ net.blocks.3.conv2.padding │ PeriodicPadding2D │      0 │\n",
       "│\u001b[2m \u001b[0m\u001b[2m49\u001b[0m\u001b[2m \u001b[0m│ net.blocks.3.conv2.conv    │ Conv2d            │  147 K │\n",
       "│\u001b[2m \u001b[0m\u001b[2m50\u001b[0m\u001b[2m \u001b[0m│ net.blocks.3.shortcut      │ Identity          │      0 │\n",
       "│\u001b[2m \u001b[0m\u001b[2m51\u001b[0m\u001b[2m \u001b[0m│ net.blocks.3.norm1         │ BatchNorm2d       │    256 │\n",
       "│\u001b[2m \u001b[0m\u001b[2m52\u001b[0m\u001b[2m \u001b[0m│ net.blocks.3.norm2         │ BatchNorm2d       │    256 │\n",
       "│\u001b[2m \u001b[0m\u001b[2m53\u001b[0m\u001b[2m \u001b[0m│ net.blocks.3.drop          │ Dropout           │      0 │\n",
       "│\u001b[2m \u001b[0m\u001b[2m54\u001b[0m\u001b[2m \u001b[0m│ net.norm                   │ BatchNorm2d       │    256 │\n",
       "│\u001b[2m \u001b[0m\u001b[2m55\u001b[0m\u001b[2m \u001b[0m│ net.final                  │ PeriodicConv2D    │  6.3 K │\n",
       "│\u001b[2m \u001b[0m\u001b[2m56\u001b[0m\u001b[2m \u001b[0m│ net.final.padding          │ PeriodicPadding2D │      0 │\n",
       "│\u001b[2m \u001b[0m\u001b[2m57\u001b[0m\u001b[2m \u001b[0m│ net.final.conv             │ Conv2d            │  6.3 K │\n",
       "│\u001b[2m \u001b[0m\u001b[2m58\u001b[0m\u001b[2m \u001b[0m│ denormalization            │ Normalize         │      0 │\n",
       "│\u001b[2m \u001b[0m\u001b[2m59\u001b[0m\u001b[2m \u001b[0m│ mean_denormalize           │ Normalize         │      0 │\n",
       "│\u001b[2m \u001b[0m\u001b[2m60\u001b[0m\u001b[2m \u001b[0m│ std_denormalize            │ Normalize         │      0 │\n",
       "└────┴────────────────────────────┴───────────────────┴────────┘\n"
      ]
     },
     "metadata": {},
     "output_type": "display_data"
    },
    {
     "data": {
      "text/html": [
       "<pre style=\"white-space:pre;overflow-x:auto;line-height:normal;font-family:Menlo,'DejaVu Sans Mono',consolas,'Courier New',monospace\"><span style=\"font-weight: bold\">Trainable params</span>: 1.2 M                                                                                            \n",
       "<span style=\"font-weight: bold\">Non-trainable params</span>: 0                                                                                            \n",
       "<span style=\"font-weight: bold\">Total params</span>: 1.2 M                                                                                                \n",
       "<span style=\"font-weight: bold\">Total estimated model params size (MB)</span>: 2                                                                          \n",
       "</pre>\n"
      ],
      "text/plain": [
       "\u001b[1mTrainable params\u001b[0m: 1.2 M                                                                                            \n",
       "\u001b[1mNon-trainable params\u001b[0m: 0                                                                                            \n",
       "\u001b[1mTotal params\u001b[0m: 1.2 M                                                                                                \n",
       "\u001b[1mTotal estimated model params size (MB)\u001b[0m: 2                                                                          \n"
      ]
     },
     "metadata": {},
     "output_type": "display_data"
    },
    {
     "data": {
      "application/vnd.jupyter.widget-view+json": {
       "model_id": "3d1a4c3d495e4a819ea954237eaae842",
       "version_major": 2,
       "version_minor": 0
      },
      "text/plain": [
       "Output()"
      ]
     },
     "metadata": {},
     "output_type": "display_data"
    },
    {
     "data": {
      "text/html": [
       "<pre style=\"white-space:pre;overflow-x:auto;line-height:normal;font-family:Menlo,'DejaVu Sans Mono',consolas,'Courier New',monospace\">/home/felix/Documents/Climate/climate_env/lib/python3.8/site-packages/pytorch_lightning/trainer/connectors/data_con\n",
       "nector.py:224: PossibleUserWarning: The dataloader, val_dataloader 0, does not have many workers which may be a \n",
       "bottleneck. Consider increasing the value of the `num_workers` argument` (try 12 which is the number of cpus on \n",
       "this machine) in the `DataLoader` init to improve performance.\n",
       "  rank_zero_warn(\n",
       "</pre>\n"
      ],
      "text/plain": [
       "/home/felix/Documents/Climate/climate_env/lib/python3.8/site-packages/pytorch_lightning/trainer/connectors/data_con\n",
       "nector.py:224: PossibleUserWarning: The dataloader, val_dataloader 0, does not have many workers which may be a \n",
       "bottleneck. Consider increasing the value of the `num_workers` argument` (try 12 which is the number of cpus on \n",
       "this machine) in the `DataLoader` init to improve performance.\n",
       "  rank_zero_warn(\n"
      ]
     },
     "metadata": {},
     "output_type": "display_data"
    },
    {
     "data": {
      "text/html": [
       "<pre style=\"white-space:pre;overflow-x:auto;line-height:normal;font-family:Menlo,'DejaVu Sans Mono',consolas,'Courier New',monospace\">/home/felix/Documents/Climate/climate_env/lib/python3.8/site-packages/pytorch_lightning/trainer/connectors/data_con\n",
       "nector.py:224: PossibleUserWarning: The dataloader, train_dataloader, does not have many workers which may be a \n",
       "bottleneck. Consider increasing the value of the `num_workers` argument` (try 12 which is the number of cpus on \n",
       "this machine) in the `DataLoader` init to improve performance.\n",
       "  rank_zero_warn(\n",
       "</pre>\n"
      ],
      "text/plain": [
       "/home/felix/Documents/Climate/climate_env/lib/python3.8/site-packages/pytorch_lightning/trainer/connectors/data_con\n",
       "nector.py:224: PossibleUserWarning: The dataloader, train_dataloader, does not have many workers which may be a \n",
       "bottleneck. Consider increasing the value of the `num_workers` argument` (try 12 which is the number of cpus on \n",
       "this machine) in the `DataLoader` init to improve performance.\n",
       "  rank_zero_warn(\n"
      ]
     },
     "metadata": {},
     "output_type": "display_data"
    },
    {
     "data": {
      "text/html": [
       "<pre style=\"white-space:pre;overflow-x:auto;line-height:normal;font-family:Menlo,'DejaVu Sans Mono',consolas,'Courier New',monospace\"></pre>\n"
      ],
      "text/plain": []
     },
     "metadata": {},
     "output_type": "display_data"
    },
    {
     "data": {
      "text/html": [
       "<pre style=\"white-space:pre;overflow-x:auto;line-height:normal;font-family:Menlo,'DejaVu Sans Mono',consolas,'Courier New',monospace\">\n",
       "</pre>\n"
      ],
      "text/plain": [
       "\n"
      ]
     },
     "metadata": {},
     "output_type": "display_data"
    },
    {
     "data": {
      "application/vnd.jupyter.widget-view+json": {
       "model_id": "1da1bbc2759c4d83b592bcd57c67e3e5",
       "version_major": 2,
       "version_minor": 0
      },
      "text/plain": [
       "Output()"
      ]
     },
     "metadata": {},
     "output_type": "display_data"
    },
    {
     "name": "stderr",
     "output_type": "stream",
     "text": [
      "/home/felix/Documents/Climate/climate_env/lib/python3.8/site-packages/pytorch_lightning/trainer/connectors/data_connector.py:224: PossibleUserWarning: The dataloader, test_dataloader 0, does not have many workers which may be a bottleneck. Consider increasing the value of the `num_workers` argument` (try 12 which is the number of cpus on this machine) in the `DataLoader` init to improve performance.\n",
      "  rank_zero_warn(\n"
     ]
    },
    {
     "data": {
      "text/html": [
       "<pre style=\"white-space:pre;overflow-x:auto;line-height:normal;font-family:Menlo,'DejaVu Sans Mono',consolas,'Courier New',monospace\">┏━━━━━━━━━━━━━━━━━━━━━━━━━━━━━━━━━━━━━━━━━━━━━━━━━━━━━━━━┳━━━━━━━━━━━━━━━━━━━━━━━━━━━━━━━━━━━━━━━━━━━━━━━━━━━━━━━━┓\n",
       "┃<span style=\"font-weight: bold\">                      Test metric                       </span>┃<span style=\"font-weight: bold\">                      DataLoader 0                      </span>┃\n",
       "┡━━━━━━━━━━━━━━━━━━━━━━━━━━━━━━━━━━━━━━━━━━━━━━━━━━━━━━━━╇━━━━━━━━━━━━━━━━━━━━━━━━━━━━━━━━━━━━━━━━━━━━━━━━━━━━━━━━┩\n",
       "│<span style=\"color: #008080; text-decoration-color: #008080\">           test/acc_total_precipitation_day_3           </span>│<span style=\"color: #800080; text-decoration-color: #800080\">                  0.00973127676067348                   </span>│\n",
       "│<span style=\"color: #008080; text-decoration-color: #008080\">         test/w_rmse_total_precipitation_day_3          </span>│<span style=\"color: #800080; text-decoration-color: #800080\">                 0.0004500169463646497                  </span>│\n",
       "│<span style=\"color: #008080; text-decoration-color: #008080\"> test_climatology_baseline/w_rmse_total_precipitation_… </span>│<span style=\"color: #800080; text-decoration-color: #800080\">                 0.0004256685293205191                  </span>│\n",
       "└────────────────────────────────────────────────────────┴────────────────────────────────────────────────────────┘\n",
       "</pre>\n"
      ],
      "text/plain": [
       "┏━━━━━━━━━━━━━━━━━━━━━━━━━━━━━━━━━━━━━━━━━━━━━━━━━━━━━━━━┳━━━━━━━━━━━━━━━━━━━━━━━━━━━━━━━━━━━━━━━━━━━━━━━━━━━━━━━━┓\n",
       "┃\u001b[1m \u001b[0m\u001b[1m                     Test metric                      \u001b[0m\u001b[1m \u001b[0m┃\u001b[1m \u001b[0m\u001b[1m                     DataLoader 0                     \u001b[0m\u001b[1m \u001b[0m┃\n",
       "┡━━━━━━━━━━━━━━━━━━━━━━━━━━━━━━━━━━━━━━━━━━━━━━━━━━━━━━━━╇━━━━━━━━━━━━━━━━━━━━━━━━━━━━━━━━━━━━━━━━━━━━━━━━━━━━━━━━┩\n",
       "│\u001b[36m \u001b[0m\u001b[36m          test/acc_total_precipitation_day_3          \u001b[0m\u001b[36m \u001b[0m│\u001b[35m \u001b[0m\u001b[35m                 0.00973127676067348                  \u001b[0m\u001b[35m \u001b[0m│\n",
       "│\u001b[36m \u001b[0m\u001b[36m        test/w_rmse_total_precipitation_day_3         \u001b[0m\u001b[36m \u001b[0m│\u001b[35m \u001b[0m\u001b[35m                0.0004500169463646497                 \u001b[0m\u001b[35m \u001b[0m│\n",
       "│\u001b[36m \u001b[0m\u001b[36mtest_climatology_baseline/w_rmse_total_precipitation_…\u001b[0m\u001b[36m \u001b[0m│\u001b[35m \u001b[0m\u001b[35m                0.0004256685293205191                 \u001b[0m\u001b[35m \u001b[0m│\n",
       "└────────────────────────────────────────────────────────┴────────────────────────────────────────────────────────┘\n"
      ]
     },
     "metadata": {},
     "output_type": "display_data"
    },
    {
     "data": {
      "text/html": [
       "<pre style=\"white-space:pre;overflow-x:auto;line-height:normal;font-family:Menlo,'DejaVu Sans Mono',consolas,'Courier New',monospace\"></pre>\n"
      ],
      "text/plain": []
     },
     "metadata": {},
     "output_type": "display_data"
    },
    {
     "data": {
      "text/html": [
       "<pre style=\"white-space:pre;overflow-x:auto;line-height:normal;font-family:Menlo,'DejaVu Sans Mono',consolas,'Courier New',monospace\">\n",
       "</pre>\n"
      ],
      "text/plain": [
       "\n"
      ]
     },
     "metadata": {},
     "output_type": "display_data"
    }
   ],
   "source": [
    "from climate_learn.utils.datetime import Days\n",
    "\n",
    "forecast_data_module = MyDataModule(\n",
    "    dataset = \"ERA5\",\n",
    "    task = \"forecasting\",\n",
    "    lower_dir = \"compressed_tp_64\",\n",
    "    root_dir = f\"{base_dir}/data/weatherbench/era5/5.625\",\n",
    "    in_vars = [\"total_precipitation\"],\n",
    "    out_vars = [\"total_precipitation\"],\n",
    "    train_start_year = Year(1979),\n",
    "    padding = None,\n",
    "    val_start_year = Year(2015),\n",
    "    test_start_year = Year(2017),\n",
    "    end_year = Year(2018),\n",
    "    pred_range = Days(3),\n",
    "    subsample = Hours(6),\n",
    "    batch_size = 256,\n",
    "    num_workers = 12,\n",
    "    padding = (16,16,8,8),\n",
    "\n",
    ")\n",
    "\n",
    "from climate_learn.models import load_model\n",
    "from climate_learn.models import set_climatology\n",
    "\n",
    "model_kwargs = {\n",
    "    \"in_channels\": len(forecast_data_module.hparams.in_vars),\n",
    "    \"out_channels\": len(forecast_data_module.hparams.out_vars),\n",
    "    \"n_blocks\": 4\n",
    "}\n",
    "\n",
    "optim_kwargs = {\n",
    "    \"lr\": 1e-4,\n",
    "    \"weight_decay\": 1e-5,\n",
    "    \"warmup_epochs\": 1,\n",
    "    \"max_epochs\": 5,\n",
    "}\n",
    "\n",
    "forecast_model_module = load_model(name = \"resnet\", task = \"forecasting\", model_kwargs = model_kwargs, optim_kwargs = optim_kwargs)\n",
    "\n",
    "set_climatology(forecast_model_module, forecast_data_module)\n",
    "\n",
    "from climate_learn.training import Trainer, WandbLogger\n",
    "\n",
    "trainer = Trainer(\n",
    "    seed = 0,\n",
    "    accelerator = \"gpu\",\n",
    "    precision = 16,\n",
    "    max_epochs = 5,\n",
    "    logger = True,\n",
    "    # logger = WandbLogger(project = \"climate_tutorial\", name = \"forecast-vit\")\n",
    ")\n",
    "trainer.fit(forecast_model_module, forecast_data_module)\n",
    "\n",
    "torch.save(forecast_model_module.state_dict(), f\"{base_dir}/saved_models/64Forecast\")\n",
    "visualize(forecast_model_module, forecast_data_module)\n",
    "trainer.test(forecast_model_module, forecast_data_module)"
   ]
  },
  {
   "cell_type": "code",
   "execution_count": 14,
   "metadata": {},
   "outputs": [
    {
     "name": "stdout",
     "output_type": "stream",
     "text": [
      "Creating train dataset\n"
     ]
    },
    {
     "data": {
      "application/vnd.jupyter.widget-view+json": {
       "model_id": "31feabfc0ca0490388e2dcbca9e95474",
       "version_major": 2,
       "version_minor": 0
      },
      "text/plain": [
       "  0%|          | 0/36 [00:00<?, ?it/s]"
      ]
     },
     "metadata": {},
     "output_type": "display_data"
    },
    {
     "name": "stdout",
     "output_type": "stream",
     "text": [
      "--------------LENGTHS-------------\n",
      "torch.Size([52595, 1, 768])\n",
      "52583\n",
      "(52583, 1, 32, 64)\n",
      "(52583, 1, 32, 64)\n",
      "----------------------------------\n",
      "Creating val dataset\n"
     ]
    },
    {
     "data": {
      "application/vnd.jupyter.widget-view+json": {
       "model_id": "f6854b1e632e4086bbac5d3025e5d269",
       "version_major": 2,
       "version_minor": 0
      },
      "text/plain": [
       "  0%|          | 0/2 [00:00<?, ?it/s]"
      ]
     },
     "metadata": {},
     "output_type": "display_data"
    },
    {
     "name": "stdout",
     "output_type": "stream",
     "text": [
      "--------------LENGTHS-------------\n",
      "torch.Size([2924, 1, 768])\n",
      "2912\n",
      "(2912, 1, 32, 64)\n",
      "(2912, 1, 32, 64)\n",
      "----------------------------------\n",
      "Creating test dataset\n"
     ]
    },
    {
     "data": {
      "application/vnd.jupyter.widget-view+json": {
       "model_id": "18e8f7cd244249728069a5cd97afb29f",
       "version_major": 2,
       "version_minor": 0
      },
      "text/plain": [
       "  0%|          | 0/2 [00:00<?, ?it/s]"
      ]
     },
     "metadata": {},
     "output_type": "display_data"
    },
    {
     "name": "stdout",
     "output_type": "stream",
     "text": [
      "--------------LENGTHS-------------\n",
      "torch.Size([2920, 1, 768])\n",
      "2908\n"
     ]
    },
    {
     "name": "stderr",
     "output_type": "stream",
     "text": [
      "Global seed set to 0\n"
     ]
    },
    {
     "name": "stdout",
     "output_type": "stream",
     "text": [
      "(2908, 1, 32, 64)\n",
      "(2908, 1, 32, 64)\n",
      "----------------------------------\n"
     ]
    },
    {
     "data": {
      "text/html": [
       "<pre style=\"white-space:pre;overflow-x:auto;line-height:normal;font-family:Menlo,'DejaVu Sans Mono',consolas,'Courier New',monospace\">┏━━━━┳━━━━━━━━━━━━━━━━━━━━━━━━━━━━┳━━━━━━━━━━━━━━━━━━━┳━━━━━━━━┓\n",
       "┃<span style=\"color: #800080; text-decoration-color: #800080; font-weight: bold\">    </span>┃<span style=\"color: #800080; text-decoration-color: #800080; font-weight: bold\"> Name                       </span>┃<span style=\"color: #800080; text-decoration-color: #800080; font-weight: bold\"> Type              </span>┃<span style=\"color: #800080; text-decoration-color: #800080; font-weight: bold\"> Params </span>┃\n",
       "┡━━━━╇━━━━━━━━━━━━━━━━━━━━━━━━━━━━╇━━━━━━━━━━━━━━━━━━━╇━━━━━━━━┩\n",
       "│<span style=\"color: #7f7f7f; text-decoration-color: #7f7f7f\"> 0  </span>│ net                        │ ResNet            │  1.2 M │\n",
       "│<span style=\"color: #7f7f7f; text-decoration-color: #7f7f7f\"> 1  </span>│ net.activation             │ LeakyReLU         │      0 │\n",
       "│<span style=\"color: #7f7f7f; text-decoration-color: #7f7f7f\"> 2  </span>│ net.image_proj             │ PeriodicConv2D    │  6.4 K │\n",
       "│<span style=\"color: #7f7f7f; text-decoration-color: #7f7f7f\"> 3  </span>│ net.image_proj.padding     │ PeriodicPadding2D │      0 │\n",
       "│<span style=\"color: #7f7f7f; text-decoration-color: #7f7f7f\"> 4  </span>│ net.image_proj.conv        │ Conv2d            │  6.4 K │\n",
       "│<span style=\"color: #7f7f7f; text-decoration-color: #7f7f7f\"> 5  </span>│ net.blocks                 │ ModuleList        │  1.2 M │\n",
       "│<span style=\"color: #7f7f7f; text-decoration-color: #7f7f7f\"> 6  </span>│ net.blocks.0               │ ResidualBlock     │  295 K │\n",
       "│<span style=\"color: #7f7f7f; text-decoration-color: #7f7f7f\"> 7  </span>│ net.blocks.0.activation    │ LeakyReLU         │      0 │\n",
       "│<span style=\"color: #7f7f7f; text-decoration-color: #7f7f7f\"> 8  </span>│ net.blocks.0.conv1         │ PeriodicConv2D    │  147 K │\n",
       "│<span style=\"color: #7f7f7f; text-decoration-color: #7f7f7f\"> 9  </span>│ net.blocks.0.conv1.padding │ PeriodicPadding2D │      0 │\n",
       "│<span style=\"color: #7f7f7f; text-decoration-color: #7f7f7f\"> 10 </span>│ net.blocks.0.conv1.conv    │ Conv2d            │  147 K │\n",
       "│<span style=\"color: #7f7f7f; text-decoration-color: #7f7f7f\"> 11 </span>│ net.blocks.0.conv2         │ PeriodicConv2D    │  147 K │\n",
       "│<span style=\"color: #7f7f7f; text-decoration-color: #7f7f7f\"> 12 </span>│ net.blocks.0.conv2.padding │ PeriodicPadding2D │      0 │\n",
       "│<span style=\"color: #7f7f7f; text-decoration-color: #7f7f7f\"> 13 </span>│ net.blocks.0.conv2.conv    │ Conv2d            │  147 K │\n",
       "│<span style=\"color: #7f7f7f; text-decoration-color: #7f7f7f\"> 14 </span>│ net.blocks.0.shortcut      │ Identity          │      0 │\n",
       "│<span style=\"color: #7f7f7f; text-decoration-color: #7f7f7f\"> 15 </span>│ net.blocks.0.norm1         │ BatchNorm2d       │    256 │\n",
       "│<span style=\"color: #7f7f7f; text-decoration-color: #7f7f7f\"> 16 </span>│ net.blocks.0.norm2         │ BatchNorm2d       │    256 │\n",
       "│<span style=\"color: #7f7f7f; text-decoration-color: #7f7f7f\"> 17 </span>│ net.blocks.0.drop          │ Dropout           │      0 │\n",
       "│<span style=\"color: #7f7f7f; text-decoration-color: #7f7f7f\"> 18 </span>│ net.blocks.1               │ ResidualBlock     │  295 K │\n",
       "│<span style=\"color: #7f7f7f; text-decoration-color: #7f7f7f\"> 19 </span>│ net.blocks.1.activation    │ LeakyReLU         │      0 │\n",
       "│<span style=\"color: #7f7f7f; text-decoration-color: #7f7f7f\"> 20 </span>│ net.blocks.1.conv1         │ PeriodicConv2D    │  147 K │\n",
       "│<span style=\"color: #7f7f7f; text-decoration-color: #7f7f7f\"> 21 </span>│ net.blocks.1.conv1.padding │ PeriodicPadding2D │      0 │\n",
       "│<span style=\"color: #7f7f7f; text-decoration-color: #7f7f7f\"> 22 </span>│ net.blocks.1.conv1.conv    │ Conv2d            │  147 K │\n",
       "│<span style=\"color: #7f7f7f; text-decoration-color: #7f7f7f\"> 23 </span>│ net.blocks.1.conv2         │ PeriodicConv2D    │  147 K │\n",
       "│<span style=\"color: #7f7f7f; text-decoration-color: #7f7f7f\"> 24 </span>│ net.blocks.1.conv2.padding │ PeriodicPadding2D │      0 │\n",
       "│<span style=\"color: #7f7f7f; text-decoration-color: #7f7f7f\"> 25 </span>│ net.blocks.1.conv2.conv    │ Conv2d            │  147 K │\n",
       "│<span style=\"color: #7f7f7f; text-decoration-color: #7f7f7f\"> 26 </span>│ net.blocks.1.shortcut      │ Identity          │      0 │\n",
       "│<span style=\"color: #7f7f7f; text-decoration-color: #7f7f7f\"> 27 </span>│ net.blocks.1.norm1         │ BatchNorm2d       │    256 │\n",
       "│<span style=\"color: #7f7f7f; text-decoration-color: #7f7f7f\"> 28 </span>│ net.blocks.1.norm2         │ BatchNorm2d       │    256 │\n",
       "│<span style=\"color: #7f7f7f; text-decoration-color: #7f7f7f\"> 29 </span>│ net.blocks.1.drop          │ Dropout           │      0 │\n",
       "│<span style=\"color: #7f7f7f; text-decoration-color: #7f7f7f\"> 30 </span>│ net.blocks.2               │ ResidualBlock     │  295 K │\n",
       "│<span style=\"color: #7f7f7f; text-decoration-color: #7f7f7f\"> 31 </span>│ net.blocks.2.activation    │ LeakyReLU         │      0 │\n",
       "│<span style=\"color: #7f7f7f; text-decoration-color: #7f7f7f\"> 32 </span>│ net.blocks.2.conv1         │ PeriodicConv2D    │  147 K │\n",
       "│<span style=\"color: #7f7f7f; text-decoration-color: #7f7f7f\"> 33 </span>│ net.blocks.2.conv1.padding │ PeriodicPadding2D │      0 │\n",
       "│<span style=\"color: #7f7f7f; text-decoration-color: #7f7f7f\"> 34 </span>│ net.blocks.2.conv1.conv    │ Conv2d            │  147 K │\n",
       "│<span style=\"color: #7f7f7f; text-decoration-color: #7f7f7f\"> 35 </span>│ net.blocks.2.conv2         │ PeriodicConv2D    │  147 K │\n",
       "│<span style=\"color: #7f7f7f; text-decoration-color: #7f7f7f\"> 36 </span>│ net.blocks.2.conv2.padding │ PeriodicPadding2D │      0 │\n",
       "│<span style=\"color: #7f7f7f; text-decoration-color: #7f7f7f\"> 37 </span>│ net.blocks.2.conv2.conv    │ Conv2d            │  147 K │\n",
       "│<span style=\"color: #7f7f7f; text-decoration-color: #7f7f7f\"> 38 </span>│ net.blocks.2.shortcut      │ Identity          │      0 │\n",
       "│<span style=\"color: #7f7f7f; text-decoration-color: #7f7f7f\"> 39 </span>│ net.blocks.2.norm1         │ BatchNorm2d       │    256 │\n",
       "│<span style=\"color: #7f7f7f; text-decoration-color: #7f7f7f\"> 40 </span>│ net.blocks.2.norm2         │ BatchNorm2d       │    256 │\n",
       "│<span style=\"color: #7f7f7f; text-decoration-color: #7f7f7f\"> 41 </span>│ net.blocks.2.drop          │ Dropout           │      0 │\n",
       "│<span style=\"color: #7f7f7f; text-decoration-color: #7f7f7f\"> 42 </span>│ net.blocks.3               │ ResidualBlock     │  295 K │\n",
       "│<span style=\"color: #7f7f7f; text-decoration-color: #7f7f7f\"> 43 </span>│ net.blocks.3.activation    │ LeakyReLU         │      0 │\n",
       "│<span style=\"color: #7f7f7f; text-decoration-color: #7f7f7f\"> 44 </span>│ net.blocks.3.conv1         │ PeriodicConv2D    │  147 K │\n",
       "│<span style=\"color: #7f7f7f; text-decoration-color: #7f7f7f\"> 45 </span>│ net.blocks.3.conv1.padding │ PeriodicPadding2D │      0 │\n",
       "│<span style=\"color: #7f7f7f; text-decoration-color: #7f7f7f\"> 46 </span>│ net.blocks.3.conv1.conv    │ Conv2d            │  147 K │\n",
       "│<span style=\"color: #7f7f7f; text-decoration-color: #7f7f7f\"> 47 </span>│ net.blocks.3.conv2         │ PeriodicConv2D    │  147 K │\n",
       "│<span style=\"color: #7f7f7f; text-decoration-color: #7f7f7f\"> 48 </span>│ net.blocks.3.conv2.padding │ PeriodicPadding2D │      0 │\n",
       "│<span style=\"color: #7f7f7f; text-decoration-color: #7f7f7f\"> 49 </span>│ net.blocks.3.conv2.conv    │ Conv2d            │  147 K │\n",
       "│<span style=\"color: #7f7f7f; text-decoration-color: #7f7f7f\"> 50 </span>│ net.blocks.3.shortcut      │ Identity          │      0 │\n",
       "│<span style=\"color: #7f7f7f; text-decoration-color: #7f7f7f\"> 51 </span>│ net.blocks.3.norm1         │ BatchNorm2d       │    256 │\n",
       "│<span style=\"color: #7f7f7f; text-decoration-color: #7f7f7f\"> 52 </span>│ net.blocks.3.norm2         │ BatchNorm2d       │    256 │\n",
       "│<span style=\"color: #7f7f7f; text-decoration-color: #7f7f7f\"> 53 </span>│ net.blocks.3.drop          │ Dropout           │      0 │\n",
       "│<span style=\"color: #7f7f7f; text-decoration-color: #7f7f7f\"> 54 </span>│ net.norm                   │ BatchNorm2d       │    256 │\n",
       "│<span style=\"color: #7f7f7f; text-decoration-color: #7f7f7f\"> 55 </span>│ net.final                  │ PeriodicConv2D    │  6.3 K │\n",
       "│<span style=\"color: #7f7f7f; text-decoration-color: #7f7f7f\"> 56 </span>│ net.final.padding          │ PeriodicPadding2D │      0 │\n",
       "│<span style=\"color: #7f7f7f; text-decoration-color: #7f7f7f\"> 57 </span>│ net.final.conv             │ Conv2d            │  6.3 K │\n",
       "│<span style=\"color: #7f7f7f; text-decoration-color: #7f7f7f\"> 58 </span>│ denormalization            │ Normalize         │      0 │\n",
       "│<span style=\"color: #7f7f7f; text-decoration-color: #7f7f7f\"> 59 </span>│ mean_denormalize           │ Normalize         │      0 │\n",
       "│<span style=\"color: #7f7f7f; text-decoration-color: #7f7f7f\"> 60 </span>│ std_denormalize            │ Normalize         │      0 │\n",
       "└────┴────────────────────────────┴───────────────────┴────────┘\n",
       "</pre>\n"
      ],
      "text/plain": [
       "┏━━━━┳━━━━━━━━━━━━━━━━━━━━━━━━━━━━┳━━━━━━━━━━━━━━━━━━━┳━━━━━━━━┓\n",
       "┃\u001b[1;35m \u001b[0m\u001b[1;35m  \u001b[0m\u001b[1;35m \u001b[0m┃\u001b[1;35m \u001b[0m\u001b[1;35mName                      \u001b[0m\u001b[1;35m \u001b[0m┃\u001b[1;35m \u001b[0m\u001b[1;35mType             \u001b[0m\u001b[1;35m \u001b[0m┃\u001b[1;35m \u001b[0m\u001b[1;35mParams\u001b[0m\u001b[1;35m \u001b[0m┃\n",
       "┡━━━━╇━━━━━━━━━━━━━━━━━━━━━━━━━━━━╇━━━━━━━━━━━━━━━━━━━╇━━━━━━━━┩\n",
       "│\u001b[2m \u001b[0m\u001b[2m0 \u001b[0m\u001b[2m \u001b[0m│ net                        │ ResNet            │  1.2 M │\n",
       "│\u001b[2m \u001b[0m\u001b[2m1 \u001b[0m\u001b[2m \u001b[0m│ net.activation             │ LeakyReLU         │      0 │\n",
       "│\u001b[2m \u001b[0m\u001b[2m2 \u001b[0m\u001b[2m \u001b[0m│ net.image_proj             │ PeriodicConv2D    │  6.4 K │\n",
       "│\u001b[2m \u001b[0m\u001b[2m3 \u001b[0m\u001b[2m \u001b[0m│ net.image_proj.padding     │ PeriodicPadding2D │      0 │\n",
       "│\u001b[2m \u001b[0m\u001b[2m4 \u001b[0m\u001b[2m \u001b[0m│ net.image_proj.conv        │ Conv2d            │  6.4 K │\n",
       "│\u001b[2m \u001b[0m\u001b[2m5 \u001b[0m\u001b[2m \u001b[0m│ net.blocks                 │ ModuleList        │  1.2 M │\n",
       "│\u001b[2m \u001b[0m\u001b[2m6 \u001b[0m\u001b[2m \u001b[0m│ net.blocks.0               │ ResidualBlock     │  295 K │\n",
       "│\u001b[2m \u001b[0m\u001b[2m7 \u001b[0m\u001b[2m \u001b[0m│ net.blocks.0.activation    │ LeakyReLU         │      0 │\n",
       "│\u001b[2m \u001b[0m\u001b[2m8 \u001b[0m\u001b[2m \u001b[0m│ net.blocks.0.conv1         │ PeriodicConv2D    │  147 K │\n",
       "│\u001b[2m \u001b[0m\u001b[2m9 \u001b[0m\u001b[2m \u001b[0m│ net.blocks.0.conv1.padding │ PeriodicPadding2D │      0 │\n",
       "│\u001b[2m \u001b[0m\u001b[2m10\u001b[0m\u001b[2m \u001b[0m│ net.blocks.0.conv1.conv    │ Conv2d            │  147 K │\n",
       "│\u001b[2m \u001b[0m\u001b[2m11\u001b[0m\u001b[2m \u001b[0m│ net.blocks.0.conv2         │ PeriodicConv2D    │  147 K │\n",
       "│\u001b[2m \u001b[0m\u001b[2m12\u001b[0m\u001b[2m \u001b[0m│ net.blocks.0.conv2.padding │ PeriodicPadding2D │      0 │\n",
       "│\u001b[2m \u001b[0m\u001b[2m13\u001b[0m\u001b[2m \u001b[0m│ net.blocks.0.conv2.conv    │ Conv2d            │  147 K │\n",
       "│\u001b[2m \u001b[0m\u001b[2m14\u001b[0m\u001b[2m \u001b[0m│ net.blocks.0.shortcut      │ Identity          │      0 │\n",
       "│\u001b[2m \u001b[0m\u001b[2m15\u001b[0m\u001b[2m \u001b[0m│ net.blocks.0.norm1         │ BatchNorm2d       │    256 │\n",
       "│\u001b[2m \u001b[0m\u001b[2m16\u001b[0m\u001b[2m \u001b[0m│ net.blocks.0.norm2         │ BatchNorm2d       │    256 │\n",
       "│\u001b[2m \u001b[0m\u001b[2m17\u001b[0m\u001b[2m \u001b[0m│ net.blocks.0.drop          │ Dropout           │      0 │\n",
       "│\u001b[2m \u001b[0m\u001b[2m18\u001b[0m\u001b[2m \u001b[0m│ net.blocks.1               │ ResidualBlock     │  295 K │\n",
       "│\u001b[2m \u001b[0m\u001b[2m19\u001b[0m\u001b[2m \u001b[0m│ net.blocks.1.activation    │ LeakyReLU         │      0 │\n",
       "│\u001b[2m \u001b[0m\u001b[2m20\u001b[0m\u001b[2m \u001b[0m│ net.blocks.1.conv1         │ PeriodicConv2D    │  147 K │\n",
       "│\u001b[2m \u001b[0m\u001b[2m21\u001b[0m\u001b[2m \u001b[0m│ net.blocks.1.conv1.padding │ PeriodicPadding2D │      0 │\n",
       "│\u001b[2m \u001b[0m\u001b[2m22\u001b[0m\u001b[2m \u001b[0m│ net.blocks.1.conv1.conv    │ Conv2d            │  147 K │\n",
       "│\u001b[2m \u001b[0m\u001b[2m23\u001b[0m\u001b[2m \u001b[0m│ net.blocks.1.conv2         │ PeriodicConv2D    │  147 K │\n",
       "│\u001b[2m \u001b[0m\u001b[2m24\u001b[0m\u001b[2m \u001b[0m│ net.blocks.1.conv2.padding │ PeriodicPadding2D │      0 │\n",
       "│\u001b[2m \u001b[0m\u001b[2m25\u001b[0m\u001b[2m \u001b[0m│ net.blocks.1.conv2.conv    │ Conv2d            │  147 K │\n",
       "│\u001b[2m \u001b[0m\u001b[2m26\u001b[0m\u001b[2m \u001b[0m│ net.blocks.1.shortcut      │ Identity          │      0 │\n",
       "│\u001b[2m \u001b[0m\u001b[2m27\u001b[0m\u001b[2m \u001b[0m│ net.blocks.1.norm1         │ BatchNorm2d       │    256 │\n",
       "│\u001b[2m \u001b[0m\u001b[2m28\u001b[0m\u001b[2m \u001b[0m│ net.blocks.1.norm2         │ BatchNorm2d       │    256 │\n",
       "│\u001b[2m \u001b[0m\u001b[2m29\u001b[0m\u001b[2m \u001b[0m│ net.blocks.1.drop          │ Dropout           │      0 │\n",
       "│\u001b[2m \u001b[0m\u001b[2m30\u001b[0m\u001b[2m \u001b[0m│ net.blocks.2               │ ResidualBlock     │  295 K │\n",
       "│\u001b[2m \u001b[0m\u001b[2m31\u001b[0m\u001b[2m \u001b[0m│ net.blocks.2.activation    │ LeakyReLU         │      0 │\n",
       "│\u001b[2m \u001b[0m\u001b[2m32\u001b[0m\u001b[2m \u001b[0m│ net.blocks.2.conv1         │ PeriodicConv2D    │  147 K │\n",
       "│\u001b[2m \u001b[0m\u001b[2m33\u001b[0m\u001b[2m \u001b[0m│ net.blocks.2.conv1.padding │ PeriodicPadding2D │      0 │\n",
       "│\u001b[2m \u001b[0m\u001b[2m34\u001b[0m\u001b[2m \u001b[0m│ net.blocks.2.conv1.conv    │ Conv2d            │  147 K │\n",
       "│\u001b[2m \u001b[0m\u001b[2m35\u001b[0m\u001b[2m \u001b[0m│ net.blocks.2.conv2         │ PeriodicConv2D    │  147 K │\n",
       "│\u001b[2m \u001b[0m\u001b[2m36\u001b[0m\u001b[2m \u001b[0m│ net.blocks.2.conv2.padding │ PeriodicPadding2D │      0 │\n",
       "│\u001b[2m \u001b[0m\u001b[2m37\u001b[0m\u001b[2m \u001b[0m│ net.blocks.2.conv2.conv    │ Conv2d            │  147 K │\n",
       "│\u001b[2m \u001b[0m\u001b[2m38\u001b[0m\u001b[2m \u001b[0m│ net.blocks.2.shortcut      │ Identity          │      0 │\n",
       "│\u001b[2m \u001b[0m\u001b[2m39\u001b[0m\u001b[2m \u001b[0m│ net.blocks.2.norm1         │ BatchNorm2d       │    256 │\n",
       "│\u001b[2m \u001b[0m\u001b[2m40\u001b[0m\u001b[2m \u001b[0m│ net.blocks.2.norm2         │ BatchNorm2d       │    256 │\n",
       "│\u001b[2m \u001b[0m\u001b[2m41\u001b[0m\u001b[2m \u001b[0m│ net.blocks.2.drop          │ Dropout           │      0 │\n",
       "│\u001b[2m \u001b[0m\u001b[2m42\u001b[0m\u001b[2m \u001b[0m│ net.blocks.3               │ ResidualBlock     │  295 K │\n",
       "│\u001b[2m \u001b[0m\u001b[2m43\u001b[0m\u001b[2m \u001b[0m│ net.blocks.3.activation    │ LeakyReLU         │      0 │\n",
       "│\u001b[2m \u001b[0m\u001b[2m44\u001b[0m\u001b[2m \u001b[0m│ net.blocks.3.conv1         │ PeriodicConv2D    │  147 K │\n",
       "│\u001b[2m \u001b[0m\u001b[2m45\u001b[0m\u001b[2m \u001b[0m│ net.blocks.3.conv1.padding │ PeriodicPadding2D │      0 │\n",
       "│\u001b[2m \u001b[0m\u001b[2m46\u001b[0m\u001b[2m \u001b[0m│ net.blocks.3.conv1.conv    │ Conv2d            │  147 K │\n",
       "│\u001b[2m \u001b[0m\u001b[2m47\u001b[0m\u001b[2m \u001b[0m│ net.blocks.3.conv2         │ PeriodicConv2D    │  147 K │\n",
       "│\u001b[2m \u001b[0m\u001b[2m48\u001b[0m\u001b[2m \u001b[0m│ net.blocks.3.conv2.padding │ PeriodicPadding2D │      0 │\n",
       "│\u001b[2m \u001b[0m\u001b[2m49\u001b[0m\u001b[2m \u001b[0m│ net.blocks.3.conv2.conv    │ Conv2d            │  147 K │\n",
       "│\u001b[2m \u001b[0m\u001b[2m50\u001b[0m\u001b[2m \u001b[0m│ net.blocks.3.shortcut      │ Identity          │      0 │\n",
       "│\u001b[2m \u001b[0m\u001b[2m51\u001b[0m\u001b[2m \u001b[0m│ net.blocks.3.norm1         │ BatchNorm2d       │    256 │\n",
       "│\u001b[2m \u001b[0m\u001b[2m52\u001b[0m\u001b[2m \u001b[0m│ net.blocks.3.norm2         │ BatchNorm2d       │    256 │\n",
       "│\u001b[2m \u001b[0m\u001b[2m53\u001b[0m\u001b[2m \u001b[0m│ net.blocks.3.drop          │ Dropout           │      0 │\n",
       "│\u001b[2m \u001b[0m\u001b[2m54\u001b[0m\u001b[2m \u001b[0m│ net.norm                   │ BatchNorm2d       │    256 │\n",
       "│\u001b[2m \u001b[0m\u001b[2m55\u001b[0m\u001b[2m \u001b[0m│ net.final                  │ PeriodicConv2D    │  6.3 K │\n",
       "│\u001b[2m \u001b[0m\u001b[2m56\u001b[0m\u001b[2m \u001b[0m│ net.final.padding          │ PeriodicPadding2D │      0 │\n",
       "│\u001b[2m \u001b[0m\u001b[2m57\u001b[0m\u001b[2m \u001b[0m│ net.final.conv             │ Conv2d            │  6.3 K │\n",
       "│\u001b[2m \u001b[0m\u001b[2m58\u001b[0m\u001b[2m \u001b[0m│ denormalization            │ Normalize         │      0 │\n",
       "│\u001b[2m \u001b[0m\u001b[2m59\u001b[0m\u001b[2m \u001b[0m│ mean_denormalize           │ Normalize         │      0 │\n",
       "│\u001b[2m \u001b[0m\u001b[2m60\u001b[0m\u001b[2m \u001b[0m│ std_denormalize            │ Normalize         │      0 │\n",
       "└────┴────────────────────────────┴───────────────────┴────────┘\n"
      ]
     },
     "metadata": {},
     "output_type": "display_data"
    },
    {
     "data": {
      "text/html": [
       "<pre style=\"white-space:pre;overflow-x:auto;line-height:normal;font-family:Menlo,'DejaVu Sans Mono',consolas,'Courier New',monospace\"><span style=\"font-weight: bold\">Trainable params</span>: 1.2 M                                                                                            \n",
       "<span style=\"font-weight: bold\">Non-trainable params</span>: 0                                                                                            \n",
       "<span style=\"font-weight: bold\">Total params</span>: 1.2 M                                                                                                \n",
       "<span style=\"font-weight: bold\">Total estimated model params size (MB)</span>: 2                                                                          \n",
       "</pre>\n"
      ],
      "text/plain": [
       "\u001b[1mTrainable params\u001b[0m: 1.2 M                                                                                            \n",
       "\u001b[1mNon-trainable params\u001b[0m: 0                                                                                            \n",
       "\u001b[1mTotal params\u001b[0m: 1.2 M                                                                                                \n",
       "\u001b[1mTotal estimated model params size (MB)\u001b[0m: 2                                                                          \n"
      ]
     },
     "metadata": {},
     "output_type": "display_data"
    },
    {
     "data": {
      "application/vnd.jupyter.widget-view+json": {
       "model_id": "36d3bf65145f4070ba16d08dad6b521a",
       "version_major": 2,
       "version_minor": 0
      },
      "text/plain": [
       "Output()"
      ]
     },
     "metadata": {},
     "output_type": "display_data"
    },
    {
     "data": {
      "text/html": [
       "<pre style=\"white-space:pre;overflow-x:auto;line-height:normal;font-family:Menlo,'DejaVu Sans Mono',consolas,'Courier New',monospace\"></pre>\n"
      ],
      "text/plain": []
     },
     "metadata": {},
     "output_type": "display_data"
    },
    {
     "data": {
      "text/html": [
       "<pre style=\"white-space:pre;overflow-x:auto;line-height:normal;font-family:Menlo,'DejaVu Sans Mono',consolas,'Courier New',monospace\">\n",
       "</pre>\n"
      ],
      "text/plain": [
       "\n"
      ]
     },
     "metadata": {},
     "output_type": "display_data"
    },
    {
     "ename": "NameError",
     "evalue": "name 'visualize' is not defined",
     "output_type": "error",
     "traceback": [
      "\u001b[0;31m---------------------------------------------------------------------------\u001b[0m",
      "\u001b[0;31mNameError\u001b[0m                                 Traceback (most recent call last)",
      "Cell \u001b[0;32mIn [14], line 54\u001b[0m\n\u001b[1;32m     51\u001b[0m trainer\u001b[39m.\u001b[39mfit(forecast_model_module, forecast_data_module)\n\u001b[1;32m     53\u001b[0m torch\u001b[39m.\u001b[39msave(forecast_model_module\u001b[39m.\u001b[39mstate_dict(), \u001b[39mf\u001b[39m\u001b[39m\"\u001b[39m\u001b[39m{\u001b[39;00mbase_dir\u001b[39m}\u001b[39;00m\u001b[39m/saved_models/96Forecast\u001b[39m\u001b[39m\"\u001b[39m)\n\u001b[0;32m---> 54\u001b[0m visualize(forecast_model_module, forecast_data_module)\n\u001b[1;32m     55\u001b[0m trainer\u001b[39m.\u001b[39mtest(forecast_model_module, forecast_data_module)\n",
      "\u001b[0;31mNameError\u001b[0m: name 'visualize' is not defined"
     ]
    }
   ],
   "source": [
    "from climate_learn.utils.datetime import Days\n",
    "\n",
    "forecast_data_module = MyDataModule(\n",
    "    dataset = \"ERA5\",\n",
    "    task = \"forecasting\",\n",
    "    lower_dir = \"compressed_tp_96\",\n",
    "    root_dir = f\"{base_dir}/data/weatherbench/era5/5.625\",\n",
    "    in_vars = [\"total_precipitation\"],\n",
    "    out_vars = [\"total_precipitation\"],\n",
    "    train_start_year = Year(1979),\n",
    "    val_start_year = Year(2015),\n",
    "    test_start_year = Year(2017),\n",
    "    end_year = Year(2018),\n",
    "    pred_range = Days(3),\n",
    "    subsample = Hours(6),\n",
    "    batch_size = 256,\n",
    "    num_workers = 12,\n",
    "    padding = (8,8,8,8),\n",
    ")\n",
    "\n",
    "from climate_learn.models import load_model\n",
    "from climate_learn.models import set_climatology\n",
    "\n",
    "model_kwargs = {\n",
    "    \"in_channels\": len(forecast_data_module.hparams.in_vars),\n",
    "    \"out_channels\": len(forecast_data_module.hparams.out_vars),\n",
    "    \"n_blocks\": 4\n",
    "}\n",
    "\n",
    "optim_kwargs = {\n",
    "    \"lr\": 1e-4,\n",
    "    \"weight_decay\": 1e-5,\n",
    "    \"warmup_epochs\": 1,\n",
    "    \"max_epochs\": 5,\n",
    "}\n",
    "\n",
    "forecast_model_module = load_model(name = \"resnet\", task = \"forecasting\", model_kwargs = model_kwargs, optim_kwargs = optim_kwargs)\n",
    "\n",
    "set_climatology(forecast_model_module, forecast_data_module)\n",
    "\n",
    "from climate_learn.training import Trainer, WandbLogger\n",
    "\n",
    "trainer = Trainer(\n",
    "    seed = 0,\n",
    "    accelerator = \"gpu\",\n",
    "    precision = 16,\n",
    "    max_epochs = 5,\n",
    "    logger = True\n",
    "    # logger = WandbLogger(project = \"climate_tutorial\", name = \"forecast-vit\")\n",
    ")\n",
    "trainer.fit(forecast_model_module, forecast_data_module)\n",
    "\n",
    "torch.save(forecast_model_module.state_dict(), a\"{base_dir}/saved_models/96Forecast\")\n"
   ]
  },
  {
   "cell_type": "code",
   "execution_count": 15,
   "metadata": {},
   "outputs": [
    {
     "data": {
      "image/png": "[encoded data removed]",
      "text/plain": [
       "<Figure size 2000x200 with 8 Axes>"
      ]
     },
     "metadata": {},
     "output_type": "display_data"
    },
    {
     "data": {
      "application/vnd.jupyter.widget-view+json": {
       "model_id": "c5f270141fb94022a992a6698c4cbb74",
       "version_major": 2,
       "version_minor": 0
      },
      "text/plain": [
       "Output()"
      ]
     },
     "metadata": {},
     "output_type": "display_data"
    },
    {
     "data": {
      "text/html": [
       "<pre style=\"white-space:pre;overflow-x:auto;line-height:normal;font-family:Menlo,'DejaVu Sans Mono',consolas,'Courier New',monospace\">┏━━━━━━━━━━━━━━━━━━━━━━━━━━━━━━━━━━━━━━━━━━━━━━━━━━━━━━━━┳━━━━━━━━━━━━━━━━━━━━━━━━━━━━━━━━━━━━━━━━━━━━━━━━━━━━━━━━┓\n",
       "┃<span style=\"font-weight: bold\">                      Test metric                       </span>┃<span style=\"font-weight: bold\">                      DataLoader 0                      </span>┃\n",
       "┡━━━━━━━━━━━━━━━━━━━━━━━━━━━━━━━━━━━━━━━━━━━━━━━━━━━━━━━━╇━━━━━━━━━━━━━━━━━━━━━━━━━━━━━━━━━━━━━━━━━━━━━━━━━━━━━━━━┩\n",
       "│<span style=\"color: #008080; text-decoration-color: #008080\">           test/acc_total_precipitation_day_3           </span>│<span style=\"color: #800080; text-decoration-color: #800080\">                  0.014730480697830398                  </span>│\n",
       "│<span style=\"color: #008080; text-decoration-color: #008080\">         test/w_rmse_total_precipitation_day_3          </span>│<span style=\"color: #800080; text-decoration-color: #800080\">                 0.0004481149027791915                  </span>│\n",
       "│<span style=\"color: #008080; text-decoration-color: #008080\"> test_climatology_baseline/w_rmse_total_precipitation_… </span>│<span style=\"color: #800080; text-decoration-color: #800080\">                 0.0004256685293205191                  </span>│\n",
       "└────────────────────────────────────────────────────────┴────────────────────────────────────────────────────────┘\n",
       "</pre>\n"
      ],
      "text/plain": [
       "┏━━━━━━━━━━━━━━━━━━━━━━━━━━━━━━━━━━━━━━━━━━━━━━━━━━━━━━━━┳━━━━━━━━━━━━━━━━━━━━━━━━━━━━━━━━━━━━━━━━━━━━━━━━━━━━━━━━┓\n",
       "┃\u001b[1m \u001b[0m\u001b[1m                     Test metric                      \u001b[0m\u001b[1m \u001b[0m┃\u001b[1m \u001b[0m\u001b[1m                     DataLoader 0                     \u001b[0m\u001b[1m \u001b[0m┃\n",
       "┡━━━━━━━━━━━━━━━━━━━━━━━━━━━━━━━━━━━━━━━━━━━━━━━━━━━━━━━━╇━━━━━━━━━━━━━━━━━━━━━━━━━━━━━━━━━━━━━━━━━━━━━━━━━━━━━━━━┩\n",
       "│\u001b[36m \u001b[0m\u001b[36m          test/acc_total_precipitation_day_3          \u001b[0m\u001b[36m \u001b[0m│\u001b[35m \u001b[0m\u001b[35m                 0.014730480697830398                 \u001b[0m\u001b[35m \u001b[0m│\n",
       "│\u001b[36m \u001b[0m\u001b[36m        test/w_rmse_total_precipitation_day_3         \u001b[0m\u001b[36m \u001b[0m│\u001b[35m \u001b[0m\u001b[35m                0.0004481149027791915                 \u001b[0m\u001b[35m \u001b[0m│\n",
       "│\u001b[36m \u001b[0m\u001b[36mtest_climatology_baseline/w_rmse_total_precipitation_…\u001b[0m\u001b[36m \u001b[0m│\u001b[35m \u001b[0m\u001b[35m                0.0004256685293205191                 \u001b[0m\u001b[35m \u001b[0m│\n",
       "└────────────────────────────────────────────────────────┴────────────────────────────────────────────────────────┘\n"
      ]
     },
     "metadata": {},
     "output_type": "display_data"
    },
    {
     "data": {
      "text/html": [
       "<pre style=\"white-space:pre;overflow-x:auto;line-height:normal;font-family:Menlo,'DejaVu Sans Mono',consolas,'Courier New',monospace\"></pre>\n"
      ],
      "text/plain": []
     },
     "metadata": {},
     "output_type": "display_data"
    },
    {
     "data": {
      "text/html": [
       "<pre style=\"white-space:pre;overflow-x:auto;line-height:normal;font-family:Menlo,'DejaVu Sans Mono',consolas,'Courier New',monospace\">\n",
       "</pre>\n"
      ],
      "text/plain": [
       "\n"
      ]
     },
     "metadata": {},
     "output_type": "display_data"
    }
   ],
   "source": [
    "from climate_learn.utils.visualize import visualize\n",
    "\n",
    "visualize(forecast_model_module, forecast_data_module)\n",
    "trainer.test(forecast_model_module, forecast_data_module)"
   ]
  },
  {
   "cell_type": "code",
   "execution_count": 20,
   "metadata": {},
   "outputs": [
    {
     "name": "stdout",
     "output_type": "stream",
     "text": [
      "Creating train dataset\n"
     ]
    },
    {
     "data": {
      "application/vnd.jupyter.widget-view+json": {
       "model_id": "fb8aa8ee250843f08131c00dc86f0ebc",
       "version_major": 2,
       "version_minor": 0
      },
      "text/plain": [
       "  0%|          | 0/36 [00:00<?, ?it/s]"
      ]
     },
     "metadata": {},
     "output_type": "display_data"
    },
    {
     "name": "stdout",
     "output_type": "stream",
     "text": [
      "--------------LENGTHS-------------\n",
      "torch.Size([52595, 1, 512])\n",
      "52583\n",
      "(52583, 1, 32, 64)\n",
      "(52583, 1, 32, 64)\n",
      "----------------------------------\n",
      "Creating val dataset\n"
     ]
    },
    {
     "data": {
      "application/vnd.jupyter.widget-view+json": {
       "model_id": "97cf94097ad34662b9df33fff669644d",
       "version_major": 2,
       "version_minor": 0
      },
      "text/plain": [
       "  0%|          | 0/2 [00:00<?, ?it/s]"
      ]
     },
     "metadata": {},
     "output_type": "display_data"
    },
    {
     "name": "stdout",
     "output_type": "stream",
     "text": [
      "--------------LENGTHS-------------\n",
      "torch.Size([2924, 1, 512])\n",
      "2912\n",
      "(2912, 1, 32, 64)\n",
      "(2912, 1, 32, 64)\n",
      "----------------------------------\n",
      "Creating test dataset\n"
     ]
    },
    {
     "data": {
      "application/vnd.jupyter.widget-view+json": {
       "model_id": "cc1470baac5b42b6a1fa4815ca944f9f",
       "version_major": 2,
       "version_minor": 0
      },
      "text/plain": [
       "  0%|          | 0/2 [00:00<?, ?it/s]"
      ]
     },
     "metadata": {},
     "output_type": "display_data"
    },
    {
     "name": "stdout",
     "output_type": "stream",
     "text": [
      "--------------LENGTHS-------------\n",
      "torch.Size([2920, 1, 512])\n",
      "2908\n",
      "(2908, 1, 32, 64)\n",
      "(2908, 1, 32, 64)\n",
      "----------------------------------\n"
     ]
    },
    {
     "data": {
      "image/png": "[encoded data removed]",
      "text/plain": [
       "<Figure size 2000x200 with 8 Axes>"
      ]
     },
     "metadata": {},
     "output_type": "display_data"
    },
    {
     "data": {
      "application/vnd.jupyter.widget-view+json": {
       "model_id": "1c279adb46584ce5a332d85b188d5d1c",
       "version_major": 2,
       "version_minor": 0
      },
      "text/plain": [
       "Output()"
      ]
     },
     "metadata": {},
     "output_type": "display_data"
    },
    {
     "data": {
      "text/html": [
       "<pre style=\"white-space:pre;overflow-x:auto;line-height:normal;font-family:Menlo,'DejaVu Sans Mono',consolas,'Courier New',monospace\">┏━━━━━━━━━━━━━━━━━━━━━━━━━━━━━━━━━━━━━━━━━━━━━━━━━━━━━━━━┳━━━━━━━━━━━━━━━━━━━━━━━━━━━━━━━━━━━━━━━━━━━━━━━━━━━━━━━━┓\n",
       "┃<span style=\"font-weight: bold\">                      Test metric                       </span>┃<span style=\"font-weight: bold\">                      DataLoader 0                      </span>┃\n",
       "┡━━━━━━━━━━━━━━━━━━━━━━━━━━━━━━━━━━━━━━━━━━━━━━━━━━━━━━━━╇━━━━━━━━━━━━━━━━━━━━━━━━━━━━━━━━━━━━━━━━━━━━━━━━━━━━━━━━┩\n",
       "│<span style=\"color: #008080; text-decoration-color: #008080\">           test/acc_total_precipitation_day_3           </span>│<span style=\"color: #800080; text-decoration-color: #800080\">                 -0.0002459845354874721                 </span>│\n",
       "│<span style=\"color: #008080; text-decoration-color: #008080\">         test/w_rmse_total_precipitation_day_3          </span>│<span style=\"color: #800080; text-decoration-color: #800080\">                 0.00046568167849842494                 </span>│\n",
       "│<span style=\"color: #008080; text-decoration-color: #008080\"> test_climatology_baseline/w_rmse_total_precipitation_… </span>│<span style=\"color: #800080; text-decoration-color: #800080\">                 0.0004256685293205191                  </span>│\n",
       "└────────────────────────────────────────────────────────┴────────────────────────────────────────────────────────┘\n",
       "</pre>\n"
      ],
      "text/plain": [
       "┏━━━━━━━━━━━━━━━━━━━━━━━━━━━━━━━━━━━━━━━━━━━━━━━━━━━━━━━━┳━━━━━━━━━━━━━━━━━━━━━━━━━━━━━━━━━━━━━━━━━━━━━━━━━━━━━━━━┓\n",
       "┃\u001b[1m \u001b[0m\u001b[1m                     Test metric                      \u001b[0m\u001b[1m \u001b[0m┃\u001b[1m \u001b[0m\u001b[1m                     DataLoader 0                     \u001b[0m\u001b[1m \u001b[0m┃\n",
       "┡━━━━━━━━━━━━━━━━━━━━━━━━━━━━━━━━━━━━━━━━━━━━━━━━━━━━━━━━╇━━━━━━━━━━━━━━━━━━━━━━━━━━━━━━━━━━━━━━━━━━━━━━━━━━━━━━━━┩\n",
       "│\u001b[36m \u001b[0m\u001b[36m          test/acc_total_precipitation_day_3          \u001b[0m\u001b[36m \u001b[0m│\u001b[35m \u001b[0m\u001b[35m                -0.0002459845354874721                \u001b[0m\u001b[35m \u001b[0m│\n",
       "│\u001b[36m \u001b[0m\u001b[36m        test/w_rmse_total_precipitation_day_3         \u001b[0m\u001b[36m \u001b[0m│\u001b[35m \u001b[0m\u001b[35m                0.00046568167849842494                \u001b[0m\u001b[35m \u001b[0m│\n",
       "│\u001b[36m \u001b[0m\u001b[36mtest_climatology_baseline/w_rmse_total_precipitation_…\u001b[0m\u001b[36m \u001b[0m│\u001b[35m \u001b[0m\u001b[35m                0.0004256685293205191                 \u001b[0m\u001b[35m \u001b[0m│\n",
       "└────────────────────────────────────────────────────────┴────────────────────────────────────────────────────────┘\n"
      ]
     },
     "metadata": {},
     "output_type": "display_data"
    },
    {
     "data": {
      "text/html": [
       "<pre style=\"white-space:pre;overflow-x:auto;line-height:normal;font-family:Menlo,'DejaVu Sans Mono',consolas,'Courier New',monospace\"></pre>\n"
      ],
      "text/plain": []
     },
     "metadata": {},
     "output_type": "display_data"
    },
    {
     "data": {
      "text/html": [
       "<pre style=\"white-space:pre;overflow-x:auto;line-height:normal;font-family:Menlo,'DejaVu Sans Mono',consolas,'Courier New',monospace\">\n",
       "</pre>\n"
      ],
      "text/plain": [
       "\n"
      ]
     },
     "metadata": {},
     "output_type": "display_data"
    }
   ],
   "source": [
    "from climate_learn.utils.visualize import visualize\n",
    "\n",
    "forecast_model_module.load_state_dict(torch.load(f\"{base_dir}/saved_models/64Forecast\"))\n",
    "\n",
    "forecast_data_module = MyDataModule(\n",
    "    dataset = \"ERA5\",\n",
    "    task = \"forecasting\",\n",
    "    lower_dir = \"compressed_tp_64\",\n",
    "    root_dir = f\"{base_dir}/data/weatherbench/era5/5.625\",\n",
    "    in_vars = [\"total_precipitation\"],\n",
    "    out_vars = [\"total_precipitation\"],\n",
    "    train_start_year = Year(1979),\n",
    "    val_start_year = Year(2015),\n",
    "    test_start_year = Year(2017),\n",
    "    end_year = Year(2018),\n",
    "    pred_range = Days(3),\n",
    "    subsample = Hours(6),\n",
    "    batch_size = 256,\n",
    "    num_workers = 12,\n",
    "    padding = (16,16,8,8),\n",
    ")\n",
    "\n",
    "visualize(forecast_model_module, forecast_data_module)\n",
    "trainer.test(forecast_model_module, forecast_data_module)"
   ]
  },
  {
   "cell_type": "code",
   "execution_count": 19,
   "metadata": {},
   "outputs": [
    {
     "name": "stdout",
     "output_type": "stream",
     "text": [
      "Creating train dataset\n"
     ]
    },
    {
     "data": {
      "application/vnd.jupyter.widget-view+json": {
       "model_id": "3f36b4f83c264ccba3955456d0cd81fc",
       "version_major": 2,
       "version_minor": 0
      },
      "text/plain": [
       "  0%|          | 0/36 [00:00<?, ?it/s]"
      ]
     },
     "metadata": {},
     "output_type": "display_data"
    },
    {
     "name": "stdout",
     "output_type": "stream",
     "text": [
      "--------------LENGTHS-------------\n",
      "torch.Size([52595, 1, 128])\n",
      "52583\n",
      "(52583, 1, 32, 64)\n",
      "(52583, 1, 32, 64)\n",
      "----------------------------------\n",
      "Creating val dataset\n"
     ]
    },
    {
     "data": {
      "application/vnd.jupyter.widget-view+json": {
       "model_id": "1d3d4261e28f4a2ba4fb5128e5277019",
       "version_major": 2,
       "version_minor": 0
      },
      "text/plain": [
       "  0%|          | 0/2 [00:00<?, ?it/s]"
      ]
     },
     "metadata": {},
     "output_type": "display_data"
    },
    {
     "name": "stdout",
     "output_type": "stream",
     "text": [
      "--------------LENGTHS-------------\n",
      "torch.Size([2924, 1, 128])\n",
      "2912\n",
      "(2912, 1, 32, 64)\n",
      "(2912, 1, 32, 64)\n",
      "----------------------------------\n",
      "Creating test dataset\n"
     ]
    },
    {
     "data": {
      "application/vnd.jupyter.widget-view+json": {
       "model_id": "a227d388190f4126be4cb75730a77a51",
       "version_major": 2,
       "version_minor": 0
      },
      "text/plain": [
       "  0%|          | 0/2 [00:00<?, ?it/s]"
      ]
     },
     "metadata": {},
     "output_type": "display_data"
    },
    {
     "name": "stdout",
     "output_type": "stream",
     "text": [
      "--------------LENGTHS-------------\n",
      "torch.Size([2920, 1, 128])\n",
      "2908\n",
      "(2908, 1, 32, 64)\n",
      "(2908, 1, 32, 64)\n",
      "----------------------------------\n"
     ]
    },
    {
     "data": {
      "image/png": "[encoded data removed]",
      "text/plain": [
       "<Figure size 2000x200 with 8 Axes>"
      ]
     },
     "metadata": {},
     "output_type": "display_data"
    },
    {
     "data": {
      "application/vnd.jupyter.widget-view+json": {
       "model_id": "dc6e918f62c74d40af4b316e83fa96be",
       "version_major": 2,
       "version_minor": 0
      },
      "text/plain": [
       "Output()"
      ]
     },
     "metadata": {},
     "output_type": "display_data"
    },
    {
     "data": {
      "text/html": [
       "<pre style=\"white-space:pre;overflow-x:auto;line-height:normal;font-family:Menlo,'DejaVu Sans Mono',consolas,'Courier New',monospace\">┏━━━━━━━━━━━━━━━━━━━━━━━━━━━━━━━━━━━━━━━━━━━━━━━━━━━━━━━━┳━━━━━━━━━━━━━━━━━━━━━━━━━━━━━━━━━━━━━━━━━━━━━━━━━━━━━━━━┓\n",
       "┃<span style=\"font-weight: bold\">                      Test metric                       </span>┃<span style=\"font-weight: bold\">                      DataLoader 0                      </span>┃\n",
       "┡━━━━━━━━━━━━━━━━━━━━━━━━━━━━━━━━━━━━━━━━━━━━━━━━━━━━━━━━╇━━━━━━━━━━━━━━━━━━━━━━━━━━━━━━━━━━━━━━━━━━━━━━━━━━━━━━━━┩\n",
       "│<span style=\"color: #008080; text-decoration-color: #008080\">           test/acc_total_precipitation_day_3           </span>│<span style=\"color: #800080; text-decoration-color: #800080\">                 0.00010831331280201365                 </span>│\n",
       "│<span style=\"color: #008080; text-decoration-color: #008080\">         test/w_rmse_total_precipitation_day_3          </span>│<span style=\"color: #800080; text-decoration-color: #800080\">                 0.00046065585272543575                 </span>│\n",
       "│<span style=\"color: #008080; text-decoration-color: #008080\"> test_climatology_baseline/w_rmse_total_precipitation_… </span>│<span style=\"color: #800080; text-decoration-color: #800080\">                 0.0004256685293205191                  </span>│\n",
       "└────────────────────────────────────────────────────────┴────────────────────────────────────────────────────────┘\n",
       "</pre>\n"
      ],
      "text/plain": [
       "┏━━━━━━━━━━━━━━━━━━━━━━━━━━━━━━━━━━━━━━━━━━━━━━━━━━━━━━━━┳━━━━━━━━━━━━━━━━━━━━━━━━━━━━━━━━━━━━━━━━━━━━━━━━━━━━━━━━┓\n",
       "┃\u001b[1m \u001b[0m\u001b[1m                     Test metric                      \u001b[0m\u001b[1m \u001b[0m┃\u001b[1m \u001b[0m\u001b[1m                     DataLoader 0                     \u001b[0m\u001b[1m \u001b[0m┃\n",
       "┡━━━━━━━━━━━━━━━━━━━━━━━━━━━━━━━━━━━━━━━━━━━━━━━━━━━━━━━━╇━━━━━━━━━━━━━━━━━━━━━━━━━━━━━━━━━━━━━━━━━━━━━━━━━━━━━━━━┩\n",
       "│\u001b[36m \u001b[0m\u001b[36m          test/acc_total_precipitation_day_3          \u001b[0m\u001b[36m \u001b[0m│\u001b[35m \u001b[0m\u001b[35m                0.00010831331280201365                \u001b[0m\u001b[35m \u001b[0m│\n",
       "│\u001b[36m \u001b[0m\u001b[36m        test/w_rmse_total_precipitation_day_3         \u001b[0m\u001b[36m \u001b[0m│\u001b[35m \u001b[0m\u001b[35m                0.00046065585272543575                \u001b[0m\u001b[35m \u001b[0m│\n",
       "│\u001b[36m \u001b[0m\u001b[36mtest_climatology_baseline/w_rmse_total_precipitation_…\u001b[0m\u001b[36m \u001b[0m│\u001b[35m \u001b[0m\u001b[35m                0.0004256685293205191                 \u001b[0m\u001b[35m \u001b[0m│\n",
       "└────────────────────────────────────────────────────────┴────────────────────────────────────────────────────────┘\n"
      ]
     },
     "metadata": {},
     "output_type": "display_data"
    },
    {
     "data": {
      "text/html": [
       "<pre style=\"white-space:pre;overflow-x:auto;line-height:normal;font-family:Menlo,'DejaVu Sans Mono',consolas,'Courier New',monospace\"></pre>\n"
      ],
      "text/plain": []
     },
     "metadata": {},
     "output_type": "display_data"
    },
    {
     "data": {
      "text/html": [
       "<pre style=\"white-space:pre;overflow-x:auto;line-height:normal;font-family:Menlo,'DejaVu Sans Mono',consolas,'Courier New',monospace\">\n",
       "</pre>\n"
      ],
      "text/plain": [
       "\n"
      ]
     },
     "metadata": {},
     "output_type": "display_data"
    }
   ],
   "source": [
    "from climate_learn.utils.visualize import visualize\n",
    "\n",
    "forecast_model_module.load_state_dict(torch.load(f\"{base_dir}/saved_models/16Forecast\"))\n",
    "\n",
    "forecast_data_module = MyDataModule(\n",
    "    dataset = \"ERA5\",\n",
    "    task = \"forecasting\",\n",
    "    lower_dir = \"compressed_tp_16\",\n",
    "    root_dir = f\"{base_dir}/data/weatherbench/era5/5.625\",\n",
    "    in_vars = [\"total_precipitation\"],\n",
    "    out_vars = [\"total_precipitation\"],\n",
    "    train_start_year = Year(1979),\n",
    "    val_start_year = Year(2015),\n",
    "    test_start_year = Year(2017),\n",
    "    end_year = Year(2018),\n",
    "    pred_range = Days(3),\n",
    "    subsample = Hours(6),\n",
    "    batch_size = 256,\n",
    "    num_workers = 12,\n",
    "    padding = (28,28,8,8),\n",
    ")\n",
    "\n",
    "visualize(forecast_model_module, forecast_data_module)\n",
    "trainer.test(forecast_model_module, forecast_data_module)"
   ]
  },
  {
   "cell_type": "code",
   "execution_count": 71,
   "metadata": {},
   "outputs": [],
   "source": [
    "# import shutil\n",
    "\n",
    "# #os.listdir('../data/weatherbench/era5/5.625/compressed_tp_nc')[0].split('_')\n",
    "# base_data_dir = '../data/weatherbench/era5/5.625/compressed_tp_nc_96'\n",
    "# for file in os.listdir(base_data_dir):\n",
    "#     year = file.split('_')[1]\n",
    "#     shutil.move(os.path.join(base_data_dir, file), os.path.join(base_data_dir, f\"total_precipitation_{year}_5.625deg.nc\"))"
   ]
  },
  {
   "cell_type": "code",
   "execution_count": 79,
   "metadata": {},
   "outputs": [
    {
     "name": "stdout",
     "output_type": "stream",
     "text": [
      "Creating train dataset\n"
     ]
    },
    {
     "data": {
      "application/vnd.jupyter.widget-view+json": {
       "model_id": "6b205263ae264798b5235a10ab6a71da",
       "version_major": 2,
       "version_minor": 0
      },
      "text/plain": [
       "  0%|          | 0/37 [00:00<?, ?it/s]"
      ]
     },
     "metadata": {},
     "output_type": "display_data"
    },
    {
     "ename": "KeyError",
     "evalue": "'tp'",
     "output_type": "error",
     "traceback": [
      "\u001b[0;31m---------------------------------------------------------------------------\u001b[0m",
      "\u001b[0;31mKeyError\u001b[0m                                  Traceback (most recent call last)",
      "File \u001b[0;32m~/Documents/Climate/climate_env/lib/python3.8/site-packages/xarray/core/dataset.py:1336\u001b[0m, in \u001b[0;36mDataset._construct_dataarray\u001b[0;34m(self, name)\u001b[0m\n\u001b[1;32m   1335\u001b[0m \u001b[39mtry\u001b[39;00m:\n\u001b[0;32m-> 1336\u001b[0m     variable \u001b[39m=\u001b[39m \u001b[39mself\u001b[39;49m\u001b[39m.\u001b[39;49m_variables[name]\n\u001b[1;32m   1337\u001b[0m \u001b[39mexcept\u001b[39;00m \u001b[39mKeyError\u001b[39;00m:\n",
      "\u001b[0;31mKeyError\u001b[0m: 'tp'",
      "\nDuring handling of the above exception, another exception occurred:\n",
      "\u001b[0;31mKeyError\u001b[0m                                  Traceback (most recent call last)",
      "Cell \u001b[0;32mIn [79], line 3\u001b[0m\n\u001b[1;32m      1\u001b[0m \u001b[39mfrom\u001b[39;00m \u001b[39mclimate_learn\u001b[39;00m\u001b[39m.\u001b[39;00m\u001b[39mdata\u001b[39;00m\u001b[39m.\u001b[39;00m\u001b[39mmodules\u001b[39;00m\u001b[39m.\u001b[39;00m\u001b[39mera5_module\u001b[39;00m \u001b[39mimport\u001b[39;00m ERA5CompressedForecasting\n\u001b[0;32m----> 3\u001b[0m ERA5CompressedForecasting(\n\u001b[1;32m      4\u001b[0m     root_dir \u001b[39m=\u001b[39;49m \u001b[39mf\u001b[39;49m\u001b[39m\"\u001b[39;49m\u001b[39m{\u001b[39;49;00mbase_dir\u001b[39m}\u001b[39;49;00m\u001b[39m/data/weatherbench/era5/5.625_compressed16\u001b[39;49m\u001b[39m\"\u001b[39;49m,\n\u001b[1;32m      5\u001b[0m     root_highres_dir\u001b[39m=\u001b[39;49m\u001b[39mNone\u001b[39;49;00m,\n\u001b[1;32m      6\u001b[0m     in_vars \u001b[39m=\u001b[39;49m [\u001b[39m\"\u001b[39;49m\u001b[39mtotal_precipitation\u001b[39;49m\u001b[39m\"\u001b[39;49m],\n\u001b[1;32m      7\u001b[0m     out_vars \u001b[39m=\u001b[39;49m [\u001b[39m\"\u001b[39;49m\u001b[39mtotal_precipitation\u001b[39;49m\u001b[39m\"\u001b[39;49m],\n\u001b[1;32m      8\u001b[0m     history\u001b[39m=\u001b[39;49m\u001b[39m1\u001b[39;49m,\n\u001b[1;32m      9\u001b[0m     window\u001b[39m=\u001b[39;49m\u001b[39m6\u001b[39;49m,\n\u001b[1;32m     10\u001b[0m     pred_range\u001b[39m=\u001b[39;49mDays(\u001b[39m3\u001b[39;49m),\n\u001b[1;32m     11\u001b[0m     years\u001b[39m=\u001b[39;49m\u001b[39mrange\u001b[39;49m(\u001b[39m1979\u001b[39;49m,\u001b[39m2016\u001b[39;49m)\n\u001b[1;32m     12\u001b[0m )\n",
      "File \u001b[0;32m~/Documents/Climate/climate_learn/climate_learn/data/modules/era5_module.py:89\u001b[0m, in \u001b[0;36mERA5CompressedForecasting.__init__\u001b[0;34m(self, root_dir, root_highres_dir, in_vars, out_vars, history, window, pred_range, years, subsample, split)\u001b[0m\n\u001b[1;32m     87\u001b[0m \u001b[39mdef\u001b[39;00m \u001b[39m__init__\u001b[39m(\u001b[39mself\u001b[39m, root_dir, root_highres_dir, in_vars, out_vars, history, window, pred_range, years, subsample\u001b[39m=\u001b[39m\u001b[39m1\u001b[39m, split\u001b[39m=\u001b[39m\u001b[39m'\u001b[39m\u001b[39mtrain\u001b[39m\u001b[39m'\u001b[39m):\n\u001b[1;32m     88\u001b[0m     \u001b[39mprint\u001b[39m (\u001b[39mf\u001b[39m\u001b[39m'\u001b[39m\u001b[39mCreating \u001b[39m\u001b[39m{\u001b[39;00msplit\u001b[39m}\u001b[39;00m\u001b[39m dataset\u001b[39m\u001b[39m'\u001b[39m)\n\u001b[0;32m---> 89\u001b[0m     \u001b[39msuper\u001b[39;49m()\u001b[39m.\u001b[39;49m\u001b[39m__init__\u001b[39;49m(root_dir, root_highres_dir, in_vars, years, split)\n\u001b[1;32m     91\u001b[0m     \u001b[39mself\u001b[39m\u001b[39m.\u001b[39min_vars \u001b[39m=\u001b[39m \u001b[39mlist\u001b[39m(\u001b[39mself\u001b[39m\u001b[39m.\u001b[39mdata_dict\u001b[39m.\u001b[39mkeys())\n\u001b[1;32m     92\u001b[0m     \u001b[39mself\u001b[39m\u001b[39m.\u001b[39mout_vars \u001b[39m=\u001b[39m out_vars\n",
      "File \u001b[0;32m~/Documents/Climate/climate_learn/climate_learn/data/modules/era5_module.py:22\u001b[0m, in \u001b[0;36mERA5.__init__\u001b[0;34m(self, root_dir, root_highres_dir, variables, years, split)\u001b[0m\n\u001b[1;32m     19\u001b[0m \u001b[39mself\u001b[39m\u001b[39m.\u001b[39myears \u001b[39m=\u001b[39m years\n\u001b[1;32m     20\u001b[0m \u001b[39mself\u001b[39m\u001b[39m.\u001b[39msplit \u001b[39m=\u001b[39m split\n\u001b[0;32m---> 22\u001b[0m \u001b[39mself\u001b[39m\u001b[39m.\u001b[39mdata_dict \u001b[39m=\u001b[39m \u001b[39mself\u001b[39;49m\u001b[39m.\u001b[39;49mload_from_nc(\u001b[39mself\u001b[39;49m\u001b[39m.\u001b[39;49mroot_dir)\n\u001b[1;32m     23\u001b[0m \u001b[39mif\u001b[39;00m \u001b[39mself\u001b[39m\u001b[39m.\u001b[39mroot_highres_dir \u001b[39mis\u001b[39;00m \u001b[39mnot\u001b[39;00m \u001b[39mNone\u001b[39;00m:\n\u001b[1;32m     24\u001b[0m     \u001b[39mself\u001b[39m\u001b[39m.\u001b[39mdata_highres_dict \u001b[39m=\u001b[39m \u001b[39mself\u001b[39m\u001b[39m.\u001b[39mload_from_nc(\u001b[39mself\u001b[39m\u001b[39m.\u001b[39mroot_highres_dir)\n",
      "File \u001b[0;32m~/Documents/Climate/climate_learn/climate_learn/data/modules/era5_module.py:53\u001b[0m, in \u001b[0;36mERA5.load_from_nc\u001b[0;34m(self, data_dir)\u001b[0m\n\u001b[1;32m     51\u001b[0m ps \u001b[39m=\u001b[39m glob\u001b[39m.\u001b[39mglob(os\u001b[39m.\u001b[39mpath\u001b[39m.\u001b[39mjoin(dir_var, \u001b[39mf\u001b[39m\u001b[39m'\u001b[39m\u001b[39m*\u001b[39m\u001b[39m{\u001b[39;00myear\u001b[39m}\u001b[39;00m\u001b[39m*.nc\u001b[39m\u001b[39m'\u001b[39m))\n\u001b[1;32m     52\u001b[0m xr_data \u001b[39m=\u001b[39m xr\u001b[39m.\u001b[39mopen_mfdataset(ps, combine\u001b[39m=\u001b[39m\u001b[39m'\u001b[39m\u001b[39mby_coords\u001b[39m\u001b[39m'\u001b[39m)\n\u001b[0;32m---> 53\u001b[0m xr_data \u001b[39m=\u001b[39m xr_data[NAME_TO_VAR[var]]\n\u001b[1;32m     54\u001b[0m \u001b[39m# np_data = xr_data.to_numpy()\u001b[39;00m\n\u001b[1;32m     55\u001b[0m \u001b[39mif\u001b[39;00m \u001b[39mlen\u001b[39m(xr_data\u001b[39m.\u001b[39mshape) \u001b[39m==\u001b[39m \u001b[39m3\u001b[39m: \u001b[39m# 8760, 32, 64\u001b[39;00m\n",
      "File \u001b[0;32m~/Documents/Climate/climate_env/lib/python3.8/site-packages/xarray/core/dataset.py:1427\u001b[0m, in \u001b[0;36mDataset.__getitem__\u001b[0;34m(self, key)\u001b[0m\n\u001b[1;32m   1425\u001b[0m     \u001b[39mreturn\u001b[39;00m \u001b[39mself\u001b[39m\u001b[39m.\u001b[39misel(\u001b[39m*\u001b[39m\u001b[39m*\u001b[39mkey)\n\u001b[1;32m   1426\u001b[0m \u001b[39mif\u001b[39;00m utils\u001b[39m.\u001b[39mhashable(key):\n\u001b[0;32m-> 1427\u001b[0m     \u001b[39mreturn\u001b[39;00m \u001b[39mself\u001b[39;49m\u001b[39m.\u001b[39;49m_construct_dataarray(key)\n\u001b[1;32m   1428\u001b[0m \u001b[39mif\u001b[39;00m utils\u001b[39m.\u001b[39miterable_of_hashable(key):\n\u001b[1;32m   1429\u001b[0m     \u001b[39mreturn\u001b[39;00m \u001b[39mself\u001b[39m\u001b[39m.\u001b[39m_copy_listed(key)\n",
      "File \u001b[0;32m~/Documents/Climate/climate_env/lib/python3.8/site-packages/xarray/core/dataset.py:1338\u001b[0m, in \u001b[0;36mDataset._construct_dataarray\u001b[0;34m(self, name)\u001b[0m\n\u001b[1;32m   1336\u001b[0m     variable \u001b[39m=\u001b[39m \u001b[39mself\u001b[39m\u001b[39m.\u001b[39m_variables[name]\n\u001b[1;32m   1337\u001b[0m \u001b[39mexcept\u001b[39;00m \u001b[39mKeyError\u001b[39;00m:\n\u001b[0;32m-> 1338\u001b[0m     _, name, variable \u001b[39m=\u001b[39m _get_virtual_variable(\u001b[39mself\u001b[39;49m\u001b[39m.\u001b[39;49m_variables, name, \u001b[39mself\u001b[39;49m\u001b[39m.\u001b[39;49mdims)\n\u001b[1;32m   1340\u001b[0m needed_dims \u001b[39m=\u001b[39m \u001b[39mset\u001b[39m(variable\u001b[39m.\u001b[39mdims)\n\u001b[1;32m   1342\u001b[0m coords: \u001b[39mdict\u001b[39m[Hashable, Variable] \u001b[39m=\u001b[39m {}\n",
      "File \u001b[0;32m~/Documents/Climate/climate_env/lib/python3.8/site-packages/xarray/core/dataset.py:177\u001b[0m, in \u001b[0;36m_get_virtual_variable\u001b[0;34m(variables, key, dim_sizes)\u001b[0m\n\u001b[1;32m    175\u001b[0m split_key \u001b[39m=\u001b[39m key\u001b[39m.\u001b[39msplit(\u001b[39m\"\u001b[39m\u001b[39m.\u001b[39m\u001b[39m\"\u001b[39m, \u001b[39m1\u001b[39m)\n\u001b[1;32m    176\u001b[0m \u001b[39mif\u001b[39;00m \u001b[39mlen\u001b[39m(split_key) \u001b[39m!=\u001b[39m \u001b[39m2\u001b[39m:\n\u001b[0;32m--> 177\u001b[0m     \u001b[39mraise\u001b[39;00m \u001b[39mKeyError\u001b[39;00m(key)\n\u001b[1;32m    179\u001b[0m ref_name, var_name \u001b[39m=\u001b[39m split_key\n\u001b[1;32m    180\u001b[0m ref_var \u001b[39m=\u001b[39m variables[ref_name]\n",
      "\u001b[0;31mKeyError\u001b[0m: 'tp'"
     ]
    }
   ],
   "source": [
    "from climate_learn.data.modules.era5_module import ERA5CompressedForecasting\n",
    "\n",
    "ERA5CompressedForecasting(\n",
    "    root_dir = f\"{base_dir}/data/weatherbench/era5/5.625_compressed16\",\n",
    "    root_highres_dir=None,\n",
    "    in_vars = [\"total_precipitation\"],\n",
    "    out_vars = [\"total_precipitation\"],\n",
    "    history=1,\n",
    "    window=6,\n",
    "    pred_range=Days(3),\n",
    "    years=range(1979,2016)\n",
    ")\n"
   ]
  },
  {
   "cell_type": "code",
   "execution_count": null,
   "metadata": {},
   "outputs": [],
   "source": []
  },
  {
   "cell_type": "code",
   "execution_count": null,
   "metadata": {},
   "outputs": [],
   "source": [
    "from climate_learn.models import load_model\n",
    "from climate_learn.models import set_climatology\n",
    "\n",
    "model_kwargs = {\n",
    "    \"in_channels\": len(forecast_data_module.hparams.in_vars),\n",
    "    \"out_channels\": len(forecast_data_module.hparams.out_vars),\n",
    "    \"n_blocks\": 4\n",
    "}\n",
    "\n",
    "optim_kwargs = {\n",
    "    \"lr\": 1e-4,\n",
    "    \"weight_decay\": 1e-5,\n",
    "    \"warmup_epochs\": 1,\n",
    "    \"max_epochs\": 5,\n",
    "}\n",
    "\n",
    "forecast_model_module = load_model(name = \"resnet\", task = \"forecasting\", model_kwargs = model_kwargs, optim_kwargs = optim_kwargs)\n",
    "\n",
    "set_climatology(forecast_model_module, forecast_data_module)"
   ]
  },
  {
   "cell_type": "code",
   "execution_count": null,
   "metadata": {},
   "outputs": [],
   "source": [
    "from climate_learn.training import Trainer, WandbLogger\n",
    "\n",
    "trainer = Trainer(\n",
    "    seed = 0,\n",
    "    accelerator = \"gpu\",\n",
    "    precision = 16,\n",
    "    max_epochs = 5,\n",
    "    # logger = WandbLogger(project = \"climate_tutorial\", name = \"forecast-vit\")\n",
    ")"
   ]
  },
  {
   "cell_type": "code",
   "execution_count": null,
   "metadata": {},
   "outputs": [],
   "source": []
  },
  {
   "cell_type": "markdown",
   "metadata": {},
   "source": [
    "## Running on temperature data "
   ]
  },
  {
   "cell_type": "code",
   "execution_count": 22,
   "metadata": {},
   "outputs": [
    {
     "name": "stdout",
     "output_type": "stream",
     "text": [
      "Creating train dataset\n"
     ]
    },
    {
     "data": {
      "application/vnd.jupyter.widget-view+json": {
       "model_id": "ef68b7e01c4e421b92fe26cc781306e4",
       "version_major": 2,
       "version_minor": 0
      },
      "text/plain": [
       "  0%|          | 0/36 [00:00<?, ?it/s]"
      ]
     },
     "metadata": {},
     "output_type": "display_data"
    },
    {
     "data": {
      "application/vnd.jupyter.widget-view+json": {
       "model_id": "8453102899f24fa998dbecb5f1b3d8f1",
       "version_major": 2,
       "version_minor": 0
      },
      "text/plain": [
       "  0%|          | 0/36 [00:00<?, ?it/s]"
      ]
     },
     "metadata": {},
     "output_type": "display_data"
    },
    {
     "name": "stdout",
     "output_type": "stream",
     "text": [
      "Creating val dataset\n"
     ]
    },
    {
     "data": {
      "application/vnd.jupyter.widget-view+json": {
       "model_id": "4773e158c3c54f7a91ac2ff9b35e00f2",
       "version_major": 2,
       "version_minor": 0
      },
      "text/plain": [
       "  0%|          | 0/2 [00:00<?, ?it/s]"
      ]
     },
     "metadata": {},
     "output_type": "display_data"
    },
    {
     "data": {
      "application/vnd.jupyter.widget-view+json": {
       "model_id": "a56e55ebc138477b93b61cc930d89374",
       "version_major": 2,
       "version_minor": 0
      },
      "text/plain": [
       "  0%|          | 0/2 [00:00<?, ?it/s]"
      ]
     },
     "metadata": {},
     "output_type": "display_data"
    },
    {
     "name": "stdout",
     "output_type": "stream",
     "text": [
      "Creating test dataset\n"
     ]
    },
    {
     "data": {
      "application/vnd.jupyter.widget-view+json": {
       "model_id": "8451831ede9a42b1a893498f35465b5c",
       "version_major": 2,
       "version_minor": 0
      },
      "text/plain": [
       "  0%|          | 0/2 [00:00<?, ?it/s]"
      ]
     },
     "metadata": {},
     "output_type": "display_data"
    },
    {
     "data": {
      "application/vnd.jupyter.widget-view+json": {
       "model_id": "565a72c38717480bacff0de59541e40d",
       "version_major": 2,
       "version_minor": 0
      },
      "text/plain": [
       "  0%|          | 0/2 [00:00<?, ?it/s]"
      ]
     },
     "metadata": {},
     "output_type": "display_data"
    }
   ],
   "source": [
    "from climate_learn.utils.datetime import Year, Days, Hours\n",
    "from climate_learn.data import DataModule\n",
    "\n",
    "data_module = DataModule(\n",
    "    dataset = \"ERA5\",\n",
    "    task = \"downscaling\",\n",
    "    root_dir = f\"{base_dir}/data/weatherbench/era5/5.625\",\n",
    "    root_highres_dir = f\"{base_dir}/data/weatherbench/era5/5.625\",\n",
    "    in_vars = [\"2m_temperature\"],\n",
    "    out_vars = [\"2m_temperature\"],\n",
    "    train_start_year = Year(1979),\n",
    "    val_start_year = Year(2015),\n",
    "    test_start_year = Year(2017),\n",
    "    end_year = Year(2018),\n",
    "    subsample = Hours(6),\n",
    "    batch_size = 256,\n",
    "    num_workers = 12\n",
    ")"
   ]
  },
  {
   "cell_type": "code",
   "execution_count": 23,
   "metadata": {},
   "outputs": [],
   "source": [
    "from climate_learn.models import load_model, set_climatology\n",
    "\n",
    "model_kwargs = {\n",
    "    \"M\": 192,\n",
    "    \"N\": 128\n",
    "}\n",
    "\n",
    "optim_kwargs = {\n",
    "    \"optimizer\": \"adamw\",\n",
    "    \"lr\": 1e-4,\n",
    "    \"weight_decay\": 1e-5,\n",
    "    \"warmup_epochs\": 1,\n",
    "    \"max_epochs\": 5,\n",
    "}\n",
    "\n",
    "model_module = load_model(name = \"factorized_prior\", task = \"compression\", model_kwargs = model_kwargs, optim_kwargs = optim_kwargs)\n",
    "set_climatology(model_module, data_module)\n"
   ]
  },
  {
   "cell_type": "code",
   "execution_count": 24,
   "metadata": {},
   "outputs": [
    {
     "name": "stderr",
     "output_type": "stream",
     "text": [
      "Global seed set to 1337\n"
     ]
    },
    {
     "data": {
      "text/html": [
       "<pre style=\"white-space:pre;overflow-x:auto;line-height:normal;font-family:Menlo,'DejaVu Sans Mono',consolas,'Courier New',monospace\">┏━━━━┳━━━━━━━━━━━━━━━━━━━━━━━━━━━━━━━━━━━━━━━━━━━━━━━┳━━━━━━━━━━━━━━━━━━━━━━━━━┳━━━━━━━━┓\n",
       "┃<span style=\"color: #800080; text-decoration-color: #800080; font-weight: bold\">    </span>┃<span style=\"color: #800080; text-decoration-color: #800080; font-weight: bold\"> Name                                          </span>┃<span style=\"color: #800080; text-decoration-color: #800080; font-weight: bold\"> Type                    </span>┃<span style=\"color: #800080; text-decoration-color: #800080; font-weight: bold\"> Params </span>┃\n",
       "┡━━━━╇━━━━━━━━━━━━━━━━━━━━━━━━━━━━━━━━━━━━━━━━━━━━━━━╇━━━━━━━━━━━━━━━━━━━━━━━━━╇━━━━━━━━┩\n",
       "│<span style=\"color: #7f7f7f; text-decoration-color: #7f7f7f\"> 0  </span>│ rd_loss                                       │ RateDistortionLoss      │      0 │\n",
       "│<span style=\"color: #7f7f7f; text-decoration-color: #7f7f7f\"> 1  </span>│ rd_loss.mse                                   │ MSELoss                 │      0 │\n",
       "│<span style=\"color: #7f7f7f; text-decoration-color: #7f7f7f\"> 2  </span>│ net                                           │ FactorizedPrior         │  3.0 M │\n",
       "│<span style=\"color: #7f7f7f; text-decoration-color: #7f7f7f\"> 3  </span>│ net.entropy_bottleneck                        │ EntropyBottleneck       │ 11.7 K │\n",
       "│<span style=\"color: #7f7f7f; text-decoration-color: #7f7f7f\"> 4  </span>│ net.entropy_bottleneck.likelihood_lower_bound │ LowerBound              │      0 │\n",
       "│<span style=\"color: #7f7f7f; text-decoration-color: #7f7f7f\"> 5  </span>│ net.g_a                                       │ Sequential              │  1.5 M │\n",
       "│<span style=\"color: #7f7f7f; text-decoration-color: #7f7f7f\"> 6  </span>│ net.g_a.0                                     │ Conv2d                  │  3.3 K │\n",
       "│<span style=\"color: #7f7f7f; text-decoration-color: #7f7f7f\"> 7  </span>│ net.g_a.1                                     │ GDN                     │ 16.5 K │\n",
       "│<span style=\"color: #7f7f7f; text-decoration-color: #7f7f7f\"> 8  </span>│ net.g_a.1.beta_reparam                        │ NonNegativeParametrizer │      0 │\n",
       "│<span style=\"color: #7f7f7f; text-decoration-color: #7f7f7f\"> 9  </span>│ net.g_a.1.beta_reparam.lower_bound            │ LowerBound              │      0 │\n",
       "│<span style=\"color: #7f7f7f; text-decoration-color: #7f7f7f\"> 10 </span>│ net.g_a.1.gamma_reparam                       │ NonNegativeParametrizer │      0 │\n",
       "│<span style=\"color: #7f7f7f; text-decoration-color: #7f7f7f\"> 11 </span>│ net.g_a.1.gamma_reparam.lower_bound           │ LowerBound              │      0 │\n",
       "│<span style=\"color: #7f7f7f; text-decoration-color: #7f7f7f\"> 12 </span>│ net.g_a.2                                     │ Conv2d                  │  409 K │\n",
       "│<span style=\"color: #7f7f7f; text-decoration-color: #7f7f7f\"> 13 </span>│ net.g_a.3                                     │ GDN                     │ 16.5 K │\n",
       "│<span style=\"color: #7f7f7f; text-decoration-color: #7f7f7f\"> 14 </span>│ net.g_a.3.beta_reparam                        │ NonNegativeParametrizer │      0 │\n",
       "│<span style=\"color: #7f7f7f; text-decoration-color: #7f7f7f\"> 15 </span>│ net.g_a.3.beta_reparam.lower_bound            │ LowerBound              │      0 │\n",
       "│<span style=\"color: #7f7f7f; text-decoration-color: #7f7f7f\"> 16 </span>│ net.g_a.3.gamma_reparam                       │ NonNegativeParametrizer │      0 │\n",
       "│<span style=\"color: #7f7f7f; text-decoration-color: #7f7f7f\"> 17 </span>│ net.g_a.3.gamma_reparam.lower_bound           │ LowerBound              │      0 │\n",
       "│<span style=\"color: #7f7f7f; text-decoration-color: #7f7f7f\"> 18 </span>│ net.g_a.4                                     │ Conv2d                  │  409 K │\n",
       "│<span style=\"color: #7f7f7f; text-decoration-color: #7f7f7f\"> 19 </span>│ net.g_a.5                                     │ GDN                     │ 16.5 K │\n",
       "│<span style=\"color: #7f7f7f; text-decoration-color: #7f7f7f\"> 20 </span>│ net.g_a.5.beta_reparam                        │ NonNegativeParametrizer │      0 │\n",
       "│<span style=\"color: #7f7f7f; text-decoration-color: #7f7f7f\"> 21 </span>│ net.g_a.5.beta_reparam.lower_bound            │ LowerBound              │      0 │\n",
       "│<span style=\"color: #7f7f7f; text-decoration-color: #7f7f7f\"> 22 </span>│ net.g_a.5.gamma_reparam                       │ NonNegativeParametrizer │      0 │\n",
       "│<span style=\"color: #7f7f7f; text-decoration-color: #7f7f7f\"> 23 </span>│ net.g_a.5.gamma_reparam.lower_bound           │ LowerBound              │      0 │\n",
       "│<span style=\"color: #7f7f7f; text-decoration-color: #7f7f7f\"> 24 </span>│ net.g_a.6                                     │ Conv2d                  │  614 K │\n",
       "│<span style=\"color: #7f7f7f; text-decoration-color: #7f7f7f\"> 25 </span>│ net.g_s                                       │ Sequential              │  1.5 M │\n",
       "│<span style=\"color: #7f7f7f; text-decoration-color: #7f7f7f\"> 26 </span>│ net.g_s.0                                     │ ConvTranspose2d         │  614 K │\n",
       "│<span style=\"color: #7f7f7f; text-decoration-color: #7f7f7f\"> 27 </span>│ net.g_s.1                                     │ GDN                     │ 16.5 K │\n",
       "│<span style=\"color: #7f7f7f; text-decoration-color: #7f7f7f\"> 28 </span>│ net.g_s.1.beta_reparam                        │ NonNegativeParametrizer │      0 │\n",
       "│<span style=\"color: #7f7f7f; text-decoration-color: #7f7f7f\"> 29 </span>│ net.g_s.1.beta_reparam.lower_bound            │ LowerBound              │      0 │\n",
       "│<span style=\"color: #7f7f7f; text-decoration-color: #7f7f7f\"> 30 </span>│ net.g_s.1.gamma_reparam                       │ NonNegativeParametrizer │      0 │\n",
       "│<span style=\"color: #7f7f7f; text-decoration-color: #7f7f7f\"> 31 </span>│ net.g_s.1.gamma_reparam.lower_bound           │ LowerBound              │      0 │\n",
       "│<span style=\"color: #7f7f7f; text-decoration-color: #7f7f7f\"> 32 </span>│ net.g_s.2                                     │ ConvTranspose2d         │  409 K │\n",
       "│<span style=\"color: #7f7f7f; text-decoration-color: #7f7f7f\"> 33 </span>│ net.g_s.3                                     │ GDN                     │ 16.5 K │\n",
       "│<span style=\"color: #7f7f7f; text-decoration-color: #7f7f7f\"> 34 </span>│ net.g_s.3.beta_reparam                        │ NonNegativeParametrizer │      0 │\n",
       "│<span style=\"color: #7f7f7f; text-decoration-color: #7f7f7f\"> 35 </span>│ net.g_s.3.beta_reparam.lower_bound            │ LowerBound              │      0 │\n",
       "│<span style=\"color: #7f7f7f; text-decoration-color: #7f7f7f\"> 36 </span>│ net.g_s.3.gamma_reparam                       │ NonNegativeParametrizer │      0 │\n",
       "│<span style=\"color: #7f7f7f; text-decoration-color: #7f7f7f\"> 37 </span>│ net.g_s.3.gamma_reparam.lower_bound           │ LowerBound              │      0 │\n",
       "│<span style=\"color: #7f7f7f; text-decoration-color: #7f7f7f\"> 38 </span>│ net.g_s.4                                     │ ConvTranspose2d         │  409 K │\n",
       "│<span style=\"color: #7f7f7f; text-decoration-color: #7f7f7f\"> 39 </span>│ net.g_s.5                                     │ GDN                     │ 16.5 K │\n",
       "│<span style=\"color: #7f7f7f; text-decoration-color: #7f7f7f\"> 40 </span>│ net.g_s.5.beta_reparam                        │ NonNegativeParametrizer │      0 │\n",
       "│<span style=\"color: #7f7f7f; text-decoration-color: #7f7f7f\"> 41 </span>│ net.g_s.5.beta_reparam.lower_bound            │ LowerBound              │      0 │\n",
       "│<span style=\"color: #7f7f7f; text-decoration-color: #7f7f7f\"> 42 </span>│ net.g_s.5.gamma_reparam                       │ NonNegativeParametrizer │      0 │\n",
       "│<span style=\"color: #7f7f7f; text-decoration-color: #7f7f7f\"> 43 </span>│ net.g_s.5.gamma_reparam.lower_bound           │ LowerBound              │      0 │\n",
       "│<span style=\"color: #7f7f7f; text-decoration-color: #7f7f7f\"> 44 </span>│ net.g_s.6                                     │ ConvTranspose2d         │  3.2 K │\n",
       "│<span style=\"color: #7f7f7f; text-decoration-color: #7f7f7f\"> 45 </span>│ denormalization                               │ Normalize               │      0 │\n",
       "└────┴───────────────────────────────────────────────┴─────────────────────────┴────────┘\n",
       "</pre>\n"
      ],
      "text/plain": [
       "┏━━━━┳━━━━━━━━━━━━━━━━━━━━━━━━━━━━━━━━━━━━━━━━━━━━━━━┳━━━━━━━━━━━━━━━━━━━━━━━━━┳━━━━━━━━┓\n",
       "┃\u001b[1;35m \u001b[0m\u001b[1;35m  \u001b[0m\u001b[1;35m \u001b[0m┃\u001b[1;35m \u001b[0m\u001b[1;35mName                                         \u001b[0m\u001b[1;35m \u001b[0m┃\u001b[1;35m \u001b[0m\u001b[1;35mType                   \u001b[0m\u001b[1;35m \u001b[0m┃\u001b[1;35m \u001b[0m\u001b[1;35mParams\u001b[0m\u001b[1;35m \u001b[0m┃\n",
       "┡━━━━╇━━━━━━━━━━━━━━━━━━━━━━━━━━━━━━━━━━━━━━━━━━━━━━━╇━━━━━━━━━━━━━━━━━━━━━━━━━╇━━━━━━━━┩\n",
       "│\u001b[2m \u001b[0m\u001b[2m0 \u001b[0m\u001b[2m \u001b[0m│ rd_loss                                       │ RateDistortionLoss      │      0 │\n",
       "│\u001b[2m \u001b[0m\u001b[2m1 \u001b[0m\u001b[2m \u001b[0m│ rd_loss.mse                                   │ MSELoss                 │      0 │\n",
       "│\u001b[2m \u001b[0m\u001b[2m2 \u001b[0m\u001b[2m \u001b[0m│ net                                           │ FactorizedPrior         │  3.0 M │\n",
       "│\u001b[2m \u001b[0m\u001b[2m3 \u001b[0m\u001b[2m \u001b[0m│ net.entropy_bottleneck                        │ EntropyBottleneck       │ 11.7 K │\n",
       "│\u001b[2m \u001b[0m\u001b[2m4 \u001b[0m\u001b[2m \u001b[0m│ net.entropy_bottleneck.likelihood_lower_bound │ LowerBound              │      0 │\n",
       "│\u001b[2m \u001b[0m\u001b[2m5 \u001b[0m\u001b[2m \u001b[0m│ net.g_a                                       │ Sequential              │  1.5 M │\n",
       "│\u001b[2m \u001b[0m\u001b[2m6 \u001b[0m\u001b[2m \u001b[0m│ net.g_a.0                                     │ Conv2d                  │  3.3 K │\n",
       "│\u001b[2m \u001b[0m\u001b[2m7 \u001b[0m\u001b[2m \u001b[0m│ net.g_a.1                                     │ GDN                     │ 16.5 K │\n",
       "│\u001b[2m \u001b[0m\u001b[2m8 \u001b[0m\u001b[2m \u001b[0m│ net.g_a.1.beta_reparam                        │ NonNegativeParametrizer │      0 │\n",
       "│\u001b[2m \u001b[0m\u001b[2m9 \u001b[0m\u001b[2m \u001b[0m│ net.g_a.1.beta_reparam.lower_bound            │ LowerBound              │      0 │\n",
       "│\u001b[2m \u001b[0m\u001b[2m10\u001b[0m\u001b[2m \u001b[0m│ net.g_a.1.gamma_reparam                       │ NonNegativeParametrizer │      0 │\n",
       "│\u001b[2m \u001b[0m\u001b[2m11\u001b[0m\u001b[2m \u001b[0m│ net.g_a.1.gamma_reparam.lower_bound           │ LowerBound              │      0 │\n",
       "│\u001b[2m \u001b[0m\u001b[2m12\u001b[0m\u001b[2m \u001b[0m│ net.g_a.2                                     │ Conv2d                  │  409 K │\n",
       "│\u001b[2m \u001b[0m\u001b[2m13\u001b[0m\u001b[2m \u001b[0m│ net.g_a.3                                     │ GDN                     │ 16.5 K │\n",
       "│\u001b[2m \u001b[0m\u001b[2m14\u001b[0m\u001b[2m \u001b[0m│ net.g_a.3.beta_reparam                        │ NonNegativeParametrizer │      0 │\n",
       "│\u001b[2m \u001b[0m\u001b[2m15\u001b[0m\u001b[2m \u001b[0m│ net.g_a.3.beta_reparam.lower_bound            │ LowerBound              │      0 │\n",
       "│\u001b[2m \u001b[0m\u001b[2m16\u001b[0m\u001b[2m \u001b[0m│ net.g_a.3.gamma_reparam                       │ NonNegativeParametrizer │      0 │\n",
       "│\u001b[2m \u001b[0m\u001b[2m17\u001b[0m\u001b[2m \u001b[0m│ net.g_a.3.gamma_reparam.lower_bound           │ LowerBound              │      0 │\n",
       "│\u001b[2m \u001b[0m\u001b[2m18\u001b[0m\u001b[2m \u001b[0m│ net.g_a.4                                     │ Conv2d                  │  409 K │\n",
       "│\u001b[2m \u001b[0m\u001b[2m19\u001b[0m\u001b[2m \u001b[0m│ net.g_a.5                                     │ GDN                     │ 16.5 K │\n",
       "│\u001b[2m \u001b[0m\u001b[2m20\u001b[0m\u001b[2m \u001b[0m│ net.g_a.5.beta_reparam                        │ NonNegativeParametrizer │      0 │\n",
       "│\u001b[2m \u001b[0m\u001b[2m21\u001b[0m\u001b[2m \u001b[0m│ net.g_a.5.beta_reparam.lower_bound            │ LowerBound              │      0 │\n",
       "│\u001b[2m \u001b[0m\u001b[2m22\u001b[0m\u001b[2m \u001b[0m│ net.g_a.5.gamma_reparam                       │ NonNegativeParametrizer │      0 │\n",
       "│\u001b[2m \u001b[0m\u001b[2m23\u001b[0m\u001b[2m \u001b[0m│ net.g_a.5.gamma_reparam.lower_bound           │ LowerBound              │      0 │\n",
       "│\u001b[2m \u001b[0m\u001b[2m24\u001b[0m\u001b[2m \u001b[0m│ net.g_a.6                                     │ Conv2d                  │  614 K │\n",
       "│\u001b[2m \u001b[0m\u001b[2m25\u001b[0m\u001b[2m \u001b[0m│ net.g_s                                       │ Sequential              │  1.5 M │\n",
       "│\u001b[2m \u001b[0m\u001b[2m26\u001b[0m\u001b[2m \u001b[0m│ net.g_s.0                                     │ ConvTranspose2d         │  614 K │\n",
       "│\u001b[2m \u001b[0m\u001b[2m27\u001b[0m\u001b[2m \u001b[0m│ net.g_s.1                                     │ GDN                     │ 16.5 K │\n",
       "│\u001b[2m \u001b[0m\u001b[2m28\u001b[0m\u001b[2m \u001b[0m│ net.g_s.1.beta_reparam                        │ NonNegativeParametrizer │      0 │\n",
       "│\u001b[2m \u001b[0m\u001b[2m29\u001b[0m\u001b[2m \u001b[0m│ net.g_s.1.beta_reparam.lower_bound            │ LowerBound              │      0 │\n",
       "│\u001b[2m \u001b[0m\u001b[2m30\u001b[0m\u001b[2m \u001b[0m│ net.g_s.1.gamma_reparam                       │ NonNegativeParametrizer │      0 │\n",
       "│\u001b[2m \u001b[0m\u001b[2m31\u001b[0m\u001b[2m \u001b[0m│ net.g_s.1.gamma_reparam.lower_bound           │ LowerBound              │      0 │\n",
       "│\u001b[2m \u001b[0m\u001b[2m32\u001b[0m\u001b[2m \u001b[0m│ net.g_s.2                                     │ ConvTranspose2d         │  409 K │\n",
       "│\u001b[2m \u001b[0m\u001b[2m33\u001b[0m\u001b[2m \u001b[0m│ net.g_s.3                                     │ GDN                     │ 16.5 K │\n",
       "│\u001b[2m \u001b[0m\u001b[2m34\u001b[0m\u001b[2m \u001b[0m│ net.g_s.3.beta_reparam                        │ NonNegativeParametrizer │      0 │\n",
       "│\u001b[2m \u001b[0m\u001b[2m35\u001b[0m\u001b[2m \u001b[0m│ net.g_s.3.beta_reparam.lower_bound            │ LowerBound              │      0 │\n",
       "│\u001b[2m \u001b[0m\u001b[2m36\u001b[0m\u001b[2m \u001b[0m│ net.g_s.3.gamma_reparam                       │ NonNegativeParametrizer │      0 │\n",
       "│\u001b[2m \u001b[0m\u001b[2m37\u001b[0m\u001b[2m \u001b[0m│ net.g_s.3.gamma_reparam.lower_bound           │ LowerBound              │      0 │\n",
       "│\u001b[2m \u001b[0m\u001b[2m38\u001b[0m\u001b[2m \u001b[0m│ net.g_s.4                                     │ ConvTranspose2d         │  409 K │\n",
       "│\u001b[2m \u001b[0m\u001b[2m39\u001b[0m\u001b[2m \u001b[0m│ net.g_s.5                                     │ GDN                     │ 16.5 K │\n",
       "│\u001b[2m \u001b[0m\u001b[2m40\u001b[0m\u001b[2m \u001b[0m│ net.g_s.5.beta_reparam                        │ NonNegativeParametrizer │      0 │\n",
       "│\u001b[2m \u001b[0m\u001b[2m41\u001b[0m\u001b[2m \u001b[0m│ net.g_s.5.beta_reparam.lower_bound            │ LowerBound              │      0 │\n",
       "│\u001b[2m \u001b[0m\u001b[2m42\u001b[0m\u001b[2m \u001b[0m│ net.g_s.5.gamma_reparam                       │ NonNegativeParametrizer │      0 │\n",
       "│\u001b[2m \u001b[0m\u001b[2m43\u001b[0m\u001b[2m \u001b[0m│ net.g_s.5.gamma_reparam.lower_bound           │ LowerBound              │      0 │\n",
       "│\u001b[2m \u001b[0m\u001b[2m44\u001b[0m\u001b[2m \u001b[0m│ net.g_s.6                                     │ ConvTranspose2d         │  3.2 K │\n",
       "│\u001b[2m \u001b[0m\u001b[2m45\u001b[0m\u001b[2m \u001b[0m│ denormalization                               │ Normalize               │      0 │\n",
       "└────┴───────────────────────────────────────────────┴─────────────────────────┴────────┘\n"
      ]
     },
     "metadata": {},
     "output_type": "display_data"
    },
    {
     "data": {
      "text/html": [
       "<pre style=\"white-space:pre;overflow-x:auto;line-height:normal;font-family:Menlo,'DejaVu Sans Mono',consolas,'Courier New',monospace\"><span style=\"font-weight: bold\">Trainable params</span>: 3.0 M                                                                                            \n",
       "<span style=\"font-weight: bold\">Non-trainable params</span>: 0                                                                                            \n",
       "<span style=\"font-weight: bold\">Total params</span>: 3.0 M                                                                                                \n",
       "<span style=\"font-weight: bold\">Total estimated model params size (MB)</span>: 5                                                                          \n",
       "</pre>\n"
      ],
      "text/plain": [
       "\u001b[1mTrainable params\u001b[0m: 3.0 M                                                                                            \n",
       "\u001b[1mNon-trainable params\u001b[0m: 0                                                                                            \n",
       "\u001b[1mTotal params\u001b[0m: 3.0 M                                                                                                \n",
       "\u001b[1mTotal estimated model params size (MB)\u001b[0m: 5                                                                          \n"
      ]
     },
     "metadata": {},
     "output_type": "display_data"
    },
    {
     "data": {
      "application/vnd.jupyter.widget-view+json": {
       "model_id": "877b24144f0e4c7eaf3bb692322f9619",
       "version_major": 2,
       "version_minor": 0
      },
      "text/plain": [
       "Output()"
      ]
     },
     "metadata": {},
     "output_type": "display_data"
    },
    {
     "data": {
      "text/html": [
       "<pre style=\"white-space:pre;overflow-x:auto;line-height:normal;font-family:Menlo,'DejaVu Sans Mono',consolas,'Courier New',monospace\"></pre>\n"
      ],
      "text/plain": []
     },
     "metadata": {},
     "output_type": "display_data"
    },
    {
     "data": {
      "text/html": [
       "<pre style=\"white-space:pre;overflow-x:auto;line-height:normal;font-family:Menlo,'DejaVu Sans Mono',consolas,'Courier New',monospace\">\n",
       "</pre>\n"
      ],
      "text/plain": [
       "\n"
      ]
     },
     "metadata": {},
     "output_type": "display_data"
    }
   ],
   "source": [
    "from climate_learn.training import Trainer, WandbLogger\n",
    "\n",
    "trainer = Trainer(\n",
    "    seed = 1337,\n",
    "    accelerator = \"gpu\",\n",
    "    precision = 16,\n",
    "    max_epochs = 5,\n",
    "    logger = True\n",
    ")\n",
    "\n",
    "trainer.fit(model_module, data_module)\n",
    "torch.save(model_module.state_dict(), f\"{base_dir}/saved_models/temp_5_625FactorizedPrior_128N_192M\")\n"
   ]
  },
  {
   "cell_type": "code",
   "execution_count": 25,
   "metadata": {},
   "outputs": [
    {
     "data": {
      "image/png": "[encoded data removed]",
      "text/plain": [
       "<Figure size 2000x200 with 8 Axes>"
      ]
     },
     "metadata": {},
     "output_type": "display_data"
    },
    {
     "data": {
      "application/vnd.jupyter.widget-view+json": {
       "model_id": "974a64aa97624ea3b9af1626027e537b",
       "version_major": 2,
       "version_minor": 0
      },
      "text/plain": [
       "Output()"
      ]
     },
     "metadata": {},
     "output_type": "display_data"
    },
    {
     "data": {
      "text/html": [
       "<pre style=\"white-space:pre;overflow-x:auto;line-height:normal;font-family:Menlo,'DejaVu Sans Mono',consolas,'Courier New',monospace\">┏━━━━━━━━━━━━━━━━━━━━━━━━━━━━━━━━━━━━━━━━━━━┳━━━━━━━━━━━━━━━━━━━━━━━━━━━━━━━━━━━━━━━━━━━┓\n",
       "┃<span style=\"font-weight: bold\">                Test metric                </span>┃<span style=\"font-weight: bold\">               DataLoader 0                </span>┃\n",
       "┡━━━━━━━━━━━━━━━━━━━━━━━━━━━━━━━━━━━━━━━━━━━╇━━━━━━━━━━━━━━━━━━━━━━━━━━━━━━━━━━━━━━━━━━━┩\n",
       "│<span style=\"color: #008080; text-decoration-color: #008080\">               test/bpp_loss               </span>│<span style=\"color: #800080; text-decoration-color: #800080\">            3.6065125465393066             </span>│\n",
       "│<span style=\"color: #008080; text-decoration-color: #008080\">                 test/loss                 </span>│<span style=\"color: #800080; text-decoration-color: #800080\">            18.616430282592773             </span>│\n",
       "│<span style=\"color: #008080; text-decoration-color: #008080\">  test/mean_bias:mean_bias_2m_temperature  </span>│<span style=\"color: #800080; text-decoration-color: #800080\">                    0.0                    </span>│\n",
       "│<span style=\"color: #008080; text-decoration-color: #008080\">               test/mse_loss               </span>│<span style=\"color: #800080; text-decoration-color: #800080\">            0.02308329939842224            </span>│\n",
       "│<span style=\"color: #008080; text-decoration-color: #008080\"> test/pearson_loss:pearsonr_2m_temperature </span>│<span style=\"color: #800080; text-decoration-color: #800080\">                    1.0                    </span>│\n",
       "└───────────────────────────────────────────┴───────────────────────────────────────────┘\n",
       "</pre>\n"
      ],
      "text/plain": [
       "┏━━━━━━━━━━━━━━━━━━━━━━━━━━━━━━━━━━━━━━━━━━━┳━━━━━━━━━━━━━━━━━━━━━━━━━━━━━━━━━━━━━━━━━━━┓\n",
       "┃\u001b[1m \u001b[0m\u001b[1m               Test metric               \u001b[0m\u001b[1m \u001b[0m┃\u001b[1m \u001b[0m\u001b[1m              DataLoader 0               \u001b[0m\u001b[1m \u001b[0m┃\n",
       "┡━━━━━━━━━━━━━━━━━━━━━━━━━━━━━━━━━━━━━━━━━━━╇━━━━━━━━━━━━━━━━━━━━━━━━━━━━━━━━━━━━━━━━━━━┩\n",
       "│\u001b[36m \u001b[0m\u001b[36m              test/bpp_loss              \u001b[0m\u001b[36m \u001b[0m│\u001b[35m \u001b[0m\u001b[35m           3.6065125465393066            \u001b[0m\u001b[35m \u001b[0m│\n",
       "│\u001b[36m \u001b[0m\u001b[36m                test/loss                \u001b[0m\u001b[36m \u001b[0m│\u001b[35m \u001b[0m\u001b[35m           18.616430282592773            \u001b[0m\u001b[35m \u001b[0m│\n",
       "│\u001b[36m \u001b[0m\u001b[36m test/mean_bias:mean_bias_2m_temperature \u001b[0m\u001b[36m \u001b[0m│\u001b[35m \u001b[0m\u001b[35m                   0.0                   \u001b[0m\u001b[35m \u001b[0m│\n",
       "│\u001b[36m \u001b[0m\u001b[36m              test/mse_loss              \u001b[0m\u001b[36m \u001b[0m│\u001b[35m \u001b[0m\u001b[35m           0.02308329939842224           \u001b[0m\u001b[35m \u001b[0m│\n",
       "│\u001b[36m \u001b[0m\u001b[36mtest/pearson_loss:pearsonr_2m_temperature\u001b[0m\u001b[36m \u001b[0m│\u001b[35m \u001b[0m\u001b[35m                   1.0                   \u001b[0m\u001b[35m \u001b[0m│\n",
       "└───────────────────────────────────────────┴───────────────────────────────────────────┘\n"
      ]
     },
     "metadata": {},
     "output_type": "display_data"
    },
    {
     "data": {
      "text/html": [
       "<pre style=\"white-space:pre;overflow-x:auto;line-height:normal;font-family:Menlo,'DejaVu Sans Mono',consolas,'Courier New',monospace\"></pre>\n"
      ],
      "text/plain": []
     },
     "metadata": {},
     "output_type": "display_data"
    },
    {
     "data": {
      "text/html": [
       "<pre style=\"white-space:pre;overflow-x:auto;line-height:normal;font-family:Menlo,'DejaVu Sans Mono',consolas,'Courier New',monospace\">\n",
       "</pre>\n"
      ],
      "text/plain": [
       "\n"
      ]
     },
     "metadata": {},
     "output_type": "display_data"
    }
   ],
   "source": [
    "visualize(model_module, data_module)\n",
    "trainer.test(model_module, data_module)"
   ]
  },
  {
   "cell_type": "code",
   "execution_count": 27,
   "metadata": {},
   "outputs": [],
   "source": [
    "os.mkdir( f\"{base_dir}/data/weatherbench/era5/5.625/compressed_t2m_192\")"
   ]
  },
  {
   "cell_type": "code",
   "execution_count": 1,
   "metadata": {},
   "outputs": [
    {
     "ename": "NameError",
     "evalue": "name 'data_module' is not defined",
     "output_type": "error",
     "traceback": [
      "\u001b[0;31m---------------------------------------------------------------------------\u001b[0m",
      "\u001b[0;31mNameError\u001b[0m                                 Traceback (most recent call last)",
      "Cell \u001b[0;32mIn [1], line 17\u001b[0m\n\u001b[1;32m     11\u001b[0m     \u001b[39mprint\u001b[39m(y_hat\u001b[39m.\u001b[39mshape)\n\u001b[1;32m     12\u001b[0m     torch\u001b[39m.\u001b[39msave(\n\u001b[1;32m     13\u001b[0m         torch\u001b[39m.\u001b[39mreshape(y_hat, (b_s, \u001b[39m1\u001b[39m, \u001b[39m-\u001b[39m\u001b[39m1\u001b[39m)),\n\u001b[1;32m     14\u001b[0m         \u001b[39mf\u001b[39m\u001b[39m\"\u001b[39m\u001b[39m{\u001b[39;00mbase_dir\u001b[39m}\u001b[39;00m\u001b[39m/data/weatherbench/era5/5.625/compressed_t2m_192/t2m_\u001b[39m\u001b[39m{\u001b[39;00myear\u001b[39m}\u001b[39;00m\u001b[39m_5.625deg.pt\u001b[39m\u001b[39m\"\u001b[39m\n\u001b[1;32m     15\u001b[0m     )\n\u001b[0;32m---> 17\u001b[0m save_compressed_data(\u001b[39m'\u001b[39;49m\u001b[39mtrain\u001b[39;49m\u001b[39m'\u001b[39;49m)\n\u001b[1;32m     18\u001b[0m save_compressed_data(\u001b[39m'\u001b[39m\u001b[39mtest\u001b[39m\u001b[39m'\u001b[39m)\n\u001b[1;32m     19\u001b[0m save_compressed_data(\u001b[39m'\u001b[39m\u001b[39mval\u001b[39m\u001b[39m'\u001b[39m)\n",
      "Cell \u001b[0;32mIn [1], line 2\u001b[0m, in \u001b[0;36msave_compressed_data\u001b[0;34m(split)\u001b[0m\n\u001b[1;32m      1\u001b[0m \u001b[39mdef\u001b[39;00m \u001b[39msave_compressed_data\u001b[39m(split):\n\u001b[0;32m----> 2\u001b[0m   dataset \u001b[39m=\u001b[39m \u001b[39meval\u001b[39;49m(\u001b[39mf\u001b[39;49m\u001b[39m\"\u001b[39;49m\u001b[39mdata_module.\u001b[39;49m\u001b[39m{\u001b[39;49;00msplit\u001b[39m}\u001b[39;49;00m\u001b[39m_dataset\u001b[39;49m\u001b[39m\"\u001b[39;49m)\n\u001b[1;32m      3\u001b[0m   \u001b[39mfor\u001b[39;00m year \u001b[39min\u001b[39;00m dataset\u001b[39m.\u001b[39myears:\n\u001b[1;32m      4\u001b[0m     \u001b[39mprint\u001b[39m(\u001b[39mf\u001b[39m\u001b[39m\"\u001b[39m\u001b[39mSaving: \u001b[39m\u001b[39m{\u001b[39;00myear\u001b[39m}\u001b[39;00m\u001b[39m\"\u001b[39m)\n",
      "File \u001b[0;32m<string>:1\u001b[0m\n",
      "\u001b[0;31mNameError\u001b[0m: name 'data_module' is not defined"
     ]
    }
   ],
   "source": [
    "def save_compressed_data(split):\n",
    "  dataset = eval(f\"data_module.{split}_dataset\")\n",
    "  for year in dataset.years:\n",
    "    print(f\"Saving: {year}\")\n",
    "    idxs = [np.searchsorted(dataset.time, \n",
    "                            np.datetime64(datetime.strptime(dt, \"%Y-%m-%d:%H\"))) for dt in [f\"{year}-01-01:00\", f\"{year}-12-31:23\"]]\n",
    "    y_hat = model_module.net.forward(\n",
    "      dataset[idxs[0]:idxs[1]][0], # x\n",
    "    )['y_hat']\n",
    "    b_s, _, _, _ = y_hat.shape\n",
    "    print(y_hat.shape)\n",
    "    torch.save(\n",
    "        torch.reshape(y_hat, (b_s, 1, -1)),\n",
    "        f\"{base_dir}/data/weatherbench/era5/5.625/compressed_t2m_192/t2m_{year}_5.625deg.pt\"\n",
    "    )\n",
    "\n",
    "save_compressed_data('train')\n",
    "save_compressed_data('test')\n",
    "save_compressed_data('val')"
   ]
  },
  {
   "cell_type": "markdown",
   "metadata": {},
   "source": [
    "## Forecast Temperature Data"
   ]
  },
  {
   "cell_type": "code",
   "execution_count": null,
   "metadata": {},
   "outputs": [],
   "source": [
    "import torch\n",
    "from torch.utils.data import DataLoader\n",
    "from pytorch_lightning import LightningDataModule\n",
    "from torchvision import transforms\n",
    "\n",
    "from climate_learn.data.modules import *\n",
    "from climate_learn.utils.datetime import Year, Hours\n",
    "\n",
    "def collate_fn(batch):\n",
    "    inp = torch.stack([batch[i][0] for i in range(len(batch))])\n",
    "    out = torch.stack([batch[i][1] for i in range(len(batch))])\n",
    "    variables = batch[0][2]\n",
    "    out_variables = batch[0][3]\n",
    "    return inp, out, variables, out_variables\n",
    "\n",
    "class MyDataModule(LightningDataModule):\n",
    "    def __init__(\n",
    "        self,\n",
    "        dataset,\n",
    "        task,\n",
    "        padding,\n",
    "        lower_dir,\n",
    "        root_dir,\n",
    "        in_vars,\n",
    "        out_vars,\n",
    "        train_start_year,\n",
    "        val_start_year,\n",
    "        test_start_year,\n",
    "        end_year = Year(2018),\n",
    "        root_highres_dir=None,\n",
    "        pred_range = Hours(6),\n",
    "        subsample = Hours(1),\n",
    "        batch_size = 64,\n",
    "        num_workers = 0,\n",
    "        pin_memory = False,\n",
    "    ):\n",
    "        super().__init__()\n",
    "\n",
    "        assert end_year >= test_start_year and test_start_year > val_start_year and val_start_year > train_start_year\n",
    "        self.save_hyperparameters(logger=False)\n",
    "\n",
    "        if(dataset != \"ERA5\"):\n",
    "            raise NotImplementedError(\"Only support ERA5\")\n",
    "        if task == \"downscaling\" and root_highres_dir is None:\n",
    "            raise NotImplementedError(\"High-resolution data has to be provided for downscaling\")\n",
    "            \n",
    "        task_string = \"MyForecasting\"\n",
    "        caller = eval(f\"{dataset.upper()}{task_string}\")\n",
    "        \n",
    "        train_years = range(train_start_year, val_start_year)\n",
    "        self.train_dataset = caller(padding, lower_dir, root_dir, root_highres_dir, in_vars, out_vars, pred_range.hours(), train_years, subsample.hours(), \"train\")\n",
    "\n",
    "        val_years = range(val_start_year, test_start_year)\n",
    "        self.val_dataset = caller(padding, lower_dir, root_dir, root_highres_dir, in_vars, out_vars, pred_range.hours(), val_years, subsample.hours(), \"val\")\n",
    "        self.val_dataset.set_normalize(self.train_dataset.inp_transform, self.train_dataset.out_transform)\n",
    "\n",
    "        test_years = range(test_start_year, end_year + 1)\n",
    "        self.test_dataset = caller(padding, lower_dir, root_dir, root_highres_dir, in_vars, out_vars, pred_range.hours(), test_years, subsample.hours(), \"test\")\n",
    "        self.test_dataset.set_normalize(self.train_dataset.inp_transform, self.train_dataset.out_transform)\n",
    "\n",
    "    def get_lat_lon(self):\n",
    "        return self.train_dataset.lat, self.train_dataset.lon\n",
    "\n",
    "    def get_out_transforms(self):\n",
    "        return self.train_dataset.out_transform\n",
    "\n",
    "    def get_climatology(self, split=\"val\"):\n",
    "        if split == \"train\":\n",
    "            return self.train_dataset.get_climatology()\n",
    "        elif split == \"val\":\n",
    "            return self.val_dataset.get_climatology()\n",
    "        elif split == \"test\":\n",
    "            return self.test_dataset.get_climatology()\n",
    "        else:\n",
    "            raise NotImplementedError\n",
    "\n",
    "    def train_dataloader(self):\n",
    "        return DataLoader(\n",
    "            self.train_dataset,\n",
    "            shuffle=True,\n",
    "            batch_size=self.hparams.batch_size,\n",
    "            num_workers=self.hparams.num_workers,\n",
    "            pin_memory=self.hparams.pin_memory,\n",
    "            collate_fn=collate_fn,\n",
    "        )\n",
    "\n",
    "    def val_dataloader(self):\n",
    "        return DataLoader(\n",
    "            self.val_dataset,\n",
    "            shuffle=False,\n",
    "            batch_size=self.hparams.batch_size,\n",
    "            num_workers=self.hparams.num_workers,\n",
    "            pin_memory=self.hparams.pin_memory,\n",
    "            collate_fn=collate_fn,\n",
    "        )\n",
    "\n",
    "    def test_dataloader(self):\n",
    "        return DataLoader(\n",
    "            self.test_dataset,\n",
    "            shuffle=False,\n",
    "            batch_size=self.hparams.batch_size,\n",
    "            num_workers=self.hparams.num_workers,\n",
    "            pin_memory=self.hparams.pin_memory,\n",
    "            collate_fn=collate_fn,\n",
    "        )\n",
    "\n",
    "class ERA5MyForecasting(ERA5):\n",
    "    def __init__(self, padding, lower_dir, root_dir, root_highres_dir, in_vars, out_vars, pred_range, years, subsample=1, split='train'):\n",
    "        print (f'Creating {split} dataset')\n",
    "        super().__init__(root_dir, root_highres_dir, in_vars, years, split)\n",
    "        \n",
    "        self.in_vars = in_vars\n",
    "        self.out_vars = out_vars\n",
    "        self.pred_range = pred_range\n",
    "\n",
    "        data_type = in_vars[0]\n",
    "\n",
    "        inp_data = torch.cat([\n",
    "            torch.load(f\"{root_dir}/{lower_dir}/{'tp' if data_type == 'total_precipitation' else 'tmp'}_{yr}_5.625deg.pt\") for yr in years\n",
    "        ])\n",
    "        dataset = eval(f'data_module.{split}_dataset')\n",
    "        last_idx = np.searchsorted(dataset.time, np.datetime64(datetime.strptime(f\"{years[-1]}-12-28:23\", \"%Y-%m-%d:%H\")))\n",
    "        \n",
    "        print(\"--------------LENGTHS-------------\")\n",
    "        print(inp_data.shape)\n",
    "        print(last_idx)\n",
    "        inp_data = inp_data[0:last_idx]\n",
    "        \n",
    "        inp_data = torch.reshape(inp_data, (inp_data.shape[0], 1, 32, -1))\n",
    "        inp_data = torch.nn.functional.pad(inp_data, padding, \"constant\")\n",
    "        #inp_data = transforms.Resize((32,64))(inp_data)\n",
    "\n",
    "        out_data = xr.concat([self.data_dict[k] for k in out_vars], dim='level')\n",
    "\n",
    "        self.inp_data = inp_data.detach().numpy().astype(np.float32)\n",
    "        self.out_data = out_data[pred_range::subsample].to_numpy().astype(np.float32)\n",
    "\n",
    "        # print(len(self.inp_data))\n",
    "        # print(len(self.out_data))\n",
    "        print(self.inp_data.shape)\n",
    "        print(self.out_data.shape)\n",
    "        print(\"----------------------------------\")\n",
    "        assert len(self.inp_data) == len(self.out_data)\n",
    "\n",
    "        self.downscale_ratio = 1\n",
    "\n",
    "        if split == 'train':\n",
    "            self.inp_transform = self.get_normalize(self.inp_data)\n",
    "            self.out_transform = self.get_normalize(self.out_data)\n",
    "        else:\n",
    "            self.inp_transform = None\n",
    "            self.out_transform = None\n",
    "\n",
    "        self.time = self.data_dict[in_vars[0]].time.to_numpy()[:-pred_range:subsample].copy()\n",
    "        self.inp_lon = self.data_dict[in_vars[0]].lon.to_numpy().copy()\n",
    "        self.inp_lat = self.data_dict[in_vars[0]].lat.to_numpy().copy()\n",
    "        self.out_lon = self.data_dict[out_vars[0]].lon.to_numpy().copy()\n",
    "        self.out_lat = self.data_dict[out_vars[0]].lat.to_numpy().copy()\n",
    "\n",
    "        del self.data_dict\n",
    "\n",
    "    def get_normalize(self, data):\n",
    "        mean = np.mean(data, axis=(0, 2, 3))\n",
    "        std = np.std(data, axis=(0, 2, 3))\n",
    "        return transforms.Normalize(mean, std)\n",
    "\n",
    "    def set_normalize(self, inp_normalize, out_normalize): # for val and test\n",
    "        self.inp_transform = inp_normalize\n",
    "        self.out_transform = out_normalize\n",
    "\n",
    "    def get_climatology(self):\n",
    "        return torch.from_numpy(self.out_data.mean(axis=0))\n",
    "\n",
    "    def __getitem__(self, index):\n",
    "        inp = torch.from_numpy(self.inp_data[index])\n",
    "        out = torch.from_numpy(self.out_data[index])\n",
    "        return self.inp_transform(inp), self.out_transform(out), self.in_vars, self.out_vars\n",
    "\n",
    "    def __len__(self):\n",
    "        return len(self.inp_data)\n"
   ]
  },
  {
   "cell_type": "code",
   "execution_count": null,
   "metadata": {},
   "outputs": [],
   "source": [
    "from climate_learn.utils.datetime import Days\n",
    "from climate_learn.utils.visualize import visualize\n",
    "\n",
    "forecast_data_module = MyDataModule(\n",
    "    dataset = \"ERA5\",\n",
    "    task = \"forecasting\",\n",
    "    lower_dir = \"compressed_t2m_192\",\n",
    "    root_dir = f\"{base_dir}/data/weatherbench/era5/5.625\",\n",
    "    in_vars = [\"2m_temperature\"],\n",
    "    out_vars = [\"2m_temperature\"],\n",
    "    train_start_year = Year(1979),\n",
    "    padding = None,\n",
    "    val_start_year = Year(2015),\n",
    "    test_start_year = Year(2017),\n",
    "    end_year = Year(2018),\n",
    "    pred_range = Days(3),\n",
    "    subsample = Hours(6),\n",
    "    batch_size = 256,\n",
    "    num_workers = 12,\n",
    "    padding = (8,8,0,0),\n",
    "\n",
    ")\n",
    "\n",
    "from climate_learn.models import load_model\n",
    "from climate_learn.models import set_climatology\n",
    "\n",
    "model_kwargs = {\n",
    "    \"in_channels\": len(forecast_data_module.hparams.in_vars),\n",
    "    \"out_channels\": len(forecast_data_module.hparams.out_vars),\n",
    "    \"n_blocks\": 4\n",
    "}\n",
    "\n",
    "optim_kwargs = {\n",
    "    \"lr\": 1e-4,\n",
    "    \"weight_decay\": 1e-5,\n",
    "    \"warmup_epochs\": 1,\n",
    "    \"max_epochs\": 5,\n",
    "}\n",
    "\n",
    "forecast_model_module = load_model(name = \"resnet\", task = \"forecasting\", model_kwargs = model_kwargs, optim_kwargs = optim_kwargs)\n",
    "\n",
    "set_climatology(forecast_model_module, forecast_data_module)\n",
    "\n",
    "from climate_learn.training import Trainer, WandbLogger\n",
    "\n",
    "trainer = Trainer(\n",
    "    seed = 0,\n",
    "    accelerator = \"gpu\",\n",
    "    precision = 16,\n",
    "    max_epochs = 5,\n",
    "    logger = True,\n",
    "    # logger = WandbLogger(project = \"climate_tutorial\", name = \"forecast-vit\")\n",
    ")\n",
    "trainer.fit(forecast_model_module, forecast_data_module)\n",
    "\n",
    "torch.save(forecast_model_module.state_dict(), f\"{base_dir}/saved_models/192forecast_t2m\")\n",
    "visualize(forecast_model_module, forecast_data_module)\n",
    "trainer.test(forecast_model_module, forecast_data_module)"
   ]
  },
  {
   "cell_type": "code",
   "execution_count": null,
   "metadata": {},
   "outputs": [],
   "source": []
  },
  {
   "cell_type": "code",
   "execution_count": null,
   "metadata": {},
   "outputs": [],
   "source": []
  },
  {
   "cell_type": "markdown",
   "metadata": {},
   "source": [
    "3-4 models\n",
    "UNet\n",
    "VAE\n",
    "Denoising AE\n",
    "(maybe see if we can get SOTA)\n",
    "\n",
    "3-4 resolutions?\n",
    "forecast results for:\n",
    "- compressed\n",
    "- uncompressed\n",
    "\n",
    "||0.25(tbd)\t|   \t|   1.75(tbd) \t|\t|5.625  \t|   \t|   \t|   \t|\n",
    "|---|---\t|---\t|---\t|---\t|---\t|---\t|---\t|---\t|\n",
    "||Compressed\t|Uncompressed   \t|Compressed   \t|Uncompressed   \t|Compressed   \t|Uncompressed   \t|Compressed   \t|Uncompressed   \t|\n",
    "|UNet|   \t|   \t|   \t|   \t|   \t|   \t|   \t|   \t|\n",
    "|VAE|   \t|   \t|   \t|   \t|   \t|   \t|   \t|   \t|\n",
    "|Denoising AE|   \t|   \t|   \t|   \t|   \t|   \t|   \t|   \t|\n",
    "|?|   \t|   \t|   \t|   \t|   \t|   \t|   \t|   \t|"
   ]
  },
  {
   "cell_type": "markdown",
   "metadata": {},
   "source": []
  }
 ],
 "metadata": {
  "kernelspec": {
   "display_name": "climate_env",
   "language": "python",
   "name": "climate_env"
  },
  "language_info": {
   "codemirror_mode": {
    "name": "ipython",
    "version": 3
   },
   "file_extension": ".py",
   "mimetype": "text/x-python",
   "name": "python",
   "nbconvert_exporter": "python",
   "pygments_lexer": "ipython3",
   "version": "3.8.10"
  },
  "orig_nbformat": 4,
  "vscode": {
   "interpreter": {
    "hash": "02a33c759cf476ba4f13d905c9b8df8648d47cea5142b3460612923c2f802c0f"
   }
  }
 },
 "nbformat": 4,
 "nbformat_minor": 2
}
